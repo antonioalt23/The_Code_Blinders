{
 "cells": [
  {
   "cell_type": "markdown",
   "metadata": {},
   "source": [
    "Roberto Mendoza Matos \n",
    "\n",
    "1. Ejercicio numero 01"
   ]
  },
  {
   "cell_type": "code",
   "execution_count": 2,
   "metadata": {},
   "outputs": [],
   "source": [
    "import numpy as np"
   ]
  },
  {
   "cell_type": "code",
   "execution_count": 3,
   "metadata": {},
   "outputs": [
    {
     "data": {
      "text/plain": [
       "array([[6, 0, 0, 0],\n",
       "       [6, 6, 0, 0],\n",
       "       [6, 6, 6, 0],\n",
       "       [6, 6, 6, 6]])"
      ]
     },
     "execution_count": 3,
     "metadata": {},
     "output_type": "execute_result"
    }
   ],
   "source": [
    "A = np.array([[6,0,0,0],[6,6,0,0], [6,6,6,0],[6,6,6,6]])\n",
    "A"
   ]
  },
  {
   "cell_type": "markdown",
   "metadata": {},
   "source": [
    "2. Crear un array de 4x4 con valores pares"
   ]
  },
  {
   "cell_type": "code",
   "execution_count": 4,
   "metadata": {},
   "outputs": [
    {
     "data": {
      "text/plain": [
       "array([[    2,     4,     8,    12],\n",
       "       [    4,     2,    24,    28],\n",
       "       [  102,   308,   100,    50],\n",
       "       [   38,    20, 10268,     2]])"
      ]
     },
     "execution_count": 4,
     "metadata": {},
     "output_type": "execute_result"
    }
   ],
   "source": [
    "B = np.array([[2,4,8,12],[4,2,24,28],[102,308,100,50],[38,20,10268,2]])\n",
    "B"
   ]
  },
  {
   "cell_type": "markdown",
   "metadata": {},
   "source": [
    "3. Crear un array de 4x3 con valores impares"
   ]
  },
  {
   "cell_type": "code",
   "execution_count": 5,
   "metadata": {},
   "outputs": [
    {
     "data": {
      "text/plain": [
       "array([[ 1,  7,  9],\n",
       "       [11, 17, 19],\n",
       "       [21, 27, 29],\n",
       "       [31, 37, 39]])"
      ]
     },
     "execution_count": 5,
     "metadata": {},
     "output_type": "execute_result"
    }
   ],
   "source": [
    "C = np.array([[1,7,9],[11,17,19],[21,27,29],[31,37,39]])\n",
    "C"
   ]
  },
  {
   "cell_type": "markdown",
   "metadata": {},
   "source": [
    "4. Crear un array que contenga 32 elementos y luego darle 4 posibles formas que puede tomar el array creado inicialmente"
   ]
  },
  {
   "cell_type": "code",
   "execution_count": 15,
   "metadata": {},
   "outputs": [
    {
     "name": "stdout",
     "output_type": "stream",
     "text": [
      "[[ 1  3  5  7  9 11 13 15]\n",
      " [17 19 21 23 25 27 29 31]\n",
      " [33 35 37 39 41 43 45 47]\n",
      " [49 51 53 55 57 59 61 63]]\n",
      "[[ 1  3]\n",
      " [ 5  7]\n",
      " [ 9 11]\n",
      " [13 15]\n",
      " [17 19]\n",
      " [21 23]\n",
      " [25 27]\n",
      " [29 31]\n",
      " [33 35]\n",
      " [37 39]\n",
      " [41 43]\n",
      " [45 47]\n",
      " [49 51]\n",
      " [53 55]\n",
      " [57 59]\n",
      " [61 63]]\n",
      "[[ 1  3  5  7]\n",
      " [ 9 11 13 15]\n",
      " [17 19 21 23]\n",
      " [25 27 29 31]\n",
      " [33 35 37 39]\n",
      " [41 43 45 47]\n",
      " [49 51 53 55]\n",
      " [57 59 61 63]]\n",
      "[[[ 1  3  5  7]\n",
      "  [ 9 11 13 15]\n",
      "  [17 19 21 23]\n",
      "  [25 27 29 31]]\n",
      "\n",
      " [[33 35 37 39]\n",
      "  [41 43 45 47]\n",
      "  [49 51 53 55]\n",
      "  [57 59 61 63]]]\n"
     ]
    }
   ],
   "source": [
    "vector = np.arange(1,65,2)\n",
    "vector\n",
    "# dimension\n",
    "vector.size\n",
    "\n",
    "vector1 = print(vector.reshape(4,8))\n",
    "vector1 = print(vector.reshape(16,2))\n",
    "vector1 = print(vector.reshape(8,4))\n",
    "#######################################\n",
    "vector1 = print(vector.reshape(2,4,4))"
   ]
  },
  {
   "cell_type": "markdown",
   "metadata": {},
   "source": [
    "5. Crear un array de 3x3x3 y ubicar 10 elementos utilizando los metodos de slicing aprendidos en clase"
   ]
  },
  {
   "cell_type": "code",
   "execution_count": 87,
   "metadata": {},
   "outputs": [
    {
     "data": {
      "text/plain": [
       "array([[[53, 56, 62, 65, 77]],\n",
       "\n",
       "       [[26, 29, 35, 38, 50]]])"
      ]
     },
     "execution_count": 87,
     "metadata": {},
     "output_type": "execute_result"
    }
   ],
   "source": [
    "matrix3 = np.arange(26,105,3)\n",
    "matrix3.size\n",
    "\n",
    "mat = matrix3.reshape(3,3,3)\n",
    "mat\n",
    "\n",
    "mat.shape\n",
    "\n",
    "mat[1,0:3]\n",
    "np.array([[mat[[1],[0,0,1,1,2],[0,1,0,1,2]]],[mat[[0],[0,0,1,1,2],[0,1,0,1,2]]]])"
   ]
  },
  {
   "cell_type": "markdown",
   "metadata": {},
   "source": [
    "6. Crear el array utilizando los metodos aprendidos en clase"
   ]
  },
  {
   "cell_type": "code",
   "execution_count": 117,
   "metadata": {},
   "outputs": [
    {
     "data": {
      "text/plain": [
       "array([[ 2,  2,  2,  2,  2],\n",
       "       [ 2,  0,  0,  0,  2],\n",
       "       [ 2,  0, 16,  0,  2],\n",
       "       [ 2,  0,  0,  0,  2],\n",
       "       [ 2,  2,  2,  2,  2]])"
      ]
     },
     "execution_count": 117,
     "metadata": {},
     "output_type": "execute_result"
    }
   ],
   "source": [
    "tarea = np.array([[2,2,2,2,2],[2,0,0,0,2],[2,0,16,0,2],[2,0,0,0,2],[2,2,2,2,2]])\n",
    "tarea"
   ]
  },
  {
   "cell_type": "code",
   "execution_count": 115,
   "metadata": {},
   "outputs": [
    {
     "data": {
      "text/plain": [
       "array([[ 2.,  2.,  2.,  2.,  2.],\n",
       "       [ 2.,  0.,  0.,  0.,  2.],\n",
       "       [ 2.,  0., 16.,  0.,  2.],\n",
       "       [ 2.,  0.,  0.,  0.,  2.],\n",
       "       [ 2.,  2.,  2.,  2.,  2.]])"
      ]
     },
     "execution_count": 115,
     "metadata": {},
     "output_type": "execute_result"
    }
   ],
   "source": [
    "vector1 = np.ones((1,5))*2\n",
    "vector1\n",
    "\n",
    "vector2 = np.array([vector1[0,0],0,0,0,vector1[0,0]])\n",
    "vector2\n",
    "\n",
    "vector3 = np.array([2,0,16,0,2])\n",
    "vector3\n",
    "\n",
    "mat_3 = np.vstack((vector1,vector2,vector3,vector2,vector1))\n",
    "mat_3"
   ]
  },
  {
   "cell_type": "markdown",
   "metadata": {},
   "source": [
    "# Solución de Julio Osores\n",
    "## Ejercicio 01: \n",
    "## Construir un array similiar \n",
    "## A = np.array([[6,0,0,0],[6,6,0,0],[6,6,6,0],[6,6,6,6]])"
   ]
  },
  {
   "cell_type": "code",
   "execution_count": 3,
   "metadata": {},
   "outputs": [
    {
     "data": {
      "text/plain": [
       "array([[6, 6, 6, 6],\n",
       "       [6, 6, 6, 6],\n",
       "       [6, 6, 6, 6],\n",
       "       [6, 6, 6, 6]])"
      ]
     },
     "execution_count": 3,
     "metadata": {},
     "output_type": "execute_result"
    }
   ],
   "source": [
    "a = np.full((4,4),6)\n",
    "a"
   ]
  },
  {
   "cell_type": "code",
   "execution_count": 4,
   "metadata": {},
   "outputs": [
    {
     "data": {
      "text/plain": [
       "array([[6, 0, 0, 0],\n",
       "       [6, 6, 0, 0],\n",
       "       [6, 6, 6, 0],\n",
       "       [6, 6, 6, 6]])"
      ]
     },
     "execution_count": 4,
     "metadata": {},
     "output_type": "execute_result"
    }
   ],
   "source": [
    "a_inf = np.tril(a)\n",
    "a_inf"
   ]
  },
  {
   "cell_type": "markdown",
   "metadata": {},
   "source": [
    "## Ejercicio 02: \n",
    "## Crear un array de 4x4 con valores pares"
   ]
  },
  {
   "cell_type": "code",
   "execution_count": 5,
   "metadata": {},
   "outputs": [
    {
     "data": {
      "text/plain": [
       "array([[ 0,  2,  4,  6],\n",
       "       [ 8, 10, 12, 14],\n",
       "       [16, 18, 20, 22],\n",
       "       [24, 26, 28, 30]])"
      ]
     },
     "execution_count": 5,
     "metadata": {},
     "output_type": "execute_result"
    }
   ],
   "source": [
    "b = np.arange(0,32,2).reshape(4,4)\n",
    "b"
   ]
  },
  {
   "cell_type": "markdown",
   "metadata": {},
   "source": [
    "## Ejercicio 03: \n",
    "## Crear un array de 4x3 con valores impares"
   ]
  },
  {
   "cell_type": "code",
   "execution_count": 6,
   "metadata": {},
   "outputs": [
    {
     "data": {
      "text/plain": [
       "array([[ 1,  3,  5],\n",
       "       [ 7,  9, 11],\n",
       "       [13, 15, 17],\n",
       "       [19, 21, 23]])"
      ]
     },
     "execution_count": 6,
     "metadata": {},
     "output_type": "execute_result"
    }
   ],
   "source": [
    "c = np.arange(1,24,2).reshape(4,3)\n",
    "c"
   ]
  },
  {
   "cell_type": "markdown",
   "metadata": {},
   "source": [
    "## Ejercicio 04: \n",
    "## Crear un array que contenga 32 elementos y luego darle 4 posibles formas que puede tomar el array creado inicialmente"
   ]
  },
  {
   "cell_type": "code",
   "execution_count": 7,
   "metadata": {},
   "outputs": [
    {
     "name": "stdout",
     "output_type": "stream",
     "text": [
      "[ 1  3  5  7  9 11 13 15 17 19 21 23 25 27 29 31 33 35 37 39 41 43 45 47\n",
      " 49 51 53 55 57 59 61 63]\n"
     ]
    },
    {
     "data": {
      "text/plain": [
       "32"
      ]
     },
     "execution_count": 7,
     "metadata": {},
     "output_type": "execute_result"
    }
   ],
   "source": [
    "d = np.arange(1,64,2)\n",
    "d\n",
    "print(d)\n",
    "d.size"
   ]
  },
  {
   "cell_type": "code",
   "execution_count": 8,
   "metadata": {},
   "outputs": [
    {
     "name": "stdout",
     "output_type": "stream",
     "text": [
      "[[ 1  3  5  7  9 11 13 15 17 19 21 23 25 27 29 31]\n",
      " [33 35 37 39 41 43 45 47 49 51 53 55 57 59 61 63]]\n",
      "[[ 1  3  5  7]\n",
      " [ 9 11 13 15]\n",
      " [17 19 21 23]\n",
      " [25 27 29 31]\n",
      " [33 35 37 39]\n",
      " [41 43 45 47]\n",
      " [49 51 53 55]\n",
      " [57 59 61 63]]\n",
      "[[ 1  3]\n",
      " [ 5  7]\n",
      " [ 9 11]\n",
      " [13 15]\n",
      " [17 19]\n",
      " [21 23]\n",
      " [25 27]\n",
      " [29 31]\n",
      " [33 35]\n",
      " [37 39]\n",
      " [41 43]\n",
      " [45 47]\n",
      " [49 51]\n",
      " [53 55]\n",
      " [57 59]\n",
      " [61 63]]\n"
     ]
    },
    {
     "data": {
      "text/plain": [
       "array([[ 1,  3,  5,  7,  9, 11, 13, 15],\n",
       "       [17, 19, 21, 23, 25, 27, 29, 31],\n",
       "       [33, 35, 37, 39, 41, 43, 45, 47],\n",
       "       [49, 51, 53, 55, 57, 59, 61, 63]])"
      ]
     },
     "execution_count": 8,
     "metadata": {},
     "output_type": "execute_result"
    }
   ],
   "source": [
    "print(d.reshape((2,16)))\n",
    "print(d.reshape((8,4)))\n",
    "print(d.reshape((16,-1)))\n",
    "d.reshape((4,-1))"
   ]
  },
  {
   "cell_type": "markdown",
   "metadata": {},
   "source": [
    "## Ejercicio 05: \n",
    "## Crear un array de 3x3x3 y ubicar 10 elementos utilizando los metodos de slicing aprendidos en clase"
   ]
  },
  {
   "cell_type": "code",
   "execution_count": 11,
   "metadata": {},
   "outputs": [
    {
     "data": {
      "text/plain": [
       "array([[[ 1,  2,  3],\n",
       "        [ 4,  5,  6],\n",
       "        [ 7,  8,  9]],\n",
       "\n",
       "       [[-1, -2, -3],\n",
       "        [-4, -5, -6],\n",
       "        [-7, -8, -9]],\n",
       "\n",
       "       [[10, 11, 12],\n",
       "        [13, 14, 15],\n",
       "        [16, 17, 18]]])"
      ]
     },
     "execution_count": 11,
     "metadata": {},
     "output_type": "execute_result"
    }
   ],
   "source": [
    "f = np.array([[[1,2,3],[4,5,6],[7,8,9]],[[-1,-2,-3],[-4,-5,-6],[-7,-8,-9]],[[10,11,12],[13,14,15],[16,17,18]]])\n",
    "f"
   ]
  },
  {
   "cell_type": "code",
   "execution_count": 12,
   "metadata": {},
   "outputs": [
    {
     "data": {
      "text/plain": [
       "(3, 3, 3)"
      ]
     },
     "execution_count": 12,
     "metadata": {},
     "output_type": "execute_result"
    }
   ],
   "source": [
    "f.shape"
   ]
  },
  {
   "cell_type": "code",
   "execution_count": 14,
   "metadata": {},
   "outputs": [
    {
     "data": {
      "text/plain": [
       "array([[ 3,  2, -4, -6, 16],\n",
       "       [ 1,  3, -4, -5, 18]])"
      ]
     },
     "execution_count": 14,
     "metadata": {},
     "output_type": "execute_result"
    }
   ],
   "source": [
    "f_1 = f[[0,0,1,1,2],[0,0,1,1,2],[[2,1,0,2,0],[0,2,0,1,2]]]\n",
    "f_1"
   ]
  },
  {
   "cell_type": "code",
   "execution_count": 15,
   "metadata": {},
   "outputs": [
    {
     "data": {
      "text/plain": [
       "10"
      ]
     },
     "execution_count": 15,
     "metadata": {},
     "output_type": "execute_result"
    }
   ],
   "source": [
    "f_1.size"
   ]
  },
  {
   "cell_type": "markdown",
   "metadata": {},
   "source": [
    "## Ejercicio 06: \n",
    "## Crear el array utilizando los metodos aprendidos en clase \n",
    "## tarea = np.array([[2,2,2,2,2],[2,0,0,0,2],[2,0,16,0,2],[2,0,0,0,2],[2,2,2,2,2]])"
   ]
  },
  {
   "cell_type": "code",
   "execution_count": 16,
   "metadata": {},
   "outputs": [
    {
     "data": {
      "text/plain": [
       "array([[ 2,  2,  2,  2,  2],\n",
       "       [ 2,  0,  0,  0,  2],\n",
       "       [ 2,  0, 16,  0,  2],\n",
       "       [ 2,  0,  0,  0,  2],\n",
       "       [ 2,  2,  2,  2,  2]])"
      ]
     },
     "execution_count": 16,
     "metadata": {},
     "output_type": "execute_result"
    }
   ],
   "source": [
    "g_1 = np.array([[2,2,2,2,2],[2,0,0,0,2]])\n",
    "g_2 = np.array([[2,0,16,0,2],[2,0,0,0,2],[2,2,2,2,2]])\n",
    "g_3 = np.vstack((g_1,g_2))\n",
    "g_3"
   ]
  },
  {
   "cell_type": "markdown",
   "metadata": {},
   "source": [
    "# -------------------------------------------------------------------------------------------------------"
   ]
  },
  {
   "cell_type": "markdown",
   "metadata": {},
   "source": [
    "## Alexander Max Tello Fuentes"
   ]
  },
  {
   "cell_type": "markdown",
   "metadata": {},
   "source": [
    "### 1"
   ]
  },
  {
   "cell_type": "code",
   "execution_count": 2,
   "metadata": {},
   "outputs": [
    {
     "data": {
      "text/plain": [
       "array([[6, 0, 0, 0],\n",
       "       [6, 6, 0, 0],\n",
       "       [6, 6, 6, 0],\n",
       "       [6, 6, 6, 6]])"
      ]
     },
     "execution_count": 2,
     "metadata": {},
     "output_type": "execute_result"
    }
   ],
   "source": [
    "np.tril(np.full((4,4),6))"
   ]
  },
  {
   "cell_type": "markdown",
   "metadata": {},
   "source": [
    "### 2"
   ]
  },
  {
   "cell_type": "code",
   "execution_count": 3,
   "metadata": {},
   "outputs": [
    {
     "name": "stdout",
     "output_type": "stream",
     "text": [
      "[ 2  4  6  8 10 12 14 16 18 20 22 24 26 28 30 32]\n",
      "16\n",
      "[[ 2  4  6  8]\n",
      " [10 12 14 16]\n",
      " [18 20 22 24]\n",
      " [26 28 30 32]]\n"
     ]
    }
   ],
   "source": [
    "Par = np.arange(2,34,2)\n",
    "print(Par)\n",
    "print(np.size(Par))\n",
    "Par = Par.reshape(4,4)\n",
    "print(Par)"
   ]
  },
  {
   "cell_type": "markdown",
   "metadata": {},
   "source": [
    "### 3"
   ]
  },
  {
   "cell_type": "code",
   "execution_count": 4,
   "metadata": {},
   "outputs": [
    {
     "name": "stdout",
     "output_type": "stream",
     "text": [
      "12\n",
      "[[ 1  3  5]\n",
      " [ 7  9 11]\n",
      " [13 15 17]\n",
      " [19 21 23]]\n"
     ]
    }
   ],
   "source": [
    "Impar = np.arange(1,25,2)\n",
    "print(np.size(Impar))\n",
    "Impar = Impar.reshape(4,3)\n",
    "print(Impar)"
   ]
  },
  {
   "cell_type": "markdown",
   "metadata": {},
   "source": [
    "### 4"
   ]
  },
  {
   "cell_type": "code",
   "execution_count": 5,
   "metadata": {},
   "outputs": [
    {
     "name": "stdout",
     "output_type": "stream",
     "text": [
      "[ 0  1  2  3  4  5  6  7  8  9 10 11 12 13 14 15 16 17 18 19 20 21 22 23\n",
      " 24 25 26 27 28 29 30 31]\n",
      "[[ 0  1  2  3  4  5  6  7  8  9 10 11 12 13 14 15]\n",
      " [16 17 18 19 20 21 22 23 24 25 26 27 28 29 30 31]] [[ 0  1  2  3  4  5  6  7]\n",
      " [ 8  9 10 11 12 13 14 15]\n",
      " [16 17 18 19 20 21 22 23]\n",
      " [24 25 26 27 28 29 30 31]] [[ 0  1]\n",
      " [ 2  3]\n",
      " [ 4  5]\n",
      " [ 6  7]\n",
      " [ 8  9]\n",
      " [10 11]\n",
      " [12 13]\n",
      " [14 15]\n",
      " [16 17]\n",
      " [18 19]\n",
      " [20 21]\n",
      " [22 23]\n",
      " [24 25]\n",
      " [26 27]\n",
      " [28 29]\n",
      " [30 31]] [[ 0  1  2  3]\n",
      " [ 4  5  6  7]\n",
      " [ 8  9 10 11]\n",
      " [12 13 14 15]\n",
      " [16 17 18 19]\n",
      " [20 21 22 23]\n",
      " [24 25 26 27]\n",
      " [28 29 30 31]]\n"
     ]
    }
   ],
   "source": [
    "Elementos = np.arange(0,32)\n",
    "print(Elementos)\n",
    "np.size(Elementos)\n",
    "Forma_1 = Elementos.reshape(2,16)\n",
    "Forma_2 = Elementos.reshape(4,8)\n",
    "Forma_3 = Elementos.reshape(16,2)\n",
    "Forma_4 = Elementos.reshape(8,4)\n",
    "\n",
    "print(Forma_1,Forma_2,Forma_3,Forma_4)\n"
   ]
  },
  {
   "cell_type": "markdown",
   "metadata": {},
   "source": [
    "### 5"
   ]
  },
  {
   "cell_type": "code",
   "execution_count": 6,
   "metadata": {},
   "outputs": [
    {
     "name": "stdout",
     "output_type": "stream",
     "text": [
      "27\n",
      "[[[ 0  2  4]\n",
      "  [ 6  8 10]\n",
      "  [12 14 16]]\n",
      "\n",
      " [[18 20 22]\n",
      "  [24 26 28]\n",
      "  [30 32 34]]\n",
      "\n",
      " [[36 38 40]\n",
      "  [42 44 46]\n",
      "  [48 50 52]]]\n",
      "8 12 20 [ 0 18 36] 40 [14 32 50]\n"
     ]
    }
   ],
   "source": [
    "Materia_Prima = np.arange(0,54,2)\n",
    "print(np.size(Materia_Prima))\n",
    "Tres_D = Materia_Prima.reshape((3,3,3))\n",
    "print(Tres_D)\n",
    "ocho = Tres_D[0,1,1]\n",
    "doce = Tres_D[0,2,0]\n",
    "veinte = Tres_D[1,0,1]\n",
    "catorce = Tres_D[0,2,1]\n",
    "varios = Tres_D[0:3,0,0]\n",
    "cuarenta = Tres_D[2,0,2]\n",
    "otros = Tres_D[0:3,2,1]\n",
    "print(ocho, doce, veinte, varios,cuarenta, otros)"
   ]
  },
  {
   "cell_type": "markdown",
   "metadata": {},
   "source": [
    "### 6"
   ]
  },
  {
   "cell_type": "code",
   "execution_count": 3,
   "metadata": {},
   "outputs": [
    {
     "name": "stdout",
     "output_type": "stream",
     "text": [
      "[[ 0  0  0]\n",
      " [ 0 16  0]\n",
      " [ 0  0  0]]\n",
      "[[ 2  2  2]\n",
      " [ 0  0  0]\n",
      " [ 0 16  0]\n",
      " [ 0  0  0]\n",
      " [ 2  2  2]]\n",
      "[[ 2  2  2  2  2]\n",
      " [ 2  0  0  0  2]\n",
      " [ 2  0 16  0  2]\n",
      " [ 2  0  0  0  2]\n",
      " [ 2  2  2  2  2]]\n"
     ]
    }
   ],
   "source": [
    "nucleo = np.array([0,16,0])\n",
    "paso_uno = np.diag(nucleo)\n",
    "print(paso_uno)\n",
    "paso_dos = np.concatenate(([[2,2,2]],paso_uno,[[2,2,2]]),axis=0)\n",
    "print(paso_dos)\n",
    "paso_tres = np.hstack((np.full((5,1),2),paso_dos,np.full((5,1),2)))\n",
    "print(paso_tres)"
   ]
  },
  {
   "cell_type": "markdown",
   "metadata": {},
   "source": [
    "# -------------------------------------------------------------------------------------------------------\n"
   ]
  },
  {
   "cell_type": "markdown",
   "metadata": {},
   "source": [
    "## James Palma"
   ]
  },
  {
   "cell_type": "markdown",
   "metadata": {},
   "source": [
    "### 1"
   ]
  },
  {
   "cell_type": "code",
   "execution_count": 5,
   "metadata": {},
   "outputs": [
    {
     "data": {
      "text/plain": [
       "array([[6, 0, 0, 0],\n",
       "       [6, 6, 0, 0],\n",
       "       [6, 6, 6, 0],\n",
       "       [6, 6, 6, 6]])"
      ]
     },
     "execution_count": 5,
     "metadata": {},
     "output_type": "execute_result"
    }
   ],
   "source": [
    "Ejer1 = np.full((4,4),6)\n",
    "Ejer1INF = np.tril(Ejer1)\n",
    "Ejer1INF"
   ]
  },
  {
   "cell_type": "markdown",
   "metadata": {},
   "source": [
    "### 2"
   ]
  },
  {
   "cell_type": "code",
   "execution_count": 7,
   "metadata": {},
   "outputs": [
    {
     "data": {
      "text/plain": [
       "array([[0., 0., 0., 0.],\n",
       "       [0., 0., 0., 0.],\n",
       "       [0., 0., 0., 0.],\n",
       "       [0., 0., 0., 0.]])"
      ]
     },
     "execution_count": 7,
     "metadata": {},
     "output_type": "execute_result"
    }
   ],
   "source": [
    "Ejer2 = np.zeros((4,4))\n",
    "Ejer2"
   ]
  },
  {
   "cell_type": "markdown",
   "metadata": {},
   "source": [
    "### 3"
   ]
  },
  {
   "cell_type": "code",
   "execution_count": 9,
   "metadata": {},
   "outputs": [
    {
     "data": {
      "text/plain": [
       "array([[7, 7, 7],\n",
       "       [7, 7, 7],\n",
       "       [7, 7, 7],\n",
       "       [7, 7, 7]])"
      ]
     },
     "execution_count": 9,
     "metadata": {},
     "output_type": "execute_result"
    }
   ],
   "source": [
    "Ejer3 = np.full((4,3),7)\n",
    "Ejer3"
   ]
  },
  {
   "cell_type": "markdown",
   "metadata": {},
   "source": [
    "### 4"
   ]
  },
  {
   "cell_type": "code",
   "execution_count": 10,
   "metadata": {},
   "outputs": [
    {
     "name": "stdout",
     "output_type": "stream",
     "text": [
      "[ 1  2  3  4  5  6  7  8  9 10 11 12 13 14 15 16 17 18 19 20 21 22 23 24\n",
      " 25 26 27 28 29 30 31 32]\n",
      "[[ 1  2  3  4  5  6  7  8]\n",
      " [ 9 10 11 12 13 14 15 16]\n",
      " [17 18 19 20 21 22 23 24]\n",
      " [25 26 27 28 29 30 31 32]]\n",
      "[[ 1  2  3  4  5  6  7  8  9 10 11 12 13 14 15 16]\n",
      " [17 18 19 20 21 22 23 24 25 26 27 28 29 30 31 32]]\n",
      "[[ 1  2  3  4]\n",
      " [ 5  6  7  8]\n",
      " [ 9 10 11 12]\n",
      " [13 14 15 16]\n",
      " [17 18 19 20]\n",
      " [21 22 23 24]\n",
      " [25 26 27 28]\n",
      " [29 30 31 32]]\n"
     ]
    }
   ],
   "source": [
    "Ejer4 = np.arange(1,33,1)\n",
    "Ejer4RE1 = Ejer4.reshape((4,8))\n",
    "Ejer4RE2 = Ejer4.reshape((2,16))\n",
    "Ejer4RE3 = Ejer4.reshape((8,4))\n",
    "print(Ejer4)\n",
    "print(Ejer4RE1)\n",
    "print(Ejer4RE2)\n",
    "print(Ejer4RE3)"
   ]
  },
  {
   "cell_type": "markdown",
   "metadata": {},
   "source": [
    "### 5"
   ]
  },
  {
   "cell_type": "code",
   "execution_count": 11,
   "metadata": {},
   "outputs": [
    {
     "name": "stdout",
     "output_type": "stream",
     "text": [
      "[[[ 1  2  3]\n",
      "  [ 4  5  6]\n",
      "  [ 7  8  9]]\n",
      "\n",
      " [[10 11 12]\n",
      "  [13 14 15]\n",
      "  [16 17 18]]\n",
      "\n",
      " [[19 20 21]\n",
      "  [22 23 24]\n",
      "  [25 26 27]]]\n"
     ]
    }
   ],
   "source": [
    "Ejer5 = np.arange(1,28,1).reshape((3,3,3))\n",
    "print(Ejer5)"
   ]
  },
  {
   "cell_type": "markdown",
   "metadata": {},
   "source": [
    "### 6"
   ]
  },
  {
   "cell_type": "code",
   "execution_count": 12,
   "metadata": {},
   "outputs": [
    {
     "data": {
      "text/plain": [
       "array([[ 2,  2,  2,  2,  2],\n",
       "       [ 2,  0,  0,  0,  2],\n",
       "       [ 2,  0, 16,  0,  2],\n",
       "       [ 2,  0,  0,  0,  2],\n",
       "       [ 2,  2,  2,  2,  2]])"
      ]
     },
     "execution_count": 12,
     "metadata": {},
     "output_type": "execute_result"
    }
   ],
   "source": [
    "mat1 = np.diag(np.array([0, 16, 0]))\n",
    "mat2 = np.array([2, 2, 2])\n",
    "mat3 = np.array([[2, 2, 2,2,2]])\n",
    "mat4 = mat3.T\n",
    "\n",
    "mat5 = np.vstack((mat2,mat1,mat2))\n",
    "Ejer6 = np.hstack((mat4,mat5,mat4))\n",
    "Ejer6\n"
   ]
  },
  {
   "cell_type": "markdown",
   "metadata": {},
   "source": [
    "ABIGAIL QUISPE "
   ]
  }
 ],
 "metadata": {
  "kernelspec": {
   "display_name": "Python 3",
   "language": "python",
   "name": "python3"
  },
  "language_info": {
   "codemirror_mode": {
    "name": "ipython",
    "version": 3
   },
   "file_extension": ".py",
   "mimetype": "text/x-python",
   "name": "python",
   "nbconvert_exporter": "python",
   "pygments_lexer": "ipython3",
   "version": "3.8.5"
  }
 },
 "nbformat": 4,
 "nbformat_minor": 4
}
