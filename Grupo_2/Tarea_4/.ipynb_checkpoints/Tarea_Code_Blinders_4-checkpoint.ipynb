{
 "cells": [
  {
   "cell_type": "markdown",
   "metadata": {},
   "source": [
    "## Tarea 3 - Desarrollo de Alexander Max Tello Fuentes "
   ]
  },
  {
   "cell_type": "code",
   "execution_count": 1,
   "metadata": {},
   "outputs": [],
   "source": [
    "import pandas as pd\n",
    "import numpy as np\n",
    "import chardet\n",
    "from pandas import DataFrame\n",
    "from pandas import Series\n",
    "import os"
   ]
  },
  {
   "cell_type": "markdown",
   "metadata": {},
   "source": [
    "#### Reconocemos el tipo de caracter o \"encoding\" de los datos del CSV"
   ]
  },
  {
   "cell_type": "code",
   "execution_count": 2,
   "metadata": {},
   "outputs": [
    {
     "data": {
      "text/plain": [
       "'ISO-8859-1'"
      ]
     },
     "execution_count": 2,
     "metadata": {},
     "output_type": "execute_result"
    }
   ],
   "source": [
    "rawdata = open(r'D:\\Cursos de programacion\\Code_Blinders\\The_Code_Blinders\\data\\fallecidos_covid.csv', 'rb').read()\n",
    "result = chardet.detect(rawdata)\n",
    "charenc = result['encoding']\n",
    "charenc"
   ]
  },
  {
   "cell_type": "markdown",
   "metadata": {},
   "source": [
    "#### Relative Path\n",
    "Usaremos el \"charenc\" hallado pues es el encoding para importar el archivo \"fallecidos_covid\""
   ]
  },
  {
   "cell_type": "code",
   "execution_count": 3,
   "metadata": {},
   "outputs": [
    {
     "name": "stdout",
     "output_type": "stream",
     "text": [
      "D:\\Cursos de programacion\\Code_Blinders\n"
     ]
    }
   ],
   "source": [
    "print(os.getcwd())\n",
    "#relative_path = 'D:/Cursos de programacion/Code_Blinders/The_Code_Blinders/data/fallecidos_covid.csv'\n",
    "relative_path = r'The_Code_Blinders/data/fallecidos_covid.csv'"
   ]
  },
  {
   "cell_type": "code",
   "execution_count": 4,
   "metadata": {},
   "outputs": [],
   "source": [
    "muertos_covid = pd.read_csv(relative_path , sep = ';' , encoding = \"ISO-8859-1\")"
   ]
  },
  {
   "cell_type": "code",
   "execution_count": 5,
   "metadata": {},
   "outputs": [
    {
     "data": {
      "text/html": [
       "<div>\n",
       "<style scoped>\n",
       "    .dataframe tbody tr th:only-of-type {\n",
       "        vertical-align: middle;\n",
       "    }\n",
       "\n",
       "    .dataframe tbody tr th {\n",
       "        vertical-align: top;\n",
       "    }\n",
       "\n",
       "    .dataframe thead th {\n",
       "        text-align: right;\n",
       "    }\n",
       "</style>\n",
       "<table border=\"1\" class=\"dataframe\">\n",
       "  <thead>\n",
       "    <tr style=\"text-align: right;\">\n",
       "      <th></th>\n",
       "      <th>FECHA_CORTE</th>\n",
       "      <th>UUID</th>\n",
       "      <th>FECHA_FALLECIMIENTO</th>\n",
       "      <th>EDAD_DECLARADA</th>\n",
       "      <th>SEXO</th>\n",
       "      <th>FECHA_NAC</th>\n",
       "      <th>DEPARTAMENTO</th>\n",
       "      <th>PROVINCIA</th>\n",
       "      <th>DISTRITO</th>\n",
       "    </tr>\n",
       "  </thead>\n",
       "  <tbody>\n",
       "    <tr>\n",
       "      <th>0</th>\n",
       "      <td>20210302</td>\n",
       "      <td>cdbdc47c6c955a031f997677becb9065</td>\n",
       "      <td>20200729</td>\n",
       "      <td>64</td>\n",
       "      <td>MASCULINO</td>\n",
       "      <td>19551202.0</td>\n",
       "      <td>LIMA</td>\n",
       "      <td>LIMA</td>\n",
       "      <td>CHORRILLOS</td>\n",
       "    </tr>\n",
       "    <tr>\n",
       "      <th>1</th>\n",
       "      <td>20210302</td>\n",
       "      <td>a3aaeeedaba295f128635f5edbda6498</td>\n",
       "      <td>20200729</td>\n",
       "      <td>78</td>\n",
       "      <td>FEMENINO</td>\n",
       "      <td>19420118.0</td>\n",
       "      <td>LIMA</td>\n",
       "      <td>LIMA</td>\n",
       "      <td>COMAS</td>\n",
       "    </tr>\n",
       "    <tr>\n",
       "      <th>2</th>\n",
       "      <td>20210302</td>\n",
       "      <td>631e87aac1be2aabd19935a6a255a569</td>\n",
       "      <td>20200729</td>\n",
       "      <td>66</td>\n",
       "      <td>MASCULINO</td>\n",
       "      <td>19540503.0</td>\n",
       "      <td>LIMA</td>\n",
       "      <td>LIMA</td>\n",
       "      <td>COMAS</td>\n",
       "    </tr>\n",
       "    <tr>\n",
       "      <th>3</th>\n",
       "      <td>20210302</td>\n",
       "      <td>74c292a1a2c357a786b26a13fc839719</td>\n",
       "      <td>20200729</td>\n",
       "      <td>69</td>\n",
       "      <td>MASCULINO</td>\n",
       "      <td>19510314.0</td>\n",
       "      <td>LIMA</td>\n",
       "      <td>LIMA</td>\n",
       "      <td>COMAS</td>\n",
       "    </tr>\n",
       "    <tr>\n",
       "      <th>4</th>\n",
       "      <td>20210302</td>\n",
       "      <td>229e060d0ece75f752a790eab2e4470d</td>\n",
       "      <td>20200729</td>\n",
       "      <td>71</td>\n",
       "      <td>MASCULINO</td>\n",
       "      <td>19490215.0</td>\n",
       "      <td>LIMA</td>\n",
       "      <td>LIMA</td>\n",
       "      <td>COMAS</td>\n",
       "    </tr>\n",
       "  </tbody>\n",
       "</table>\n",
       "</div>"
      ],
      "text/plain": [
       "   FECHA_CORTE                              UUID  FECHA_FALLECIMIENTO  \\\n",
       "0     20210302  cdbdc47c6c955a031f997677becb9065             20200729   \n",
       "1     20210302  a3aaeeedaba295f128635f5edbda6498             20200729   \n",
       "2     20210302  631e87aac1be2aabd19935a6a255a569             20200729   \n",
       "3     20210302  74c292a1a2c357a786b26a13fc839719             20200729   \n",
       "4     20210302  229e060d0ece75f752a790eab2e4470d             20200729   \n",
       "\n",
       "   EDAD_DECLARADA       SEXO   FECHA_NAC DEPARTAMENTO PROVINCIA    DISTRITO  \n",
       "0              64  MASCULINO  19551202.0         LIMA      LIMA  CHORRILLOS  \n",
       "1              78   FEMENINO  19420118.0         LIMA      LIMA       COMAS  \n",
       "2              66  MASCULINO  19540503.0         LIMA      LIMA       COMAS  \n",
       "3              69  MASCULINO  19510314.0         LIMA      LIMA       COMAS  \n",
       "4              71  MASCULINO  19490215.0         LIMA      LIMA       COMAS  "
      ]
     },
     "execution_count": 5,
     "metadata": {},
     "output_type": "execute_result"
    }
   ],
   "source": [
    "muertos_covid.head()"
   ]
  },
  {
   "cell_type": "markdown",
   "metadata": {},
   "source": [
    "#### ID\n",
    "Hallamos la variable que identifica de forma única a cada variable"
   ]
  },
  {
   "cell_type": "code",
   "execution_count": 6,
   "metadata": {},
   "outputs": [
    {
     "name": "stdout",
     "output_type": "stream",
     "text": [
      "La cantidad de datos únicos de UUID es 47089 que es igual a la cantidad de datos de UUID\n"
     ]
    },
    {
     "data": {
      "text/plain": [
       "0        cdbdc47c6c955a031f997677becb9065\n",
       "1        a3aaeeedaba295f128635f5edbda6498\n",
       "2        631e87aac1be2aabd19935a6a255a569\n",
       "3        74c292a1a2c357a786b26a13fc839719\n",
       "4        229e060d0ece75f752a790eab2e4470d\n",
       "                       ...               \n",
       "47084    5a88884f8b44e60cd1b48600e9f82275\n",
       "47085    06a96fa92f5ee82a29386e177cdb700f\n",
       "47086    d192565dac6c74ed120c402cbbdd3115\n",
       "47087    01be7035823ed5f7b5de812af513bd60\n",
       "47088    80ef6326c8cf48002d98dce3a79b0369\n",
       "Name: UUID, Length: 47089, dtype: object"
      ]
     },
     "execution_count": 6,
     "metadata": {},
     "output_type": "execute_result"
    }
   ],
   "source": [
    "ID = muertos_covid['UUID']\n",
    "print(\"La cantidad de datos únicos de UUID es\",len(muertos_covid['UUID'].unique()), \"que es igual a la cantidad de datos de UUID\")\n",
    "ID\n",
    "#La variable UUID identifica unicamente a cada observación."
   ]
  },
  {
   "cell_type": "markdown",
   "metadata": {},
   "source": [
    "#### Análisis de la data fallecidos Covid"
   ]
  },
  {
   "cell_type": "markdown",
   "metadata": {},
   "source": [
    "#### 1. ¿A qué sexo pertenecen el mayor número de fallecidos?"
   ]
  },
  {
   "cell_type": "code",
   "execution_count": 7,
   "metadata": {},
   "outputs": [
    {
     "data": {
      "text/plain": [
       "SEXO\n",
       "10               3\n",
       "11               7\n",
       "FEMENINO     15325\n",
       "MASCULINO    31754\n",
       "Name: SEXO, dtype: int64"
      ]
     },
     "execution_count": 7,
     "metadata": {},
     "output_type": "execute_result"
    }
   ],
   "source": [
    "muertos_covid.groupby([\"SEXO\"])[\"SEXO\"].count()"
   ]
  },
  {
   "cell_type": "markdown",
   "metadata": {},
   "source": [
    " - El mayor número de fallecidos pertence al sexo Masculino con 31 754 muertes."
   ]
  },
  {
   "cell_type": "markdown",
   "metadata": {},
   "source": [
    "#### 2. Dentro de los fallecidos de entre 30 y 60 años, ¿Qué sexo es el que cuenta con mayor número de fallecidos ?"
   ]
  },
  {
   "cell_type": "code",
   "execution_count": 8,
   "metadata": {},
   "outputs": [
    {
     "name": "stdout",
     "output_type": "stream",
     "text": [
      "30\n",
      "60\n"
     ]
    },
    {
     "data": {
      "text/plain": [
       "SEXO\n",
       "10               1\n",
       "11               2\n",
       "FEMENINO      4111\n",
       "MASCULINO    10459\n",
       "Name: SEXO, dtype: int64"
      ]
     },
     "execution_count": 8,
     "metadata": {},
     "output_type": "execute_result"
    }
   ],
   "source": [
    "muestra_edad = muertos_covid.loc[(muertos_covid[\"EDAD_DECLARADA\"] >=30)&(muertos_covid[\"EDAD_DECLARADA\"] <=60)]\n",
    "print(muestra_edad[\"EDAD_DECLARADA\"].min())\n",
    "print(muestra_edad[\"EDAD_DECLARADA\"].max())\n",
    "muestra_edad.groupby([\"SEXO\"])[\"SEXO\"].count()"
   ]
  },
  {
   "cell_type": "markdown",
   "metadata": {},
   "source": [
    "- Entre los individuos de entre 30 y 60 años, el sexo masculino tuvo el mayor número de muertes con 10 459 fallecidos."
   ]
  },
  {
   "cell_type": "markdown",
   "metadata": {},
   "source": [
    "#### 3. ¿Cuántas observaciones no cuentan con información de fecha de nacimiento?"
   ]
  },
  {
   "cell_type": "code",
   "execution_count": 9,
   "metadata": {},
   "outputs": [
    {
     "data": {
      "text/plain": [
       "15342"
      ]
     },
     "execution_count": 9,
     "metadata": {},
     "output_type": "execute_result"
    }
   ],
   "source": [
    "muertos_covid[\"FECHA_NAC\"].isnull().sum()"
   ]
  },
  {
   "cell_type": "markdown",
   "metadata": {},
   "source": [
    "- Hay 15 342 observaciones sin información de fecha de nacimiento."
   ]
  },
  {
   "cell_type": "markdown",
   "metadata": {},
   "source": [
    "##### 4.Halla el total de fallecidos por departamento."
   ]
  },
  {
   "cell_type": "code",
   "execution_count": 62,
   "metadata": {},
   "outputs": [
    {
     "data": {
      "text/html": [
       "<div>\n",
       "<style scoped>\n",
       "    .dataframe tbody tr th:only-of-type {\n",
       "        vertical-align: middle;\n",
       "    }\n",
       "\n",
       "    .dataframe tbody tr th {\n",
       "        vertical-align: top;\n",
       "    }\n",
       "\n",
       "    .dataframe thead th {\n",
       "        text-align: right;\n",
       "    }\n",
       "</style>\n",
       "<table border=\"1\" class=\"dataframe\">\n",
       "  <thead>\n",
       "    <tr style=\"text-align: right;\">\n",
       "      <th></th>\n",
       "      <th>DEPARTAMENTO</th>\n",
       "      <th>NUM_DEP</th>\n",
       "    </tr>\n",
       "  </thead>\n",
       "  <tbody>\n",
       "    <tr>\n",
       "      <th>0</th>\n",
       "      <td>AMAZONAS</td>\n",
       "      <td>326</td>\n",
       "    </tr>\n",
       "    <tr>\n",
       "      <th>1</th>\n",
       "      <td>ANCASH</td>\n",
       "      <td>1878</td>\n",
       "    </tr>\n",
       "    <tr>\n",
       "      <th>2</th>\n",
       "      <td>APURIMAC</td>\n",
       "      <td>275</td>\n",
       "    </tr>\n",
       "    <tr>\n",
       "      <th>3</th>\n",
       "      <td>AREQUIPA</td>\n",
       "      <td>2026</td>\n",
       "    </tr>\n",
       "    <tr>\n",
       "      <th>4</th>\n",
       "      <td>AYACUCHO</td>\n",
       "      <td>504</td>\n",
       "    </tr>\n",
       "  </tbody>\n",
       "</table>\n",
       "</div>"
      ],
      "text/plain": [
       "  DEPARTAMENTO  NUM_DEP\n",
       "0     AMAZONAS      326\n",
       "1       ANCASH     1878\n",
       "2     APURIMAC      275\n",
       "3     AREQUIPA     2026\n",
       "4     AYACUCHO      504"
      ]
     },
     "execution_count": 62,
     "metadata": {},
     "output_type": "execute_result"
    }
   ],
   "source": [
    "DEP = muertos_covid.groupby([\"DEPARTAMENTO\"])[[\"UUID\"]].count().rename(columns={'UUID': 'NUM_DEP'}).reset_index(level = [\"DEPARTAMENTO\"])\n",
    "DEP.head()"
   ]
  },
  {
   "cell_type": "markdown",
   "metadata": {},
   "source": [
    "#### 5. Halla el total de fallecidos por provincia."
   ]
  },
  {
   "cell_type": "code",
   "execution_count": 36,
   "metadata": {},
   "outputs": [
    {
     "data": {
      "text/html": [
       "<div>\n",
       "<style scoped>\n",
       "    .dataframe tbody tr th:only-of-type {\n",
       "        vertical-align: middle;\n",
       "    }\n",
       "\n",
       "    .dataframe tbody tr th {\n",
       "        vertical-align: top;\n",
       "    }\n",
       "\n",
       "    .dataframe thead th {\n",
       "        text-align: right;\n",
       "    }\n",
       "</style>\n",
       "<table border=\"1\" class=\"dataframe\">\n",
       "  <thead>\n",
       "    <tr style=\"text-align: right;\">\n",
       "      <th></th>\n",
       "      <th>PROVINCIA</th>\n",
       "      <th>NUM_PROV</th>\n",
       "    </tr>\n",
       "  </thead>\n",
       "  <tbody>\n",
       "    <tr>\n",
       "      <th>0</th>\n",
       "      <td>ABANCAY</td>\n",
       "      <td>125</td>\n",
       "    </tr>\n",
       "    <tr>\n",
       "      <th>1</th>\n",
       "      <td>ACOBAMBA</td>\n",
       "      <td>10</td>\n",
       "    </tr>\n",
       "    <tr>\n",
       "      <th>2</th>\n",
       "      <td>ACOMAYO</td>\n",
       "      <td>9</td>\n",
       "    </tr>\n",
       "    <tr>\n",
       "      <th>3</th>\n",
       "      <td>AIJA</td>\n",
       "      <td>6</td>\n",
       "    </tr>\n",
       "    <tr>\n",
       "      <th>4</th>\n",
       "      <td>ALTO AMAZONAS</td>\n",
       "      <td>65</td>\n",
       "    </tr>\n",
       "    <tr>\n",
       "      <th>...</th>\n",
       "      <td>...</td>\n",
       "      <td>...</td>\n",
       "    </tr>\n",
       "    <tr>\n",
       "      <th>195</th>\n",
       "      <td>YAULI</td>\n",
       "      <td>57</td>\n",
       "    </tr>\n",
       "    <tr>\n",
       "      <th>196</th>\n",
       "      <td>YAUYOS</td>\n",
       "      <td>28</td>\n",
       "    </tr>\n",
       "    <tr>\n",
       "      <th>197</th>\n",
       "      <td>YUNGAY</td>\n",
       "      <td>23</td>\n",
       "    </tr>\n",
       "    <tr>\n",
       "      <th>198</th>\n",
       "      <td>YUNGUYO</td>\n",
       "      <td>29</td>\n",
       "    </tr>\n",
       "    <tr>\n",
       "      <th>199</th>\n",
       "      <td>ZARUMILLA</td>\n",
       "      <td>77</td>\n",
       "    </tr>\n",
       "  </tbody>\n",
       "</table>\n",
       "<p>200 rows × 2 columns</p>\n",
       "</div>"
      ],
      "text/plain": [
       "         PROVINCIA  NUM_PROV\n",
       "0          ABANCAY       125\n",
       "1         ACOBAMBA        10\n",
       "2          ACOMAYO         9\n",
       "3             AIJA         6\n",
       "4    ALTO AMAZONAS        65\n",
       "..             ...       ...\n",
       "195          YAULI        57\n",
       "196         YAUYOS        28\n",
       "197         YUNGAY        23\n",
       "198        YUNGUYO        29\n",
       "199      ZARUMILLA        77\n",
       "\n",
       "[200 rows x 2 columns]"
      ]
     },
     "execution_count": 36,
     "metadata": {},
     "output_type": "execute_result"
    }
   ],
   "source": [
    "prov  = muertos_covid.groupby([\"PROVINCIA\"])[[\"UUID\"]].count().rename(columns={'UUID': 'NUM_PROV'}).reset_index(level = [\"PROVINCIA\"] )\n",
    "prov"
   ]
  },
  {
   "cell_type": "markdown",
   "metadata": {},
   "source": [
    "#### 6. Halla el total de fallecidos por distrito."
   ]
  },
  {
   "cell_type": "code",
   "execution_count": 38,
   "metadata": {},
   "outputs": [
    {
     "data": {
      "text/html": [
       "<div>\n",
       "<style scoped>\n",
       "    .dataframe tbody tr th:only-of-type {\n",
       "        vertical-align: middle;\n",
       "    }\n",
       "\n",
       "    .dataframe tbody tr th {\n",
       "        vertical-align: top;\n",
       "    }\n",
       "\n",
       "    .dataframe thead th {\n",
       "        text-align: right;\n",
       "    }\n",
       "</style>\n",
       "<table border=\"1\" class=\"dataframe\">\n",
       "  <thead>\n",
       "    <tr style=\"text-align: right;\">\n",
       "      <th></th>\n",
       "      <th>DISTRITO</th>\n",
       "      <th>NUM_DIS</th>\n",
       "    </tr>\n",
       "  </thead>\n",
       "  <tbody>\n",
       "    <tr>\n",
       "      <th>0</th>\n",
       "      <td>ABANCAY</td>\n",
       "      <td>96</td>\n",
       "    </tr>\n",
       "    <tr>\n",
       "      <th>1</th>\n",
       "      <td>ACARI</td>\n",
       "      <td>3</td>\n",
       "    </tr>\n",
       "    <tr>\n",
       "      <th>2</th>\n",
       "      <td>ACAS</td>\n",
       "      <td>2</td>\n",
       "    </tr>\n",
       "    <tr>\n",
       "      <th>3</th>\n",
       "      <td>ACCHA</td>\n",
       "      <td>1</td>\n",
       "    </tr>\n",
       "    <tr>\n",
       "      <th>4</th>\n",
       "      <td>ACHOMA</td>\n",
       "      <td>2</td>\n",
       "    </tr>\n",
       "    <tr>\n",
       "      <th>...</th>\n",
       "      <td>...</td>\n",
       "      <td>...</td>\n",
       "    </tr>\n",
       "    <tr>\n",
       "      <th>1330</th>\n",
       "      <td>ZARUMILLA</td>\n",
       "      <td>43</td>\n",
       "    </tr>\n",
       "    <tr>\n",
       "      <th>1331</th>\n",
       "      <td>ZORRITOS</td>\n",
       "      <td>26</td>\n",
       "    </tr>\n",
       "    <tr>\n",
       "      <th>1332</th>\n",
       "      <td>ZURITE</td>\n",
       "      <td>3</td>\n",
       "    </tr>\n",
       "    <tr>\n",
       "      <th>1333</th>\n",
       "      <td>ZUÑIGA</td>\n",
       "      <td>4</td>\n",
       "    </tr>\n",
       "    <tr>\n",
       "      <th>1334</th>\n",
       "      <td>ÑAHUIMPUQUIO</td>\n",
       "      <td>2</td>\n",
       "    </tr>\n",
       "  </tbody>\n",
       "</table>\n",
       "<p>1335 rows × 2 columns</p>\n",
       "</div>"
      ],
      "text/plain": [
       "          DISTRITO  NUM_DIS\n",
       "0          ABANCAY       96\n",
       "1            ACARI        3\n",
       "2             ACAS        2\n",
       "3            ACCHA        1\n",
       "4           ACHOMA        2\n",
       "...            ...      ...\n",
       "1330     ZARUMILLA       43\n",
       "1331      ZORRITOS       26\n",
       "1332        ZURITE        3\n",
       "1333        ZUÑIGA        4\n",
       "1334  ÑAHUIMPUQUIO        2\n",
       "\n",
       "[1335 rows x 2 columns]"
      ]
     },
     "execution_count": 38,
     "metadata": {},
     "output_type": "execute_result"
    }
   ],
   "source": [
    "dis = muertos_covid.groupby([\"DISTRITO\"])[[\"UUID\"]].count().rename(columns={'UUID': 'NUM_DIS'}).reset_index(level = [\"DISTRITO\"] )\n",
    "dis"
   ]
  },
  {
   "cell_type": "markdown",
   "metadata": {},
   "source": [
    "#### 7. Genera una tabla donde se encuentre el porcentaje de muertos por cada distrito con respecto a la provincia (llamen a la columna distr_prov) que pertenecen. Este dataframe debe contener las siguientes columnas: DEPARTAMENTO, PROVINCIA, DISTRITO y distr_prov."
   ]
  },
  {
   "cell_type": "code",
   "execution_count": 63,
   "metadata": {},
   "outputs": [],
   "source": [
    "Nueva_tabla = muertos_covid[[\"DEPARTAMENTO\" , \"PROVINCIA\", \"DISTRITO\"]]"
   ]
  },
  {
   "cell_type": "code",
   "execution_count": 64,
   "metadata": {},
   "outputs": [
    {
     "data": {
      "text/html": [
       "<div>\n",
       "<style scoped>\n",
       "    .dataframe tbody tr th:only-of-type {\n",
       "        vertical-align: middle;\n",
       "    }\n",
       "\n",
       "    .dataframe tbody tr th {\n",
       "        vertical-align: top;\n",
       "    }\n",
       "\n",
       "    .dataframe thead th {\n",
       "        text-align: right;\n",
       "    }\n",
       "</style>\n",
       "<table border=\"1\" class=\"dataframe\">\n",
       "  <thead>\n",
       "    <tr style=\"text-align: right;\">\n",
       "      <th></th>\n",
       "      <th>DEPARTAMENTO</th>\n",
       "      <th>PROVINCIA</th>\n",
       "      <th>DISTRITO</th>\n",
       "      <th>NUM_PROV</th>\n",
       "    </tr>\n",
       "  </thead>\n",
       "  <tbody>\n",
       "    <tr>\n",
       "      <th>0</th>\n",
       "      <td>LIMA</td>\n",
       "      <td>LIMA</td>\n",
       "      <td>CHORRILLOS</td>\n",
       "      <td>18525.0</td>\n",
       "    </tr>\n",
       "    <tr>\n",
       "      <th>1</th>\n",
       "      <td>LIMA</td>\n",
       "      <td>LIMA</td>\n",
       "      <td>COMAS</td>\n",
       "      <td>18525.0</td>\n",
       "    </tr>\n",
       "    <tr>\n",
       "      <th>2</th>\n",
       "      <td>LIMA</td>\n",
       "      <td>LIMA</td>\n",
       "      <td>COMAS</td>\n",
       "      <td>18525.0</td>\n",
       "    </tr>\n",
       "    <tr>\n",
       "      <th>3</th>\n",
       "      <td>LIMA</td>\n",
       "      <td>LIMA</td>\n",
       "      <td>COMAS</td>\n",
       "      <td>18525.0</td>\n",
       "    </tr>\n",
       "    <tr>\n",
       "      <th>4</th>\n",
       "      <td>LIMA</td>\n",
       "      <td>LIMA</td>\n",
       "      <td>COMAS</td>\n",
       "      <td>18525.0</td>\n",
       "    </tr>\n",
       "  </tbody>\n",
       "</table>\n",
       "</div>"
      ],
      "text/plain": [
       "  DEPARTAMENTO PROVINCIA    DISTRITO  NUM_PROV\n",
       "0         LIMA      LIMA  CHORRILLOS   18525.0\n",
       "1         LIMA      LIMA       COMAS   18525.0\n",
       "2         LIMA      LIMA       COMAS   18525.0\n",
       "3         LIMA      LIMA       COMAS   18525.0\n",
       "4         LIMA      LIMA       COMAS   18525.0"
      ]
     },
     "execution_count": 64,
     "metadata": {},
     "output_type": "execute_result"
    }
   ],
   "source": [
    "Tabla_dos = Nueva_tabla.merge(prov,how = \"left\",on = \"PROVINCIA\",indicator = False )\n",
    "Tabla_dos.head()"
   ]
  },
  {
   "cell_type": "code",
   "execution_count": 68,
   "metadata": {},
   "outputs": [
    {
     "data": {
      "text/html": [
       "<div>\n",
       "<style scoped>\n",
       "    .dataframe tbody tr th:only-of-type {\n",
       "        vertical-align: middle;\n",
       "    }\n",
       "\n",
       "    .dataframe tbody tr th {\n",
       "        vertical-align: top;\n",
       "    }\n",
       "\n",
       "    .dataframe thead th {\n",
       "        text-align: right;\n",
       "    }\n",
       "</style>\n",
       "<table border=\"1\" class=\"dataframe\">\n",
       "  <thead>\n",
       "    <tr style=\"text-align: right;\">\n",
       "      <th></th>\n",
       "      <th>DEPARTAMENTO</th>\n",
       "      <th>PROVINCIA</th>\n",
       "      <th>DISTRITO</th>\n",
       "      <th>NUM_PROV</th>\n",
       "      <th>NUM_DIS</th>\n",
       "    </tr>\n",
       "  </thead>\n",
       "  <tbody>\n",
       "    <tr>\n",
       "      <th>0</th>\n",
       "      <td>LIMA</td>\n",
       "      <td>LIMA</td>\n",
       "      <td>CHORRILLOS</td>\n",
       "      <td>18525.0</td>\n",
       "      <td>634.0</td>\n",
       "    </tr>\n",
       "    <tr>\n",
       "      <th>1</th>\n",
       "      <td>LIMA</td>\n",
       "      <td>LIMA</td>\n",
       "      <td>COMAS</td>\n",
       "      <td>18525.0</td>\n",
       "      <td>1233.0</td>\n",
       "    </tr>\n",
       "    <tr>\n",
       "      <th>2</th>\n",
       "      <td>LIMA</td>\n",
       "      <td>LIMA</td>\n",
       "      <td>COMAS</td>\n",
       "      <td>18525.0</td>\n",
       "      <td>1233.0</td>\n",
       "    </tr>\n",
       "    <tr>\n",
       "      <th>3</th>\n",
       "      <td>LIMA</td>\n",
       "      <td>LIMA</td>\n",
       "      <td>COMAS</td>\n",
       "      <td>18525.0</td>\n",
       "      <td>1233.0</td>\n",
       "    </tr>\n",
       "    <tr>\n",
       "      <th>4</th>\n",
       "      <td>LIMA</td>\n",
       "      <td>LIMA</td>\n",
       "      <td>COMAS</td>\n",
       "      <td>18525.0</td>\n",
       "      <td>1233.0</td>\n",
       "    </tr>\n",
       "  </tbody>\n",
       "</table>\n",
       "</div>"
      ],
      "text/plain": [
       "  DEPARTAMENTO PROVINCIA    DISTRITO  NUM_PROV  NUM_DIS\n",
       "0         LIMA      LIMA  CHORRILLOS   18525.0    634.0\n",
       "1         LIMA      LIMA       COMAS   18525.0   1233.0\n",
       "2         LIMA      LIMA       COMAS   18525.0   1233.0\n",
       "3         LIMA      LIMA       COMAS   18525.0   1233.0\n",
       "4         LIMA      LIMA       COMAS   18525.0   1233.0"
      ]
     },
     "execution_count": 68,
     "metadata": {},
     "output_type": "execute_result"
    }
   ],
   "source": [
    "Tabla_tres = Tabla_dos.merge(dis,how = \"left\",on = \"DISTRITO\",indicator = False )\n",
    "Tabla_tres.head()"
   ]
  },
  {
   "cell_type": "code",
   "execution_count": 69,
   "metadata": {},
   "outputs": [
    {
     "data": {
      "text/html": [
       "<div>\n",
       "<style scoped>\n",
       "    .dataframe tbody tr th:only-of-type {\n",
       "        vertical-align: middle;\n",
       "    }\n",
       "\n",
       "    .dataframe tbody tr th {\n",
       "        vertical-align: top;\n",
       "    }\n",
       "\n",
       "    .dataframe thead th {\n",
       "        text-align: right;\n",
       "    }\n",
       "</style>\n",
       "<table border=\"1\" class=\"dataframe\">\n",
       "  <thead>\n",
       "    <tr style=\"text-align: right;\">\n",
       "      <th></th>\n",
       "      <th>DEPARTAMENTO</th>\n",
       "      <th>PROVINCIA</th>\n",
       "      <th>DISTRITO</th>\n",
       "      <th>NUM_PROV</th>\n",
       "      <th>NUM_DIS</th>\n",
       "      <th>distr_prov</th>\n",
       "    </tr>\n",
       "  </thead>\n",
       "  <tbody>\n",
       "    <tr>\n",
       "      <th>0</th>\n",
       "      <td>LIMA</td>\n",
       "      <td>LIMA</td>\n",
       "      <td>CHORRILLOS</td>\n",
       "      <td>18525.0</td>\n",
       "      <td>634.0</td>\n",
       "      <td>3.422402</td>\n",
       "    </tr>\n",
       "    <tr>\n",
       "      <th>1</th>\n",
       "      <td>LIMA</td>\n",
       "      <td>LIMA</td>\n",
       "      <td>COMAS</td>\n",
       "      <td>18525.0</td>\n",
       "      <td>1233.0</td>\n",
       "      <td>6.655870</td>\n",
       "    </tr>\n",
       "    <tr>\n",
       "      <th>2</th>\n",
       "      <td>LIMA</td>\n",
       "      <td>LIMA</td>\n",
       "      <td>COMAS</td>\n",
       "      <td>18525.0</td>\n",
       "      <td>1233.0</td>\n",
       "      <td>6.655870</td>\n",
       "    </tr>\n",
       "    <tr>\n",
       "      <th>3</th>\n",
       "      <td>LIMA</td>\n",
       "      <td>LIMA</td>\n",
       "      <td>COMAS</td>\n",
       "      <td>18525.0</td>\n",
       "      <td>1233.0</td>\n",
       "      <td>6.655870</td>\n",
       "    </tr>\n",
       "    <tr>\n",
       "      <th>4</th>\n",
       "      <td>LIMA</td>\n",
       "      <td>LIMA</td>\n",
       "      <td>COMAS</td>\n",
       "      <td>18525.0</td>\n",
       "      <td>1233.0</td>\n",
       "      <td>6.655870</td>\n",
       "    </tr>\n",
       "  </tbody>\n",
       "</table>\n",
       "</div>"
      ],
      "text/plain": [
       "  DEPARTAMENTO PROVINCIA    DISTRITO  NUM_PROV  NUM_DIS  distr_prov\n",
       "0         LIMA      LIMA  CHORRILLOS   18525.0    634.0    3.422402\n",
       "1         LIMA      LIMA       COMAS   18525.0   1233.0    6.655870\n",
       "2         LIMA      LIMA       COMAS   18525.0   1233.0    6.655870\n",
       "3         LIMA      LIMA       COMAS   18525.0   1233.0    6.655870\n",
       "4         LIMA      LIMA       COMAS   18525.0   1233.0    6.655870"
      ]
     },
     "execution_count": 69,
     "metadata": {},
     "output_type": "execute_result"
    }
   ],
   "source": [
    "Tabla_tres['distr_prov'] = 100*Tabla_tres['NUM_DIS'] / Tabla_tres['NUM_PROV']\n",
    "Tabla_tres.head()"
   ]
  },
  {
   "cell_type": "code",
   "execution_count": 70,
   "metadata": {},
   "outputs": [
    {
     "data": {
      "text/html": [
       "<div>\n",
       "<style scoped>\n",
       "    .dataframe tbody tr th:only-of-type {\n",
       "        vertical-align: middle;\n",
       "    }\n",
       "\n",
       "    .dataframe tbody tr th {\n",
       "        vertical-align: top;\n",
       "    }\n",
       "\n",
       "    .dataframe thead th {\n",
       "        text-align: right;\n",
       "    }\n",
       "</style>\n",
       "<table border=\"1\" class=\"dataframe\">\n",
       "  <thead>\n",
       "    <tr style=\"text-align: right;\">\n",
       "      <th></th>\n",
       "      <th>DEPARTAMENTO</th>\n",
       "      <th>PROVINCIA</th>\n",
       "      <th>DISTRITO</th>\n",
       "      <th>distr_prov</th>\n",
       "    </tr>\n",
       "  </thead>\n",
       "  <tbody>\n",
       "    <tr>\n",
       "      <th>0</th>\n",
       "      <td>LIMA</td>\n",
       "      <td>LIMA</td>\n",
       "      <td>CHORRILLOS</td>\n",
       "      <td>3.422402</td>\n",
       "    </tr>\n",
       "    <tr>\n",
       "      <th>1</th>\n",
       "      <td>LIMA</td>\n",
       "      <td>LIMA</td>\n",
       "      <td>COMAS</td>\n",
       "      <td>6.655870</td>\n",
       "    </tr>\n",
       "    <tr>\n",
       "      <th>2</th>\n",
       "      <td>LIMA</td>\n",
       "      <td>LIMA</td>\n",
       "      <td>COMAS</td>\n",
       "      <td>6.655870</td>\n",
       "    </tr>\n",
       "    <tr>\n",
       "      <th>3</th>\n",
       "      <td>LIMA</td>\n",
       "      <td>LIMA</td>\n",
       "      <td>COMAS</td>\n",
       "      <td>6.655870</td>\n",
       "    </tr>\n",
       "    <tr>\n",
       "      <th>4</th>\n",
       "      <td>LIMA</td>\n",
       "      <td>LIMA</td>\n",
       "      <td>COMAS</td>\n",
       "      <td>6.655870</td>\n",
       "    </tr>\n",
       "  </tbody>\n",
       "</table>\n",
       "</div>"
      ],
      "text/plain": [
       "  DEPARTAMENTO PROVINCIA    DISTRITO  distr_prov\n",
       "0         LIMA      LIMA  CHORRILLOS    3.422402\n",
       "1         LIMA      LIMA       COMAS    6.655870\n",
       "2         LIMA      LIMA       COMAS    6.655870\n",
       "3         LIMA      LIMA       COMAS    6.655870\n",
       "4         LIMA      LIMA       COMAS    6.655870"
      ]
     },
     "execution_count": 70,
     "metadata": {},
     "output_type": "execute_result"
    }
   ],
   "source": [
    "Solucion = Tabla_tres[['DEPARTAMENTO', 'PROVINCIA' ,'DISTRITO' ,'distr_prov']]\n",
    "Solucion.head()"
   ]
  },
  {
   "cell_type": "markdown",
   "metadata": {},
   "source": [
    "#### 8. Genera una tabla donde se encuentre el porcentaje de muertos por cada provincia con respecto al departamento que pertenecen (llamen a la columna prov_dpto). Este dataframe debe contener las siguientes columnas: DEPARTAMENTO, PROVINCIA y prov_dpto."
   ]
  },
  {
   "cell_type": "code",
   "execution_count": 76,
   "metadata": {},
   "outputs": [
    {
     "data": {
      "text/html": [
       "<div>\n",
       "<style scoped>\n",
       "    .dataframe tbody tr th:only-of-type {\n",
       "        vertical-align: middle;\n",
       "    }\n",
       "\n",
       "    .dataframe tbody tr th {\n",
       "        vertical-align: top;\n",
       "    }\n",
       "\n",
       "    .dataframe thead th {\n",
       "        text-align: right;\n",
       "    }\n",
       "</style>\n",
       "<table border=\"1\" class=\"dataframe\">\n",
       "  <thead>\n",
       "    <tr style=\"text-align: right;\">\n",
       "      <th></th>\n",
       "      <th>DEPARTAMENTO</th>\n",
       "      <th>PROVINCIA</th>\n",
       "      <th>DISTRITO</th>\n",
       "      <th>NUM_PROV</th>\n",
       "      <th>NUM_DIS</th>\n",
       "      <th>distr_prov</th>\n",
       "      <th>NUM_DEP</th>\n",
       "      <th>prov_dpto</th>\n",
       "    </tr>\n",
       "  </thead>\n",
       "  <tbody>\n",
       "    <tr>\n",
       "      <th>0</th>\n",
       "      <td>LIMA</td>\n",
       "      <td>LIMA</td>\n",
       "      <td>CHORRILLOS</td>\n",
       "      <td>18525.0</td>\n",
       "      <td>634.0</td>\n",
       "      <td>3.422402</td>\n",
       "      <td>20593</td>\n",
       "      <td>89.957753</td>\n",
       "    </tr>\n",
       "    <tr>\n",
       "      <th>1</th>\n",
       "      <td>LIMA</td>\n",
       "      <td>LIMA</td>\n",
       "      <td>COMAS</td>\n",
       "      <td>18525.0</td>\n",
       "      <td>1233.0</td>\n",
       "      <td>6.655870</td>\n",
       "      <td>20593</td>\n",
       "      <td>89.957753</td>\n",
       "    </tr>\n",
       "    <tr>\n",
       "      <th>2</th>\n",
       "      <td>LIMA</td>\n",
       "      <td>LIMA</td>\n",
       "      <td>COMAS</td>\n",
       "      <td>18525.0</td>\n",
       "      <td>1233.0</td>\n",
       "      <td>6.655870</td>\n",
       "      <td>20593</td>\n",
       "      <td>89.957753</td>\n",
       "    </tr>\n",
       "    <tr>\n",
       "      <th>3</th>\n",
       "      <td>LIMA</td>\n",
       "      <td>LIMA</td>\n",
       "      <td>COMAS</td>\n",
       "      <td>18525.0</td>\n",
       "      <td>1233.0</td>\n",
       "      <td>6.655870</td>\n",
       "      <td>20593</td>\n",
       "      <td>89.957753</td>\n",
       "    </tr>\n",
       "    <tr>\n",
       "      <th>4</th>\n",
       "      <td>LIMA</td>\n",
       "      <td>LIMA</td>\n",
       "      <td>COMAS</td>\n",
       "      <td>18525.0</td>\n",
       "      <td>1233.0</td>\n",
       "      <td>6.655870</td>\n",
       "      <td>20593</td>\n",
       "      <td>89.957753</td>\n",
       "    </tr>\n",
       "  </tbody>\n",
       "</table>\n",
       "</div>"
      ],
      "text/plain": [
       "  DEPARTAMENTO PROVINCIA    DISTRITO  NUM_PROV  NUM_DIS  distr_prov  NUM_DEP  \\\n",
       "0         LIMA      LIMA  CHORRILLOS   18525.0    634.0    3.422402    20593   \n",
       "1         LIMA      LIMA       COMAS   18525.0   1233.0    6.655870    20593   \n",
       "2         LIMA      LIMA       COMAS   18525.0   1233.0    6.655870    20593   \n",
       "3         LIMA      LIMA       COMAS   18525.0   1233.0    6.655870    20593   \n",
       "4         LIMA      LIMA       COMAS   18525.0   1233.0    6.655870    20593   \n",
       "\n",
       "   prov_dpto  \n",
       "0  89.957753  \n",
       "1  89.957753  \n",
       "2  89.957753  \n",
       "3  89.957753  \n",
       "4  89.957753  "
      ]
     },
     "execution_count": 76,
     "metadata": {},
     "output_type": "execute_result"
    }
   ],
   "source": [
    "tabla_cuatro = Tabla_tres.merge(DEP,how = 'left',on = 'DEPARTAMENTO',indicator = False)\n",
    "tabla_cuatro['prov_dpto']= 100*tabla_cuatro['NUM_PROV']/tabla_cuatro['NUM_DEP']\n",
    "tabla_cuatro.head()"
   ]
  },
  {
   "cell_type": "code",
   "execution_count": 78,
   "metadata": {},
   "outputs": [
    {
     "data": {
      "text/html": [
       "<div>\n",
       "<style scoped>\n",
       "    .dataframe tbody tr th:only-of-type {\n",
       "        vertical-align: middle;\n",
       "    }\n",
       "\n",
       "    .dataframe tbody tr th {\n",
       "        vertical-align: top;\n",
       "    }\n",
       "\n",
       "    .dataframe thead th {\n",
       "        text-align: right;\n",
       "    }\n",
       "</style>\n",
       "<table border=\"1\" class=\"dataframe\">\n",
       "  <thead>\n",
       "    <tr style=\"text-align: right;\">\n",
       "      <th></th>\n",
       "      <th>DEPARTAMENTO</th>\n",
       "      <th>PROVINCIA</th>\n",
       "      <th>prov_dpto</th>\n",
       "    </tr>\n",
       "  </thead>\n",
       "  <tbody>\n",
       "    <tr>\n",
       "      <th>0</th>\n",
       "      <td>LIMA</td>\n",
       "      <td>LIMA</td>\n",
       "      <td>89.957753</td>\n",
       "    </tr>\n",
       "    <tr>\n",
       "      <th>1</th>\n",
       "      <td>LIMA</td>\n",
       "      <td>LIMA</td>\n",
       "      <td>89.957753</td>\n",
       "    </tr>\n",
       "    <tr>\n",
       "      <th>2</th>\n",
       "      <td>LIMA</td>\n",
       "      <td>LIMA</td>\n",
       "      <td>89.957753</td>\n",
       "    </tr>\n",
       "    <tr>\n",
       "      <th>3</th>\n",
       "      <td>LIMA</td>\n",
       "      <td>LIMA</td>\n",
       "      <td>89.957753</td>\n",
       "    </tr>\n",
       "    <tr>\n",
       "      <th>4</th>\n",
       "      <td>LIMA</td>\n",
       "      <td>LIMA</td>\n",
       "      <td>89.957753</td>\n",
       "    </tr>\n",
       "  </tbody>\n",
       "</table>\n",
       "</div>"
      ],
      "text/plain": [
       "  DEPARTAMENTO PROVINCIA  prov_dpto\n",
       "0         LIMA      LIMA  89.957753\n",
       "1         LIMA      LIMA  89.957753\n",
       "2         LIMA      LIMA  89.957753\n",
       "3         LIMA      LIMA  89.957753\n",
       "4         LIMA      LIMA  89.957753"
      ]
     },
     "execution_count": 78,
     "metadata": {},
     "output_type": "execute_result"
    }
   ],
   "source": [
    "Resolucion = tabla_cuatro[['DEPARTAMENTO','PROVINCIA','prov_dpto']]\n",
    "Resolucion.head()"
   ]
  },
  {
   "cell_type": "markdown",
   "metadata": {},
   "source": [
    "#### 9. Genera una tabla donde se encuentre el porcentaje de muertos por cada distrito con respecto al departamento que pertenecen (llamen a la columna distr_dpto). Este dataframe debe contener las siguientes columnas: DEPARTAMENTO, PROVINCIA, DISTRITO, distr_prov, prov_dpto y distr_dpto."
   ]
  },
  {
   "cell_type": "code",
   "execution_count": 80,
   "metadata": {},
   "outputs": [
    {
     "data": {
      "text/html": [
       "<div>\n",
       "<style scoped>\n",
       "    .dataframe tbody tr th:only-of-type {\n",
       "        vertical-align: middle;\n",
       "    }\n",
       "\n",
       "    .dataframe tbody tr th {\n",
       "        vertical-align: top;\n",
       "    }\n",
       "\n",
       "    .dataframe thead th {\n",
       "        text-align: right;\n",
       "    }\n",
       "</style>\n",
       "<table border=\"1\" class=\"dataframe\">\n",
       "  <thead>\n",
       "    <tr style=\"text-align: right;\">\n",
       "      <th></th>\n",
       "      <th>DEPARTAMENTO</th>\n",
       "      <th>PROVINCIA</th>\n",
       "      <th>DISTRITO</th>\n",
       "      <th>NUM_PROV</th>\n",
       "      <th>NUM_DIS</th>\n",
       "      <th>distr_prov</th>\n",
       "      <th>NUM_DEP</th>\n",
       "      <th>prov_dpto</th>\n",
       "      <th>distr_dpto</th>\n",
       "    </tr>\n",
       "  </thead>\n",
       "  <tbody>\n",
       "    <tr>\n",
       "      <th>0</th>\n",
       "      <td>LIMA</td>\n",
       "      <td>LIMA</td>\n",
       "      <td>CHORRILLOS</td>\n",
       "      <td>18525.0</td>\n",
       "      <td>634.0</td>\n",
       "      <td>3.422402</td>\n",
       "      <td>20593</td>\n",
       "      <td>89.957753</td>\n",
       "      <td>3.078716</td>\n",
       "    </tr>\n",
       "    <tr>\n",
       "      <th>1</th>\n",
       "      <td>LIMA</td>\n",
       "      <td>LIMA</td>\n",
       "      <td>COMAS</td>\n",
       "      <td>18525.0</td>\n",
       "      <td>1233.0</td>\n",
       "      <td>6.655870</td>\n",
       "      <td>20593</td>\n",
       "      <td>89.957753</td>\n",
       "      <td>5.987471</td>\n",
       "    </tr>\n",
       "    <tr>\n",
       "      <th>2</th>\n",
       "      <td>LIMA</td>\n",
       "      <td>LIMA</td>\n",
       "      <td>COMAS</td>\n",
       "      <td>18525.0</td>\n",
       "      <td>1233.0</td>\n",
       "      <td>6.655870</td>\n",
       "      <td>20593</td>\n",
       "      <td>89.957753</td>\n",
       "      <td>5.987471</td>\n",
       "    </tr>\n",
       "    <tr>\n",
       "      <th>3</th>\n",
       "      <td>LIMA</td>\n",
       "      <td>LIMA</td>\n",
       "      <td>COMAS</td>\n",
       "      <td>18525.0</td>\n",
       "      <td>1233.0</td>\n",
       "      <td>6.655870</td>\n",
       "      <td>20593</td>\n",
       "      <td>89.957753</td>\n",
       "      <td>5.987471</td>\n",
       "    </tr>\n",
       "    <tr>\n",
       "      <th>4</th>\n",
       "      <td>LIMA</td>\n",
       "      <td>LIMA</td>\n",
       "      <td>COMAS</td>\n",
       "      <td>18525.0</td>\n",
       "      <td>1233.0</td>\n",
       "      <td>6.655870</td>\n",
       "      <td>20593</td>\n",
       "      <td>89.957753</td>\n",
       "      <td>5.987471</td>\n",
       "    </tr>\n",
       "  </tbody>\n",
       "</table>\n",
       "</div>"
      ],
      "text/plain": [
       "  DEPARTAMENTO PROVINCIA    DISTRITO  NUM_PROV  NUM_DIS  distr_prov  NUM_DEP  \\\n",
       "0         LIMA      LIMA  CHORRILLOS   18525.0    634.0    3.422402    20593   \n",
       "1         LIMA      LIMA       COMAS   18525.0   1233.0    6.655870    20593   \n",
       "2         LIMA      LIMA       COMAS   18525.0   1233.0    6.655870    20593   \n",
       "3         LIMA      LIMA       COMAS   18525.0   1233.0    6.655870    20593   \n",
       "4         LIMA      LIMA       COMAS   18525.0   1233.0    6.655870    20593   \n",
       "\n",
       "   prov_dpto  distr_dpto  \n",
       "0  89.957753    3.078716  \n",
       "1  89.957753    5.987471  \n",
       "2  89.957753    5.987471  \n",
       "3  89.957753    5.987471  \n",
       "4  89.957753    5.987471  "
      ]
     },
     "execution_count": 80,
     "metadata": {},
     "output_type": "execute_result"
    }
   ],
   "source": [
    "tabla_cuatro['distr_dpto']= 100*tabla_cuatro['NUM_DIS']/tabla_cuatro['NUM_DEP']\n",
    "tabla_cuatro.head()"
   ]
  },
  {
   "cell_type": "code",
   "execution_count": 82,
   "metadata": {},
   "outputs": [
    {
     "data": {
      "text/html": [
       "<div>\n",
       "<style scoped>\n",
       "    .dataframe tbody tr th:only-of-type {\n",
       "        vertical-align: middle;\n",
       "    }\n",
       "\n",
       "    .dataframe tbody tr th {\n",
       "        vertical-align: top;\n",
       "    }\n",
       "\n",
       "    .dataframe thead th {\n",
       "        text-align: right;\n",
       "    }\n",
       "</style>\n",
       "<table border=\"1\" class=\"dataframe\">\n",
       "  <thead>\n",
       "    <tr style=\"text-align: right;\">\n",
       "      <th></th>\n",
       "      <th>DEPARTAMENTO</th>\n",
       "      <th>PROVINCIA</th>\n",
       "      <th>DISTRITO</th>\n",
       "      <th>distr_prov</th>\n",
       "      <th>prov_dpto</th>\n",
       "      <th>distr_dpto</th>\n",
       "    </tr>\n",
       "  </thead>\n",
       "  <tbody>\n",
       "    <tr>\n",
       "      <th>0</th>\n",
       "      <td>LIMA</td>\n",
       "      <td>LIMA</td>\n",
       "      <td>CHORRILLOS</td>\n",
       "      <td>3.422402</td>\n",
       "      <td>89.957753</td>\n",
       "      <td>3.078716</td>\n",
       "    </tr>\n",
       "    <tr>\n",
       "      <th>1</th>\n",
       "      <td>LIMA</td>\n",
       "      <td>LIMA</td>\n",
       "      <td>COMAS</td>\n",
       "      <td>6.655870</td>\n",
       "      <td>89.957753</td>\n",
       "      <td>5.987471</td>\n",
       "    </tr>\n",
       "    <tr>\n",
       "      <th>2</th>\n",
       "      <td>LIMA</td>\n",
       "      <td>LIMA</td>\n",
       "      <td>COMAS</td>\n",
       "      <td>6.655870</td>\n",
       "      <td>89.957753</td>\n",
       "      <td>5.987471</td>\n",
       "    </tr>\n",
       "    <tr>\n",
       "      <th>3</th>\n",
       "      <td>LIMA</td>\n",
       "      <td>LIMA</td>\n",
       "      <td>COMAS</td>\n",
       "      <td>6.655870</td>\n",
       "      <td>89.957753</td>\n",
       "      <td>5.987471</td>\n",
       "    </tr>\n",
       "    <tr>\n",
       "      <th>4</th>\n",
       "      <td>LIMA</td>\n",
       "      <td>LIMA</td>\n",
       "      <td>COMAS</td>\n",
       "      <td>6.655870</td>\n",
       "      <td>89.957753</td>\n",
       "      <td>5.987471</td>\n",
       "    </tr>\n",
       "  </tbody>\n",
       "</table>\n",
       "</div>"
      ],
      "text/plain": [
       "  DEPARTAMENTO PROVINCIA    DISTRITO  distr_prov  prov_dpto  distr_dpto\n",
       "0         LIMA      LIMA  CHORRILLOS    3.422402  89.957753    3.078716\n",
       "1         LIMA      LIMA       COMAS    6.655870  89.957753    5.987471\n",
       "2         LIMA      LIMA       COMAS    6.655870  89.957753    5.987471\n",
       "3         LIMA      LIMA       COMAS    6.655870  89.957753    5.987471\n",
       "4         LIMA      LIMA       COMAS    6.655870  89.957753    5.987471"
      ]
     },
     "execution_count": 82,
     "metadata": {},
     "output_type": "execute_result"
    }
   ],
   "source": [
    "final = tabla_cuatro[['DEPARTAMENTO', 'PROVINCIA', 'DISTRITO', 'distr_prov', 'prov_dpto', 'distr_dpto']]\n",
    "final.head()"
   ]
  },
  {
   "cell_type": "markdown",
   "metadata": {},
   "source": [
    "#### 10. Exportar la data de la pregunta 8 en un csv que se guarde en la carpeta save_data. Los datos nuemricos deben ser redondeados en 2 decimales."
   ]
  },
  {
   "cell_type": "code",
   "execution_count": 86,
   "metadata": {},
   "outputs": [],
   "source": [
    "Resolucion.to_csv('Tareas/pregunta_8.csv', index = False, header=True, sep = ';',decimal = '.',float_format='%.3f')"
   ]
  },
  {
   "cell_type": "code",
   "execution_count": null,
   "metadata": {},
   "outputs": [],
   "source": []
  }
 ],
 "metadata": {
  "kernelspec": {
   "display_name": "Python 3",
   "language": "python",
   "name": "python3"
  },
  "language_info": {
   "codemirror_mode": {
    "name": "ipython",
    "version": 3
   },
   "file_extension": ".py",
   "mimetype": "text/x-python",
   "name": "python",
   "nbconvert_exporter": "python",
   "pygments_lexer": "ipython3",
   "version": "3.8.3"
  }
 },
 "nbformat": 4,
 "nbformat_minor": 4
}
