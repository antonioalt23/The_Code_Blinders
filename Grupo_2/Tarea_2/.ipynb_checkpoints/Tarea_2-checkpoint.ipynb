{
 "cells": [
  {
   "cell_type": "markdown",
   "metadata": {},
   "source": [
    "# PREGUNTAS: INTRODUCCIÓN A PYTHON\n",
    "\n",
    "### 1. Las dos cosas que toda computadora puede hacer son: \n",
    "### Realiza operaciones de cálculo y almacena los resultados. En otras palabras, acepta entradas y procesa información, y , por otro lado, guarda la información y produce salidas. "
   ]
  },
  {
   "cell_type": "code",
   "execution_count": 2,
   "metadata": {},
   "outputs": [
    {
     "name": "stdout",
     "output_type": "stream",
     "text": [
      "ingrese un número entero :5\n",
      "El ID del número ingresado es: 140719505553312\n",
      "El tipo de dato ingresado: <class 'int'>\n",
      "El número ingresado es: 5\n"
     ]
    }
   ],
   "source": [
    "# 4. Escriba un código que pida ingresar un número entero por teclado e imprima:\n",
    "\n",
    "# El identificador\n",
    "# El tipo de datos (entero, decimal,complejo, cadena , etc.)\n",
    "# El valor (el propio dato).\n",
    "\n",
    "entrada=int(input(\"ingrese un número entero :\"))\n",
    "print(\"El ID del número ingresado es:\", id(entrada))\n",
    "print(\"El tipo de dato ingresado:\", type(entrada))\n",
    "print(\"El número ingresado es:\", entrada)\n"
   ]
  },
  {
   "cell_type": "markdown",
   "metadata": {},
   "source": [
    "### 5. Dado la cadena \"tengo una yama que yama se llama y cuando me llama yama me llama\" , escriba un código que convierta la cadena en lista e imprima el número de elementos de la lista."
   ]
  },
  {
   "cell_type": "code",
   "execution_count": 3,
   "metadata": {},
   "outputs": [
    {
     "name": "stdout",
     "output_type": "stream",
     "text": [
      "64\n"
     ]
    }
   ],
   "source": [
    "cadena = \"tengo una yama que yama se llama y cuando me llama yama me llama\"\n",
    "cadena_lista = list(cadena)\n",
    "print(len(cadena_lista))"
   ]
  },
  {
   "cell_type": "markdown",
   "metadata": {},
   "source": [
    "### 6. Escriba un código que busque la letra “e” en los seis primeros caracteres del string “Muerte a Manuel”"
   ]
  },
  {
   "cell_type": "code",
   "execution_count": 30,
   "metadata": {},
   "outputs": [
    {
     "name": "stdout",
     "output_type": "stream",
     "text": [
      "2\n"
     ]
    }
   ],
   "source": [
    "frase = \"Muerte a Manuel\"\n",
    "busca_palabra = frase.find(\"e\",0,5)\n",
    "print(busca_palabra)"
   ]
  },
  {
   "cell_type": "markdown",
   "metadata": {},
   "source": [
    "### 7. Escriba un código que cuente el número de apariciones de la cad1 en cad2 si cad1= \"yama\" y cad2= \"tengo una yama que yama se llama y cuando me llama yama me llama\""
   ]
  },
  {
   "cell_type": "code",
   "execution_count": 1,
   "metadata": {},
   "outputs": [
    {
     "name": "stdout",
     "output_type": "stream",
     "text": [
      "3\n"
     ]
    }
   ],
   "source": [
    "cad2 = \"tengo una yama que yama se llama y cuando me llama yama me llama\"\n",
    "cad1 = \"yama\"\n",
    "\n",
    "busca_palabra = cad2.count(cad1)\n",
    "print(busca_palabra)"
   ]
  }
 ],
 "metadata": {
  "kernelspec": {
   "display_name": "Python 3",
   "language": "python",
   "name": "python3"
  },
  "language_info": {
   "codemirror_mode": {
    "name": "ipython",
    "version": 3
   },
   "file_extension": ".py",
   "mimetype": "text/x-python",
   "name": "python",
   "nbconvert_exporter": "python",
   "pygments_lexer": "ipython3",
   "version": "3.8.3"
  }
 },
 "nbformat": 4,
 "nbformat_minor": 4
}
