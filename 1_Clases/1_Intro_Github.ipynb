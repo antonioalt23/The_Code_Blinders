{
 "cells": [
  {
   "cell_type": "markdown",
   "metadata": {},
   "source": [
    "# The Code Blinders \n",
    "## Introducción a Github - Febrero 3,  2021\n"
   ]
  },
  {
   "cell_type": "markdown",
   "metadata": {},
   "source": [
    "## Antes de empezar esta sesión:\n",
    "1. ¿Tiene una cuenta de GitHub.com? Si no, ir a https://github.com/join y regístrate\n",
    "2. ¿Ha enviado su nombre de usuario de GitHub al organizador the.code.blinders@gmail.com?\n",
    "3. ¿Ha instalado GitHub Desktop? Si no, ir a https://desktop.github.com/ y descárguelo.\n",
    "4. ¿Ha iniciado sesión al menos una vez en GitHub Desktop? Si no abrir GitHub Deskptop e inicie sesión con su cuenta de GitHub.\n",
    "5. ¿Ha sido invitado al repositorio https://github.com/antonioalt23/The_Code_Blinders? Y has aceptado la invitacion? ---> Pendiente"
   ]
  },
  {
   "cell_type": "markdown",
   "metadata": {},
   "source": [
    "## Para qué es útil GIT?\n",
    "<img src=\"../0_Imagenes/final_doc.jpg\" alt=\"drawing\" width=\"300\"/>"
   ]
  },
  {
   "cell_type": "markdown",
   "metadata": {},
   "source": [
    "1. Git resuelve el problema de \"Final.doc\"\n",
    "2. Hay muchas formas de resolver el Final.doc problema.\n",
    "Ustedes podrían llamar sus archivos de la siguiente manera : Fecha_Tesis_Iniciales.doc\n",
    "3. Git puede trackear la Fecha "
   ]
  },
  {
   "cell_type": "code",
   "execution_count": null,
   "metadata": {},
   "outputs": [],
   "source": []
  }
 ],
 "metadata": {
  "kernelspec": {
   "display_name": "Python 3",
   "language": "python",
   "name": "python3"
  },
  "language_info": {
   "codemirror_mode": {
    "name": "ipython",
    "version": 3
   },
   "file_extension": ".py",
   "mimetype": "text/x-python",
   "name": "python",
   "nbconvert_exporter": "python",
   "pygments_lexer": "ipython3",
   "version": "3.7.4"
  }
 },
 "nbformat": 4,
 "nbformat_minor": 2
}
