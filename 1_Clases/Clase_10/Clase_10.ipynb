{
 "cells": [
  {
   "cell_type": "code",
   "execution_count": 2,
   "metadata": {
    "hide_input": true,
    "slideshow": {
     "slide_type": "skip"
    }
   },
   "outputs": [],
   "source": [
    "# ESte paquete se utiliza para traer imágenes.\n",
    "from IPython.display import display, Image"
   ]
  },
  {
   "cell_type": "markdown",
   "metadata": {
    "slideshow": {
     "slide_type": "slide"
    }
   },
   "source": [
    "**<font size=\"12\">\n",
    "Funciones\n",
    "</font>**\n",
    "\n",
    "\n",
    "Vamos a cubrir ciertas funciones necesarias para poder escribir las nuestras. <br>\n",
    "1. Aprenderemos a utilizar la función **if**.\n",
    "2. Veremos los tipos de **Loops** en Python.\n",
    "3. Estructura de una **función**.\n",
    "4. Construiremos un **proyecto** utilizando todo lo aprendido.\n"
   ]
  },
  {
   "cell_type": "markdown",
   "metadata": {
    "slideshow": {
     "slide_type": "subslide"
    }
   },
   "source": [
    "# Condiciones If\n",
    "\n",
    "En python, la funcion **if** es útil para probar declaraciones condicionales. \n",
    "* Igual: a == b\n",
    "* Diferente: a != b\n",
    "* Menor Igual que: a <= b\n",
    "* Menor que: a < b\n",
    "* Mayor que: a > b\n",
    "* Mayor igual que: a >= b"
   ]
  },
  {
   "cell_type": "markdown",
   "metadata": {
    "slideshow": {
     "slide_type": "slide"
    }
   },
   "source": [
    "<div id=\"container\">\n",
    "    <img src = \"../../0_Imagenes/if_condition.png\" >\n",
    "</div>\n",
    "\n",
    "\n"
   ]
  },
  {
   "cell_type": "markdown",
   "metadata": {
    "slideshow": {
     "slide_type": "slide"
    }
   },
   "source": [
    "Entonces la estructura al escribir el código es la siguiente: <br><br>\n",
    "\n",
    "<font size=\"4\">\n",
    "if <font color='green'>expresión lógica</font>:<br>\n",
    "&nbsp;&nbsp;&nbsp;&nbsp;código<br>\n",
    "</font>\n",
    "\n",
    "La función **if** prueba la veracidad de una expresión lógica; por lo tanto, el resultado de esta debe ser del tipo **<font color='red'>boolean</font>**, es decir, debe darnos **<font color='red'>True</font>** o **<font color='red'>False</font>**. En conclusión, cualquier función que como resultado da un objeto tipo **boolean** se puede utilizar en la función **if**."
   ]
  },
  {
   "cell_type": "markdown",
   "metadata": {
    "slideshow": {
     "slide_type": "slide"
    }
   },
   "source": [
    "## Ejemplos "
   ]
  },
  {
   "cell_type": "code",
   "execution_count": 43,
   "metadata": {
    "hide_input": true,
    "slideshow": {
     "slide_type": "fragment"
    }
   },
   "outputs": [],
   "source": [
    "A = 20\n",
    "B = 30"
   ]
  },
  {
   "cell_type": "code",
   "execution_count": 44,
   "metadata": {
    "hide_input": true,
    "scrolled": true,
    "slideshow": {
     "slide_type": "fragment"
    }
   },
   "outputs": [
    {
     "data": {
      "text/plain": [
       "False"
      ]
     },
     "metadata": {},
     "output_type": "display_data"
    },
    {
     "data": {
      "text/plain": [
       "bool"
      ]
     },
     "metadata": {},
     "output_type": "display_data"
    }
   ],
   "source": [
    "# Comprobamos las expresiones lógicas\n",
    "display( A > B )\n",
    "\n",
    "# El resultado es del tipo bool que significa boolean\n",
    "display( type( A > B ) )"
   ]
  },
  {
   "cell_type": "markdown",
   "metadata": {
    "slideshow": {
     "slide_type": "slide"
    }
   },
   "source": [
    "## Ejemplos "
   ]
  },
  {
   "cell_type": "code",
   "execution_count": 45,
   "metadata": {
    "scrolled": true,
    "slideshow": {
     "slide_type": "fragment"
    }
   },
   "outputs": [
    {
     "name": "stdout",
     "output_type": "stream",
     "text": [
      "¿A es igual a B? \tFalse\n"
     ]
    }
   ],
   "source": [
    "# A = 20\n",
    "# B = 30\n",
    "\n",
    "result = A == B\n",
    "print( f'¿A es igual a B? \\t{result}')"
   ]
  },
  {
   "cell_type": "markdown",
   "metadata": {
    "slideshow": {
     "slide_type": "fragment"
    }
   },
   "source": [
    "1. La f delante del string indica que se pueden llamar las variables dentro del string a través de llaves.\n",
    "2.  **\\n** significa un salto de línea o presionar ENTER.\n",
    "3.  **\\t** es equivalente a presionar cuatro veces la barra espaciadora. Más información [aquí](https://www.quora.com/What-is-the-meaning-of-n-and-t-in-C-language#:~:text=%5Cn%20refers%20to%20%22new%20line,formatting%20output%20of%20the%20program.)."
   ]
  },
  {
   "cell_type": "code",
   "execution_count": 46,
   "metadata": {
    "slideshow": {
     "slide_type": "fragment"
    }
   },
   "outputs": [],
   "source": [
    "if A == B:\n",
    "    print( 'A es igual a B' )"
   ]
  },
  {
   "cell_type": "markdown",
   "metadata": {
    "slideshow": {
     "slide_type": "fragment"
    }
   },
   "source": [
    "La función trabaja de la siguiente manera. Evalúa la expresión lógica, si esta es verdadera el código indentado es ejecutado; en caso contrario, se obvia el código y avanza."
   ]
  },
  {
   "cell_type": "code",
   "execution_count": 39,
   "metadata": {
    "slideshow": {
     "slide_type": "slide"
    }
   },
   "outputs": [
    {
     "name": "stdout",
     "output_type": "stream",
     "text": [
      "¿A es diferente de B? \n",
      " True\n"
     ]
    }
   ],
   "source": [
    "# A = 20\n",
    "# B = 30\n",
    "\n",
    "result = A != B\n",
    "print(f'¿A es diferente de B? \\n {result}' )"
   ]
  },
  {
   "cell_type": "code",
   "execution_count": 11,
   "metadata": {
    "slideshow": {
     "slide_type": "fragment"
    }
   },
   "outputs": [
    {
     "name": "stdout",
     "output_type": "stream",
     "text": [
      "A es diferente a B\n"
     ]
    }
   ],
   "source": [
    "# A = 20\n",
    "# B = 30\n",
    "\n",
    "if A != B:\n",
    "    print( 'A es diferente a B' )"
   ]
  },
  {
   "cell_type": "markdown",
   "metadata": {
    "slideshow": {
     "slide_type": "fragment"
    }
   },
   "source": [
    "En esta línea de código podemos ver que dado que la expresión lógica que hemos puesto a prueba con **if** es verdadera, el código es ejecutado. El string es impreso en la pantalla."
   ]
  },
  {
   "cell_type": "code",
   "execution_count": 15,
   "metadata": {
    "scrolled": true,
    "slideshow": {
     "slide_type": "slide"
    }
   },
   "outputs": [
    {
     "name": "stdout",
     "output_type": "stream",
     "text": [
      "¿A es mayor que B? \n",
      " False\n"
     ]
    }
   ],
   "source": [
    "# A = 20\n",
    "# B = 30\n",
    "\n",
    "result = A > B\n",
    "print(f'¿A es mayor que B? \\n {result}')"
   ]
  },
  {
   "cell_type": "code",
   "execution_count": 40,
   "metadata": {
    "slideshow": {
     "slide_type": "fragment"
    }
   },
   "outputs": [],
   "source": [
    "if A > B:\n",
    "    print( 'A es mayor que B' )"
   ]
  },
  {
   "cell_type": "code",
   "execution_count": 16,
   "metadata": {
    "slideshow": {
     "slide_type": "slide"
    }
   },
   "outputs": [
    {
     "name": "stdout",
     "output_type": "stream",
     "text": [
      "¿A es mayor igual que B? \n",
      " False\n"
     ]
    }
   ],
   "source": [
    "# A = 20\n",
    "# B = 30\n",
    "\n",
    "result = A >= B\n",
    "print( f'¿A es mayor igual que B? \\n {result}')"
   ]
  },
  {
   "cell_type": "code",
   "execution_count": 18,
   "metadata": {
    "slideshow": {
     "slide_type": "fragment"
    }
   },
   "outputs": [],
   "source": [
    "# A = 20\n",
    "# B = 30\n",
    "\n",
    "if A >= B:\n",
    "    print( 'A es mayor igual que B' )"
   ]
  },
  {
   "cell_type": "code",
   "execution_count": 17,
   "metadata": {
    "slideshow": {
     "slide_type": "slide"
    }
   },
   "outputs": [
    {
     "name": "stdout",
     "output_type": "stream",
     "text": [
      "¿A es menor que B? True\n"
     ]
    }
   ],
   "source": [
    "# A = 20\n",
    "# B = 30\n",
    "\n",
    "result = A < B\n",
    "print( f'¿A es menor que B?  \\n {result}')"
   ]
  },
  {
   "cell_type": "code",
   "execution_count": 18,
   "metadata": {
    "slideshow": {
     "slide_type": "fragment"
    }
   },
   "outputs": [
    {
     "name": "stdout",
     "output_type": "stream",
     "text": [
      "A es menor que B\n"
     ]
    }
   ],
   "source": [
    "if A < B:\n",
    "    print( 'A es menor que B' )"
   ]
  },
  {
   "cell_type": "code",
   "execution_count": 19,
   "metadata": {
    "slideshow": {
     "slide_type": "slide"
    }
   },
   "outputs": [
    {
     "name": "stdout",
     "output_type": "stream",
     "text": [
      "¿A es menor igual que B? True\n"
     ]
    }
   ],
   "source": [
    "# A = 20\n",
    "# B = 30\n",
    "\n",
    "result = A <= B\n",
    "print( f'¿A es menor igual que B?  \\n {result}' )"
   ]
  },
  {
   "cell_type": "code",
   "execution_count": 20,
   "metadata": {
    "slideshow": {
     "slide_type": "fragment"
    }
   },
   "outputs": [
    {
     "name": "stdout",
     "output_type": "stream",
     "text": [
      "A es menor igual que B\n"
     ]
    }
   ],
   "source": [
    "if A <= B:\n",
    "    print( 'A es menor igual que B' )"
   ]
  },
  {
   "cell_type": "markdown",
   "metadata": {
    "slideshow": {
     "slide_type": "slide"
    }
   },
   "source": [
    "## ¿Qué pasa si queremos evaluar más de una expresión lógica?"
   ]
  },
  {
   "cell_type": "markdown",
   "metadata": {
    "slideshow": {
     "slide_type": "slide"
    }
   },
   "source": [
    "En tal caso, utilizaremos **elif**. Esta función permite añadir expresiones lógicas a evaluar.  <br><br>\n",
    "\n",
    "<font size=\"4\">\n",
    "if <font color='green'>condción1</font>: <br>\n",
    "&nbsp;&nbsp;&nbsp;&nbsp;código1<br><br>\n",
    "elif <font color='green'>condición2</font>:<br>\n",
    "&nbsp;&nbsp;&nbsp;&nbsp;código2<br><br>\n",
    "elif <font color='green'>condición3</font>:<br>\n",
    "&nbsp;&nbsp;&nbsp;&nbsp;código3<br><br>\n",
    "elif <font color='green'>condición4</font>:<br>\n",
    "&nbsp;&nbsp;&nbsp;&nbsp;código4<br><br>\n",
    "elif <font color='green'>condición5</font>:<br>\n",
    "&nbsp;&nbsp;&nbsp;&nbsp;código5<br><br>\n",
    "</font>\n",
    "\n",
    "El programa leerá las condiciones en orden. Por lo tanto, si **la condición 2** es verdadera no se evaluará ninguna de las siguientes condiciones. Python ejecutará el **código2** y obviará el resto de código."
   ]
  },
  {
   "cell_type": "code",
   "execution_count": 33,
   "metadata": {
    "slideshow": {
     "slide_type": "slide"
    }
   },
   "outputs": [
    {
     "name": "stdout",
     "output_type": "stream",
     "text": [
      "A es diferente que B\n"
     ]
    }
   ],
   "source": [
    "# A = 20\n",
    "# B = 30\n",
    "\n",
    "if A != B:\n",
    "    print( 'A es diferente que B' )\n",
    "\n",
    "elif A > B:\n",
    "    print( 'A es mayor que B' )\n",
    "\n",
    "elif A < B:\n",
    "    print( 'A es menor que B' )"
   ]
  },
  {
   "cell_type": "markdown",
   "metadata": {
    "slideshow": {
     "slide_type": "fragment"
    }
   },
   "source": [
    "Se ejecutó la primera condición, porque esta era verdadera. Se obvió el resto de código y no se ejecutó a pesar que **la condición3** también era verdadera."
   ]
  },
  {
   "cell_type": "code",
   "execution_count": 22,
   "metadata": {
    "slideshow": {
     "slide_type": "slide"
    }
   },
   "outputs": [
    {
     "name": "stdout",
     "output_type": "stream",
     "text": [
      "A es diferente que B\n"
     ]
    }
   ],
   "source": [
    "# A = 20\n",
    "# B = 30\n",
    "\n",
    "if A == B:\n",
    "    print( 'A es igual a B' )\n",
    "    \n",
    "elif A != B:\n",
    "    print( 'A es diferente de B' )\n",
    "    \n",
    "elif A < B:\n",
    "    print( 'A es menor que B' )"
   ]
  },
  {
   "cell_type": "markdown",
   "metadata": {
    "slideshow": {
     "slide_type": "fragment"
    }
   },
   "source": [
    "Se ejecutó el codigo2 a pesar que **la condición3**  era verdadera."
   ]
  },
  {
   "cell_type": "code",
   "execution_count": 23,
   "metadata": {
    "slideshow": {
     "slide_type": "slide"
    }
   },
   "outputs": [
    {
     "name": "stdout",
     "output_type": "stream",
     "text": [
      "A es menor que B\n"
     ]
    }
   ],
   "source": [
    "# A = 20\n",
    "# B = 30\n",
    "\n",
    "if A == B:\n",
    "    print( 'A es igual a B' )\n",
    "\n",
    "elif A > B:\n",
    "    print( 'A es mayor que B' )\n",
    "\n",
    "elif A < B:\n",
    "    print( 'A es menor que B' )"
   ]
  },
  {
   "cell_type": "markdown",
   "metadata": {
    "slideshow": {
     "slide_type": "fragment"
    }
   },
   "source": [
    "Se ejecutó el **codigo3**, porque todas las demás eran falsas."
   ]
  },
  {
   "cell_type": "markdown",
   "metadata": {
    "slideshow": {
     "slide_type": "slide"
    }
   },
   "source": [
    "## ¿Qué pasa si quiero que se ejcute un código en el caso que ninguna de las condiciones sean verdaderas?"
   ]
  },
  {
   "cell_type": "markdown",
   "metadata": {
    "slideshow": {
     "slide_type": "slide"
    }
   },
   "source": [
    "Ahora, si nosotros queremos que se ejecute cierto código en caso todas nuestras condiciones sean falsas, utilizamos la función **else**. Cuando las condiciones escritas al costado del **if** y **elif** no se cumplen, el código que se ejecutará será el que está debajo de **else**.\n",
    "<br>\n",
    "Leamos el código:\n",
    "<br><br>\n",
    "\n",
    "<font size=\"4\">\n",
    "if <font color='green'>condición1</font>: <br>\n",
    "&nbsp;&nbsp;&nbsp;&nbsp;&nbsp;&nbsp;código1<br><br>\n",
    "elif <font color='green'>condición2</font>:<br>\n",
    "&nbsp;&nbsp;&nbsp;&nbsp;&nbsp;&nbsp;código2<br><br>\n",
    "elif <font color='green'>condición3</font>:<br>\n",
    "&nbsp;&nbsp;&nbsp;&nbsp;&nbsp;&nbsp;código3<br><br>\n",
    "elif <font color='green'>condición4</font>:<br>\n",
    "&nbsp;&nbsp;&nbsp;&nbsp;&nbsp;&nbsp;código4<br><br>\n",
    "else:<br>\n",
    "&nbsp;&nbsp;&nbsp;&nbsp;&nbsp;&nbsp;código5<br>\n",
    "<br>\n",
    "</font>\n",
    "\n",
    "Cuándo ninguna de las condiciones 1, 2, 3 y 4 son verdaderas, se ejecuta el código5."
   ]
  },
  {
   "cell_type": "code",
   "execution_count": 24,
   "metadata": {
    "slideshow": {
     "slide_type": "slide"
    }
   },
   "outputs": [
    {
     "name": "stdout",
     "output_type": "stream",
     "text": [
      "Cuando ninguna condición es verdadera, se imprime esta frase.\n"
     ]
    }
   ],
   "source": [
    "# A = 20\n",
    "# B = 30\n",
    "\n",
    "if A > B:\n",
    "    print( 'A es igual B' )\n",
    "    \n",
    "elif A >= B:\n",
    "    print( 'A es mayor igual que B' )\n",
    "    \n",
    "else:\n",
    "    print( 'Cuando ninguna condición es verdadera, se imprime esta frase.' )"
   ]
  },
  {
   "cell_type": "code",
   "execution_count": 25,
   "metadata": {
    "slideshow": {
     "slide_type": "slide"
    }
   },
   "outputs": [
    {
     "name": "stdout",
     "output_type": "stream",
     "text": [
      "A es menor que B. La condición1 era verdadera.\n"
     ]
    }
   ],
   "source": [
    "# A = 20\n",
    "# B = 30\n",
    "\n",
    "if A < B:\n",
    "    print( 'A es menor que B. La condición1 era verdadera.' )\n",
    "    \n",
    "elif A <= B:\n",
    "    print( 'A es menor que B. La condición2 era verdadera.' )\n",
    "    \n",
    "elif A >= B:\n",
    "    print( 'A es mayor que B. La condición3 era verdadera.' )\n",
    "    \n",
    "else:\n",
    "    print( 'Cuando ninguna condición es verdadera, se imprime esta frase.' )"
   ]
  },
  {
   "cell_type": "code",
   "execution_count": 19,
   "metadata": {
    "scrolled": true,
    "slideshow": {
     "slide_type": "slide"
    }
   },
   "outputs": [
    {
     "name": "stdout",
     "output_type": "stream",
     "text": [
      "A es menor que B. La condición 4 era verdadera.\n"
     ]
    }
   ],
   "source": [
    "# A = 20\n",
    "# B = 30\n",
    "\n",
    "if A == B:\n",
    "    print( 'A es igual que B. La condición 1 era verdadera.' )\n",
    "    \n",
    "elif A > B:\n",
    "    print( 'A es mayor que B. La condición 2 era verdadera.' )\n",
    "\n",
    "elif A >= B:\n",
    "    print( 'A es mayor igual que B. La condición 3 era verdadera.' )\n",
    "    \n",
    "elif A < B:\n",
    "    print( 'A es menor que B. La condición 4 era verdadera.' )\n",
    "    \n",
    "elif A <= B:\n",
    "    print( 'A es menor igual que B. La condición 5 era verdadera.' )\n",
    "    \n",
    "else:\n",
    "    print( 'Cuando ninguna condición es verdadera, se imprime esta frase.' )"
   ]
  },
  {
   "cell_type": "markdown",
   "metadata": {
    "slideshow": {
     "slide_type": "slide"
    }
   },
   "source": [
    "# Operaciones Lógicas"
   ]
  },
  {
   "cell_type": "markdown",
   "metadata": {
    "slideshow": {
     "slide_type": "fragment"
    }
   },
   "source": [
    "Hay 3 operaciones lógicas que cubriremos **<font color = 'red' >and</font>**, **<font color = 'red' > or</font>**, and **<font color = 'red' > not</font>**."
   ]
  },
  {
   "cell_type": "code",
   "execution_count": 25,
   "metadata": {
    "slideshow": {
     "slide_type": "slide"
    }
   },
   "outputs": [
    {
     "name": "stdout",
     "output_type": "stream",
     "text": [
      "B es mayor que C y mayor que A. La condición 3 era verdadera.\n"
     ]
    }
   ],
   "source": [
    "A = 20\n",
    "B = 30\n",
    "C = 25\n",
    "\n",
    "if A == B and A < C:\n",
    "    print( 'A es igual que B y menor que C. La condición 1 era verdadera.' )\n",
    "    \n",
    "elif A > B or A > C:\n",
    "    print( 'A es mayor que B o mayor que C. La condición 2 era verdadera.' )\n",
    "\n",
    "elif B > C and B > A :\n",
    "    print( 'B es mayor que C y mayor que A. La condición 3 era verdadera.' )\n",
    "    \n",
    "else:\n",
    "    print( 'Cuando ninguna condición es verdadera, se imprime esta frase.' )\n"
   ]
  },
  {
   "cell_type": "code",
   "execution_count": 41,
   "metadata": {
    "slideshow": {
     "slide_type": "slide"
    }
   },
   "outputs": [
    {
     "name": "stdout",
     "output_type": "stream",
     "text": [
      "A no es igual a 27. La condición 1 era verdadera.\n"
     ]
    }
   ],
   "source": [
    "# A = 20\n",
    "# B = 30\n",
    "# C = 25\n",
    "\n",
    "if not ( A  > 27 )  :\n",
    "    print( 'A no es igual a 27. La condición 1 era verdadera.' )\n",
    "        \n",
    "else:\n",
    "    print( 'Cuando ninguna condición es verdadera, se imprime esta frase.' )\n"
   ]
  },
  {
   "cell_type": "code",
   "execution_count": 27,
   "metadata": {
    "slideshow": {
     "slide_type": "slide"
    }
   },
   "outputs": [
    {
     "name": "stdout",
     "output_type": "stream",
     "text": [
      "A no es 30. La condición 1 era verdadera.\n"
     ]
    }
   ],
   "source": [
    "# A = 20\n",
    "# B = 30\n",
    "# C = 25\n",
    "\n",
    "if not ( A  == 27 )  :\n",
    "    print( 'A no es igual a 27. La condición 1 era verdadera.' )\n",
    "\n",
    "elif \n",
    "\n",
    "else:\n",
    "    print( 'Cuando ninguna condición es verdadera, se imprime esta frase.' )\n"
   ]
  },
  {
   "cell_type": "markdown",
   "metadata": {
    "slideshow": {
     "slide_type": "slide"
    }
   },
   "source": [
    "# Operaciones de Identidad"
   ]
  },
  {
   "cell_type": "markdown",
   "metadata": {
    "slideshow": {
     "slide_type": "fragment"
    }
   },
   "source": [
    "Estos operadores son los siguientes **<font color = 'red' >is</font>**, and **<font color = 'red' > is not</font>**."
   ]
  },
  {
   "cell_type": "code",
   "execution_count": 29,
   "metadata": {
    "slideshow": {
     "slide_type": "fragment"
    }
   },
   "outputs": [],
   "source": [
    "C = None\n",
    "C"
   ]
  },
  {
   "cell_type": "markdown",
   "metadata": {
    "slideshow": {
     "slide_type": "fragment"
    }
   },
   "source": [
    "Se puede evaluar si una variable está <span style=\"color:red\">*vacía* </span>."
   ]
  },
  {
   "cell_type": "code",
   "execution_count": 30,
   "metadata": {
    "scrolled": true,
    "slideshow": {
     "slide_type": "slide"
    }
   },
   "outputs": [
    {
     "name": "stdout",
     "output_type": "stream",
     "text": [
      "Ohh No C está vacía :(\n"
     ]
    }
   ],
   "source": [
    "if C is None:\n",
    "    print( 'Ohh No C está vacía :(')"
   ]
  },
  {
   "cell_type": "code",
   "execution_count": 32,
   "metadata": {
    "slideshow": {
     "slide_type": "fragment"
    }
   },
   "outputs": [
    {
     "name": "stdout",
     "output_type": "stream",
     "text": [
      "C no es del tipo float\n"
     ]
    }
   ],
   "source": [
    "if C is not float:\n",
    "    print( 'C no es del tipo float')"
   ]
  },
  {
   "cell_type": "markdown",
   "metadata": {
    "slideshow": {
     "slide_type": "slide"
    }
   },
   "source": [
    "# Toda función de resultado boolean"
   ]
  },
  {
   "cell_type": "markdown",
   "metadata": {
    "slideshow": {
     "slide_type": "fragment"
    }
   },
   "source": [
    "La función **if** no solo es útil con expresiones lógicas, sino también con funciones cuyo resultado sea un booleano (True or False). <br>\n",
    "Por ejemplo, la función **isinstance** evalúa si una variable es string, bool, int, float y como resultado da un booleano (True or False). Para más infomación [aquí](https://docs.python.org/3/library/functions.html#isinstance). <br>"
   ]
  },
  {
   "cell_type": "code",
   "execution_count": 27,
   "metadata": {
    "slideshow": {
     "slide_type": "fragment"
    }
   },
   "outputs": [
    {
     "data": {
      "text/plain": [
       "False"
      ]
     },
     "execution_count": 27,
     "metadata": {},
     "output_type": "execute_result"
    }
   ],
   "source": [
    "# EL resultado de isinstance es un booleano. Entonces puede ser utilizado como condición en la función if.\n",
    "isinstance( A, str )"
   ]
  },
  {
   "cell_type": "code",
   "execution_count": 28,
   "metadata": {
    "slideshow": {
     "slide_type": "slide"
    }
   },
   "outputs": [
    {
     "name": "stdout",
     "output_type": "stream",
     "text": [
      "A es un integer\n"
     ]
    }
   ],
   "source": [
    "A = 20\n",
    "# A = np.array([3, 4, 5])\n",
    "\n",
    "if isinstance( A, str ):\n",
    "    print( 'A es un string' )\n",
    "\n",
    "elif isinstance( A, bool ):\n",
    "    print( 'A es un boolean' )\n",
    "\n",
    "elif isinstance( A, float ):\n",
    "    print( 'A es un float' )\n",
    "\n",
    "elif isinstance( A, int ):\n",
    "    print( 'A es un integer' )\n",
    "\n",
    "elif isinstance( A, complex ):\n",
    "    print( 'A es un integer' )\n",
    "\n",
    "else:\n",
    "    print( 'A es otro tipo de variable')"
   ]
  },
  {
   "cell_type": "markdown",
   "metadata": {
    "slideshow": {
     "slide_type": "slide"
    }
   },
   "source": [
    "# Formato de los IF condition"
   ]
  },
  {
   "cell_type": "markdown",
   "metadata": {
    "slideshow": {
     "slide_type": "slide"
    }
   },
   "source": [
    "La forma estricta de correr los if condition es de la siguiente manera: <br>\n",
    "\n",
    "<font size=\"4\">\n",
    "\n",
    "\n",
    "if <font color='green'>condción1</font>: <font color='red'>(Obligatorio)</font><br>\n",
    "&nbsp;&nbsp;&nbsp;&nbsp;&nbsp;&nbsp;código1<br><br>\n",
    "elif <font color='green'>condción2</font>: **(Opcional)**<br>\n",
    "&nbsp;&nbsp;&nbsp;&nbsp;&nbsp;&nbsp;código2<br><br>\n",
    "elif <font color='green'>condción3</font>: **(Opcional)**<br>\n",
    "&nbsp;&nbsp;&nbsp;&nbsp;&nbsp;&nbsp;código3<br><br>\n",
    "elif <font color='green'>condción4</font>: **(Opcional)**<br>\n",
    "&nbsp;&nbsp;&nbsp;&nbsp;&nbsp;&nbsp;código4<br><br>\n",
    "else: <font color='red'>(Obligatorio)</font><br>\n",
    "&nbsp;&nbsp;&nbsp;&nbsp;&nbsp;&nbsp;código5<br>\n",
    "<br>\n",
    "</font>\n"
   ]
  },
  {
   "cell_type": "markdown",
   "metadata": {},
   "source": [
    "# Loops\n",
    "Estudiaremos los 2 tipos de loops en python. Un loop es una función que permite realizar tareas de manera iterativa cierto número de veces (for loop) o mientras una condición sea verdadera (while loop).\n",
    "\n",
    "## While Loop\n",
    "While loop es utilizado para repetir código mientras la condición se mantenga verdadera. Cuando la expresión lógica sea falsa, el código terminará de ejecutarse. [More Info](https://python101.pythonlibrary.org/chapter5_loops.html)\n",
    "<img src=\"../../0_Imagenes\\while_loop.jpg\">"
   ]
  },
  {
   "cell_type": "markdown",
   "metadata": {},
   "source": [
    "Veamos la estructura: <br>\n",
    "\n",
    "while condition: <br>\n",
    "&nbsp;&nbsp;&nbsp;&nbsp;&nbsp;&nbsp;código 1<br><br>\n",
    "&nbsp;&nbsp;&nbsp;&nbsp;&nbsp;&nbsp;código break.<br><br>\n",
    "\n",
    "El códgio break es una expresión que permita que la condición lógica sea falsa en algún momento, porque si no, el código seguira ejecutandose infinitamente."
   ]
  },
  {
   "cell_type": "code",
   "execution_count": 38,
   "metadata": {
    "scrolled": true
   },
   "outputs": [
    {
     "name": "stdout",
     "output_type": "stream",
     "text": [
      "1\n",
      "2\n",
      "3\n",
      "4\n",
      "5\n"
     ]
    }
   ],
   "source": [
    "i = 1\n",
    "\n",
    "# La condición es  \"i < 6\"\n",
    "while i < 6:\n",
    "    \n",
    "    # El código imprime i\n",
    "    print(i)\n",
    "    \n",
    "    #código break, cuando i sea igual a 6 se terminará el código.\n",
    "    i += 1 \n",
    "    # equivalente a i = i + 1"
   ]
  },
  {
   "cell_type": "markdown",
   "metadata": {},
   "source": [
    "### Ejercicios\n",
    "1. Imprimir 2 elevado tantas veces sea posible, pero que el resultado sea menor 10,000."
   ]
  },
  {
   "cell_type": "code",
   "execution_count": 1,
   "metadata": {},
   "outputs": [
    {
     "name": "stdout",
     "output_type": "stream",
     "text": [
      "2\n",
      "4\n",
      "8\n",
      "16\n",
      "32\n",
      "64\n",
      "128\n",
      "256\n",
      "512\n",
      "1024\n",
      "2048\n",
      "4096\n",
      "8192\n"
     ]
    }
   ],
   "source": [
    "x = 2\n",
    "while x < 10000:\n",
    "    # Código\n",
    "    print(x)\n",
    "    \n",
    "    #Código break\n",
    "    x = 2*x\n",
    "    # X está multiplicando consigo mismo hasta que sea menor que 10 000\n",
    "    "
   ]
  },
  {
   "cell_type": "markdown",
   "metadata": {},
   "source": [
    "2. Un profesor tiene 100 manzanas para toda su clase. Si el primer estudiante tomó 4 manzanas y el siguiente siempre toma más manzanas que el anterior, ¿Cuántos niños tuvieron manzanas?"
   ]
  },
  {
   "cell_type": "code",
   "execution_count": 43,
   "metadata": {
    "scrolled": true
   },
   "outputs": [
    {
     "name": "stdout",
     "output_type": "stream",
     "text": [
      "El niño número 2 tomó 5 manzanas\n",
      "El niño número 3 tomó 6 manzanas\n",
      "El niño número 4 tomó 7 manzanas\n",
      "El niño número 5 tomó 8 manzanas\n",
      "El niño número 6 tomó 9 manzanas\n",
      "El niño número 7 tomó 10 manzanas\n",
      "El niño número 8 tomó 11 manzanas\n",
      "El niño número 9 tomó 12 manzanas\n",
      "El niño número 10 tomó 13 manzanas\n",
      "El niño número 11 tomó 14 manzanas\n",
      "El niño número 12 tomó 15 manzanas\n",
      "12 niños tomaron manzanas\n"
     ]
    }
   ],
   "source": [
    "manzanas = 100\n",
    "primero = 4\n",
    "i = 1\n",
    "while manzanas > primero:\n",
    "    \n",
    "    # Código\n",
    "    manzanas = manzanas - primero\n",
    "    primero += 1\n",
    "    \n",
    "    # Código break\n",
    "    i += 1\n",
    "    # Para que sirve la función format \n",
    "    print('El niño número {} tomó {} manzanas'.format( i, primero ))\n",
    "\n",
    "print('{} niños tomaron manzanas'.format( i ))"
   ]
  },
  {
   "cell_type": "markdown",
   "metadata": {},
   "source": [
    "3. Imprimir todos los elementos de un array."
   ]
  },
  {
   "cell_type": "code",
   "execution_count": 45,
   "metadata": {},
   "outputs": [
    {
     "name": "stdout",
     "output_type": "stream",
     "text": [
      "3\n",
      "6\n",
      "7\n",
      "10\n",
      "15\n",
      "17\n",
      "18\n",
      "31\n",
      "26\n",
      "88\n",
      "100\n",
      "120\n",
      "110\n"
     ]
    }
   ],
   "source": [
    "# Utilizaremos el paquete np.\n",
    "import numpy as np\n",
    "\n",
    "edad = np.array([ 3, 6, 7, 10, 15, 17, 18, 31, 26, 88 , 100, 120, 110])\n",
    "i = 0\n",
    "\n",
    "while i < edad.size:\n",
    "    \n",
    "    print(edad[i])\n",
    "    i += 1"
   ]
  },
  {
   "cell_type": "markdown",
   "metadata": {},
   "source": [
    "4. Si tengo mi ahorro el día de hoy de S/.1 000.00. ¿Cuánto será el valor de mi ahorro dentro de 10 años a una tasa de interés de 2.5%?"
   ]
  },
  {
   "cell_type": "markdown",
   "metadata": {},
   "source": [
    "$$\n",
    "S_{y+1}\t=S_{y}(1+i)\n",
    "$$"
   ]
  },
  {
   "cell_type": "code",
   "execution_count": 46,
   "metadata": {},
   "outputs": [],
   "source": [
    "# Ahorro\n",
    "S = 1000\n",
    "\n",
    "# Periodos\n",
    "n = 10\n",
    "\n",
    "# Tasa de interés\n",
    "i = 0.025"
   ]
  },
  {
   "cell_type": "code",
   "execution_count": 47,
   "metadata": {
    "scrolled": false
   },
   "outputs": [
    {
     "name": "stdout",
     "output_type": "stream",
     "text": [
      "1 1025.0\n",
      "2 1050.625\n",
      "3 1076.890625\n",
      "4 1103.812890625\n",
      "5 1131.408212890625\n",
      "6 1159.6934182128907\n",
      "7 1188.685753668213\n",
      "8 1218.4028975099184\n",
      "9 1248.8629699476664\n",
      "10 1280.0845441963581\n"
     ]
    }
   ],
   "source": [
    "year = 1\n",
    "while year < n:\n",
    "    S +=  S * i\n",
    "    year += 1\n",
    "    print( year, S)"
   ]
  },
  {
   "cell_type": "code",
   "execution_count": 27,
   "metadata": {},
   "outputs": [
    {
     "name": "stdout",
     "output_type": "stream",
     "text": [
      "Dia de cuarentena n° 1.\n",
      "La señorita mira the peaky blinders y Love alarm\n",
      "Se acabo el dia numero 1 de cuarentena. \n",
      "\n",
      "Dia de cuarentena n° 2.\n",
      "La señorita mira the peaky blinders y Love alarm\n",
      "Se acabo el dia numero 2 de cuarentena. \n",
      "\n",
      "Dia de cuarentena n° 3.\n",
      "La señorita mira the peaky blinders y Love alarm\n",
      "Se acabo el dia numero 3 de cuarentena. \n",
      "\n",
      "Dia de cuarentena n° 4.\n",
      "La señorita mira the peaky blinders y Love alarm\n",
      "Se acabo el dia numero 4 de cuarentena. \n",
      "\n",
      "Dia de cuarentena n° 5.\n",
      "La señorita mira the peaky blinders y Love alarm\n",
      "Se acabo el dia numero 5 de cuarentena. \n",
      "\n",
      "Dia de cuarentena n° 6.\n",
      "La señorita mira the peaky blinders y Love alarm\n",
      "Se acabo el dia numero 6 de cuarentena. \n",
      "\n",
      "Dia de cuarentena n° 7.\n",
      "Dejaron salir a la señorita en el dia 7. \n",
      "\n",
      "Dia de cuarentena n° 8.\n",
      "La señorita mira the peaky blinders y Love alarm\n",
      "Se acabo el dia numero 8 de cuarentena. \n",
      "\n",
      "Dia de cuarentena n° 9.\n",
      "La señorita mira the peaky blinders y Love alarm\n",
      "Se acabo el dia numero 9 de cuarentena. \n",
      "\n",
      "Dia de cuarentena n° 10.\n",
      "La señorita mira the peaky blinders y Love alarm\n",
      "Se acabo el dia numero 10 de cuarentena. \n",
      "\n",
      "Dia de cuarentena n° 11.\n",
      "La señorita mira the peaky blinders y Love alarm\n",
      "Se acabo el dia numero 11 de cuarentena. \n",
      "\n",
      "Dia de cuarentena n° 12.\n",
      "La señorita mira the peaky blinders y Love alarm\n",
      "Se acabo el dia numero 12 de cuarentena. \n",
      "\n",
      "Dia de cuarentena n° 13.\n",
      "La señorita mira the peaky blinders y Love alarm\n",
      "Se acabo el dia numero 13 de cuarentena. \n",
      "\n",
      "Dia de cuarentena n° 14.\n",
      "La señorita mira the peaky blinders y Love alarm\n",
      "Se acabo el dia numero 14 de cuarentena. \n",
      "\n",
      "Dia de cuarentena n° 15.\n",
      "Dejaron salir a la señorita en el dia 15. \n",
      "\n",
      "Dia de cuarentena n° 16.\n",
      "La señorita lee eL MUNDO DE SOFIA y Crónica de una muerte anunciada\n",
      "Se acabo el dia numero 16 de cuarentena. \n",
      "\n",
      "Dia de cuarentena n° 17.\n",
      "La señorita lee eL MUNDO DE SOFIA y Crónica de una muerte anunciada\n",
      "Se acabo el dia numero 17 de cuarentena. \n",
      "\n",
      "Dia de cuarentena n° 18.\n",
      "La señorita lee eL MUNDO DE SOFIA y Crónica de una muerte anunciada\n",
      "Se acabo el dia numero 18 de cuarentena. \n",
      "\n",
      "Dia de cuarentena n° 19.\n",
      "La señorita lee eL MUNDO DE SOFIA y Crónica de una muerte anunciada\n",
      "Se acabo el dia numero 19 de cuarentena. \n",
      "\n",
      "Dia de cuarentena n° 20.\n",
      "La señorita arma su clase de Fundamento de Análisis I\n",
      "Se acabo el dia numero 20 de cuarentena. \n",
      "\n",
      "Dia de cuarentena n° 21.\n",
      "La señorita arma su clase de Fundamento de Análisis I\n",
      "Se acabo el dia numero 21 de cuarentena. \n",
      "\n",
      "Dia de cuarentena n° 22.\n",
      "La señorita arma su clase de Fundamento de Análisis I\n",
      "Se acabo el dia numero 22 de cuarentena. \n",
      "\n",
      "Dia de cuarentena n° 23.\n",
      "Dejaron salir a la señorita en el dia 23. \n",
      "\n",
      "Dia de cuarentena n° 24.\n",
      "La señorita arma su clase de Fundamento de Análisis I\n",
      "Se acabo el dia numero 24 de cuarentena. \n",
      "\n",
      "Dia de cuarentena n° 25.\n",
      "La señorita arma su clase de Fundamento de Análisis I\n",
      "Se acabo el dia numero 25 de cuarentena. \n",
      "\n",
      "Dia de cuarentena n° 26.\n",
      "La señorita arma su clase de Fundamento de Análisis I\n",
      "Se acabo el dia numero 26 de cuarentena. \n",
      "\n",
      "Dia de cuarentena n° 27.\n",
      "La señorita arma su clase de Fundamento de Análisis I\n",
      "Se acabo el dia numero 27 de cuarentena. \n",
      "\n",
      "Dia de cuarentena n° 28.\n",
      "La señorita arma su clase de Fundamento de Análisis I\n",
      "Se acabo el dia numero 28 de cuarentena. \n",
      "\n",
      "Dia de cuarentena n° 29.\n",
      "La señorita arma su clase de Fundamento de Análisis I\n",
      "Se acabo el dia numero 29 de cuarentena. \n",
      "\n",
      "Dia de cuarentena n° 30.\n",
      "La señorita arma su clase de Fundamento de Análisis I\n",
      "Se acabo el dia numero 30 de cuarentena. \n",
      "\n",
      "Dia de cuarentena n° 31.\n",
      "Dejaron salir a la señorita en el dia 31. \n",
      "\n",
      "Dia de cuarentena n° 32.\n",
      "La señorita arma su clase de Fundamento de Análisis I\n",
      "Se acabo el dia numero 32 de cuarentena. \n",
      "\n",
      "Dia de cuarentena n° 33.\n",
      "La señorita arma su clase de Fundamento de Análisis I\n",
      "Se acabo el dia numero 33 de cuarentena. \n",
      "\n",
      "Dia de cuarentena n° 34.\n",
      "La señorita arma su clase de Fundamento de Análisis I\n",
      "Se acabo el dia numero 34 de cuarentena. \n",
      "\n",
      "Dia de cuarentena n° 35.\n",
      "La señorita arma su clase de Fundamento de Análisis I\n",
      "Se acabo el dia numero 35 de cuarentena. \n",
      "\n",
      "Dia de cuarentena n° 36.\n",
      "La señorita arma su clase de Fundamento de Análisis I\n",
      "Se acabo el dia numero 36 de cuarentena. \n",
      "\n",
      "Dia de cuarentena n° 37.\n",
      "La señorita arma su clase de Fundamento de Análisis I\n",
      "Se acabo el dia numero 37 de cuarentena. \n",
      "\n",
      "Dia de cuarentena n° 38.\n",
      "La señorita arma su clase de Fundamento de Análisis I\n",
      "Se acabo el dia numero 38 de cuarentena. \n",
      "\n",
      "Dia de cuarentena n° 39.\n",
      "Dejaron salir a la señorita en el dia 39. \n",
      "\n",
      "Dia de cuarentena n° 40.\n",
      "La señorita se ejercita\n",
      "Se acabo el dia numero 40 de cuarentena. \n",
      "\n",
      "Se acabo la cuarentena.\n"
     ]
    }
   ],
   "source": [
    "dias_de_cuarentena = 1\n",
    "nivel_de_estres = 2\n",
    "\n",
    "\n",
    "while dias_de_cuarentena <= 40:\n",
    "    \n",
    "    print(f'Dia de cuarentena n° {dias_de_cuarentena}.')\n",
    "    if nivel_de_estres > 100:\n",
    "        print( f'Dejaron salir a la señorita en el dia {dias_de_cuarentena}. \\n')\n",
    "        nivel_de_estres = 1\n",
    "        dias_de_cuarentena = dias_de_cuarentena + 1\n",
    "        continue\n",
    "        \n",
    "    \n",
    "    # Esto es lo que hara en cada uno de los días\n",
    "    if dias_de_cuarentena < 15:\n",
    "        \n",
    "        print( \"La señorita mira the peaky blinders y Love alarm\" )\n",
    "    \n",
    "    elif ( dias_de_cuarentena >= 15 ) & ( dias_de_cuarentena < 20 ):\n",
    "        \n",
    "        print( \"La señorita lee eL MUNDO DE SOFIA y Crónica de una muerte anunciada\")\n",
    "    \n",
    "    elif ( dias_de_cuarentena >= 20 ) & ( dias_de_cuarentena < 40 ):\n",
    "        print( 'La señorita arma su clase de Fundamento de Análisis I')\n",
    "        \n",
    "    else:\n",
    "        print( \"La señorita se ejercita\" )\n",
    "    \n",
    "    print( f'Se acabo el dia numero {dias_de_cuarentena} de cuarentena. \\n')\n",
    "    \n",
    "    # Dias aumentan\n",
    "    dias_de_cuarentena = dias_de_cuarentena + 1\n",
    "    nivel_de_estres = nivel_de_estres * 2\n",
    "\n",
    "print( \"Se acabo la cuarentena.\" )"
   ]
  },
  {
   "cell_type": "code",
   "execution_count": null,
   "metadata": {},
   "outputs": [],
   "source": [
    "dias_de_cuarentena = 1\n",
    "nivel_de_estres = 2\n",
    "\n",
    "\n",
    "while dias_de_cuarentena <= 40:\n",
    "    \n",
    "    print(f'Dia de cuarentena n° {dias_de_cuarentena}.')\n",
    "    if nivel_de_estres > 100:\n",
    "        print( f'Dejaron salir a la señorita en el dia {dias_de_cuarentena}. \\n')\n",
    "        nivel_de_estres = 1\n",
    "        dias_de_cuarentena = dias_de_cuarentena + 1\n",
    "        continue\n",
    "        \n",
    "    \n",
    "        \n",
    "    print(f'Dia de cuarentena n° {dias_de_cuarentena}.')\n",
    "    \n",
    "    # Esto es lo que hara en cada uno de los días\n",
    "    if dias_de_cuarentena < 15:\n",
    "        \n",
    "        print( \"La señorita mira the peaky blinders y Love alarm\" )\n",
    "    \n",
    "    elif ( dias_de_cuarentena >= 15 ) & ( dias_de_cuarentena < 20 ):\n",
    "        \n",
    "        print( \"La señorita lee eL MUNDO DE SOFIA y Crónica de una muerte anunciada\")\n",
    "    \n",
    "    elif ( dias_de_cuarentena >= 20 ) & ( dias_de_cuarentena < 40 ):\n",
    "        print( 'La señorita arma su clase de Fundamento de Análisis I')\n",
    "        \n",
    "    else:\n",
    "        print( \"La señorita se ejercita\" )\n",
    "    \n",
    "    print( f'Se acabo el dia numero {dias_de_cuarentena} de cuarentena. \\n')\n",
    "    \n",
    "    # Dias aumentan\n",
    "    dias_de_cuarentena = dias_de_cuarentena + 1\n",
    "    nivel_de_estres = nivel_de_estres * 2\n",
    "\n",
    "print( \"Se acabo la cuarentena.\" )"
   ]
  },
  {
   "cell_type": "markdown",
   "metadata": {},
   "source": [
    "Ahora, si nosotros queremos que el loop se detenga de acuerdo a una condición, se puede utilizar la función **break**. Esta función finaliza el loop, se puede utilizar dentro de un **if**."
   ]
  },
  {
   "cell_type": "code",
   "execution_count": 22,
   "metadata": {},
   "outputs": [],
   "source": [
    "import pandas as pd\n",
    "data1 = {'nombres': ['Marcelo', 'Octavio', 'Fredy', 'Felipe', 'Arturo', 'Anzony', 'Finado', 'Alex', 'Anny', 'Yampi'], \n",
    "     'edad': [23, 25, 36, 78, 90, 32, 200, 24, 12, 18]}\n",
    "personas = pd.DataFrame( data = data1)"
   ]
  },
  {
   "cell_type": "code",
   "execution_count": 23,
   "metadata": {
    "scrolled": true
   },
   "outputs": [
    {
     "data": {
      "text/html": [
       "<div>\n",
       "<style scoped>\n",
       "    .dataframe tbody tr th:only-of-type {\n",
       "        vertical-align: middle;\n",
       "    }\n",
       "\n",
       "    .dataframe tbody tr th {\n",
       "        vertical-align: top;\n",
       "    }\n",
       "\n",
       "    .dataframe thead th {\n",
       "        text-align: right;\n",
       "    }\n",
       "</style>\n",
       "<table border=\"1\" class=\"dataframe\">\n",
       "  <thead>\n",
       "    <tr style=\"text-align: right;\">\n",
       "      <th></th>\n",
       "      <th>nombres</th>\n",
       "      <th>edad</th>\n",
       "    </tr>\n",
       "  </thead>\n",
       "  <tbody>\n",
       "    <tr>\n",
       "      <th>0</th>\n",
       "      <td>Marcelo</td>\n",
       "      <td>23</td>\n",
       "    </tr>\n",
       "    <tr>\n",
       "      <th>1</th>\n",
       "      <td>Octavio</td>\n",
       "      <td>25</td>\n",
       "    </tr>\n",
       "    <tr>\n",
       "      <th>2</th>\n",
       "      <td>Fredy</td>\n",
       "      <td>36</td>\n",
       "    </tr>\n",
       "    <tr>\n",
       "      <th>3</th>\n",
       "      <td>Felipe</td>\n",
       "      <td>78</td>\n",
       "    </tr>\n",
       "    <tr>\n",
       "      <th>4</th>\n",
       "      <td>Arturo</td>\n",
       "      <td>90</td>\n",
       "    </tr>\n",
       "    <tr>\n",
       "      <th>5</th>\n",
       "      <td>Anzony</td>\n",
       "      <td>32</td>\n",
       "    </tr>\n",
       "    <tr>\n",
       "      <th>6</th>\n",
       "      <td>Finado</td>\n",
       "      <td>200</td>\n",
       "    </tr>\n",
       "    <tr>\n",
       "      <th>7</th>\n",
       "      <td>Alex</td>\n",
       "      <td>24</td>\n",
       "    </tr>\n",
       "    <tr>\n",
       "      <th>8</th>\n",
       "      <td>Anny</td>\n",
       "      <td>12</td>\n",
       "    </tr>\n",
       "    <tr>\n",
       "      <th>9</th>\n",
       "      <td>Yampi</td>\n",
       "      <td>18</td>\n",
       "    </tr>\n",
       "  </tbody>\n",
       "</table>\n",
       "</div>"
      ],
      "text/plain": [
       "   nombres  edad\n",
       "0  Marcelo    23\n",
       "1  Octavio    25\n",
       "2    Fredy    36\n",
       "3   Felipe    78\n",
       "4   Arturo    90\n",
       "5   Anzony    32\n",
       "6   Finado   200\n",
       "7     Alex    24\n",
       "8     Anny    12\n",
       "9    Yampi    18"
      ]
     },
     "execution_count": 23,
     "metadata": {},
     "output_type": "execute_result"
    }
   ],
   "source": [
    "personas"
   ]
  },
  {
   "cell_type": "code",
   "execution_count": 50,
   "metadata": {},
   "outputs": [
    {
     "name": "stdout",
     "output_type": "stream",
     "text": [
      "Que fue loco fantasmas\n"
     ]
    }
   ],
   "source": [
    "i = 0\n",
    "# Vamos a ir fila por fila\n",
    "nrows = personas.edad.count()\n",
    "while i < nrows:\n",
    "  \n",
    "    if personas['edad'][i] > 100:\n",
    "        print('Que fue loco fantasmas')\n",
    "        break\n",
    "    \n",
    "    elif personas['edad'][i] < 18:\n",
    "        # Hemos creado una nueva columna y la estamos rellenando\n",
    "        personas.loc[[i], [\"pasa\"]] = \"No pasa\"\n",
    "    \n",
    "    else:\n",
    "        personas.loc[[i], [\"pasa\"]] = \"Pasa\"\n",
    "        \n",
    "    i += 1"
   ]
  },
  {
   "cell_type": "code",
   "execution_count": 51,
   "metadata": {
    "scrolled": false
   },
   "outputs": [
    {
     "data": {
      "text/html": [
       "<div>\n",
       "<style scoped>\n",
       "    .dataframe tbody tr th:only-of-type {\n",
       "        vertical-align: middle;\n",
       "    }\n",
       "\n",
       "    .dataframe tbody tr th {\n",
       "        vertical-align: top;\n",
       "    }\n",
       "\n",
       "    .dataframe thead th {\n",
       "        text-align: right;\n",
       "    }\n",
       "</style>\n",
       "<table border=\"1\" class=\"dataframe\">\n",
       "  <thead>\n",
       "    <tr style=\"text-align: right;\">\n",
       "      <th></th>\n",
       "      <th>nombres</th>\n",
       "      <th>edad</th>\n",
       "      <th>pasa</th>\n",
       "    </tr>\n",
       "  </thead>\n",
       "  <tbody>\n",
       "    <tr>\n",
       "      <th>0</th>\n",
       "      <td>Marcelo</td>\n",
       "      <td>23</td>\n",
       "      <td>Pasa</td>\n",
       "    </tr>\n",
       "    <tr>\n",
       "      <th>1</th>\n",
       "      <td>Octavio</td>\n",
       "      <td>25</td>\n",
       "      <td>Pasa</td>\n",
       "    </tr>\n",
       "    <tr>\n",
       "      <th>2</th>\n",
       "      <td>Fredy</td>\n",
       "      <td>36</td>\n",
       "      <td>Pasa</td>\n",
       "    </tr>\n",
       "    <tr>\n",
       "      <th>3</th>\n",
       "      <td>Felipe</td>\n",
       "      <td>78</td>\n",
       "      <td>Pasa</td>\n",
       "    </tr>\n",
       "    <tr>\n",
       "      <th>4</th>\n",
       "      <td>Arturo</td>\n",
       "      <td>90</td>\n",
       "      <td>Pasa</td>\n",
       "    </tr>\n",
       "    <tr>\n",
       "      <th>5</th>\n",
       "      <td>Anzony</td>\n",
       "      <td>32</td>\n",
       "      <td>Pasa</td>\n",
       "    </tr>\n",
       "    <tr>\n",
       "      <th>6</th>\n",
       "      <td>Finado</td>\n",
       "      <td>200</td>\n",
       "      <td>NaN</td>\n",
       "    </tr>\n",
       "    <tr>\n",
       "      <th>7</th>\n",
       "      <td>Alex</td>\n",
       "      <td>24</td>\n",
       "      <td>NaN</td>\n",
       "    </tr>\n",
       "    <tr>\n",
       "      <th>8</th>\n",
       "      <td>Anny</td>\n",
       "      <td>12</td>\n",
       "      <td>NaN</td>\n",
       "    </tr>\n",
       "    <tr>\n",
       "      <th>9</th>\n",
       "      <td>Yampi</td>\n",
       "      <td>18</td>\n",
       "      <td>NaN</td>\n",
       "    </tr>\n",
       "  </tbody>\n",
       "</table>\n",
       "</div>"
      ],
      "text/plain": [
       "   nombres  edad  pasa\n",
       "0  Marcelo    23  Pasa\n",
       "1  Octavio    25  Pasa\n",
       "2    Fredy    36  Pasa\n",
       "3   Felipe    78  Pasa\n",
       "4   Arturo    90  Pasa\n",
       "5   Anzony    32  Pasa\n",
       "6   Finado   200   NaN\n",
       "7     Alex    24   NaN\n",
       "8     Anny    12   NaN\n",
       "9    Yampi    18   NaN"
      ]
     },
     "execution_count": 51,
     "metadata": {},
     "output_type": "execute_result"
    }
   ],
   "source": [
    "personas"
   ]
  },
  {
   "cell_type": "markdown",
   "metadata": {},
   "source": [
    "Si no se quiere que el código se rompa el loop podemos utilizar **pass** o **continue**. Estos tienen diferencias. **pass** permite que el loop siga iterando, mientras que **continue** le dice al código que salte esa iteración."
   ]
  },
  {
   "cell_type": "code",
   "execution_count": 58,
   "metadata": {},
   "outputs": [],
   "source": [
    "data1 = {'nombres': ['Marcelo', 'Octavio', 'Fredy', 'Felipe', 'Arturo', 'Anzony', 'Finado', 'Alex', 'Anny', 'Yampi'], \n",
    "     'edad': [23, 25, 36, 78, 90, 32, 200, 24, 12, 18]}\n",
    "personas = pd.DataFrame( data = data1)"
   ]
  },
  {
   "cell_type": "code",
   "execution_count": 59,
   "metadata": {},
   "outputs": [
    {
     "data": {
      "text/html": [
       "<div>\n",
       "<style scoped>\n",
       "    .dataframe tbody tr th:only-of-type {\n",
       "        vertical-align: middle;\n",
       "    }\n",
       "\n",
       "    .dataframe tbody tr th {\n",
       "        vertical-align: top;\n",
       "    }\n",
       "\n",
       "    .dataframe thead th {\n",
       "        text-align: right;\n",
       "    }\n",
       "</style>\n",
       "<table border=\"1\" class=\"dataframe\">\n",
       "  <thead>\n",
       "    <tr style=\"text-align: right;\">\n",
       "      <th></th>\n",
       "      <th>nombres</th>\n",
       "      <th>edad</th>\n",
       "    </tr>\n",
       "  </thead>\n",
       "  <tbody>\n",
       "    <tr>\n",
       "      <th>0</th>\n",
       "      <td>Marcelo</td>\n",
       "      <td>23</td>\n",
       "    </tr>\n",
       "    <tr>\n",
       "      <th>1</th>\n",
       "      <td>Octavio</td>\n",
       "      <td>25</td>\n",
       "    </tr>\n",
       "    <tr>\n",
       "      <th>2</th>\n",
       "      <td>Fredy</td>\n",
       "      <td>36</td>\n",
       "    </tr>\n",
       "    <tr>\n",
       "      <th>3</th>\n",
       "      <td>Felipe</td>\n",
       "      <td>78</td>\n",
       "    </tr>\n",
       "    <tr>\n",
       "      <th>4</th>\n",
       "      <td>Arturo</td>\n",
       "      <td>90</td>\n",
       "    </tr>\n",
       "    <tr>\n",
       "      <th>5</th>\n",
       "      <td>Anzony</td>\n",
       "      <td>32</td>\n",
       "    </tr>\n",
       "    <tr>\n",
       "      <th>6</th>\n",
       "      <td>Finado</td>\n",
       "      <td>200</td>\n",
       "    </tr>\n",
       "    <tr>\n",
       "      <th>7</th>\n",
       "      <td>Alex</td>\n",
       "      <td>24</td>\n",
       "    </tr>\n",
       "    <tr>\n",
       "      <th>8</th>\n",
       "      <td>Anny</td>\n",
       "      <td>12</td>\n",
       "    </tr>\n",
       "    <tr>\n",
       "      <th>9</th>\n",
       "      <td>Yampi</td>\n",
       "      <td>18</td>\n",
       "    </tr>\n",
       "  </tbody>\n",
       "</table>\n",
       "</div>"
      ],
      "text/plain": [
       "   nombres  edad\n",
       "0  Marcelo    23\n",
       "1  Octavio    25\n",
       "2    Fredy    36\n",
       "3   Felipe    78\n",
       "4   Arturo    90\n",
       "5   Anzony    32\n",
       "6   Finado   200\n",
       "7     Alex    24\n",
       "8     Anny    12\n",
       "9    Yampi    18"
      ]
     },
     "execution_count": 59,
     "metadata": {},
     "output_type": "execute_result"
    }
   ],
   "source": [
    "personas"
   ]
  },
  {
   "cell_type": "code",
   "execution_count": 60,
   "metadata": {},
   "outputs": [],
   "source": [
    "i += 1"
   ]
  },
  {
   "cell_type": "code",
   "execution_count": null,
   "metadata": {
    "scrolled": false
   },
   "outputs": [],
   "source": [
    "i = 0\n",
    "# Vamos a ir fila por fila\n",
    "nrows = personas.edad.count()\n",
    "while i < nrows:\n",
    "  \n",
    "    if personas['edad'][i] > 100:\n",
    "        print('Que fue loco fantasmas')\n",
    "        continue\n",
    "    \n",
    "    elif personas['edad'][i] < 18:\n",
    "        personas.loc[[i], [\"pasa\"]] = \"No pasa\"\n",
    "    \n",
    "    else:\n",
    "        personas.loc[[i], [\"pasa\"]] = \"Pasa\"\n",
    "    \n",
    "    # breake code\n",
    "    i += 1"
   ]
  },
  {
   "cell_type": "markdown",
   "metadata": {},
   "source": [
    "El loop se repite infinitamente porque python no ejecuta el break code."
   ]
  },
  {
   "cell_type": "code",
   "execution_count": 64,
   "metadata": {
    "scrolled": true
   },
   "outputs": [
    {
     "data": {
      "text/html": [
       "<div>\n",
       "<style scoped>\n",
       "    .dataframe tbody tr th:only-of-type {\n",
       "        vertical-align: middle;\n",
       "    }\n",
       "\n",
       "    .dataframe tbody tr th {\n",
       "        vertical-align: top;\n",
       "    }\n",
       "\n",
       "    .dataframe thead th {\n",
       "        text-align: right;\n",
       "    }\n",
       "</style>\n",
       "<table border=\"1\" class=\"dataframe\">\n",
       "  <thead>\n",
       "    <tr style=\"text-align: right;\">\n",
       "      <th></th>\n",
       "      <th>nombres</th>\n",
       "      <th>edad</th>\n",
       "      <th>pasa</th>\n",
       "    </tr>\n",
       "  </thead>\n",
       "  <tbody>\n",
       "    <tr>\n",
       "      <th>0</th>\n",
       "      <td>Marcelo</td>\n",
       "      <td>23</td>\n",
       "      <td>Pasa</td>\n",
       "    </tr>\n",
       "    <tr>\n",
       "      <th>1</th>\n",
       "      <td>Octavio</td>\n",
       "      <td>25</td>\n",
       "      <td>Pasa</td>\n",
       "    </tr>\n",
       "    <tr>\n",
       "      <th>2</th>\n",
       "      <td>Fredy</td>\n",
       "      <td>36</td>\n",
       "      <td>Pasa</td>\n",
       "    </tr>\n",
       "    <tr>\n",
       "      <th>3</th>\n",
       "      <td>Felipe</td>\n",
       "      <td>78</td>\n",
       "      <td>Pasa</td>\n",
       "    </tr>\n",
       "    <tr>\n",
       "      <th>4</th>\n",
       "      <td>Arturo</td>\n",
       "      <td>90</td>\n",
       "      <td>Pasa</td>\n",
       "    </tr>\n",
       "    <tr>\n",
       "      <th>5</th>\n",
       "      <td>Anzony</td>\n",
       "      <td>32</td>\n",
       "      <td>Pasa</td>\n",
       "    </tr>\n",
       "    <tr>\n",
       "      <th>6</th>\n",
       "      <td>Finado</td>\n",
       "      <td>200</td>\n",
       "      <td>NaN</td>\n",
       "    </tr>\n",
       "    <tr>\n",
       "      <th>7</th>\n",
       "      <td>Alex</td>\n",
       "      <td>24</td>\n",
       "      <td>Pasa</td>\n",
       "    </tr>\n",
       "    <tr>\n",
       "      <th>8</th>\n",
       "      <td>Anny</td>\n",
       "      <td>12</td>\n",
       "      <td>No pasa</td>\n",
       "    </tr>\n",
       "    <tr>\n",
       "      <th>9</th>\n",
       "      <td>Yampi</td>\n",
       "      <td>18</td>\n",
       "      <td>Pasa</td>\n",
       "    </tr>\n",
       "  </tbody>\n",
       "</table>\n",
       "</div>"
      ],
      "text/plain": [
       "   nombres  edad     pasa\n",
       "0  Marcelo    23     Pasa\n",
       "1  Octavio    25     Pasa\n",
       "2    Fredy    36     Pasa\n",
       "3   Felipe    78     Pasa\n",
       "4   Arturo    90     Pasa\n",
       "5   Anzony    32     Pasa\n",
       "6   Finado   200      NaN\n",
       "7     Alex    24     Pasa\n",
       "8     Anny    12  No pasa\n",
       "9    Yampi    18     Pasa"
      ]
     },
     "execution_count": 64,
     "metadata": {},
     "output_type": "execute_result"
    }
   ],
   "source": [
    "personas"
   ]
  },
  {
   "cell_type": "code",
   "execution_count": 67,
   "metadata": {},
   "outputs": [],
   "source": [
    "data1 = {'nombres': ['Marcelo', 'Octavio', 'Fredy', 'Felipe', 'Arturo', 'Anzony', 'Finado', 'Alex', 'Anny', 'Yampi'], \n",
    "     'edad': [23, 25, 36, 78, 90, 32, 200, 24, 12, 18]}\n",
    "personas = pd.DataFrame( data = data1)"
   ]
  },
  {
   "cell_type": "code",
   "execution_count": 68,
   "metadata": {},
   "outputs": [],
   "source": [
    "i = 0\n",
    "# Vamos a ir fila por fila\n",
    "nrows = personas.edad.count()\n",
    "while i < nrows:\n",
    "  \n",
    "    if personas['edad'][i] > 100:\n",
    "        pass\n",
    "    \n",
    "    elif personas['edad'][i] < 18:\n",
    "        personas.loc[[i], [\"pasa\"]] = \"No pasa\"\n",
    "    \n",
    "    else:\n",
    "        personas.loc[[i], [\"pasa\"]] = \"Pasa\"\n",
    "        \n",
    "    i += 1"
   ]
  },
  {
   "cell_type": "markdown",
   "metadata": {},
   "source": [
    "Python ejecuta el código normalmente"
   ]
  },
  {
   "cell_type": "code",
   "execution_count": 69,
   "metadata": {
    "scrolled": true
   },
   "outputs": [
    {
     "data": {
      "text/html": [
       "<div>\n",
       "<style scoped>\n",
       "    .dataframe tbody tr th:only-of-type {\n",
       "        vertical-align: middle;\n",
       "    }\n",
       "\n",
       "    .dataframe tbody tr th {\n",
       "        vertical-align: top;\n",
       "    }\n",
       "\n",
       "    .dataframe thead th {\n",
       "        text-align: right;\n",
       "    }\n",
       "</style>\n",
       "<table border=\"1\" class=\"dataframe\">\n",
       "  <thead>\n",
       "    <tr style=\"text-align: right;\">\n",
       "      <th></th>\n",
       "      <th>nombres</th>\n",
       "      <th>edad</th>\n",
       "      <th>pasa</th>\n",
       "    </tr>\n",
       "  </thead>\n",
       "  <tbody>\n",
       "    <tr>\n",
       "      <th>0</th>\n",
       "      <td>Marcelo</td>\n",
       "      <td>23</td>\n",
       "      <td>Pasa</td>\n",
       "    </tr>\n",
       "    <tr>\n",
       "      <th>1</th>\n",
       "      <td>Octavio</td>\n",
       "      <td>25</td>\n",
       "      <td>Pasa</td>\n",
       "    </tr>\n",
       "    <tr>\n",
       "      <th>2</th>\n",
       "      <td>Fredy</td>\n",
       "      <td>36</td>\n",
       "      <td>Pasa</td>\n",
       "    </tr>\n",
       "    <tr>\n",
       "      <th>3</th>\n",
       "      <td>Felipe</td>\n",
       "      <td>78</td>\n",
       "      <td>Pasa</td>\n",
       "    </tr>\n",
       "    <tr>\n",
       "      <th>4</th>\n",
       "      <td>Arturo</td>\n",
       "      <td>90</td>\n",
       "      <td>Pasa</td>\n",
       "    </tr>\n",
       "    <tr>\n",
       "      <th>5</th>\n",
       "      <td>Anzony</td>\n",
       "      <td>32</td>\n",
       "      <td>Pasa</td>\n",
       "    </tr>\n",
       "    <tr>\n",
       "      <th>6</th>\n",
       "      <td>Finado</td>\n",
       "      <td>200</td>\n",
       "      <td>NaN</td>\n",
       "    </tr>\n",
       "    <tr>\n",
       "      <th>7</th>\n",
       "      <td>Alex</td>\n",
       "      <td>24</td>\n",
       "      <td>Pasa</td>\n",
       "    </tr>\n",
       "    <tr>\n",
       "      <th>8</th>\n",
       "      <td>Anny</td>\n",
       "      <td>12</td>\n",
       "      <td>No pasa</td>\n",
       "    </tr>\n",
       "    <tr>\n",
       "      <th>9</th>\n",
       "      <td>Yampi</td>\n",
       "      <td>18</td>\n",
       "      <td>Pasa</td>\n",
       "    </tr>\n",
       "  </tbody>\n",
       "</table>\n",
       "</div>"
      ],
      "text/plain": [
       "   nombres  edad     pasa\n",
       "0  Marcelo    23     Pasa\n",
       "1  Octavio    25     Pasa\n",
       "2    Fredy    36     Pasa\n",
       "3   Felipe    78     Pasa\n",
       "4   Arturo    90     Pasa\n",
       "5   Anzony    32     Pasa\n",
       "6   Finado   200      NaN\n",
       "7     Alex    24     Pasa\n",
       "8     Anny    12  No pasa\n",
       "9    Yampi    18     Pasa"
      ]
     },
     "execution_count": 69,
     "metadata": {},
     "output_type": "execute_result"
    }
   ],
   "source": [
    "personas"
   ]
  }
 ],
 "metadata": {
  "celltoolbar": "Slideshow",
  "hide_input": false,
  "kernelspec": {
   "display_name": "Python 3",
   "language": "python",
   "name": "python3"
  },
  "language_info": {
   "codemirror_mode": {
    "name": "ipython",
    "version": 3
   },
   "file_extension": ".py",
   "mimetype": "text/x-python",
   "name": "python",
   "nbconvert_exporter": "python",
   "pygments_lexer": "ipython3",
   "version": "3.8.3"
  }
 },
 "nbformat": 4,
 "nbformat_minor": 4
}
