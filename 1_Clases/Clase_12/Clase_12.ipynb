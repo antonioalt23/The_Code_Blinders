{
 "cells": [
  {
   "cell_type": "code",
   "execution_count": 4,
   "metadata": {},
   "outputs": [],
   "source": [
    "import pandas as pd"
   ]
  },
  {
   "cell_type": "code",
   "execution_count": 5,
   "metadata": {},
   "outputs": [],
   "source": [
    "import pickle"
   ]
  },
  {
   "cell_type": "markdown",
   "metadata": {},
   "source": [
    "# Funciones\n",
    "\n",
    "En esta clase trataremos acerca de todo lo relacionado con la creación de funciones en el entorno de Python."
   ]
  },
  {
   "cell_type": "markdown",
   "metadata": {},
   "source": [
    "## Estructura basica de una función\n",
    "La creación de una función demanda de la definción de esta a través de la función **def**. Esta permite darle nombre a la función y asignarle argumentos. "
   ]
  },
  {
   "cell_type": "code",
   "execution_count": 3,
   "metadata": {},
   "outputs": [],
   "source": [
    "def mi_function(x):\n",
    "    \n",
    "    # codigo codigo\n",
    "    \n",
    "    return resultado"
   ]
  },
  {
   "cell_type": "markdown",
   "metadata": {},
   "source": [
    "### Variables internas VS  Variables Externas\n",
    "Los argumentos de una función toman el papel de variables internas. Estas tomarán valores cuando la función sea ejecutada; sin embargo, estas no existen solo finjen ser variables que tienen métodos, funciones y atributos al igual que los futuros valores que se le otorgarán.\\\n",
    "Un for loop si crea variables a diferencia de las funciones. Estas variables existen en el entorno de python, pero las variables que se utilizan para definir las funciones no existen. Tomarán valores cuando la función se ejecute."
   ]
  },
  {
   "cell_type": "code",
   "execution_count": 4,
   "metadata": {},
   "outputs": [
    {
     "name": "stdout",
     "output_type": "stream",
     "text": [
      "0\n",
      "1\n",
      "2\n",
      "3\n",
      "4\n"
     ]
    }
   ],
   "source": [
    "for x in range(0, 5):\n",
    "    print(x)"
   ]
  },
  {
   "cell_type": "code",
   "execution_count": 5,
   "metadata": {},
   "outputs": [
    {
     "data": {
      "text/plain": [
       "4"
      ]
     },
     "execution_count": 5,
     "metadata": {},
     "output_type": "execute_result"
    }
   ],
   "source": [
    "x\n",
    "# X existe en el entorno de Python"
   ]
  },
  {
   "cell_type": "code",
   "execution_count": 6,
   "metadata": {},
   "outputs": [],
   "source": [
    "def calculadora( z , y):\n",
    "    resultado = z * y\n",
    "    \n",
    "    return resultado"
   ]
  },
  {
   "cell_type": "code",
   "execution_count": 7,
   "metadata": {},
   "outputs": [
    {
     "ename": "NameError",
     "evalue": "name 'resultado' is not defined",
     "output_type": "error",
     "traceback": [
      "\u001b[1;31m---------------------------------------------------------------------------\u001b[0m",
      "\u001b[1;31mNameError\u001b[0m                                 Traceback (most recent call last)",
      "\u001b[1;32m<ipython-input-7-1f3daf4c365f>\u001b[0m in \u001b[0;36m<module>\u001b[1;34m\u001b[0m\n\u001b[1;32m----> 1\u001b[1;33m \u001b[0mresultado\u001b[0m\u001b[1;33m\u001b[0m\u001b[1;33m\u001b[0m\u001b[0m\n\u001b[0m\u001b[0;32m      2\u001b[0m \u001b[1;31m# resultado no existe\u001b[0m\u001b[1;33m\u001b[0m\u001b[1;33m\u001b[0m\u001b[1;33m\u001b[0m\u001b[0m\n",
      "\u001b[1;31mNameError\u001b[0m: name 'resultado' is not defined"
     ]
    }
   ],
   "source": [
    "resultado\n",
    "# resultado no existe"
   ]
  },
  {
   "cell_type": "code",
   "execution_count": null,
   "metadata": {},
   "outputs": [],
   "source": [
    "calculadora( z = 5, y = 6)"
   ]
  },
  {
   "cell_type": "markdown",
   "metadata": {},
   "source": [
    "### Metodos de las variables\n",
    "Los argumentos pueden utilizar los métodos de los tipos de variables que luego las reemplazarán."
   ]
  },
  {
   "cell_type": "code",
   "execution_count": 6,
   "metadata": {},
   "outputs": [],
   "source": [
    "import numpy as np\n",
    "import pandas as pd"
   ]
  },
  {
   "cell_type": "code",
   "execution_count": 9,
   "metadata": {},
   "outputs": [],
   "source": [
    "edades = np.array( [15, 19, 48, 15, 17 ,61 ,78 ,79, 45])\n",
    "edades = edades.reshape(3, 3)"
   ]
  },
  {
   "cell_type": "code",
   "execution_count": 10,
   "metadata": {},
   "outputs": [],
   "source": [
    "notas = np.array( [11, 12, 13, 14, 15, 16, 17, 17, 18])\n",
    "notas = notas.reshape(3, 3)"
   ]
  },
  {
   "cell_type": "code",
   "execution_count": 11,
   "metadata": {},
   "outputs": [],
   "source": [
    "filas_edades = edades.shape[0]\n",
    "clumn_edades = edades.shape[1]"
   ]
  },
  {
   "cell_type": "code",
   "execution_count": 12,
   "metadata": {},
   "outputs": [],
   "source": [
    "filas_notas = notas.shape[0]\n",
    "clumn_notas = notas.shape[1]"
   ]
  },
  {
   "cell_type": "code",
   "execution_count": 13,
   "metadata": {},
   "outputs": [
    {
     "data": {
      "text/plain": [
       "True"
      ]
     },
     "execution_count": 13,
     "metadata": {},
     "output_type": "execute_result"
    }
   ],
   "source": [
    "filas_edades == filas_notas"
   ]
  },
  {
   "cell_type": "code",
   "execution_count": 14,
   "metadata": {},
   "outputs": [
    {
     "data": {
      "text/plain": [
       "True"
      ]
     },
     "execution_count": 14,
     "metadata": {},
     "output_type": "execute_result"
    }
   ],
   "source": [
    "clumn_edades == clumn_notas"
   ]
  },
  {
   "cell_type": "markdown",
   "metadata": {},
   "source": [
    "#### Ejemplo utilizando los métodos de Numpy"
   ]
  },
  {
   "cell_type": "code",
   "execution_count": 15,
   "metadata": {},
   "outputs": [],
   "source": [
    "def igual_filas( a, b ):\n",
    "    \n",
    "    filas_a = a.shape[0]\n",
    "    filas_b = b.shape[ 0 ]\n",
    "    comparacion = filas_a == filas_b\n",
    "    \n",
    "    return (filas_a, filas_b)"
   ]
  },
  {
   "cell_type": "code",
   "execution_count": 16,
   "metadata": {},
   "outputs": [],
   "source": [
    "notas = notas.reshape(9, 1)"
   ]
  },
  {
   "cell_type": "code",
   "execution_count": 17,
   "metadata": {},
   "outputs": [],
   "source": [
    "escala = ['do', 're', 'mi']"
   ]
  },
  {
   "cell_type": "code",
   "execution_count": 18,
   "metadata": {},
   "outputs": [],
   "source": [
    "def lista_vs_array( a , b, c_funcion ):\n",
    "    \n",
    "    resultado1 = c_funcion( b )\n",
    "    resultado2 = resultado1 * a\n",
    "    \n",
    "    return resultado2    "
   ]
  },
  {
   "cell_type": "code",
   "execution_count": 19,
   "metadata": {},
   "outputs": [],
   "source": [
    "array_lenLista = lista_vs_array( edades, escala, len )"
   ]
  },
  {
   "cell_type": "code",
   "execution_count": 20,
   "metadata": {
    "scrolled": true
   },
   "outputs": [
    {
     "data": {
      "text/plain": [
       "array([[15, 19, 48],\n",
       "       [15, 17, 61],\n",
       "       [78, 79, 45]])"
      ]
     },
     "execution_count": 20,
     "metadata": {},
     "output_type": "execute_result"
    }
   ],
   "source": [
    "edades"
   ]
  },
  {
   "cell_type": "markdown",
   "metadata": {},
   "source": [
    "## Ejemplo de funciones que utilizan la data de casos positivos COVID-Peru"
   ]
  },
  {
   "cell_type": "code",
   "execution_count": 7,
   "metadata": {},
   "outputs": [],
   "source": [
    "import pandas as pd\n",
    "import io\n",
    "import requests\n"
   ]
  },
  {
   "cell_type": "code",
   "execution_count": 8,
   "metadata": {},
   "outputs": [],
   "source": [
    "def da_positivos():\n",
    "    # link de la data de positivos covid\n",
    "    url = \"https://cloud.minsa.gob.pe/s/Y8w3wHsEdYQSZRp/download\"\n",
    "    # guardando la data positivos covid\n",
    "    csv_url = requests.get( url ).content\n",
    "    \n",
    "    # transformando de csv a dataframe\n",
    "    data = pd.read_csv( io.StringIO( csv_url.decode( 'utf-8' ) ) , delimiter = \";\")\n",
    "    \n",
    "    # Toma el año, mes y día\n",
    "    data['year'] = data['FECHA_RESULTADO'].astype(str).str[:4]\n",
    "    data['mes'] = data['FECHA_RESULTADO'].astype(str).str[4:6]\n",
    "    data['day'] = data['FECHA_RESULTADO'].astype(str).str[6:8]\n",
    "    \n",
    "    # Eliminar data vacia en la variable FECHA_RESULTADO\n",
    "    data = data[ data[ 'year' ] != 'nan']\n",
    "    \n",
    "    # Agrupa por departamento y año\n",
    "    data1 = data.groupby(['DEPARTAMENTO', 'year'])[['UUID']].count().rename(columns = {'UUID':'Casos por year'} )\n",
    "    \n",
    "    return data1"
   ]
  },
  {
   "cell_type": "code",
   "execution_count": 9,
   "metadata": {},
   "outputs": [],
   "source": [
    "casos_year_covid_peru = da_positivos()"
   ]
  },
  {
   "cell_type": "code",
   "execution_count": 10,
   "metadata": {},
   "outputs": [
    {
     "data": {
      "text/html": [
       "<div>\n",
       "<style scoped>\n",
       "    .dataframe tbody tr th:only-of-type {\n",
       "        vertical-align: middle;\n",
       "    }\n",
       "\n",
       "    .dataframe tbody tr th {\n",
       "        vertical-align: top;\n",
       "    }\n",
       "\n",
       "    .dataframe thead th {\n",
       "        text-align: right;\n",
       "    }\n",
       "</style>\n",
       "<table border=\"1\" class=\"dataframe\">\n",
       "  <thead>\n",
       "    <tr style=\"text-align: right;\">\n",
       "      <th></th>\n",
       "      <th></th>\n",
       "      <th>Casos por year</th>\n",
       "    </tr>\n",
       "    <tr>\n",
       "      <th>DEPARTAMENTO</th>\n",
       "      <th>year</th>\n",
       "      <th></th>\n",
       "    </tr>\n",
       "  </thead>\n",
       "  <tbody>\n",
       "    <tr>\n",
       "      <th rowspan=\"2\" valign=\"top\">AMAZONAS</th>\n",
       "      <th>2020</th>\n",
       "      <td>18562</td>\n",
       "    </tr>\n",
       "    <tr>\n",
       "      <th>2021</th>\n",
       "      <td>6781</td>\n",
       "    </tr>\n",
       "    <tr>\n",
       "      <th rowspan=\"2\" valign=\"top\">ANCASH</th>\n",
       "      <th>2020</th>\n",
       "      <td>31065</td>\n",
       "    </tr>\n",
       "    <tr>\n",
       "      <th>2021</th>\n",
       "      <td>28070</td>\n",
       "    </tr>\n",
       "    <tr>\n",
       "      <th rowspan=\"2\" valign=\"top\">APURIMAC</th>\n",
       "      <th>2020</th>\n",
       "      <td>7678</td>\n",
       "    </tr>\n",
       "    <tr>\n",
       "      <th>2021</th>\n",
       "      <td>10129</td>\n",
       "    </tr>\n",
       "    <tr>\n",
       "      <th rowspan=\"2\" valign=\"top\">AREQUIPA</th>\n",
       "      <th>2020</th>\n",
       "      <td>48553</td>\n",
       "    </tr>\n",
       "    <tr>\n",
       "      <th>2021</th>\n",
       "      <td>21778</td>\n",
       "    </tr>\n",
       "    <tr>\n",
       "      <th rowspan=\"2\" valign=\"top\">AYACUCHO</th>\n",
       "      <th>2020</th>\n",
       "      <td>15371</td>\n",
       "    </tr>\n",
       "    <tr>\n",
       "      <th>2021</th>\n",
       "      <td>10024</td>\n",
       "    </tr>\n",
       "    <tr>\n",
       "      <th rowspan=\"2\" valign=\"top\">CAJAMARCA</th>\n",
       "      <th>2020</th>\n",
       "      <td>25468</td>\n",
       "    </tr>\n",
       "    <tr>\n",
       "      <th>2021</th>\n",
       "      <td>23063</td>\n",
       "    </tr>\n",
       "    <tr>\n",
       "      <th rowspan=\"2\" valign=\"top\">CALLAO</th>\n",
       "      <th>2020</th>\n",
       "      <td>43680</td>\n",
       "    </tr>\n",
       "    <tr>\n",
       "      <th>2021</th>\n",
       "      <td>45555</td>\n",
       "    </tr>\n",
       "    <tr>\n",
       "      <th rowspan=\"2\" valign=\"top\">CUSCO</th>\n",
       "      <th>2020</th>\n",
       "      <td>25501</td>\n",
       "    </tr>\n",
       "    <tr>\n",
       "      <th>2021</th>\n",
       "      <td>25849</td>\n",
       "    </tr>\n",
       "    <tr>\n",
       "      <th rowspan=\"2\" valign=\"top\">HUANCAVELICA</th>\n",
       "      <th>2020</th>\n",
       "      <td>7923</td>\n",
       "    </tr>\n",
       "    <tr>\n",
       "      <th>2021</th>\n",
       "      <td>4559</td>\n",
       "    </tr>\n",
       "    <tr>\n",
       "      <th rowspan=\"2\" valign=\"top\">HUANUCO</th>\n",
       "      <th>2020</th>\n",
       "      <td>20666</td>\n",
       "    </tr>\n",
       "    <tr>\n",
       "      <th>2021</th>\n",
       "      <td>8434</td>\n",
       "    </tr>\n",
       "    <tr>\n",
       "      <th rowspan=\"2\" valign=\"top\">ICA</th>\n",
       "      <th>2020</th>\n",
       "      <td>32219</td>\n",
       "    </tr>\n",
       "    <tr>\n",
       "      <th>2021</th>\n",
       "      <td>15151</td>\n",
       "    </tr>\n",
       "    <tr>\n",
       "      <th rowspan=\"2\" valign=\"top\">JUNIN</th>\n",
       "      <th>2020</th>\n",
       "      <td>28511</td>\n",
       "    </tr>\n",
       "    <tr>\n",
       "      <th>2021</th>\n",
       "      <td>29790</td>\n",
       "    </tr>\n",
       "    <tr>\n",
       "      <th rowspan=\"2\" valign=\"top\">LA LIBERTAD</th>\n",
       "      <th>2020</th>\n",
       "      <td>37697</td>\n",
       "    </tr>\n",
       "    <tr>\n",
       "      <th>2021</th>\n",
       "      <td>24681</td>\n",
       "    </tr>\n",
       "    <tr>\n",
       "      <th rowspan=\"2\" valign=\"top\">LAMBAYEQUE</th>\n",
       "      <th>2020</th>\n",
       "      <td>33574</td>\n",
       "    </tr>\n",
       "    <tr>\n",
       "      <th>2021</th>\n",
       "      <td>13988</td>\n",
       "    </tr>\n",
       "    <tr>\n",
       "      <th rowspan=\"2\" valign=\"top\">LIMA</th>\n",
       "      <th>2020</th>\n",
       "      <td>419509</td>\n",
       "    </tr>\n",
       "    <tr>\n",
       "      <th>2021</th>\n",
       "      <td>323989</td>\n",
       "    </tr>\n",
       "    <tr>\n",
       "      <th rowspan=\"2\" valign=\"top\">LIMA REGION</th>\n",
       "      <th>2020</th>\n",
       "      <td>32871</td>\n",
       "    </tr>\n",
       "    <tr>\n",
       "      <th>2021</th>\n",
       "      <td>26027</td>\n",
       "    </tr>\n",
       "    <tr>\n",
       "      <th rowspan=\"2\" valign=\"top\">LORETO</th>\n",
       "      <th>2020</th>\n",
       "      <td>26505</td>\n",
       "    </tr>\n",
       "    <tr>\n",
       "      <th>2021</th>\n",
       "      <td>11424</td>\n",
       "    </tr>\n",
       "    <tr>\n",
       "      <th rowspan=\"2\" valign=\"top\">MADRE DE DIOS</th>\n",
       "      <th>2020</th>\n",
       "      <td>9616</td>\n",
       "    </tr>\n",
       "    <tr>\n",
       "      <th>2021</th>\n",
       "      <td>2941</td>\n",
       "    </tr>\n",
       "    <tr>\n",
       "      <th rowspan=\"2\" valign=\"top\">MOQUEGUA</th>\n",
       "      <th>2020</th>\n",
       "      <td>16146</td>\n",
       "    </tr>\n",
       "    <tr>\n",
       "      <th>2021</th>\n",
       "      <td>6622</td>\n",
       "    </tr>\n",
       "    <tr>\n",
       "      <th rowspan=\"2\" valign=\"top\">PASCO</th>\n",
       "      <th>2020</th>\n",
       "      <td>6658</td>\n",
       "    </tr>\n",
       "    <tr>\n",
       "      <th>2021</th>\n",
       "      <td>5749</td>\n",
       "    </tr>\n",
       "    <tr>\n",
       "      <th rowspan=\"2\" valign=\"top\">PIURA</th>\n",
       "      <th>2020</th>\n",
       "      <td>43680</td>\n",
       "    </tr>\n",
       "    <tr>\n",
       "      <th>2021</th>\n",
       "      <td>23090</td>\n",
       "    </tr>\n",
       "    <tr>\n",
       "      <th rowspan=\"2\" valign=\"top\">PUNO</th>\n",
       "      <th>2020</th>\n",
       "      <td>19454</td>\n",
       "    </tr>\n",
       "    <tr>\n",
       "      <th>2021</th>\n",
       "      <td>8437</td>\n",
       "    </tr>\n",
       "    <tr>\n",
       "      <th rowspan=\"2\" valign=\"top\">SAN MARTIN</th>\n",
       "      <th>2020</th>\n",
       "      <td>26012</td>\n",
       "    </tr>\n",
       "    <tr>\n",
       "      <th>2021</th>\n",
       "      <td>12655</td>\n",
       "    </tr>\n",
       "    <tr>\n",
       "      <th rowspan=\"2\" valign=\"top\">TACNA</th>\n",
       "      <th>2020</th>\n",
       "      <td>14809</td>\n",
       "    </tr>\n",
       "    <tr>\n",
       "      <th>2021</th>\n",
       "      <td>8113</td>\n",
       "    </tr>\n",
       "    <tr>\n",
       "      <th rowspan=\"2\" valign=\"top\">TUMBES</th>\n",
       "      <th>2020</th>\n",
       "      <td>9533</td>\n",
       "    </tr>\n",
       "    <tr>\n",
       "      <th>2021</th>\n",
       "      <td>5163</td>\n",
       "    </tr>\n",
       "    <tr>\n",
       "      <th rowspan=\"2\" valign=\"top\">UCAYALI</th>\n",
       "      <th>2020</th>\n",
       "      <td>20578</td>\n",
       "    </tr>\n",
       "    <tr>\n",
       "      <th>2021</th>\n",
       "      <td>8682</td>\n",
       "    </tr>\n",
       "  </tbody>\n",
       "</table>\n",
       "</div>"
      ],
      "text/plain": [
       "                    Casos por year\n",
       "DEPARTAMENTO  year                \n",
       "AMAZONAS      2020           18562\n",
       "              2021            6781\n",
       "ANCASH        2020           31065\n",
       "              2021           28070\n",
       "APURIMAC      2020            7678\n",
       "              2021           10129\n",
       "AREQUIPA      2020           48553\n",
       "              2021           21778\n",
       "AYACUCHO      2020           15371\n",
       "              2021           10024\n",
       "CAJAMARCA     2020           25468\n",
       "              2021           23063\n",
       "CALLAO        2020           43680\n",
       "              2021           45555\n",
       "CUSCO         2020           25501\n",
       "              2021           25849\n",
       "HUANCAVELICA  2020            7923\n",
       "              2021            4559\n",
       "HUANUCO       2020           20666\n",
       "              2021            8434\n",
       "ICA           2020           32219\n",
       "              2021           15151\n",
       "JUNIN         2020           28511\n",
       "              2021           29790\n",
       "LA LIBERTAD   2020           37697\n",
       "              2021           24681\n",
       "LAMBAYEQUE    2020           33574\n",
       "              2021           13988\n",
       "LIMA          2020          419509\n",
       "              2021          323989\n",
       "LIMA REGION   2020           32871\n",
       "              2021           26027\n",
       "LORETO        2020           26505\n",
       "              2021           11424\n",
       "MADRE DE DIOS 2020            9616\n",
       "              2021            2941\n",
       "MOQUEGUA      2020           16146\n",
       "              2021            6622\n",
       "PASCO         2020            6658\n",
       "              2021            5749\n",
       "PIURA         2020           43680\n",
       "              2021           23090\n",
       "PUNO          2020           19454\n",
       "              2021            8437\n",
       "SAN MARTIN    2020           26012\n",
       "              2021           12655\n",
       "TACNA         2020           14809\n",
       "              2021            8113\n",
       "TUMBES        2020            9533\n",
       "              2021            5163\n",
       "UCAYALI       2020           20578\n",
       "              2021            8682"
      ]
     },
     "execution_count": 10,
     "metadata": {},
     "output_type": "execute_result"
    }
   ],
   "source": [
    "casos_year_covid_peru"
   ]
  },
  {
   "cell_type": "markdown",
   "metadata": {},
   "source": [
    "## Ejemplo de función que abrirá un diccionario"
   ]
  },
  {
   "cell_type": "markdown",
   "metadata": {},
   "source": [
    "### Llamando a un diccionario"
   ]
  },
  {
   "cell_type": "code",
   "execution_count": 5,
   "metadata": {},
   "outputs": [],
   "source": [
    "dictionary_places = open( r\"..\\..\\data\\places_result\", \"rb\")\n",
    "places_result = pickle.load( dictionary_places )"
   ]
  },
  {
   "cell_type": "code",
   "execution_count": 36,
   "metadata": {},
   "outputs": [],
   "source": [
    "datas = pd.DataFrame( columns = ['Institucion','latitude','Longitud'] )"
   ]
  },
  {
   "cell_type": "code",
   "execution_count": 37,
   "metadata": {},
   "outputs": [],
   "source": [
    "resultados = places_result['results']"
   ]
  },
  {
   "cell_type": "code",
   "execution_count": 40,
   "metadata": {},
   "outputs": [],
   "source": [
    "for fila in range( 0 , len( resultados ) ):\n",
    "    \n",
    "    datas.loc[fila] = [resultados[ fila ]['name'], \\\n",
    "                       resultados[ fila ]['geometry']['location']['lat'], \\\n",
    "                       resultados[ fila ]['geometry']['location']['lng']]"
   ]
  },
  {
   "cell_type": "code",
   "execution_count": null,
   "metadata": {},
   "outputs": [],
   "source": [
    "datas"
   ]
  },
  {
   "cell_type": "code",
   "execution_count": null,
   "metadata": {},
   "outputs": [],
   "source": [
    "# Lista\n",
    "resultados = places_result['results']\n",
    "\n",
    "# Como acceder a cada a la informacion que queremos\n",
    "# resultados[ 0 ]['name']\n",
    "# resultados[ 0 ]['geometry']['location']['lat']\n",
    "# resultados[ 0 ]['geometry']['location']['lng']\n",
    "\n",
    "# Listas\n",
    "# latitudes = []\n",
    "# longitudes = []\n",
    "# instituciones = []\n",
    "\n",
    "\n",
    "# loop para guardar cada uno de los elementos\n",
    "for fila in range( 0 , len( resultados ) ):\n",
    "    # latitude\n",
    "    lat = resultados[ fila ]['geometry']['location']['lat']\n",
    "    \n",
    "    # Longitude\n",
    "    lng = resultados[ fila ]['geometry']['location']['lng']\n",
    "    \n",
    "    # nombre de la institucion\n",
    "    institucion = resultados[ fila ]['name']\n",
    "    \n",
    "    # Save results\n",
    "    latitudes.append( lat )\n",
    "    longitudes.append( lng )\n",
    "    instituciones.append( institucion )\n",
    "\n",
    "\n",
    "# # Diccionario\n",
    "# NIMC = { 'Instituciones': instituciones, 'Latitud' : latitudes, 'Longitud' : longitudes }\n",
    "# # Dataframe\n",
    "# NIMC_DF = pd.DataFrame( NIMC )"
   ]
  },
  {
   "cell_type": "markdown",
   "metadata": {},
   "source": [
    "## Valores de los argumentos"
   ]
  },
  {
   "cell_type": "code",
   "execution_count": 68,
   "metadata": {},
   "outputs": [],
   "source": [
    "def dict_tabla( diccionario, retorno = 'resultado_diccionario'):\n",
    "    \n",
    "    # Lista\n",
    "    resultados = diccionario['results']\n",
    "    \n",
    "    # Listas\n",
    "    latitudes = []\n",
    "    longitudes = []\n",
    "    instituciones = []\n",
    "    \n",
    "    for fila in range( 0 , len( resultados ) ):\n",
    "        # latitude\n",
    "        lat = resultados[ fila ]['geometry']['location']['lat']\n",
    "\n",
    "        # Longitude\n",
    "        lng = resultados[ fila ]['geometry']['location']['lng']\n",
    "\n",
    "        # nombre de la institucion\n",
    "        institucion = resultados[ fila ]['name']\n",
    "\n",
    "        # Save results\n",
    "        latitudes.append( lat )\n",
    "        longitudes.append( lng )\n",
    "        instituciones.append( institucion )\n",
    "        \n",
    "    # Diccionario\n",
    "    NIMC = { 'Instituciones': instituciones, 'Latitud' : latitudes, 'Longitud' : longitudes }\n",
    "    # Dataframe\n",
    "    NIMC_DF = pd.DataFrame( NIMC )\n",
    "    \n",
    "    \n",
    "    \n",
    "    \n",
    "    if retorno == 'resultado_dataframe':\n",
    "        return NIMC_DF\n",
    "    elif retorno == 'resultado_listas':\n",
    "        return [instituciones, latitudes, longitudes]\n",
    "    elif retorno == 'resultado_diccionario':\n",
    "        return NIMC\n",
    "    else:\n",
    "        return 'No hay nada'"
   ]
  },
  {
   "cell_type": "code",
   "execution_count": 63,
   "metadata": {},
   "outputs": [],
   "source": [
    "listas = ['hola']"
   ]
  },
  {
   "cell_type": "code",
   "execution_count": 69,
   "metadata": {
    "scrolled": true
   },
   "outputs": [
    {
     "data": {
      "text/plain": [
       "'No hay nada'"
      ]
     },
     "execution_count": 69,
     "metadata": {},
     "output_type": "execute_result"
    }
   ],
   "source": [
    "dict_tabla( places_result , retorno = 'Gato' )"
   ]
  },
  {
   "cell_type": "code",
   "execution_count": 62,
   "metadata": {},
   "outputs": [
    {
     "ename": "NameError",
     "evalue": "name 'ab' is not defined",
     "output_type": "error",
     "traceback": [
      "\u001b[1;31m---------------------------------------------------------------------------\u001b[0m",
      "\u001b[1;31mNameError\u001b[0m                                 Traceback (most recent call last)",
      "\u001b[1;32m<ipython-input-62-5277cbb45a15>\u001b[0m in \u001b[0;36m<module>\u001b[1;34m\u001b[0m\n\u001b[1;32m----> 1\u001b[1;33m \u001b[0mab\u001b[0m\u001b[1;33m\u001b[0m\u001b[1;33m\u001b[0m\u001b[0m\n\u001b[0m",
      "\u001b[1;31mNameError\u001b[0m: name 'ab' is not defined"
     ]
    }
   ],
   "source": [
    "ab"
   ]
  },
  {
   "cell_type": "code",
   "execution_count": 55,
   "metadata": {},
   "outputs": [],
   "source": [
    "url = \"https://cloud.minsa.gob.pe/s/Y8w3wHsEdYQSZRp/download\"\n",
    "# guardando la data positivos covid\n",
    "csv_url = requests.get( url ).content\n"
   ]
  },
  {
   "cell_type": "code",
   "execution_count": 58,
   "metadata": {},
   "outputs": [
    {
     "name": "stderr",
     "output_type": "stream",
     "text": [
      "<ipython-input-58-56ec561ddb87>:1: ParserWarning: Falling back to the 'python' engine because the 'c' engine does not support regex separators (separators > 1 char and different from '\\s+' are interpreted as regex); you can avoid this warning by specifying engine='python'.\n",
      "  pd.read_csv( io.StringIO( csv_url.decode( 'utf-8' ) ) , delimiter = \"hola\")\n"
     ]
    },
    {
     "data": {
      "text/html": [
       "<div>\n",
       "<style scoped>\n",
       "    .dataframe tbody tr th:only-of-type {\n",
       "        vertical-align: middle;\n",
       "    }\n",
       "\n",
       "    .dataframe tbody tr th {\n",
       "        vertical-align: top;\n",
       "    }\n",
       "\n",
       "    .dataframe thead th {\n",
       "        text-align: right;\n",
       "    }\n",
       "</style>\n",
       "<table border=\"1\" class=\"dataframe\">\n",
       "  <thead>\n",
       "    <tr style=\"text-align: right;\">\n",
       "      <th></th>\n",
       "      <th>FECHA_CORTE;UUID;DEPARTAMENTO;PROVINCIA;DISTRITO;METODODX;EDAD;SEXO;FECHA_RESULTADO</th>\n",
       "    </tr>\n",
       "  </thead>\n",
       "  <tbody>\n",
       "    <tr>\n",
       "      <th>0</th>\n",
       "      <td>20210320;7320cabdc1aaca6c59014cae76a134e6;LIMA...</td>\n",
       "    </tr>\n",
       "    <tr>\n",
       "      <th>1</th>\n",
       "      <td>20210320;e81602051997ace8340bb8c18fe24c65;APUR...</td>\n",
       "    </tr>\n",
       "    <tr>\n",
       "      <th>2</th>\n",
       "      <td>20210320;cecdbf10074dbc011ae05b3cbd320a6f;APUR...</td>\n",
       "    </tr>\n",
       "    <tr>\n",
       "      <th>3</th>\n",
       "      <td>20210320;71ecb6bccb248b0bb2ac72ed51b5e979;APUR...</td>\n",
       "    </tr>\n",
       "    <tr>\n",
       "      <th>4</th>\n",
       "      <td>20210320;566af4276cbe9359abe93f9aa86396c3;APUR...</td>\n",
       "    </tr>\n",
       "    <tr>\n",
       "      <th>...</th>\n",
       "      <td>...</td>\n",
       "    </tr>\n",
       "    <tr>\n",
       "      <th>1466321</th>\n",
       "      <td>20210320;67c6b7adbb696c1dfcd52bcad58eb217;AMAZ...</td>\n",
       "    </tr>\n",
       "    <tr>\n",
       "      <th>1466322</th>\n",
       "      <td>20210320;6d676a0d76ef2143abc92abddaa72b9e;AMAZ...</td>\n",
       "    </tr>\n",
       "    <tr>\n",
       "      <th>1466323</th>\n",
       "      <td>20210320;511e467b0dc5fdbf8429d33965888fe8;LORE...</td>\n",
       "    </tr>\n",
       "    <tr>\n",
       "      <th>1466324</th>\n",
       "      <td>20210320;bafc26011d0471f2e926ea1bf454a958;LORE...</td>\n",
       "    </tr>\n",
       "    <tr>\n",
       "      <th>1466325</th>\n",
       "      <td>20210320;4e6e12bc52773a2479a4b3b4a50a6a9d;SAN ...</td>\n",
       "    </tr>\n",
       "  </tbody>\n",
       "</table>\n",
       "<p>1466326 rows × 1 columns</p>\n",
       "</div>"
      ],
      "text/plain": [
       "        FECHA_CORTE;UUID;DEPARTAMENTO;PROVINCIA;DISTRITO;METODODX;EDAD;SEXO;FECHA_RESULTADO\n",
       "0        20210320;7320cabdc1aaca6c59014cae76a134e6;LIMA...                                 \n",
       "1        20210320;e81602051997ace8340bb8c18fe24c65;APUR...                                 \n",
       "2        20210320;cecdbf10074dbc011ae05b3cbd320a6f;APUR...                                 \n",
       "3        20210320;71ecb6bccb248b0bb2ac72ed51b5e979;APUR...                                 \n",
       "4        20210320;566af4276cbe9359abe93f9aa86396c3;APUR...                                 \n",
       "...                                                    ...                                 \n",
       "1466321  20210320;67c6b7adbb696c1dfcd52bcad58eb217;AMAZ...                                 \n",
       "1466322  20210320;6d676a0d76ef2143abc92abddaa72b9e;AMAZ...                                 \n",
       "1466323  20210320;511e467b0dc5fdbf8429d33965888fe8;LORE...                                 \n",
       "1466324  20210320;bafc26011d0471f2e926ea1bf454a958;LORE...                                 \n",
       "1466325  20210320;4e6e12bc52773a2479a4b3b4a50a6a9d;SAN ...                                 \n",
       "\n",
       "[1466326 rows x 1 columns]"
      ]
     },
     "execution_count": 58,
     "metadata": {},
     "output_type": "execute_result"
    }
   ],
   "source": [
    "pd.read_csv( io.StringIO( csv_url.decode( 'utf-8' ) ) , delimiter = \"hola\")"
   ]
  },
  {
   "cell_type": "code",
   "execution_count": null,
   "metadata": {},
   "outputs": [],
   "source": []
  },
  {
   "cell_type": "code",
   "execution_count": null,
   "metadata": {},
   "outputs": [],
   "source": []
  },
  {
   "cell_type": "code",
   "execution_count": 14,
   "metadata": {},
   "outputs": [],
   "source": [
    "tabla_final = dict_tabla( places_result )"
   ]
  },
  {
   "cell_type": "code",
   "execution_count": 15,
   "metadata": {},
   "outputs": [
    {
     "data": {
      "text/html": [
       "<div>\n",
       "<style scoped>\n",
       "    .dataframe tbody tr th:only-of-type {\n",
       "        vertical-align: middle;\n",
       "    }\n",
       "\n",
       "    .dataframe tbody tr th {\n",
       "        vertical-align: top;\n",
       "    }\n",
       "\n",
       "    .dataframe thead th {\n",
       "        text-align: right;\n",
       "    }\n",
       "</style>\n",
       "<table border=\"1\" class=\"dataframe\">\n",
       "  <thead>\n",
       "    <tr style=\"text-align: right;\">\n",
       "      <th></th>\n",
       "      <th>Instituciones</th>\n",
       "      <th>Latitud</th>\n",
       "      <th>Longitud</th>\n",
       "    </tr>\n",
       "  </thead>\n",
       "  <tbody>\n",
       "    <tr>\n",
       "      <th>0</th>\n",
       "      <td>National Identity Management Commission</td>\n",
       "      <td>9.065977</td>\n",
       "      <td>7.454961</td>\n",
       "    </tr>\n",
       "    <tr>\n",
       "      <th>1</th>\n",
       "      <td>National Identity Management Commission NIMC</td>\n",
       "      <td>8.505730</td>\n",
       "      <td>8.531775</td>\n",
       "    </tr>\n",
       "    <tr>\n",
       "      <th>2</th>\n",
       "      <td>National Identity Management Commission (Nimc)</td>\n",
       "      <td>8.450151</td>\n",
       "      <td>4.542503</td>\n",
       "    </tr>\n",
       "    <tr>\n",
       "      <th>3</th>\n",
       "      <td>National Identity Management Commission</td>\n",
       "      <td>9.058854</td>\n",
       "      <td>7.468078</td>\n",
       "    </tr>\n",
       "    <tr>\n",
       "      <th>4</th>\n",
       "      <td>National Identity Management Commission (Nimc)</td>\n",
       "      <td>9.895973</td>\n",
       "      <td>8.931434</td>\n",
       "    </tr>\n",
       "    <tr>\n",
       "      <th>5</th>\n",
       "      <td>National Identity Management Commission</td>\n",
       "      <td>9.892295</td>\n",
       "      <td>8.917566</td>\n",
       "    </tr>\n",
       "    <tr>\n",
       "      <th>6</th>\n",
       "      <td>National Identity Management Commission</td>\n",
       "      <td>9.857233</td>\n",
       "      <td>7.967972</td>\n",
       "    </tr>\n",
       "    <tr>\n",
       "      <th>7</th>\n",
       "      <td>National Identity Management Commission (Nimc)</td>\n",
       "      <td>7.711656</td>\n",
       "      <td>8.526523</td>\n",
       "    </tr>\n",
       "    <tr>\n",
       "      <th>8</th>\n",
       "      <td>National Identity Management Commission (Nimc)</td>\n",
       "      <td>10.310332</td>\n",
       "      <td>9.826602</td>\n",
       "    </tr>\n",
       "    <tr>\n",
       "      <th>9</th>\n",
       "      <td>National Identity Management Commission</td>\n",
       "      <td>11.989994</td>\n",
       "      <td>8.489165</td>\n",
       "    </tr>\n",
       "    <tr>\n",
       "      <th>10</th>\n",
       "      <td>National Identity Management Commission (Nimc)</td>\n",
       "      <td>10.592473</td>\n",
       "      <td>7.449456</td>\n",
       "    </tr>\n",
       "    <tr>\n",
       "      <th>11</th>\n",
       "      <td>National Identity Management Center</td>\n",
       "      <td>5.471781</td>\n",
       "      <td>7.008344</td>\n",
       "    </tr>\n",
       "    <tr>\n",
       "      <th>12</th>\n",
       "      <td>National Identity Management Commission (Nimc)</td>\n",
       "      <td>9.076770</td>\n",
       "      <td>7.493777</td>\n",
       "    </tr>\n",
       "    <tr>\n",
       "      <th>13</th>\n",
       "      <td>National Identity Management Commision (NIMC) ...</td>\n",
       "      <td>6.617086</td>\n",
       "      <td>3.357951</td>\n",
       "    </tr>\n",
       "    <tr>\n",
       "      <th>14</th>\n",
       "      <td>National Identity Management Commission</td>\n",
       "      <td>6.460106</td>\n",
       "      <td>7.579009</td>\n",
       "    </tr>\n",
       "    <tr>\n",
       "      <th>15</th>\n",
       "      <td>National Identity Management Commission, North...</td>\n",
       "      <td>10.543617</td>\n",
       "      <td>7.460988</td>\n",
       "    </tr>\n",
       "    <tr>\n",
       "      <th>16</th>\n",
       "      <td>National Identity Management Commission (Nimc)</td>\n",
       "      <td>11.988203</td>\n",
       "      <td>8.496804</td>\n",
       "    </tr>\n",
       "    <tr>\n",
       "      <th>17</th>\n",
       "      <td>National Identity Management Commission Umuahia</td>\n",
       "      <td>5.502502</td>\n",
       "      <td>7.517956</td>\n",
       "    </tr>\n",
       "    <tr>\n",
       "      <th>18</th>\n",
       "      <td>National Identity Management Commission</td>\n",
       "      <td>4.822006</td>\n",
       "      <td>7.007972</td>\n",
       "    </tr>\n",
       "    <tr>\n",
       "      <th>19</th>\n",
       "      <td>National Identity Management Commission Nimc</td>\n",
       "      <td>4.849608</td>\n",
       "      <td>7.052736</td>\n",
       "    </tr>\n",
       "  </tbody>\n",
       "</table>\n",
       "</div>"
      ],
      "text/plain": [
       "                                        Instituciones    Latitud  Longitud\n",
       "0             National Identity Management Commission   9.065977  7.454961\n",
       "1        National Identity Management Commission NIMC   8.505730  8.531775\n",
       "2      National Identity Management Commission (Nimc)   8.450151  4.542503\n",
       "3             National Identity Management Commission   9.058854  7.468078\n",
       "4      National Identity Management Commission (Nimc)   9.895973  8.931434\n",
       "5             National Identity Management Commission   9.892295  8.917566\n",
       "6             National Identity Management Commission   9.857233  7.967972\n",
       "7      National Identity Management Commission (Nimc)   7.711656  8.526523\n",
       "8      National Identity Management Commission (Nimc)  10.310332  9.826602\n",
       "9             National Identity Management Commission  11.989994  8.489165\n",
       "10     National Identity Management Commission (Nimc)  10.592473  7.449456\n",
       "11                National Identity Management Center   5.471781  7.008344\n",
       "12     National Identity Management Commission (Nimc)   9.076770  7.493777\n",
       "13  National Identity Management Commision (NIMC) ...   6.617086  3.357951\n",
       "14            National Identity Management Commission   6.460106  7.579009\n",
       "15  National Identity Management Commission, North...  10.543617  7.460988\n",
       "16     National Identity Management Commission (Nimc)  11.988203  8.496804\n",
       "17    National Identity Management Commission Umuahia   5.502502  7.517956\n",
       "18            National Identity Management Commission   4.822006  7.007972\n",
       "19       National Identity Management Commission Nimc   4.849608  7.052736"
      ]
     },
     "execution_count": 15,
     "metadata": {},
     "output_type": "execute_result"
    }
   ],
   "source": [
    "tabla_final"
   ]
  },
  {
   "cell_type": "code",
   "execution_count": null,
   "metadata": {},
   "outputs": [],
   "source": []
  },
  {
   "cell_type": "code",
   "execution_count": null,
   "metadata": {
    "scrolled": false
   },
   "outputs": [],
   "source": [
    "lat = places_result['results'][ 0 ]['geometry']['location']['lat']\n",
    "\n",
    "lng = places_result[ 'results' ][ 0 ]['geometry']['location']['lng']"
   ]
  },
  {
   "cell_type": "markdown",
   "metadata": {},
   "source": [
    "### Definiendo una función"
   ]
  },
  {
   "cell_type": "code",
   "execution_count": null,
   "metadata": {},
   "outputs": [],
   "source": [
    "for obs in range( 0, len(resultados) ):\n",
    "    \n",
    "    solucion.loc[ resultados.index(obs) ] = [resultados[ obs ]['name'], resultados[ obs ]['geometry']['location']['lat'], resultados[ obs ]['geometry']['location']['lng'] ]\n",
    "    \n",
    "    print(resultados[ obs ]['name'])\n",
    "\n",
    "    print(resultados[ obs ]['geometry']['location']['lat'])\n",
    "\n",
    "    print(resultados[ obs ]['geometry']['location']['lng'], \"\\n\")"
   ]
  },
  {
   "cell_type": "code",
   "execution_count": null,
   "metadata": {},
   "outputs": [],
   "source": [
    "# Getting information from dictionaries\n",
    "\n",
    "def places_frame( map_place_dict ):\n",
    "    \n",
    "    latitude = []\n",
    "    longitud = []\n",
    "    name_inst = []\n",
    "    address = []\n",
    "    \n",
    "    results = len( map_place_dict[ 'results' ] )\n",
    "    \n",
    "    for rest in range( 0 , results ):\n",
    "        \n",
    "        lat = map_place_dict[ 'results' ][ rest ]['geometry']['location']['lat']\n",
    "        latitude.append( lat )\n",
    "        \n",
    "        long = map_place_dict[ 'results' ][ rest ]['geometry']['location']['lng']\n",
    "        longitud.append( long )\n",
    "        \n",
    "        name = map_place_dict[ 'results' ][ rest ][ 'name' ]\n",
    "        name_inst.append( name )\n",
    "        \n",
    "        adrs = map_place_dict[ 'results' ][ rest ][ 'formatted_address' ]\n",
    "        address.append( adrs )\n",
    "        \n",
    "    \n",
    "    data_frame = pd.DataFrame( { 'Institution' : name_inst, 'Location_Addres' : address , 'Latitude' : latitude ,'Longitud' : longitud } )\n",
    "        \n",
    "    return data_frame"
   ]
  },
  {
   "cell_type": "code",
   "execution_count": null,
   "metadata": {},
   "outputs": [],
   "source": [
    "places_frame( places_result )"
   ]
  }
 ],
 "metadata": {
  "hide_input": false,
  "kernelspec": {
   "display_name": "Python 3",
   "language": "python",
   "name": "python3"
  },
  "language_info": {
   "codemirror_mode": {
    "name": "ipython",
    "version": 3
   },
   "file_extension": ".py",
   "mimetype": "text/x-python",
   "name": "python",
   "nbconvert_exporter": "python",
   "pygments_lexer": "ipython3",
   "version": "3.8.8"
  }
 },
 "nbformat": 4,
 "nbformat_minor": 4
}
