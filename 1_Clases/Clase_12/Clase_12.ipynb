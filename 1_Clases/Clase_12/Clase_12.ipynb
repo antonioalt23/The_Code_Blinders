{
 "cells": [
  {
   "cell_type": "code",
   "execution_count": 11,
   "metadata": {},
   "outputs": [],
   "source": [
    "import pandas as pd"
   ]
  },
  {
   "cell_type": "code",
   "execution_count": 12,
   "metadata": {},
   "outputs": [],
   "source": [
    "import pickle"
   ]
  },
  {
   "cell_type": "markdown",
   "metadata": {},
   "source": [
    "# Funciones\n",
    "\n",
    "En esta clase trataremos acerca de todo lo relacionado con la creación de funciones en el entorno de Python."
   ]
  },
  {
   "cell_type": "markdown",
   "metadata": {},
   "source": [
    "## Estructura basica de una función"
   ]
  },
  {
   "cell_type": "code",
   "execution_count": 35,
   "metadata": {},
   "outputs": [],
   "source": [
    "def mi_function(x):\n",
    "    \n",
    "    # codigo codigo\n",
    "    \n",
    "    return resultado"
   ]
  },
  {
   "cell_type": "markdown",
   "metadata": {},
   "source": [
    "### Variables internas VS  Variables Externas"
   ]
  },
  {
   "cell_type": "code",
   "execution_count": 36,
   "metadata": {},
   "outputs": [
    {
     "name": "stdout",
     "output_type": "stream",
     "text": [
      "0\n",
      "1\n",
      "2\n",
      "3\n",
      "4\n"
     ]
    }
   ],
   "source": [
    "for x in range(0, 5):\n",
    "    print(x)"
   ]
  },
  {
   "cell_type": "code",
   "execution_count": 37,
   "metadata": {},
   "outputs": [
    {
     "data": {
      "text/plain": [
       "4"
      ]
     },
     "execution_count": 37,
     "metadata": {},
     "output_type": "execute_result"
    }
   ],
   "source": [
    "x"
   ]
  },
  {
   "cell_type": "code",
   "execution_count": 41,
   "metadata": {},
   "outputs": [],
   "source": [
    "def calculadora( z , y):\n",
    "    resultado = z * y\n",
    "    \n",
    "    return resultado"
   ]
  },
  {
   "cell_type": "code",
   "execution_count": 42,
   "metadata": {},
   "outputs": [
    {
     "data": {
      "text/plain": [
       "30"
      ]
     },
     "execution_count": 42,
     "metadata": {},
     "output_type": "execute_result"
    }
   ],
   "source": [
    "calculadora( z = 5, y = 6)"
   ]
  },
  {
   "cell_type": "markdown",
   "metadata": {},
   "source": [
    "### Metodos de las variables"
   ]
  },
  {
   "cell_type": "code",
   "execution_count": 44,
   "metadata": {},
   "outputs": [],
   "source": [
    "import numpy as np\n",
    "import pandas as pd"
   ]
  },
  {
   "cell_type": "code",
   "execution_count": 46,
   "metadata": {},
   "outputs": [],
   "source": [
    "edades = np.array( [15, 19, 48, 15, 17 ,61 ,78 ,79, 45])\n",
    "edades = edades.reshape(3, 3)"
   ]
  },
  {
   "cell_type": "code",
   "execution_count": 47,
   "metadata": {},
   "outputs": [],
   "source": [
    "notas = np.array( [11, 12, 13, 14, 15, 16, 17, 17, 18])\n",
    "notas = notas.reshape(3, 3)"
   ]
  },
  {
   "cell_type": "code",
   "execution_count": 61,
   "metadata": {},
   "outputs": [],
   "source": [
    "filas_edades = edades.shape[0]\n",
    "clumn_edades = edades.shape[1]"
   ]
  },
  {
   "cell_type": "code",
   "execution_count": 62,
   "metadata": {},
   "outputs": [],
   "source": [
    "filas_notas = notas.shape[0]\n",
    "clumn_notas = notas.shape[1]"
   ]
  },
  {
   "cell_type": "code",
   "execution_count": 59,
   "metadata": {},
   "outputs": [
    {
     "data": {
      "text/plain": [
       "True"
      ]
     },
     "execution_count": 59,
     "metadata": {},
     "output_type": "execute_result"
    }
   ],
   "source": [
    "filas_edades == filas_notas"
   ]
  },
  {
   "cell_type": "code",
   "execution_count": 63,
   "metadata": {},
   "outputs": [
    {
     "data": {
      "text/plain": [
       "True"
      ]
     },
     "execution_count": 63,
     "metadata": {},
     "output_type": "execute_result"
    }
   ],
   "source": [
    "clumn_edades == clumn_notas"
   ]
  },
  {
   "cell_type": "code",
   "execution_count": 73,
   "metadata": {},
   "outputs": [],
   "source": [
    "def igual_filas( a, b ):\n",
    "    \n",
    "    filas_a = a.shape[0]\n",
    "    filas_b = b.shape[ 0 ]\n",
    "    comparacion = filas_a == filas_b\n",
    "    \n",
    "    return (filas_a, filas_b)"
   ]
  },
  {
   "cell_type": "code",
   "execution_count": 67,
   "metadata": {},
   "outputs": [],
   "source": [
    "notas = notas.reshape(9, 1)"
   ]
  },
  {
   "cell_type": "code",
   "execution_count": 74,
   "metadata": {},
   "outputs": [],
   "source": [
    "escala = ['do', 're', 'mi']"
   ]
  },
  {
   "cell_type": "code",
   "execution_count": 80,
   "metadata": {},
   "outputs": [],
   "source": [
    "def lista_vs_array( a , b, c_funcion ):\n",
    "    \n",
    "    resultado1 = c_funcion( b )\n",
    "    resultado2 = resultado1 * a\n",
    "    \n",
    "    return resultado2    "
   ]
  },
  {
   "cell_type": "code",
   "execution_count": 82,
   "metadata": {},
   "outputs": [],
   "source": [
    "array_lenLista = lista_vs_array( edades, escala, len )"
   ]
  },
  {
   "cell_type": "code",
   "execution_count": 77,
   "metadata": {
    "scrolled": true
   },
   "outputs": [
    {
     "data": {
      "text/plain": [
       "array([[15, 19, 48],\n",
       "       [15, 17, 61],\n",
       "       [78, 79, 45]])"
      ]
     },
     "execution_count": 77,
     "metadata": {},
     "output_type": "execute_result"
    }
   ],
   "source": [
    "edades"
   ]
  },
  {
   "cell_type": "code",
   "execution_count": null,
   "metadata": {},
   "outputs": [],
   "source": []
  },
  {
   "cell_type": "code",
   "execution_count": null,
   "metadata": {},
   "outputs": [],
   "source": []
  },
  {
   "cell_type": "code",
   "execution_count": null,
   "metadata": {},
   "outputs": [],
   "source": []
  },
  {
   "cell_type": "code",
   "execution_count": null,
   "metadata": {},
   "outputs": [],
   "source": []
  },
  {
   "cell_type": "code",
   "execution_count": 2,
   "metadata": {},
   "outputs": [],
   "source": [
    "import pandas as pd\n",
    "import io\n",
    "import requests\n"
   ]
  },
  {
   "cell_type": "code",
   "execution_count": 3,
   "metadata": {},
   "outputs": [],
   "source": [
    "def da_positivos():\n",
    "    # link de la data de positivos covid\n",
    "    url = \"https://cloud.minsa.gob.pe/s/Y8w3wHsEdYQSZRp/download\"\n",
    "    # guardando la data positivos covid\n",
    "    csv_url = requests.get( url ).content\n",
    "    \n",
    "    # transformando de csv a dataframe\n",
    "    data = pd.read_csv( io.StringIO( csv_url.decode( 'utf-8' ) ) , delimiter = \";\")\n",
    "    \n",
    "    # Toma el año, mes y día\n",
    "    data['year'] = data['FECHA_RESULTADO'].astype(str).str[:4]\n",
    "    data['mes'] = data['FECHA_RESULTADO'].astype(str).str[4:6]\n",
    "    data['day'] = data['FECHA_RESULTADO'].astype(str).str[6:8]\n",
    "    \n",
    "    # Eliminar data vacia en la variable FECHA_RESULTADO\n",
    "    data = data[ data[ 'year' ] != 'nan']\n",
    "    \n",
    "    # Agrupa por departamento y año\n",
    "    data1 = data.groupby(['DEPARTAMENTO', 'year'])[['UUID']].count().rename(columns = {'UUID':'Casos por year'} )\n",
    "    \n",
    "    return data1"
   ]
  },
  {
   "cell_type": "code",
   "execution_count": 5,
   "metadata": {},
   "outputs": [],
   "source": [
    "casos_year_covid_peru = da_positivos()"
   ]
  },
  {
   "cell_type": "code",
   "execution_count": null,
   "metadata": {},
   "outputs": [],
   "source": [
    "casos_year_covid_peru"
   ]
  },
  {
   "cell_type": "code",
   "execution_count": null,
   "metadata": {},
   "outputs": [],
   "source": []
  },
  {
   "cell_type": "code",
   "execution_count": null,
   "metadata": {},
   "outputs": [],
   "source": []
  },
  {
   "cell_type": "code",
   "execution_count": null,
   "metadata": {},
   "outputs": [],
   "source": []
  },
  {
   "cell_type": "code",
   "execution_count": null,
   "metadata": {},
   "outputs": [],
   "source": []
  },
  {
   "cell_type": "code",
   "execution_count": null,
   "metadata": {},
   "outputs": [],
   "source": []
  },
  {
   "cell_type": "code",
   "execution_count": null,
   "metadata": {},
   "outputs": [],
   "source": []
  },
  {
   "cell_type": "markdown",
   "metadata": {},
   "source": [
    "### Llamando a un diccionario"
   ]
  },
  {
   "cell_type": "code",
   "execution_count": 13,
   "metadata": {},
   "outputs": [],
   "source": [
    "dictionary_places = open( r\"..\\..\\data\\places_result\", \"rb\")\n",
    "places_result = pickle.load( dictionary_places )"
   ]
  },
  {
   "cell_type": "code",
   "execution_count": 45,
   "metadata": {
    "scrolled": false
   },
   "outputs": [],
   "source": [
    "lat = places_result['results'][ 0 ]['geometry']['location']['lat']\n",
    "\n",
    "lng = places_result[ 'results' ][ 0 ]['geometry']['location']['lng']"
   ]
  },
  {
   "cell_type": "code",
   "execution_count": 48,
   "metadata": {},
   "outputs": [],
   "source": [
    "institucion = places_result['results'][ 0 ]['name']"
   ]
  },
  {
   "cell_type": "code",
   "execution_count": null,
   "metadata": {},
   "outputs": [],
   "source": [
    "latitudes = []\n",
    "longitudes = []\n",
    "instituciones = []"
   ]
  },
  {
   "cell_type": "code",
   "execution_count": null,
   "metadata": {},
   "outputs": [],
   "source": [
    "for fila in range( 0 , len( places_result['results'] ) ):\n",
    "    # latitude\n",
    "    lat = places_result['results'][ fila ]['geometry']['location']['lat']\n",
    "    \n",
    "    # Longitude\n",
    "    lng = places_result[ 'results' ][ fila ]['geometry']['location']['lng']\n",
    "    \n",
    "    # nombre de la institucion\n",
    "    institucion = places_result['results'][ fila ]['name']\n",
    "    \n",
    "    # Save results\n",
    "    \n",
    "    "
   ]
  },
  {
   "cell_type": "code",
   "execution_count": null,
   "metadata": {},
   "outputs": [],
   "source": []
  },
  {
   "cell_type": "markdown",
   "metadata": {},
   "source": [
    "### Definiendo una función"
   ]
  },
  {
   "cell_type": "code",
   "execution_count": 12,
   "metadata": {},
   "outputs": [],
   "source": [
    "# Getting information from dictionaries\n",
    "\n",
    "def places_frame( map_place_dict ):\n",
    "    \n",
    "    latitude = []\n",
    "    longitud = []\n",
    "    name_inst = []\n",
    "    address = []\n",
    "    \n",
    "    results = len( map_place_dict[ 'results' ] )\n",
    "    \n",
    "    for rest in range( 0 , results ):\n",
    "        \n",
    "        lat = map_place_dict[ 'results' ][ rest ]['geometry']['location']['lat']\n",
    "        latitude.append( lat )\n",
    "        \n",
    "        long = map_place_dict[ 'results' ][ rest ]['geometry']['location']['lng']\n",
    "        longitud.append( long )\n",
    "        \n",
    "        name = map_place_dict[ 'results' ][ rest ][ 'name' ]\n",
    "        name_inst.append( name )\n",
    "        \n",
    "        adrs = map_place_dict[ 'results' ][ rest ][ 'formatted_address' ]\n",
    "        address.append( adrs )\n",
    "        \n",
    "    \n",
    "    data_frame = pd.DataFrame( { 'Institution' : name_inst, 'Location_Addres' : address , 'Latitude' : latitude ,'Longitud' : longitud } )\n",
    "        \n",
    "    return data_frame"
   ]
  },
  {
   "cell_type": "code",
   "execution_count": null,
   "metadata": {},
   "outputs": [],
   "source": [
    "places_frame( places_result )"
   ]
  },
  {
   "cell_type": "code",
   "execution_count": null,
   "metadata": {},
   "outputs": [],
   "source": []
  },
  {
   "cell_type": "code",
   "execution_count": 32,
   "metadata": {},
   "outputs": [],
   "source": [
    "import csv\n",
    "import urllib\n",
    "\n",
    "url = 'https://cloud.minsa.gob.pe/s/Y8w3wHsEdYQSZRp/download'\n",
    "response =  urllib.request.urlopen( url )\n",
    "cr = csv.reader( response )"
   ]
  }
 ],
 "metadata": {
  "hide_input": false,
  "kernelspec": {
   "display_name": "Python 3",
   "language": "python",
   "name": "python3"
  },
  "language_info": {
   "codemirror_mode": {
    "name": "ipython",
    "version": 3
   },
   "file_extension": ".py",
   "mimetype": "text/x-python",
   "name": "python",
   "nbconvert_exporter": "python",
   "pygments_lexer": "ipython3",
   "version": "3.8.6"
  }
 },
 "nbformat": 4,
 "nbformat_minor": 4
}
