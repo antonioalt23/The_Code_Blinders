{
 "cells": [
  {
   "cell_type": "code",
   "execution_count": 13,
   "metadata": {},
   "outputs": [],
   "source": [
    "import pandas as pd"
   ]
  },
  {
   "cell_type": "code",
   "execution_count": 4,
   "metadata": {},
   "outputs": [],
   "source": [
    "import pickle"
   ]
  },
  {
   "cell_type": "markdown",
   "metadata": {},
   "source": [
    "# Funciones\n",
    "\n",
    "En esta clase trataremos acerca de todo lo relacionado con la creación de funciones en el entorno de Python."
   ]
  },
  {
   "cell_type": "markdown",
   "metadata": {},
   "source": [
    "### Variables internas VS  Variables Externas"
   ]
  },
  {
   "cell_type": "markdown",
   "metadata": {},
   "source": []
  },
  {
   "cell_type": "code",
   "execution_count": null,
   "metadata": {},
   "outputs": [],
   "source": []
  },
  {
   "cell_type": "code",
   "execution_count": null,
   "metadata": {},
   "outputs": [],
   "source": []
  },
  {
   "cell_type": "markdown",
   "metadata": {},
   "source": [
    "### Llamando a un diccionario"
   ]
  },
  {
   "cell_type": "code",
   "execution_count": 8,
   "metadata": {},
   "outputs": [],
   "source": [
    "dictionary_places = open( r\"..\\..\\data\\places_result\", \"rb\")\n",
    "places_result = pickle.load( dictionary_places )"
   ]
  },
  {
   "cell_type": "code",
   "execution_count": null,
   "metadata": {},
   "outputs": [],
   "source": [
    "places_result"
   ]
  },
  {
   "cell_type": "markdown",
   "metadata": {},
   "source": [
    "### Definiendo una función"
   ]
  },
  {
   "cell_type": "code",
   "execution_count": 12,
   "metadata": {},
   "outputs": [],
   "source": [
    "# Getting information from dictionaries\n",
    "\n",
    "def places_frame( map_place_dict ):\n",
    "    \n",
    "    latitude = []\n",
    "    longitud = []\n",
    "    name_inst = []\n",
    "    address = []\n",
    "    \n",
    "    results = len( map_place_dict[ 'results' ] )\n",
    "    \n",
    "    for rest in range( 0 , results ):\n",
    "        \n",
    "        lat = map_place_dict[ 'results' ][ rest ]['geometry']['location']['lat']\n",
    "        latitude.append( lat )\n",
    "        \n",
    "        long = map_place_dict[ 'results' ][ rest ]['geometry']['location']['lng']\n",
    "        longitud.append( long )\n",
    "        \n",
    "        name = map_place_dict[ 'results' ][ rest ][ 'name' ]\n",
    "        name_inst.append( name )\n",
    "        \n",
    "        adrs = map_place_dict[ 'results' ][ rest ][ 'formatted_address' ]\n",
    "        address.append( adrs )\n",
    "        \n",
    "    \n",
    "    data_frame = pd.DataFrame( { 'Institution' : name_inst, 'Location_Addres' : address , 'Latitude' : latitude ,'Longitud' : longitud } )\n",
    "        \n",
    "    return data_frame"
   ]
  },
  {
   "cell_type": "code",
   "execution_count": null,
   "metadata": {},
   "outputs": [],
   "source": [
    "places_frame( places_result )"
   ]
  },
  {
   "cell_type": "code",
   "execution_count": null,
   "metadata": {},
   "outputs": [],
   "source": []
  },
  {
   "cell_type": "code",
   "execution_count": 32,
   "metadata": {},
   "outputs": [],
   "source": [
    "import csv\n",
    "import urllib\n",
    "\n",
    "url = 'https://cloud.minsa.gob.pe/s/Y8w3wHsEdYQSZRp/download'\n",
    "response =  urllib.request.urlopen( url )\n",
    "cr = csv.reader( response )"
   ]
  },
  {
   "cell_type": "code",
   "execution_count": 26,
   "metadata": {},
   "outputs": [],
   "source": [
    "import pandas as pd\n",
    "import io\n",
    "import requests\n",
    "url=\"https://cloud.minsa.gob.pe/s/Y8w3wHsEdYQSZRp/download\"\n",
    "csv_url=requests.get(url).content\n"
   ]
  },
  {
   "cell_type": "code",
   "execution_count": 25,
   "metadata": {},
   "outputs": [],
   "source": [
    "data=pd.read_csv( io.StringIO( csv_url.decode( 'utf-8' ) ) , delimiter = \";\")"
   ]
  },
  {
   "cell_type": "code",
   "execution_count": 26,
   "metadata": {
    "scrolled": true
   },
   "outputs": [
    {
     "data": {
      "text/html": [
       "<div>\n",
       "<style scoped>\n",
       "    .dataframe tbody tr th:only-of-type {\n",
       "        vertical-align: middle;\n",
       "    }\n",
       "\n",
       "    .dataframe tbody tr th {\n",
       "        vertical-align: top;\n",
       "    }\n",
       "\n",
       "    .dataframe thead th {\n",
       "        text-align: right;\n",
       "    }\n",
       "</style>\n",
       "<table border=\"1\" class=\"dataframe\">\n",
       "  <thead>\n",
       "    <tr style=\"text-align: right;\">\n",
       "      <th></th>\n",
       "      <th>FECHA_CORTE</th>\n",
       "      <th>UUID</th>\n",
       "      <th>DEPARTAMENTO</th>\n",
       "      <th>PROVINCIA</th>\n",
       "      <th>DISTRITO</th>\n",
       "      <th>METODODX</th>\n",
       "      <th>EDAD</th>\n",
       "      <th>SEXO</th>\n",
       "      <th>FECHA_RESULTADO</th>\n",
       "    </tr>\n",
       "  </thead>\n",
       "  <tbody>\n",
       "    <tr>\n",
       "      <th>0</th>\n",
       "      <td>20210316</td>\n",
       "      <td>7320cabdc1aaca6c59014cae76a134e6</td>\n",
       "      <td>LAMBAYEQUE</td>\n",
       "      <td>FERREÑAFE</td>\n",
       "      <td>FERREÑAFE</td>\n",
       "      <td>PR</td>\n",
       "      <td>35.0</td>\n",
       "      <td>FEMENINO</td>\n",
       "      <td>20200329.0</td>\n",
       "    </tr>\n",
       "    <tr>\n",
       "      <th>1</th>\n",
       "      <td>20210316</td>\n",
       "      <td>71ecb6bccb248b0bb2ac72ed51b5e979</td>\n",
       "      <td>LIMA</td>\n",
       "      <td>LIMA</td>\n",
       "      <td>CHORRILLOS</td>\n",
       "      <td>PR</td>\n",
       "      <td>36.0</td>\n",
       "      <td>MASCULINO</td>\n",
       "      <td>20200330.0</td>\n",
       "    </tr>\n",
       "    <tr>\n",
       "      <th>2</th>\n",
       "      <td>20210316</td>\n",
       "      <td>566af4276cbe9359abe93f9aa86396c3</td>\n",
       "      <td>LIMA</td>\n",
       "      <td>LIMA</td>\n",
       "      <td>LIMA</td>\n",
       "      <td>PR</td>\n",
       "      <td>1.0</td>\n",
       "      <td>FEMENINO</td>\n",
       "      <td>20200330.0</td>\n",
       "    </tr>\n",
       "  </tbody>\n",
       "</table>\n",
       "</div>"
      ],
      "text/plain": [
       "   FECHA_CORTE                              UUID DEPARTAMENTO  PROVINCIA  \\\n",
       "0     20210316  7320cabdc1aaca6c59014cae76a134e6   LAMBAYEQUE  FERREÑAFE   \n",
       "1     20210316  71ecb6bccb248b0bb2ac72ed51b5e979         LIMA       LIMA   \n",
       "2     20210316  566af4276cbe9359abe93f9aa86396c3         LIMA       LIMA   \n",
       "\n",
       "     DISTRITO METODODX  EDAD       SEXO  FECHA_RESULTADO  \n",
       "0   FERREÑAFE       PR  35.0   FEMENINO       20200329.0  \n",
       "1  CHORRILLOS       PR  36.0  MASCULINO       20200330.0  \n",
       "2        LIMA       PR   1.0   FEMENINO       20200330.0  "
      ]
     },
     "execution_count": 26,
     "metadata": {},
     "output_type": "execute_result"
    }
   ],
   "source": [
    "data.head(3)"
   ]
  },
  {
   "cell_type": "code",
   "execution_count": 27,
   "metadata": {},
   "outputs": [],
   "source": [
    "data['year'] = data['FECHA_RESULTADO'].astype(str).str[:4]\n",
    "data['mes'] = data['FECHA_RESULTADO'].astype(str).str[4:6]\n",
    "data['day'] = data['FECHA_RESULTADO'].astype(str).str[6:8]"
   ]
  },
  {
   "cell_type": "code",
   "execution_count": 28,
   "metadata": {},
   "outputs": [],
   "source": [
    "data = data[data['year'] != 'nan']"
   ]
  },
  {
   "cell_type": "code",
   "execution_count": 32,
   "metadata": {},
   "outputs": [],
   "source": [
    "data1 = data.groupby(['DEPARTAMENTO', 'year'])[['UUID']].count()"
   ]
  }
 ],
 "metadata": {
  "hide_input": false,
  "kernelspec": {
   "display_name": "Python 3",
   "language": "python",
   "name": "python3"
  },
  "language_info": {
   "codemirror_mode": {
    "name": "ipython",
    "version": 3
   },
   "file_extension": ".py",
   "mimetype": "text/x-python",
   "name": "python",
   "nbconvert_exporter": "python",
   "pygments_lexer": "ipython3",
   "version": "3.8.6"
  }
 },
 "nbformat": 4,
 "nbformat_minor": 4
}
