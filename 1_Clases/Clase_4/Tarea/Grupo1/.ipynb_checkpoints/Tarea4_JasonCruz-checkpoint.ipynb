{
 "cells": [
  {
   "cell_type": "markdown",
   "metadata": {},
   "source": [
    "# Tarea 4"
   ]
  },
  {
   "cell_type": "markdown",
   "metadata": {},
   "source": [
    "## $\\color{blue}{\\text{Jason Cruz}}$\n",
    "####  $\\color{black}{\\text{Usuario Git: Jason18}}$"
   ]
  },
  {
   "cell_type": "markdown",
   "metadata": {},
   "source": [
    "### Ejercicio 01"
   ]
  },
  {
   "cell_type": "markdown",
   "metadata": {},
   "source": [
    "* Crear el array utilizando los métodos utilizados en clase"
   ]
  },
  {
   "cell_type": "code",
   "execution_count": 1,
   "metadata": {},
   "outputs": [],
   "source": [
    "import numpy as np"
   ]
  },
  {
   "cell_type": "code",
   "execution_count": 2,
   "metadata": {},
   "outputs": [
    {
     "data": {
      "text/plain": [
       "array([[6, 0, 0, 0],\n",
       "       [6, 6, 0, 0],\n",
       "       [6, 6, 6, 0],\n",
       "       [6, 6, 6, 6]])"
      ]
     },
     "execution_count": 2,
     "metadata": {},
     "output_type": "execute_result"
    }
   ],
   "source": [
    "A = np.array([[6,0,0,0],[6,6,0,0],[6,6,6,0],[6,6,6,6]]) # Hecho por el profesor\n",
    "A"
   ]
  },
  {
   "cell_type": "code",
   "execution_count": 3,
   "metadata": {},
   "outputs": [
    {
     "data": {
      "text/plain": [
       "array([ 1,  4,  7, 10, 13, 16, 19])"
      ]
     },
     "execution_count": 3,
     "metadata": {},
     "output_type": "execute_result"
    }
   ],
   "source": [
    "# Usando los argumentos start, stop y step\n",
    "j = np.arange(start = 1,stop = 20,step = 3)\n",
    "j"
   ]
  },
  {
   "cell_type": "code",
   "execution_count": 4,
   "metadata": {},
   "outputs": [
    {
     "data": {
      "text/plain": [
       "array([['the', 'code', 'blinders'],\n",
       "       ['gracias', 'por', 'compartir']], dtype='<U9')"
      ]
     },
     "execution_count": 4,
     "metadata": {},
     "output_type": "execute_result"
    }
   ],
   "source": [
    "# Creando un array de \"strings\"\n",
    "ja=np.array([[\"the\",\"code\",\"blinders\"],[\"gracias\",\"por\",\"compartir\"]])\n",
    "ja"
   ]
  },
  {
   "cell_type": "markdown",
   "metadata": {},
   "source": [
    "### Ejercicio 02"
   ]
  },
  {
   "cell_type": "markdown",
   "metadata": {},
   "source": [
    "* Crear un array de 4x4 con valores pares"
   ]
  },
  {
   "cell_type": "code",
   "execution_count": 5,
   "metadata": {},
   "outputs": [
    {
     "data": {
      "text/plain": [
       "array([[ 2,  4,  6,  8],\n",
       "       [10, 12, 14, 16],\n",
       "       [18, 20, 22, 24],\n",
       "       [26, 28, 30, 32]])"
      ]
     },
     "execution_count": 5,
     "metadata": {},
     "output_type": "execute_result"
    }
   ],
   "source": [
    "# Creamos el array de pares utilzando dos funciones: arange() y reshape()\n",
    "jas1 = np.arange(2,33,2).reshape((4,4))\n",
    "jas1"
   ]
  },
  {
   "cell_type": "markdown",
   "metadata": {},
   "source": [
    "### Ejercicio 03"
   ]
  },
  {
   "cell_type": "markdown",
   "metadata": {},
   "source": [
    "* Crear un array de 4x3 con valores impares"
   ]
  },
  {
   "cell_type": "code",
   "execution_count": 6,
   "metadata": {},
   "outputs": [
    {
     "data": {
      "text/plain": [
       "array([[ 1,  3,  5],\n",
       "       [ 7,  9, 11],\n",
       "       [13, 15, 17],\n",
       "       [19, 21, 23]])"
      ]
     },
     "execution_count": 6,
     "metadata": {},
     "output_type": "execute_result"
    }
   ],
   "source": [
    "# Repetimos lo hecho para el ejercicio 2, pero el argumento start será 1 (impar) para la función arange()\n",
    "jas2 = np.arange(1,24,2).reshape((4,3))\n",
    "jas2"
   ]
  },
  {
   "cell_type": "markdown",
   "metadata": {},
   "source": [
    "### Ejercicio 04"
   ]
  },
  {
   "cell_type": "markdown",
   "metadata": {},
   "source": [
    "* Crear un array que contenga 32 elementos y luego darle 4 posibles formas que puede tomar el array creado inicialmente"
   ]
  },
  {
   "cell_type": "code",
   "execution_count": 7,
   "metadata": {},
   "outputs": [
    {
     "name": "stdout",
     "output_type": "stream",
     "text": [
      "[[ 2  4  6  8]\n",
      " [10 12 14 16]\n",
      " [18 20 22 24]\n",
      " [26 28 30 32]]\n",
      "[[ 2  4  6  8]\n",
      " [10 12 15 16]\n",
      " [18 20 22 24]\n",
      " [26 28 30 32]]\n"
     ]
    },
    {
     "data": {
      "text/plain": [
       "array([[ 2,  4,  6,  8],\n",
       "       [10, 12, 14, 16],\n",
       "       [18, 20, 22, 24],\n",
       "       [26, 28, 30, 32],\n",
       "       [ 2,  4,  6,  8],\n",
       "       [10, 12, 15, 16],\n",
       "       [18, 20, 22, 24],\n",
       "       [26, 28, 30, 32]])"
      ]
     },
     "execution_count": 7,
     "metadata": {},
     "output_type": "execute_result"
    }
   ],
   "source": [
    "# Usando concatenate()\n",
    "jas = np.arange(2,33,2).reshape((4,4)) #nuestro primer array (4,4)\n",
    "on = np.array([[2,4,6,8],[10,12,15,16],[18,20,22,24],[26,28,30,32]]) #nuestro segundo array (4,4)\n",
    "print(jas) \n",
    "print(on)\n",
    "jason = np.concatenate((jas, on), axis=0) # Obtenemos un array de 32 elemntos porque ahora el array será de la forma (8,4)\n",
    "jason"
   ]
  },
  {
   "cell_type": "code",
   "execution_count": 8,
   "metadata": {},
   "outputs": [
    {
     "data": {
      "text/plain": [
       "array([[ 2,  4,  6,  8, 10, 12, 14, 16],\n",
       "       [18, 20, 22, 24, 26, 28, 30, 32],\n",
       "       [ 2,  4,  6,  8, 10, 12, 15, 16],\n",
       "       [18, 20, 22, 24, 26, 28, 30, 32]])"
      ]
     },
     "execution_count": 8,
     "metadata": {},
     "output_type": "execute_result"
    }
   ],
   "source": [
    "# Primera posible forma\n",
    "jason.reshape((4,8))"
   ]
  },
  {
   "cell_type": "code",
   "execution_count": 9,
   "metadata": {},
   "outputs": [
    {
     "data": {
      "text/plain": [
       "array([[ 2,  4],\n",
       "       [ 6,  8],\n",
       "       [10, 12],\n",
       "       [14, 16],\n",
       "       [18, 20],\n",
       "       [22, 24],\n",
       "       [26, 28],\n",
       "       [30, 32],\n",
       "       [ 2,  4],\n",
       "       [ 6,  8],\n",
       "       [10, 12],\n",
       "       [15, 16],\n",
       "       [18, 20],\n",
       "       [22, 24],\n",
       "       [26, 28],\n",
       "       [30, 32]])"
      ]
     },
     "execution_count": 9,
     "metadata": {},
     "output_type": "execute_result"
    }
   ],
   "source": [
    "# Segunda posible forma\n",
    "jason.reshape((16,2))"
   ]
  },
  {
   "cell_type": "code",
   "execution_count": 10,
   "metadata": {},
   "outputs": [
    {
     "data": {
      "text/plain": [
       "array([[ 2,  4,  6,  8, 10, 12, 14, 16, 18, 20, 22, 24, 26, 28, 30, 32,\n",
       "         2,  4,  6,  8, 10, 12, 15, 16, 18, 20, 22, 24, 26, 28, 30, 32]])"
      ]
     },
     "execution_count": 10,
     "metadata": {},
     "output_type": "execute_result"
    }
   ],
   "source": [
    "# Tercera posible forma\n",
    "jason.reshape((1,32))"
   ]
  },
  {
   "cell_type": "code",
   "execution_count": 11,
   "metadata": {},
   "outputs": [
    {
     "data": {
      "text/plain": [
       "array([[ 2],\n",
       "       [ 4],\n",
       "       [ 6],\n",
       "       [ 8],\n",
       "       [10],\n",
       "       [12],\n",
       "       [14],\n",
       "       [16],\n",
       "       [18],\n",
       "       [20],\n",
       "       [22],\n",
       "       [24],\n",
       "       [26],\n",
       "       [28],\n",
       "       [30],\n",
       "       [32],\n",
       "       [ 2],\n",
       "       [ 4],\n",
       "       [ 6],\n",
       "       [ 8],\n",
       "       [10],\n",
       "       [12],\n",
       "       [15],\n",
       "       [16],\n",
       "       [18],\n",
       "       [20],\n",
       "       [22],\n",
       "       [24],\n",
       "       [26],\n",
       "       [28],\n",
       "       [30],\n",
       "       [32]])"
      ]
     },
     "execution_count": 11,
     "metadata": {},
     "output_type": "execute_result"
    }
   ],
   "source": [
    "# Cuarta posible forma\n",
    "jason.reshape((32,-1))"
   ]
  },
  {
   "cell_type": "markdown",
   "metadata": {},
   "source": [
    "### Ejercicio 05"
   ]
  },
  {
   "cell_type": "markdown",
   "metadata": {},
   "source": [
    "* Crear un array de 3x3x3 y ubicar 10 elementos utilizando los metodos de slicing aprendidos en clase"
   ]
  },
  {
   "cell_type": "code",
   "execution_count": 12,
   "metadata": {},
   "outputs": [
    {
     "name": "stdout",
     "output_type": "stream",
     "text": [
      "[[[ 1  2  3]\n",
      "  [ 4  5  6]\n",
      "  [ 7  8  9]]\n",
      "\n",
      " [[10 11 12]\n",
      "  [13 14 15]\n",
      "  [16 17 18]]\n",
      "\n",
      " [[19 20 21]\n",
      "  [22 23 24]\n",
      "  [25 26 27]]]\n",
      "(3, 3, 3)\n",
      "sí es de 3x3x3\n"
     ]
    }
   ],
   "source": [
    "# Creamos con la función array() casi manualmente\n",
    "cod = np.array([[[ 1, 2, 3],[4, 5, 6],[7, 8, 9]],[[10, 11, 12],[13, 14, 15],[16, 17, 18]],[[19, 20, 21],[22, 23, 24],[25, 26, 27]]])\n",
    "print(cod)\n",
    "print(cod.shape) # Comprobamos si es de 3x3x3\n",
    "print(\"sí es de 3x3x3\")"
   ]
  },
  {
   "cell_type": "code",
   "execution_count": 13,
   "metadata": {},
   "outputs": [],
   "source": [
    "# Obtenemos 10 elementos de nuestro array"
   ]
  },
  {
   "cell_type": "code",
   "execution_count": 14,
   "metadata": {},
   "outputs": [
    {
     "name": "stdout",
     "output_type": "stream",
     "text": [
      "10\n"
     ]
    }
   ],
   "source": [
    "# Primera forma\n",
    "cod0 = cod.reshape(9,3)\n",
    "cod00 = cod0[[0,0,0,1,2,3,4,5,6,7],[1,2,2,0,2,1,2,2,2,1]]\n",
    "print(cod00.size) # Comprobamos que el número de elementos ubicados sea 10 "
   ]
  },
  {
   "cell_type": "code",
   "execution_count": 15,
   "metadata": {},
   "outputs": [
    {
     "name": "stdout",
     "output_type": "stream",
     "text": [
      "[[ 1  2  3  4  5  6  7  8  9 10 11 12 13 14 15 16 17 18 19 20 21 22 23 24\n",
      "  25 26 27]]\n",
      "[[ 1  2  3  4  5  6  7  8  9 10]]\n",
      "10\n"
     ]
    }
   ],
   "source": [
    "# Segunda forma\n",
    "cod1 = cod.reshape(1,27)\n",
    "print(cod1)\n",
    "# quiero tomar 1,2,3,10,11,12,13,19,20,21\n",
    "cod2 = cod1[:1,:10] \n",
    "print(cod2)\n",
    "print(cod2.size) # Comprobamos que el número de elementos ubicados sea 10"
   ]
  },
  {
   "cell_type": "markdown",
   "metadata": {},
   "source": [
    "### Ejercicio 06"
   ]
  },
  {
   "cell_type": "markdown",
   "metadata": {},
   "source": [
    "* Crear el array utilizando los metodos aprendidos en clase"
   ]
  },
  {
   "cell_type": "code",
   "execution_count": 16,
   "metadata": {},
   "outputs": [
    {
     "data": {
      "text/plain": [
       "array([[ 1,  3,  5],\n",
       "       [ 7,  9, 11]])"
      ]
     },
     "execution_count": 16,
     "metadata": {},
     "output_type": "execute_result"
    }
   ],
   "source": [
    "# Creando un array \n",
    "js_1 = np.arange(1,13,2).reshape((2,3))\n",
    "js_1"
   ]
  },
  {
   "cell_type": "code",
   "execution_count": 17,
   "metadata": {},
   "outputs": [
    {
     "data": {
      "text/plain": [
       "array([[1., 1., 1.],\n",
       "       [1., 1., 1.],\n",
       "       [1., 1., 1.],\n",
       "       [1., 1., 1.]])"
      ]
     },
     "execution_count": 17,
     "metadata": {},
     "output_type": "execute_result"
    }
   ],
   "source": [
    "# Creamos otro array \n",
    "js_2 = np.ones((4,3))\n",
    "js_2"
   ]
  },
  {
   "cell_type": "code",
   "execution_count": 18,
   "metadata": {},
   "outputs": [
    {
     "name": "stdout",
     "output_type": "stream",
     "text": [
      "[[ 1.  3.  5.]\n",
      " [ 7.  9. 11.]\n",
      " [ 1.  1.  1.]\n",
      " [ 1.  1.  1.]\n",
      " [ 1.  1.  1.]\n",
      " [ 1.  1.  1.]]\n",
      "6\n",
      "18\n"
     ]
    }
   ],
   "source": [
    "# Pero al final, el array que desaba crear es uno que contenga todos los elementos de los 2 primeros (js_1, js_2)\n",
    "# Por lo tanto, apilaré usando vstack() y obtendré el array \"js_objetivo\"\n",
    "js_objetivo = np.vstack((js_1,js_2))\n",
    "print(js_objetivo)\n",
    "print(len(js_objetivo)) # Obtenemos la longitud que no es lo mismo que el tamaño (size), la función len me dará el número de clases (filas en este caso)\n",
    "print(js_objetivo.size) # Este sí es el tamaño, número de elementos del array"
   ]
  },
  {
   "cell_type": "markdown",
   "metadata": {},
   "source": [
    "### _The End_"
   ]
  },
  {
   "cell_type": "markdown",
   "metadata": {},
   "source": [
    "Visiste mi código **\"Tarea4_JasonCruz\"** en el Git [aquí](https://github.com/antonioalt23/The_Code_Blinders/tree/main/1_Clases/Clase_4/Tarea/Grupo1)"
   ]
  }
 ],
 "metadata": {
  "kernelspec": {
   "display_name": "Python 3",
   "language": "python",
   "name": "python3"
  },
  "language_info": {
   "codemirror_mode": {
    "name": "ipython",
    "version": 3
   },
   "file_extension": ".py",
   "mimetype": "text/x-python",
   "name": "python",
   "nbconvert_exporter": "python",
   "pygments_lexer": "ipython3",
   "version": "3.7.6"
  }
 },
 "nbformat": 4,
 "nbformat_minor": 4
}
