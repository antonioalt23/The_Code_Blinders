{
 "cells": [
  {
   "cell_type": "markdown",
   "metadata": {},
   "source": [
    "## Tarea 4 (Marcel)"
   ]
  },
  {
   "cell_type": "markdown",
   "metadata": {},
   "source": [
    "* Crear el array utilizando los métodos utilizados en clase "
   ]
  },
  {
   "cell_type": "code",
   "execution_count": 2,
   "metadata": {},
   "outputs": [],
   "source": [
    "import numpy as np"
   ]
  },
  {
   "cell_type": "markdown",
   "metadata": {},
   "source": [
    "#### Ejercicio 01 :"
   ]
  },
  {
   "cell_type": "code",
   "execution_count": 2,
   "metadata": {},
   "outputs": [
    {
     "data": {
      "text/plain": [
       "array([[6, 0, 0, 0],\n",
       "       [6, 6, 0, 0],\n",
       "       [6, 6, 6, 0],\n",
       "       [6, 6, 6, 6]])"
      ]
     },
     "execution_count": 2,
     "metadata": {},
     "output_type": "execute_result"
    }
   ],
   "source": [
    "A = np.array([[6,0,0,0],[6,6,0,0],[6,6,6,0],[6,6,6,6]])\n",
    "A"
   ]
  },
  {
   "cell_type": "code",
   "execution_count": 47,
   "metadata": {},
   "outputs": [
    {
     "data": {
      "text/plain": [
       "array([[6, 0, 0, 0],\n",
       "       [6, 6, 0, 0],\n",
       "       [6, 6, 6, 0],\n",
       "       [6, 6, 6, 6]])"
      ]
     },
     "execution_count": 47,
     "metadata": {},
     "output_type": "execute_result"
    }
   ],
   "source": [
    "m1=np.full((4,4),6)\n",
    "np.tril(m1)"
   ]
  },
  {
   "cell_type": "markdown",
   "metadata": {},
   "source": [
    "####  Ejercicio 02 :"
   ]
  },
  {
   "cell_type": "markdown",
   "metadata": {},
   "source": [
    "Crear un array de 4x4 con valores pares "
   ]
  },
  {
   "cell_type": "code",
   "execution_count": 45,
   "metadata": {},
   "outputs": [
    {
     "data": {
      "text/plain": [
       "array([[20, 22, 24, 26],\n",
       "       [28, 30, 32, 34],\n",
       "       [36, 38, 40, 42],\n",
       "       [44, 46, 48, 50]])"
      ]
     },
     "execution_count": 45,
     "metadata": {},
     "output_type": "execute_result"
    }
   ],
   "source": [
    "m2=np.arange(20,51,2)\n",
    "m2.reshape(4,4)"
   ]
  },
  {
   "cell_type": "markdown",
   "metadata": {},
   "source": [
    "####  Ejercicio 03 :"
   ]
  },
  {
   "cell_type": "markdown",
   "metadata": {},
   "source": [
    "Crear un array de 4x3 con valores impares"
   ]
  },
  {
   "cell_type": "code",
   "execution_count": 34,
   "metadata": {},
   "outputs": [
    {
     "data": {
      "text/plain": [
       "array([[15, 17, 19],\n",
       "       [21, 23, 25],\n",
       "       [27, 29, 31],\n",
       "       [33, 35, 37]])"
      ]
     },
     "execution_count": 34,
     "metadata": {},
     "output_type": "execute_result"
    }
   ],
   "source": [
    "m3=np.arange(15,38,2)\n",
    "m3.reshape((4,3))"
   ]
  },
  {
   "cell_type": "markdown",
   "metadata": {},
   "source": [
    "#### Ejercicio 04 :"
   ]
  },
  {
   "cell_type": "markdown",
   "metadata": {},
   "source": [
    "Crear un array que contenga 32 elementos y luego darle 4 posibles formas que puede tomar el array creado inicialmente"
   ]
  },
  {
   "cell_type": "code",
   "execution_count": 14,
   "metadata": {},
   "outputs": [
    {
     "data": {
      "text/plain": [
       "array([[[0.46371945, 0.77532463],\n",
       "        [0.17508709, 0.0808513 ],\n",
       "        [0.40713088, 0.68942355],\n",
       "        [0.06889923, 0.93091119]],\n",
       "\n",
       "       [[0.05980189, 0.20861518],\n",
       "        [0.43844478, 0.04773123],\n",
       "        [0.50371882, 0.59293732],\n",
       "        [0.58623302, 0.72867841]],\n",
       "\n",
       "       [[0.4456549 , 0.37934241],\n",
       "        [0.81449555, 0.12401664],\n",
       "        [0.32769045, 0.140385  ],\n",
       "        [0.80460058, 0.80777213]],\n",
       "\n",
       "       [[0.53092864, 0.85340652],\n",
       "        [0.51793661, 0.72739335],\n",
       "        [0.04284029, 0.30744235],\n",
       "        [0.06566151, 0.78168617]]])"
      ]
     },
     "execution_count": 14,
     "metadata": {},
     "output_type": "execute_result"
    }
   ],
   "source": [
    "m4=np.random.rand(4,4,2)\n",
    "m4"
   ]
  },
  {
   "cell_type": "code",
   "execution_count": 15,
   "metadata": {},
   "outputs": [
    {
     "data": {
      "text/plain": [
       "array([[0.46371945, 0.77532463, 0.17508709, 0.0808513 ],\n",
       "       [0.40713088, 0.68942355, 0.06889923, 0.93091119],\n",
       "       [0.05980189, 0.20861518, 0.43844478, 0.04773123],\n",
       "       [0.50371882, 0.59293732, 0.58623302, 0.72867841],\n",
       "       [0.4456549 , 0.37934241, 0.81449555, 0.12401664],\n",
       "       [0.32769045, 0.140385  , 0.80460058, 0.80777213],\n",
       "       [0.53092864, 0.85340652, 0.51793661, 0.72739335],\n",
       "       [0.04284029, 0.30744235, 0.06566151, 0.78168617]])"
      ]
     },
     "execution_count": 15,
     "metadata": {},
     "output_type": "execute_result"
    }
   ],
   "source": [
    "m4.reshape((8,4))"
   ]
  },
  {
   "cell_type": "code",
   "execution_count": 16,
   "metadata": {},
   "outputs": [
    {
     "data": {
      "text/plain": [
       "array([[[0.46371945, 0.77532463],\n",
       "        [0.17508709, 0.0808513 ]],\n",
       "\n",
       "       [[0.40713088, 0.68942355],\n",
       "        [0.06889923, 0.93091119]],\n",
       "\n",
       "       [[0.05980189, 0.20861518],\n",
       "        [0.43844478, 0.04773123]],\n",
       "\n",
       "       [[0.50371882, 0.59293732],\n",
       "        [0.58623302, 0.72867841]],\n",
       "\n",
       "       [[0.4456549 , 0.37934241],\n",
       "        [0.81449555, 0.12401664]],\n",
       "\n",
       "       [[0.32769045, 0.140385  ],\n",
       "        [0.80460058, 0.80777213]],\n",
       "\n",
       "       [[0.53092864, 0.85340652],\n",
       "        [0.51793661, 0.72739335]],\n",
       "\n",
       "       [[0.04284029, 0.30744235],\n",
       "        [0.06566151, 0.78168617]]])"
      ]
     },
     "execution_count": 16,
     "metadata": {},
     "output_type": "execute_result"
    }
   ],
   "source": [
    "m4.reshape((8,2,2))"
   ]
  },
  {
   "cell_type": "code",
   "execution_count": 17,
   "metadata": {},
   "outputs": [
    {
     "data": {
      "text/plain": [
       "array([[[0.46371945, 0.77532463, 0.17508709, 0.0808513 ],\n",
       "        [0.40713088, 0.68942355, 0.06889923, 0.93091119],\n",
       "        [0.05980189, 0.20861518, 0.43844478, 0.04773123],\n",
       "        [0.50371882, 0.59293732, 0.58623302, 0.72867841]],\n",
       "\n",
       "       [[0.4456549 , 0.37934241, 0.81449555, 0.12401664],\n",
       "        [0.32769045, 0.140385  , 0.80460058, 0.80777213],\n",
       "        [0.53092864, 0.85340652, 0.51793661, 0.72739335],\n",
       "        [0.04284029, 0.30744235, 0.06566151, 0.78168617]]])"
      ]
     },
     "execution_count": 17,
     "metadata": {},
     "output_type": "execute_result"
    }
   ],
   "source": [
    "m4.reshape((2,4,4))"
   ]
  },
  {
   "cell_type": "code",
   "execution_count": 22,
   "metadata": {},
   "outputs": [
    {
     "data": {
      "text/plain": [
       "array([[[0.46371945, 0.77532463, 0.17508709, 0.0808513 , 0.40713088,\n",
       "         0.68942355, 0.06889923, 0.93091119, 0.05980189, 0.20861518,\n",
       "         0.43844478, 0.04773123, 0.50371882, 0.59293732, 0.58623302,\n",
       "         0.72867841]],\n",
       "\n",
       "       [[0.4456549 , 0.37934241, 0.81449555, 0.12401664, 0.32769045,\n",
       "         0.140385  , 0.80460058, 0.80777213, 0.53092864, 0.85340652,\n",
       "         0.51793661, 0.72739335, 0.04284029, 0.30744235, 0.06566151,\n",
       "         0.78168617]]])"
      ]
     },
     "execution_count": 22,
     "metadata": {},
     "output_type": "execute_result"
    }
   ],
   "source": [
    "m4.reshape((2,1,16))"
   ]
  },
  {
   "cell_type": "markdown",
   "metadata": {},
   "source": [
    "#### Ejercicio 05 :"
   ]
  },
  {
   "cell_type": "markdown",
   "metadata": {},
   "source": [
    "Crear un array de 3x3x3 y ubicar 10 elementos utilizando los metodos de slicing aprendidos en clase"
   ]
  },
  {
   "cell_type": "code",
   "execution_count": 4,
   "metadata": {},
   "outputs": [
    {
     "data": {
      "text/plain": [
       "array([[[ 3,  6,  9],\n",
       "        [12, 15, 18],\n",
       "        [21, 24, 27]],\n",
       "\n",
       "       [[30, 33, 36],\n",
       "        [39, 42, 45],\n",
       "        [48, 51, 54]],\n",
       "\n",
       "       [[57, 60, 63],\n",
       "        [66, 69, 72],\n",
       "        [75, 78, 81]]])"
      ]
     },
     "execution_count": 4,
     "metadata": {},
     "output_type": "execute_result"
    }
   ],
   "source": [
    "m5=np.arange(3,84,3).reshape(3,3,3)\n",
    "m5"
   ]
  },
  {
   "cell_type": "code",
   "execution_count": 38,
   "metadata": {
    "scrolled": true
   },
   "outputs": [
    {
     "data": {
      "text/plain": [
       "array([[ 3,  6,  9],\n",
       "       [12, 15, 18],\n",
       "       [21, 24, 27],\n",
       "       [30, 33, 36],\n",
       "       [39, 42, 45],\n",
       "       [48, 51, 54],\n",
       "       [57, 60, 63],\n",
       "       [66, 69, 72],\n",
       "       [75, 78, 81]])"
      ]
     },
     "execution_count": 38,
     "metadata": {},
     "output_type": "execute_result"
    }
   ],
   "source": [
    "m5i=m5.reshape(9,3)\n",
    "m5i"
   ]
  },
  {
   "cell_type": "code",
   "execution_count": 39,
   "metadata": {
    "scrolled": true
   },
   "outputs": [
    {
     "data": {
      "text/plain": [
       "array([ 3, 15, 21, 30, 45, 54, 60, 72, 78, 30])"
      ]
     },
     "execution_count": 39,
     "metadata": {},
     "output_type": "execute_result"
    }
   ],
   "source": [
    "m5i[[0,1,2,3,4,5,6,7,8,3],[0,1,0,0,2,2,1,2,1,0]] #10 elementos"
   ]
  },
  {
   "cell_type": "markdown",
   "metadata": {},
   "source": [
    "#### Ejercicio 06 :"
   ]
  },
  {
   "cell_type": "markdown",
   "metadata": {},
   "source": [
    "* Crear el array utilizando los metodos aprendidos en clase"
   ]
  },
  {
   "cell_type": "code",
   "execution_count": 16,
   "metadata": {},
   "outputs": [
    {
     "data": {
      "text/plain": [
       "array([[ 2,  2,  2,  2,  2],\n",
       "       [ 2,  0,  0,  0,  2],\n",
       "       [ 2,  0, 16,  0,  2],\n",
       "       [ 2,  0,  0,  0,  2],\n",
       "       [ 2,  2,  2,  2,  2]])"
      ]
     },
     "execution_count": 16,
     "metadata": {},
     "output_type": "execute_result"
    }
   ],
   "source": [
    "tarea = np.array([[2,2,2,2,2],[2,0,0,0,2],[2,0,16,0,2],[2,0,0,0,2],[2,2,2,2,2]])\n",
    "tarea"
   ]
  },
  {
   "cell_type": "code",
   "execution_count": 62,
   "metadata": {},
   "outputs": [
    {
     "data": {
      "text/plain": [
       "array([[ 2,  2,  2,  2,  2],\n",
       "       [ 2,  0,  0,  0,  2],\n",
       "       [ 2,  0, 16,  0,  2],\n",
       "       [ 2,  0,  0,  0,  2],\n",
       "       [ 2,  2,  2,  2,  2]])"
      ]
     },
     "execution_count": 62,
     "metadata": {},
     "output_type": "execute_result"
    }
   ],
   "source": [
    "m7=np.full((5,5),2)\n",
    "m7i=np.zeros((3,3))\n",
    "m7ii=np.array([16])\n",
    "m7[1:4,1:4]=m7i\n",
    "m7[2,2]=m7ii\n",
    "m7"
   ]
  }
 ],
 "metadata": {
  "kernelspec": {
   "display_name": "Python 3",
   "language": "python",
   "name": "python3"
  },
  "language_info": {
   "codemirror_mode": {
    "name": "ipython",
    "version": 3
   },
   "file_extension": ".py",
   "mimetype": "text/x-python",
   "name": "python",
   "nbconvert_exporter": "python",
   "pygments_lexer": "ipython3",
   "version": "3.8.5"
  }
 },
 "nbformat": 4,
 "nbformat_minor": 4
}
