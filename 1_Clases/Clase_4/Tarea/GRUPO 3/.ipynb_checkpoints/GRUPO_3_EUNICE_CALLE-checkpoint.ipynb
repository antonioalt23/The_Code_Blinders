{
 "cells": [
  {
   "cell_type": "markdown",
   "metadata": {},
   "source": [
    "## Tarea 4 :"
   ]
  },
  {
   "cell_type": "markdown",
   "metadata": {},
   "source": [
    "* Crear el array utilizando los métodos utilizados en clase "
   ]
  },
  {
   "cell_type": "code",
   "execution_count": 9,
   "metadata": {},
   "outputs": [],
   "source": [
    "import numpy as np"
   ]
  },
  {
   "cell_type": "markdown",
   "metadata": {},
   "source": [
    "#### Ejercicio 01 :"
   ]
  },
  {
   "cell_type": "code",
   "execution_count": 11,
   "metadata": {},
   "outputs": [
    {
     "data": {
      "text/plain": [
       "array([[6, 0, 0, 0],\n",
       "       [6, 6, 0, 0],\n",
       "       [6, 6, 6, 0],\n",
       "       [6, 6, 6, 6]])"
      ]
     },
     "execution_count": 11,
     "metadata": {},
     "output_type": "execute_result"
    }
   ],
   "source": [
    "A = np.array([[6,0,0,0],[6,6,0,0],[6,6,6,0],[6,6,6,6]])\n",
    "A"
   ]
  },
  {
   "cell_type": "markdown",
   "metadata": {},
   "source": [
    "####  Ejercicio 02 :"
   ]
  },
  {
   "cell_type": "markdown",
   "metadata": {},
   "source": [
    "#Crear un array de 4x4 con valores pares"
   ]
  },
  {
   "cell_type": "code",
   "execution_count": 10,
   "metadata": {},
   "outputs": [
    {
     "data": {
      "text/plain": [
       "array([[22, 44, 66, 88],\n",
       "       [42, 46, 68, 34],\n",
       "       [12, 16, 24, 56],\n",
       "       [36, 94, 63,  4]])"
      ]
     },
     "execution_count": 10,
     "metadata": {},
     "output_type": "execute_result"
    }
   ],
   "source": [
    "Clavel = np.array([[22,44,66,88],[42,46,68,34],[12,16,24,56],[36,94,63,4]])\n",
    "Clavel"
   ]
  },
  {
   "cell_type": "markdown",
   "metadata": {},
   "source": [
    "####  Ejercicio 03 :"
   ]
  },
  {
   "cell_type": "markdown",
   "metadata": {},
   "source": [
    "Crear un array de 4x3 con valores impares"
   ]
  },
  {
   "cell_type": "code",
   "execution_count": 11,
   "metadata": {},
   "outputs": [
    {
     "data": {
      "text/plain": [
       "array([[ 33,  25,  75,  11],\n",
       "       [ 99, 197,  53,  71],\n",
       "       [ 15,  89,  17,   3]])"
      ]
     },
     "execution_count": 11,
     "metadata": {},
     "output_type": "execute_result"
    }
   ],
   "source": [
    "Bugambilia = np.array ([[33,25,75,11],[99,197,53,71],[15,89,17,3]])\n",
    "Bugambilia"
   ]
  },
  {
   "cell_type": "markdown",
   "metadata": {},
   "source": [
    "#### Ejercicio 04 :"
   ]
  },
  {
   "cell_type": "markdown",
   "metadata": {},
   "source": [
    "Crear un array que contenga 32 elementos y luego darle 4 posibles formas que puede tomar el array creado inicialmente"
   ]
  },
  {
   "cell_type": "code",
   "execution_count": 12,
   "metadata": {
    "scrolled": true
   },
   "outputs": [
    {
     "data": {
      "text/plain": [
       "array(['Girasol', 'Lluvia', 'Loto', 'Campo', 'Margarita', 'Cantuta',\n",
       "       'Monto', 'Tierra', 'Mar', 'Faro', 'Ave', 'Barco', 'Arena', 'Sol',\n",
       "       'Cielo', 'Acuarela', 'Musica', 'Estrella', 'Verano', 'Chocolate',\n",
       "       'Pajaro', 'Arbol', 'Viaje', 'Risas', 'Amigos', 'Regalo', 'Abrazo',\n",
       "       'Rosas', 'Laguna', 'Primavera', 'Amarillo', 'Ukelele'], dtype='<U9')"
      ]
     },
     "execution_count": 12,
     "metadata": {},
     "output_type": "execute_result"
    }
   ],
   "source": [
    "Natural = np.array ([\"Girasol\",\"Lluvia\",\"Loto\",\"Campo\",\"Margarita\",\"Cantuta\",\"Monto\",\"Tierra\",\"Mar\",\"Faro\",\"Ave\",\"Barco\",\"Arena\",\"Sol\",\"Cielo\",\"Acuarela\",\"Musica\",\"Estrella\",\"Verano\",\"Chocolate\",\"Pajaro\",\"Arbol\",\"Viaje\",\"Risas\",\"Amigos\",\"Regalo\",\"Abrazo\",\"Rosas\",\"Laguna\",\"Primavera\",\"Amarillo\",\"Ukelele\"])\n",
    "Natural"
   ]
  },
  {
   "cell_type": "code",
   "execution_count": 13,
   "metadata": {},
   "outputs": [
    {
     "data": {
      "text/plain": [
       "array([['Girasol', 'Lluvia', 'Loto', 'Campo', 'Margarita', 'Cantuta',\n",
       "        'Monto', 'Tierra'],\n",
       "       ['Mar', 'Faro', 'Ave', 'Barco', 'Arena', 'Sol', 'Cielo',\n",
       "        'Acuarela'],\n",
       "       ['Musica', 'Estrella', 'Verano', 'Chocolate', 'Pajaro', 'Arbol',\n",
       "        'Viaje', 'Risas'],\n",
       "       ['Amigos', 'Regalo', 'Abrazo', 'Rosas', 'Laguna', 'Primavera',\n",
       "        'Amarillo', 'Ukelele']], dtype='<U9')"
      ]
     },
     "execution_count": 13,
     "metadata": {},
     "output_type": "execute_result"
    }
   ],
   "source": [
    "Natural = np.array ([[\"Girasol\",\"Lluvia\",\"Loto\",\"Campo\",\"Margarita\",\"Cantuta\",\"Monto\",\"Tierra\"],[\"Mar\",\"Faro\",\"Ave\",\"Barco\",\"Arena\",\"Sol\",\"Cielo\",\"Acuarela\"],[\"Musica\",\"Estrella\",\"Verano\",\"Chocolate\",\"Pajaro\",\"Arbol\",\"Viaje\",\"Risas\"],[\"Amigos\",\"Regalo\",\"Abrazo\",\"Rosas\",\"Laguna\",\"Primavera\",\"Amarillo\",\"Ukelele\"]])\n",
    "Natural"
   ]
  },
  {
   "cell_type": "code",
   "execution_count": 14,
   "metadata": {
    "scrolled": true
   },
   "outputs": [
    {
     "data": {
      "text/plain": [
       "array([['Girasol', 'Lluvia', 'Loto', 'Campo', 'Margarita', 'Cantuta',\n",
       "        'Monto', 'Tierra', 'Mar', 'Faro', 'Ave', 'Barco', 'Arena', 'Sol',\n",
       "        'Cielo', 'Acuarela'],\n",
       "       ['Musica', 'Estrella', 'Verano', 'Chocolate', 'Pajaro', 'Arbol',\n",
       "        'Viaje', 'Risas', 'Amigos', 'Regalo', 'Abrazo', 'Rosas',\n",
       "        'Laguna', 'Primavera', 'Amarillo', 'Ukelele']], dtype='<U9')"
      ]
     },
     "execution_count": 14,
     "metadata": {},
     "output_type": "execute_result"
    }
   ],
   "source": [
    "Natural = np.array ([[\"Girasol\",\"Lluvia\",\"Loto\",\"Campo\",\"Margarita\",\"Cantuta\",\"Monto\",\"Tierra\",\"Mar\",\"Faro\",\"Ave\",\"Barco\",\"Arena\",\"Sol\",\"Cielo\",\"Acuarela\"],[\"Musica\",\"Estrella\",\"Verano\",\"Chocolate\",\"Pajaro\",\"Arbol\",\"Viaje\",\"Risas\",\"Amigos\",\"Regalo\",\"Abrazo\",\"Rosas\",\"Laguna\",\"Primavera\",\"Amarillo\",\"Ukelele\"]])\n",
    "Natural"
   ]
  },
  {
   "cell_type": "code",
   "execution_count": 15,
   "metadata": {},
   "outputs": [
    {
     "data": {
      "text/plain": [
       "array([['Girasol', 'Lluvia', 'Loto', 'Campo'],\n",
       "       ['Margarita', 'Cantuta', 'Monto', 'Tierra'],\n",
       "       ['Mar', 'Faro', 'Ave', 'Barco'],\n",
       "       ['Arena', 'Sol', 'Cielo', 'Acuarela'],\n",
       "       ['Musica', 'Estrella', 'Verano', 'Chocolate'],\n",
       "       ['Pajaro', 'Arbol', 'Viaje', 'Risas'],\n",
       "       ['Amigos', 'Regalo', 'Abrazo', 'Rosas'],\n",
       "       ['Laguna', 'Primavera', 'Amarillo', 'Ukelele']], dtype='<U9')"
      ]
     },
     "execution_count": 15,
     "metadata": {},
     "output_type": "execute_result"
    }
   ],
   "source": [
    "Natural = np.array ([[\"Girasol\",\"Lluvia\",\"Loto\",\"Campo\"],[\"Margarita\",\"Cantuta\",\"Monto\",\"Tierra\"],[\"Mar\",\"Faro\",\"Ave\",\"Barco\"],[\"Arena\",\"Sol\",\"Cielo\",\"Acuarela\"],[\"Musica\",\"Estrella\",\"Verano\",\"Chocolate\"],[\"Pajaro\",\"Arbol\",\"Viaje\",\"Risas\"],[\"Amigos\",\"Regalo\",\"Abrazo\",\"Rosas\"],[\"Laguna\",\"Primavera\",\"Amarillo\",\"Ukelele\"]])\n",
    "Natural"
   ]
  },
  {
   "cell_type": "markdown",
   "metadata": {},
   "source": [
    "#### Ejercicio 05 :"
   ]
  },
  {
   "cell_type": "markdown",
   "metadata": {},
   "source": [
    "Crear un array de 3x3x3 y ubicar 10 elementos utilizando los metodos de slicing aprendidos en clase"
   ]
  },
  {
   "cell_type": "code",
   "execution_count": 1,
   "metadata": {},
   "outputs": [
    {
     "ename": "SyntaxError",
     "evalue": "invalid syntax (<ipython-input-1-422ee2928e1a>, line 1)",
     "output_type": "error",
     "traceback": [
      "\u001b[1;36m  File \u001b[1;32m\"<ipython-input-1-422ee2928e1a>\"\u001b[1;36m, line \u001b[1;32m1\u001b[0m\n\u001b[1;33m    Faro = np.array ([[[\"Mar\",2,20],[17,\"Girasol\",25]],[[12,4\"Barco\"]]])\u001b[0m\n\u001b[1;37m                                                             ^\u001b[0m\n\u001b[1;31mSyntaxError\u001b[0m\u001b[1;31m:\u001b[0m invalid syntax\n"
     ]
    }
   ],
   "source": [
    "Faro = np.array ([[[\"Mar\",2,20],[17,\"Girasol\",25]],[[12,4\"Barco\"],[21,]]])\n",
    "Faro"
   ]
  },
  {
   "cell_type": "markdown",
   "metadata": {},
   "source": [
    "#### Ejercicio 06 :"
   ]
  },
  {
   "cell_type": "markdown",
   "metadata": {},
   "source": [
    "* Crear el array utilizando los metodos aprendidos en clase"
   ]
  },
  {
   "cell_type": "code",
   "execution_count": 16,
   "metadata": {},
   "outputs": [
    {
     "data": {
      "text/plain": [
       "array([[ 2,  2,  2,  2,  2],\n",
       "       [ 2,  0,  0,  0,  2],\n",
       "       [ 2,  0, 16,  0,  2],\n",
       "       [ 2,  0,  0,  0,  2],\n",
       "       [ 2,  2,  2,  2,  2]])"
      ]
     },
     "execution_count": 16,
     "metadata": {},
     "output_type": "execute_result"
    }
   ],
   "source": [
    "tarea = np.array([[2,2,2,2,2],[2,0,0,0,2],[2,0,16,0,2],[2,0,0,0,2],[2,2,2,2,2]])\n",
    "tarea"
   ]
  },
  {
   "cell_type": "code",
   "execution_count": null,
   "metadata": {},
   "outputs": [],
   "source": []
  }
 ],
 "metadata": {
  "kernelspec": {
   "display_name": "Python 3",
   "language": "python",
   "name": "python3"
  },
  "language_info": {
   "codemirror_mode": {
    "name": "ipython",
    "version": 3
   },
   "file_extension": ".py",
   "mimetype": "text/x-python",
   "name": "python",
   "nbconvert_exporter": "python",
   "pygments_lexer": "ipython3",
   "version": "3.8.5"
  }
 },
 "nbformat": 4,
 "nbformat_minor": 4
}
