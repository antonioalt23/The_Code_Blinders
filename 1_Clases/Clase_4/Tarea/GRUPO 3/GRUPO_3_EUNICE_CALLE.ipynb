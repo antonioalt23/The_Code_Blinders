{
 "cells": [
  {
   "cell_type": "markdown",
   "metadata": {},
   "source": [
    "## Tarea 4 :"
   ]
  },
  {
   "cell_type": "markdown",
   "metadata": {},
   "source": [
    "* Crear el array utilizando los métodos utilizados en clase "
   ]
  },
  {
   "cell_type": "code",
   "execution_count": 47,
   "metadata": {},
   "outputs": [],
   "source": [
    "import numpy as np"
   ]
  },
  {
   "cell_type": "markdown",
   "metadata": {},
   "source": [
    "#### Ejercicio 01 :"
   ]
  },
  {
   "cell_type": "code",
   "execution_count": 27,
   "metadata": {
    "scrolled": true
   },
   "outputs": [
    {
     "data": {
      "text/plain": [
       "array([[6, 0, 0, 0],\n",
       "       [6, 6, 0, 0],\n",
       "       [6, 6, 6, 0],\n",
       "       [6, 6, 6, 6]])"
      ]
     },
     "execution_count": 27,
     "metadata": {},
     "output_type": "execute_result"
    }
   ],
   "source": [
    "A = np.array([[6,0,0,0],[6,6,0,0],[6,6,6,0],[6,6,6,6]])\n",
    "A"
   ]
  },
  {
   "cell_type": "code",
   "execution_count": 28,
   "metadata": {},
   "outputs": [
    {
     "data": {
      "text/plain": [
       "array([[6, 0, 0, 0],\n",
       "       [6, 6, 0, 0],\n",
       "       [6, 6, 6, 0],\n",
       "       [6, 6, 6, 6]])"
      ]
     },
     "execution_count": 28,
     "metadata": {},
     "output_type": "execute_result"
    }
   ],
   "source": [
    "A_inf = np.tril(A)\n",
    "A_inf"
   ]
  },
  {
   "cell_type": "markdown",
   "metadata": {},
   "source": [
    "####  Ejercicio 02 :"
   ]
  },
  {
   "cell_type": "markdown",
   "metadata": {},
   "source": [
    "#Crear un array de 4x4 con valores pares"
   ]
  },
  {
   "cell_type": "code",
   "execution_count": 10,
   "metadata": {
    "scrolled": true
   },
   "outputs": [
    {
     "data": {
      "text/plain": [
       "array([[22, 44, 66, 88],\n",
       "       [42, 46, 68, 34],\n",
       "       [12, 16, 24, 56],\n",
       "       [36, 94, 63,  4]])"
      ]
     },
     "execution_count": 10,
     "metadata": {},
     "output_type": "execute_result"
    }
   ],
   "source": [
    "Clavel = np.array([[22,44,66,88],[42,46,68,34],[12,16,24,56],[36,94,63,4]])\n",
    "Clavel"
   ]
  },
  {
   "cell_type": "code",
   "execution_count": 21,
   "metadata": {},
   "outputs": [
    {
     "data": {
      "text/plain": [
       "array([[22, 22, 22, 22],\n",
       "       [22, 22, 22, 22],\n",
       "       [22, 22, 22, 22],\n",
       "       [22, 22, 22, 22]])"
      ]
     },
     "execution_count": 21,
     "metadata": {},
     "output_type": "execute_result"
    }
   ],
   "source": [
    "Flor = np.full((4,4),22)\n",
    "Flor"
   ]
  },
  {
   "cell_type": "markdown",
   "metadata": {},
   "source": [
    "####  Ejercicio 03 :"
   ]
  },
  {
   "cell_type": "markdown",
   "metadata": {},
   "source": [
    "Crear un array de 4x3 con valores impares"
   ]
  },
  {
   "cell_type": "code",
   "execution_count": 11,
   "metadata": {},
   "outputs": [
    {
     "data": {
      "text/plain": [
       "array([[ 33,  25,  75,  11],\n",
       "       [ 99, 197,  53,  71],\n",
       "       [ 15,  89,  17,   3]])"
      ]
     },
     "execution_count": 11,
     "metadata": {},
     "output_type": "execute_result"
    }
   ],
   "source": [
    "Bugambilia = np.array ([[33,25,75,11],[99,197,53,71],[15,89,17,3]])\n",
    "Bugambilia"
   ]
  },
  {
   "cell_type": "markdown",
   "metadata": {},
   "source": [
    "#### Ejercicio 04 :"
   ]
  },
  {
   "cell_type": "markdown",
   "metadata": {},
   "source": [
    "Crear un array que contenga 32 elementos y luego darle 4 posibles formas que puede tomar el array creado inicialmente"
   ]
  },
  {
   "cell_type": "code",
   "execution_count": 12,
   "metadata": {
    "scrolled": true
   },
   "outputs": [
    {
     "data": {
      "text/plain": [
       "array(['Girasol', 'Lluvia', 'Loto', 'Campo', 'Margarita', 'Cantuta',\n",
       "       'Monto', 'Tierra', 'Mar', 'Faro', 'Ave', 'Barco', 'Arena', 'Sol',\n",
       "       'Cielo', 'Acuarela', 'Musica', 'Estrella', 'Verano', 'Chocolate',\n",
       "       'Pajaro', 'Arbol', 'Viaje', 'Risas', 'Amigos', 'Regalo', 'Abrazo',\n",
       "       'Rosas', 'Laguna', 'Primavera', 'Amarillo', 'Ukelele'], dtype='<U9')"
      ]
     },
     "execution_count": 12,
     "metadata": {},
     "output_type": "execute_result"
    }
   ],
   "source": [
    "Natural = np.array ([\"Girasol\",\"Lluvia\",\"Loto\",\"Campo\",\"Margarita\",\"Cantuta\",\"Monto\",\"Tierra\",\"Mar\",\"Faro\",\"Ave\",\"Barco\",\"Arena\",\"Sol\",\"Cielo\",\"Acuarela\",\"Musica\",\"Estrella\",\"Verano\",\"Chocolate\",\"Pajaro\",\"Arbol\",\"Viaje\",\"Risas\",\"Amigos\",\"Regalo\",\"Abrazo\",\"Rosas\",\"Laguna\",\"Primavera\",\"Amarillo\",\"Ukelele\"])\n",
    "Natural"
   ]
  },
  {
   "cell_type": "code",
   "execution_count": 13,
   "metadata": {},
   "outputs": [
    {
     "data": {
      "text/plain": [
       "array([['Girasol', 'Lluvia', 'Loto', 'Campo', 'Margarita', 'Cantuta',\n",
       "        'Monto', 'Tierra'],\n",
       "       ['Mar', 'Faro', 'Ave', 'Barco', 'Arena', 'Sol', 'Cielo',\n",
       "        'Acuarela'],\n",
       "       ['Musica', 'Estrella', 'Verano', 'Chocolate', 'Pajaro', 'Arbol',\n",
       "        'Viaje', 'Risas'],\n",
       "       ['Amigos', 'Regalo', 'Abrazo', 'Rosas', 'Laguna', 'Primavera',\n",
       "        'Amarillo', 'Ukelele']], dtype='<U9')"
      ]
     },
     "execution_count": 13,
     "metadata": {},
     "output_type": "execute_result"
    }
   ],
   "source": [
    "Natural = np.array ([[\"Girasol\",\"Lluvia\",\"Loto\",\"Campo\",\"Margarita\",\"Cantuta\",\"Monto\",\"Tierra\"],[\"Mar\",\"Faro\",\"Ave\",\"Barco\",\"Arena\",\"Sol\",\"Cielo\",\"Acuarela\"],[\"Musica\",\"Estrella\",\"Verano\",\"Chocolate\",\"Pajaro\",\"Arbol\",\"Viaje\",\"Risas\"],[\"Amigos\",\"Regalo\",\"Abrazo\",\"Rosas\",\"Laguna\",\"Primavera\",\"Amarillo\",\"Ukelele\"]])\n",
    "Natural"
   ]
  },
  {
   "cell_type": "code",
   "execution_count": 14,
   "metadata": {
    "scrolled": true
   },
   "outputs": [
    {
     "data": {
      "text/plain": [
       "array([['Girasol', 'Lluvia', 'Loto', 'Campo', 'Margarita', 'Cantuta',\n",
       "        'Monto', 'Tierra', 'Mar', 'Faro', 'Ave', 'Barco', 'Arena', 'Sol',\n",
       "        'Cielo', 'Acuarela'],\n",
       "       ['Musica', 'Estrella', 'Verano', 'Chocolate', 'Pajaro', 'Arbol',\n",
       "        'Viaje', 'Risas', 'Amigos', 'Regalo', 'Abrazo', 'Rosas',\n",
       "        'Laguna', 'Primavera', 'Amarillo', 'Ukelele']], dtype='<U9')"
      ]
     },
     "execution_count": 14,
     "metadata": {},
     "output_type": "execute_result"
    }
   ],
   "source": [
    "Natural = np.array ([[\"Girasol\",\"Lluvia\",\"Loto\",\"Campo\",\"Margarita\",\"Cantuta\",\"Monto\",\"Tierra\",\"Mar\",\"Faro\",\"Ave\",\"Barco\",\"Arena\",\"Sol\",\"Cielo\",\"Acuarela\"],[\"Musica\",\"Estrella\",\"Verano\",\"Chocolate\",\"Pajaro\",\"Arbol\",\"Viaje\",\"Risas\",\"Amigos\",\"Regalo\",\"Abrazo\",\"Rosas\",\"Laguna\",\"Primavera\",\"Amarillo\",\"Ukelele\"]])\n",
    "Natural"
   ]
  },
  {
   "cell_type": "code",
   "execution_count": 15,
   "metadata": {
    "scrolled": true
   },
   "outputs": [
    {
     "data": {
      "text/plain": [
       "array([['Girasol', 'Lluvia', 'Loto', 'Campo'],\n",
       "       ['Margarita', 'Cantuta', 'Monto', 'Tierra'],\n",
       "       ['Mar', 'Faro', 'Ave', 'Barco'],\n",
       "       ['Arena', 'Sol', 'Cielo', 'Acuarela'],\n",
       "       ['Musica', 'Estrella', 'Verano', 'Chocolate'],\n",
       "       ['Pajaro', 'Arbol', 'Viaje', 'Risas'],\n",
       "       ['Amigos', 'Regalo', 'Abrazo', 'Rosas'],\n",
       "       ['Laguna', 'Primavera', 'Amarillo', 'Ukelele']], dtype='<U9')"
      ]
     },
     "execution_count": 15,
     "metadata": {},
     "output_type": "execute_result"
    }
   ],
   "source": [
    "Natural = np.array ([[\"Girasol\",\"Lluvia\",\"Loto\",\"Campo\"],[\"Margarita\",\"Cantuta\",\"Monto\",\"Tierra\"],[\"Mar\",\"Faro\",\"Ave\",\"Barco\"],[\"Arena\",\"Sol\",\"Cielo\",\"Acuarela\"],[\"Musica\",\"Estrella\",\"Verano\",\"Chocolate\"],[\"Pajaro\",\"Arbol\",\"Viaje\",\"Risas\"],[\"Amigos\",\"Regalo\",\"Abrazo\",\"Rosas\"],[\"Laguna\",\"Primavera\",\"Amarillo\",\"Ukelele\"]])\n",
    "Natural"
   ]
  },
  {
   "cell_type": "code",
   "execution_count": null,
   "metadata": {},
   "outputs": [],
   "source": [
    "Natural"
   ]
  },
  {
   "cell_type": "markdown",
   "metadata": {},
   "source": [
    "#### Ejercicio 05 :"
   ]
  },
  {
   "cell_type": "markdown",
   "metadata": {},
   "source": [
    "Crear un array de 3x3x3 y ubicar 10 elementos utilizando los metodos de slicing aprendidos en clase"
   ]
  },
  {
   "cell_type": "code",
   "execution_count": 42,
   "metadata": {
    "scrolled": true
   },
   "outputs": [
    {
     "data": {
      "text/plain": [
       "array([[[ 4,  2,  3],\n",
       "        [ 5,  7,  8],\n",
       "        [10, 14, 15]],\n",
       "\n",
       "       [[ 2, 16,  1],\n",
       "        [20, 25, 24],\n",
       "        [30, 35, 32]],\n",
       "\n",
       "       [[33, 36, 38],\n",
       "        [40, 37, 41],\n",
       "        [44, 46, 48]]])"
      ]
     },
     "execution_count": 42,
     "metadata": {},
     "output_type": "execute_result"
    }
   ],
   "source": [
    "Faro = np.array ([[[4,2,3],[5,7,8],[10,14,15]],[[2,16,1],[20,25,24],[30,35,32]],[[33,36,38],[40,37,41],[44,46,48]]])\n",
    "Faro"
   ]
  },
  {
   "cell_type": "code",
   "execution_count": 43,
   "metadata": {},
   "outputs": [
    {
     "data": {
      "text/plain": [
       "(3, 3, 3)"
      ]
     },
     "execution_count": 43,
     "metadata": {},
     "output_type": "execute_result"
    }
   ],
   "source": [
    "Faro.shape"
   ]
  },
  {
   "cell_type": "code",
   "execution_count": 44,
   "metadata": {},
   "outputs": [
    {
     "data": {
      "text/plain": [
       "27"
      ]
     },
     "execution_count": 44,
     "metadata": {},
     "output_type": "execute_result"
    }
   ],
   "source": [
    "Faro.size"
   ]
  },
  {
   "cell_type": "code",
   "execution_count": 50,
   "metadata": {},
   "outputs": [
    {
     "data": {
      "text/plain": [
       "array([[40, 37]])"
      ]
     },
     "execution_count": 50,
     "metadata": {},
     "output_type": "execute_result"
    }
   ],
   "source": [
    "Faro[2,1:2,:2]"
   ]
  },
  {
   "cell_type": "code",
   "execution_count": null,
   "metadata": {},
   "outputs": [],
   "source": [
    "Faro [[1,2,0,2,2,2,0,1,0,2],[2,1,0,1,2,0,1,2,0,1],[0,1,1,2,]]"
   ]
  },
  {
   "cell_type": "markdown",
   "metadata": {},
   "source": [
    "#### Ejercicio 06 :"
   ]
  },
  {
   "cell_type": "markdown",
   "metadata": {},
   "source": [
    "* Crear el array utilizando los metodos aprendidos en clase"
   ]
  },
  {
   "cell_type": "code",
   "execution_count": 16,
   "metadata": {},
   "outputs": [
    {
     "data": {
      "text/plain": [
       "array([[ 2,  2,  2,  2,  2],\n",
       "       [ 2,  0,  0,  0,  2],\n",
       "       [ 2,  0, 16,  0,  2],\n",
       "       [ 2,  0,  0,  0,  2],\n",
       "       [ 2,  2,  2,  2,  2]])"
      ]
     },
     "execution_count": 16,
     "metadata": {},
     "output_type": "execute_result"
    }
   ],
   "source": [
    "tarea = np.array([[2,2,2,2,2],[2,0,0,0,2],[2,0,16,0,2],[2,0,0,0,2],[2,2,2,2,2]])\n",
    "tarea"
   ]
  },
  {
   "cell_type": "code",
   "execution_count": null,
   "metadata": {},
   "outputs": [],
   "source": []
  }
 ],
 "metadata": {
  "kernelspec": {
   "display_name": "Python 3",
   "language": "python",
   "name": "python3"
  },
  "language_info": {
   "codemirror_mode": {
    "name": "ipython",
    "version": 3
   },
   "file_extension": ".py",
   "mimetype": "text/x-python",
   "name": "python",
   "nbconvert_exporter": "python",
   "pygments_lexer": "ipython3",
   "version": "3.8.5"
  }
 },
 "nbformat": 4,
 "nbformat_minor": 4
}
