{
 "cells": [
  {
   "cell_type": "code",
   "execution_count": 1,
   "metadata": {},
   "outputs": [],
   "source": [
    "import pandas as pd\n",
    "import numpy as np\n",
    "import chardet"
   ]
  },
  {
   "cell_type": "code",
   "execution_count": 2,
   "metadata": {},
   "outputs": [],
   "source": [
    "#Gettting the code of strings\n",
    "\n",
    "rawdata = open(r'../../../data/fallecidos_covid.csv', 'rb').read()\n",
    "result = chardet.detect(rawdata)\n",
    "charenc = result['encoding']"
   ]
  },
  {
   "cell_type": "code",
   "execution_count": null,
   "metadata": {},
   "outputs": [],
   "source": []
  },
  {
   "cell_type": "markdown",
   "metadata": {},
   "source": [
    "# Tarea de la clase Pandas"
   ]
  },
  {
   "cell_type": "markdown",
   "metadata": {},
   "source": [
    "## Relative Path\n",
    "Escribe el relative path que ubica al archivo fallecidos_covid.csv y asiganle a la varible relative_path."
   ]
  },
  {
   "cell_type": "code",
   "execution_count": 16,
   "metadata": {},
   "outputs": [],
   "source": [
    "relative_path = ''"
   ]
  },
  {
   "cell_type": "code",
   "execution_count": 8,
   "metadata": {
    "scrolled": true
   },
   "outputs": [],
   "source": [
    "muertos_covid = pd.read_csv( ,   delimiter = ';',  encoding = charenc )"
   ]
  },
  {
   "cell_type": "markdown",
   "metadata": {},
   "source": [
    "## ID\n",
    "Encuentra la variable que identifica a cada una observación. Halla la variable ID de la data fallecidos_covid.csv y señala en un comentario. "
   ]
  },
  {
   "cell_type": "markdown",
   "metadata": {},
   "source": [
    "## Análisis de la data fallecidos covid\n",
    "\n",
    "0. ¿A qué sexo pertenecen el mayor número de fallecidos?\n",
    "\n",
    "1. Dentro de los fallecidos de entre 30 y 60 años, ¿Qué sexo es el que cuenta con mayor número de fallecidos ?\n",
    "\n",
    "2. ¿Cuántas observaciones no cuentan con información de fecha de nacimiento?\n",
    "\n",
    "3. Halla el total de fallecidos por departamento.\n",
    "\n",
    "4. Halla el total de fallecidos por provincia.\n",
    "\n",
    "5. Halla el total de fallecidos por distrito.\n",
    "\n",
    "6. Genera una tabla donde se encuentre el porcentaje de muertos por cada distrito con respecto a la provincia (llamen a la columna distr_prov) que pertenecen. Este dataframe debe contener las siguientes columnas: DEPARTAMENTO, PROVINCIA, DISTRITO y distr_prov.\n",
    "\n",
    "7. Genera una tabla donde se encuentre el porcentaje de muertos por cada provincia con respecto al departamento que pertenecen (llamen a la columna prov_dpto). Este dataframe debe contener las siguientes columnas: DEPARTAMENTO, PROVINCIA y prov_dpto.\n",
    "\n",
    "8. Genera una tabla donde se encuentre el porcentaje de muertos por cada distrito con respecto al departamento que pertenecen (llamen a la columna distr_dpto). Este dataframe debe contener las siguientes columnas: DEPARTAMENTO, PROVINCIA, DISTRITO, distr_prov, prov_dpto y distr_dpto.\n",
    "\n",
    "9. Exportar la data de la pregunta 8 en un csv que se guarde en la carpeta save_data. Los datos nuemricos deben ser redondeados en 2 decimales."
   ]
  }
 ],
 "metadata": {
  "hide_input": false,
  "kernelspec": {
   "display_name": "Python 3",
   "language": "python",
   "name": "python3"
  },
  "language_info": {
   "codemirror_mode": {
    "name": "ipython",
    "version": 3
   },
   "file_extension": ".py",
   "mimetype": "text/x-python",
   "name": "python",
   "nbconvert_exporter": "python",
   "pygments_lexer": "ipython3",
   "version": "3.8.5"
  }
 },
 "nbformat": 4,
 "nbformat_minor": 4
}
