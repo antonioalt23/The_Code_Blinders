{
 "cells": [
  {
   "cell_type": "code",
   "execution_count": 2,
   "metadata": {},
   "outputs": [],
   "source": [
    "import pandas as pd\n",
    "import numpy as np\n",
    "import chardet"
   ]
  },
  {
   "cell_type": "code",
   "execution_count": 3,
   "metadata": {},
   "outputs": [],
   "source": [
    "#Gettting the code of strings\n",
    "\n",
    "rawdata = open(r'C:\\Users\\user\\OneDrive\\Documentos\\GitHub\\The_Code_Blinders\\data\\fallecidos_covid.csv', 'rb').read()\n",
    "result = chardet.detect(rawdata)\n",
    "charenc = result['encoding']"
   ]
  },
  {
   "cell_type": "markdown",
   "metadata": {},
   "source": [
    "# Tarea de la clase Pandas"
   ]
  },
  {
   "cell_type": "markdown",
   "metadata": {},
   "source": [
    "## Relative Path\n",
    "Escribe el relative path que ubica al archivo fallecidos_covid.csv y asiganle a la varible relative_path."
   ]
  },
  {
   "cell_type": "code",
   "execution_count": 12,
   "metadata": {},
   "outputs": [],
   "source": [
    "relative_path = r'C:\\Users\\user\\OneDrive\\Documentos\\GitHub\\The_Code_Blinders\\data\\fallecidos_covid.csv'"
   ]
  },
  {
   "cell_type": "code",
   "execution_count": 13,
   "metadata": {
    "scrolled": true
   },
   "outputs": [],
   "source": [
    "muertos_covid = pd.read_csv(relative_path ,   delimiter = ';',  encoding = charenc )"
   ]
  },
  {
   "cell_type": "markdown",
   "metadata": {},
   "source": [
    "## ID\n",
    "Encuentra la variable que identifica a cada una observación. Halla la variable ID de la data fallecidos_covid.csv y señala en un comentario. "
   ]
  },
  {
   "cell_type": "code",
   "execution_count": 14,
   "metadata": {},
   "outputs": [
    {
     "data": {
      "text/html": [
       "<div>\n",
       "<style scoped>\n",
       "    .dataframe tbody tr th:only-of-type {\n",
       "        vertical-align: middle;\n",
       "    }\n",
       "\n",
       "    .dataframe tbody tr th {\n",
       "        vertical-align: top;\n",
       "    }\n",
       "\n",
       "    .dataframe thead th {\n",
       "        text-align: right;\n",
       "    }\n",
       "</style>\n",
       "<table border=\"1\" class=\"dataframe\">\n",
       "  <thead>\n",
       "    <tr style=\"text-align: right;\">\n",
       "      <th></th>\n",
       "      <th>FECHA_CORTE</th>\n",
       "      <th>UUID</th>\n",
       "      <th>FECHA_FALLECIMIENTO</th>\n",
       "      <th>EDAD_DECLARADA</th>\n",
       "      <th>SEXO</th>\n",
       "      <th>FECHA_NAC</th>\n",
       "      <th>DEPARTAMENTO</th>\n",
       "      <th>PROVINCIA</th>\n",
       "      <th>DISTRITO</th>\n",
       "    </tr>\n",
       "  </thead>\n",
       "  <tbody>\n",
       "    <tr>\n",
       "      <th>0</th>\n",
       "      <td>20210302</td>\n",
       "      <td>cdbdc47c6c955a031f997677becb9065</td>\n",
       "      <td>20200729</td>\n",
       "      <td>64</td>\n",
       "      <td>MASCULINO</td>\n",
       "      <td>19551202.0</td>\n",
       "      <td>LIMA</td>\n",
       "      <td>LIMA</td>\n",
       "      <td>CHORRILLOS</td>\n",
       "    </tr>\n",
       "    <tr>\n",
       "      <th>1</th>\n",
       "      <td>20210302</td>\n",
       "      <td>a3aaeeedaba295f128635f5edbda6498</td>\n",
       "      <td>20200729</td>\n",
       "      <td>78</td>\n",
       "      <td>FEMENINO</td>\n",
       "      <td>19420118.0</td>\n",
       "      <td>LIMA</td>\n",
       "      <td>LIMA</td>\n",
       "      <td>COMAS</td>\n",
       "    </tr>\n",
       "    <tr>\n",
       "      <th>2</th>\n",
       "      <td>20210302</td>\n",
       "      <td>631e87aac1be2aabd19935a6a255a569</td>\n",
       "      <td>20200729</td>\n",
       "      <td>66</td>\n",
       "      <td>MASCULINO</td>\n",
       "      <td>19540503.0</td>\n",
       "      <td>LIMA</td>\n",
       "      <td>LIMA</td>\n",
       "      <td>COMAS</td>\n",
       "    </tr>\n",
       "    <tr>\n",
       "      <th>3</th>\n",
       "      <td>20210302</td>\n",
       "      <td>74c292a1a2c357a786b26a13fc839719</td>\n",
       "      <td>20200729</td>\n",
       "      <td>69</td>\n",
       "      <td>MASCULINO</td>\n",
       "      <td>19510314.0</td>\n",
       "      <td>LIMA</td>\n",
       "      <td>LIMA</td>\n",
       "      <td>COMAS</td>\n",
       "    </tr>\n",
       "    <tr>\n",
       "      <th>4</th>\n",
       "      <td>20210302</td>\n",
       "      <td>229e060d0ece75f752a790eab2e4470d</td>\n",
       "      <td>20200729</td>\n",
       "      <td>71</td>\n",
       "      <td>MASCULINO</td>\n",
       "      <td>19490215.0</td>\n",
       "      <td>LIMA</td>\n",
       "      <td>LIMA</td>\n",
       "      <td>COMAS</td>\n",
       "    </tr>\n",
       "    <tr>\n",
       "      <th>...</th>\n",
       "      <td>...</td>\n",
       "      <td>...</td>\n",
       "      <td>...</td>\n",
       "      <td>...</td>\n",
       "      <td>...</td>\n",
       "      <td>...</td>\n",
       "      <td>...</td>\n",
       "      <td>...</td>\n",
       "      <td>...</td>\n",
       "    </tr>\n",
       "    <tr>\n",
       "      <th>47084</th>\n",
       "      <td>20210302</td>\n",
       "      <td>5a88884f8b44e60cd1b48600e9f82275</td>\n",
       "      <td>20201125</td>\n",
       "      <td>49</td>\n",
       "      <td>MASCULINO</td>\n",
       "      <td>NaN</td>\n",
       "      <td>LIMA</td>\n",
       "      <td>LIMA</td>\n",
       "      <td>SAN MARTIN DE PORRES</td>\n",
       "    </tr>\n",
       "    <tr>\n",
       "      <th>47085</th>\n",
       "      <td>20210302</td>\n",
       "      <td>06a96fa92f5ee82a29386e177cdb700f</td>\n",
       "      <td>20201128</td>\n",
       "      <td>65</td>\n",
       "      <td>MASCULINO</td>\n",
       "      <td>NaN</td>\n",
       "      <td>LIMA</td>\n",
       "      <td>LIMA</td>\n",
       "      <td>MAGDALENA DEL MAR</td>\n",
       "    </tr>\n",
       "    <tr>\n",
       "      <th>47086</th>\n",
       "      <td>20210302</td>\n",
       "      <td>d192565dac6c74ed120c402cbbdd3115</td>\n",
       "      <td>20201128</td>\n",
       "      <td>60</td>\n",
       "      <td>FEMENINO</td>\n",
       "      <td>NaN</td>\n",
       "      <td>ANCASH</td>\n",
       "      <td>SANTA</td>\n",
       "      <td>NUEVO CHIMBOTE</td>\n",
       "    </tr>\n",
       "    <tr>\n",
       "      <th>47087</th>\n",
       "      <td>20210302</td>\n",
       "      <td>01be7035823ed5f7b5de812af513bd60</td>\n",
       "      <td>20201125</td>\n",
       "      <td>62</td>\n",
       "      <td>FEMENINO</td>\n",
       "      <td>NaN</td>\n",
       "      <td>LIMA</td>\n",
       "      <td>LIMA</td>\n",
       "      <td>SAN MARTIN DE PORRES</td>\n",
       "    </tr>\n",
       "    <tr>\n",
       "      <th>47088</th>\n",
       "      <td>20210302</td>\n",
       "      <td>80ef6326c8cf48002d98dce3a79b0369</td>\n",
       "      <td>20201125</td>\n",
       "      <td>66</td>\n",
       "      <td>FEMENINO</td>\n",
       "      <td>NaN</td>\n",
       "      <td>LIMA</td>\n",
       "      <td>LIMA</td>\n",
       "      <td>SAN MIGUEL</td>\n",
       "    </tr>\n",
       "  </tbody>\n",
       "</table>\n",
       "<p>47089 rows × 9 columns</p>\n",
       "</div>"
      ],
      "text/plain": [
       "       FECHA_CORTE                              UUID  FECHA_FALLECIMIENTO  \\\n",
       "0         20210302  cdbdc47c6c955a031f997677becb9065             20200729   \n",
       "1         20210302  a3aaeeedaba295f128635f5edbda6498             20200729   \n",
       "2         20210302  631e87aac1be2aabd19935a6a255a569             20200729   \n",
       "3         20210302  74c292a1a2c357a786b26a13fc839719             20200729   \n",
       "4         20210302  229e060d0ece75f752a790eab2e4470d             20200729   \n",
       "...            ...                               ...                  ...   \n",
       "47084     20210302  5a88884f8b44e60cd1b48600e9f82275             20201125   \n",
       "47085     20210302  06a96fa92f5ee82a29386e177cdb700f             20201128   \n",
       "47086     20210302  d192565dac6c74ed120c402cbbdd3115             20201128   \n",
       "47087     20210302  01be7035823ed5f7b5de812af513bd60             20201125   \n",
       "47088     20210302  80ef6326c8cf48002d98dce3a79b0369             20201125   \n",
       "\n",
       "       EDAD_DECLARADA       SEXO   FECHA_NAC DEPARTAMENTO PROVINCIA  \\\n",
       "0                  64  MASCULINO  19551202.0         LIMA      LIMA   \n",
       "1                  78   FEMENINO  19420118.0         LIMA      LIMA   \n",
       "2                  66  MASCULINO  19540503.0         LIMA      LIMA   \n",
       "3                  69  MASCULINO  19510314.0         LIMA      LIMA   \n",
       "4                  71  MASCULINO  19490215.0         LIMA      LIMA   \n",
       "...               ...        ...         ...          ...       ...   \n",
       "47084              49  MASCULINO         NaN         LIMA      LIMA   \n",
       "47085              65  MASCULINO         NaN         LIMA      LIMA   \n",
       "47086              60   FEMENINO         NaN       ANCASH     SANTA   \n",
       "47087              62   FEMENINO         NaN         LIMA      LIMA   \n",
       "47088              66   FEMENINO         NaN         LIMA      LIMA   \n",
       "\n",
       "                   DISTRITO  \n",
       "0                CHORRILLOS  \n",
       "1                     COMAS  \n",
       "2                     COMAS  \n",
       "3                     COMAS  \n",
       "4                     COMAS  \n",
       "...                     ...  \n",
       "47084  SAN MARTIN DE PORRES  \n",
       "47085     MAGDALENA DEL MAR  \n",
       "47086        NUEVO CHIMBOTE  \n",
       "47087  SAN MARTIN DE PORRES  \n",
       "47088            SAN MIGUEL  \n",
       "\n",
       "[47089 rows x 9 columns]"
      ]
     },
     "execution_count": 14,
     "metadata": {},
     "output_type": "execute_result"
    }
   ],
   "source": [
    "muertos_covid"
   ]
  },
  {
   "cell_type": "markdown",
   "metadata": {},
   "source": [
    "## Análisis de la data fallecidos covid\n",
    "\n",
    "0. ¿A qué sexo pertenecen el mayor número de fallecidos?\n",
    "\n",
    "1. Dentro de los fallecidos de entre 30 y 60 años, ¿Qué sexo es el que cuenta con mayor número de fallecidos ?\n",
    "\n",
    "2. ¿Cuántas observaciones no cuentan con información de fecha de nacimiento?\n",
    "\n",
    "3. Halla el total de fallecidos por departamento.\n",
    "\n",
    "4. Halla el total de fallecidos por provincia.\n",
    "\n",
    "5. Halla el total de fallecidos por distrito.\n",
    "\n",
    "6. Genera una tabla donde se encuentre el porcentaje de muertos por cada distrito con respecto a la provincia (llamen a la columna distr_prov) que pertenecen. Este dataframe debe contener las siguientes columnas: DEPARTAMENTO, PROVINCIA, DISTRITO y distr_prov.\n",
    "\n",
    "7. Genera una tabla donde se encuentre el porcentaje de muertos por cada provincia con respecto al departamento que pertenecen (llamen a la columna prov_dpto). Este dataframe debe contener las siguientes columnas: DEPARTAMENTO, PROVINCIA y prov_dpto.\n",
    "\n",
    "8. Genera una tabla donde se encuentre el porcentaje de muertos por cada distrito con respecto al departamento que pertenecen (llamen a la columna distr_dpto). Este dataframe debe contener las siguientes columnas: DEPARTAMENTO, PROVINCIA, DISTRITO, distr_prov, prov_dpto y distr_dpto.\n",
    "\n",
    "9. Exportar la data de la pregunta 8 en un csv que se guarde en la carpeta save_data. Los datos nuemricos deben ser redondeados en 2 decimales."
   ]
  },
  {
   "cell_type": "markdown",
   "metadata": {},
   "source": [
    "## ¿A qué sexo pertenecen el mayor número de fallecidos?"
   ]
  },
  {
   "cell_type": "code",
   "execution_count": 16,
   "metadata": {},
   "outputs": [
    {
     "data": {
      "text/plain": [
       "31754"
      ]
     },
     "execution_count": 16,
     "metadata": {},
     "output_type": "execute_result"
    }
   ],
   "source": [
    "fallecidos_hombre = muertos_covid.loc[ ( muertos_covid[ \"SEXO\" ] == \"MASCULINO\" )]\n",
    "fallecidos_hombre\n",
    "len(fallecidos_hombre)"
   ]
  },
  {
   "cell_type": "code",
   "execution_count": 17,
   "metadata": {},
   "outputs": [
    {
     "data": {
      "text/plain": [
       "15325"
      ]
     },
     "execution_count": 17,
     "metadata": {},
     "output_type": "execute_result"
    }
   ],
   "source": [
    "fallecidos_mujer = muertos_covid.loc[ ( muertos_covid[ \"SEXO\" ] == \"FEMENINO\" )]\n",
    "fallecidos_mujer\n",
    "len(fallecidos_mujer)"
   ]
  },
  {
   "cell_type": "code",
   "execution_count": 24,
   "metadata": {},
   "outputs": [
    {
     "name": "stdout",
     "output_type": "stream",
     "text": [
      "El número de fallecidos es mayor en hombres\n"
     ]
    }
   ],
   "source": [
    "len(fallecidos_hombre)+len(fallecidos_mujer)\n",
    "if len(fallecidos_hombre)>len(fallecidos_mujer):\n",
    "    print('El número de fallecidos es mayor en hombres')\n",
    "else:\n",
    "    print('El número de fallecidos es mayor en mujeres')\n"
   ]
  },
  {
   "cell_type": "markdown",
   "metadata": {},
   "source": [
    "## Dentro de los fallecidos de entre 30 y 60 años, ¿Qué sexo es el que cuenta con mayor número de fallecidos ?\n"
   ]
  },
  {
   "cell_type": "code",
   "execution_count": 27,
   "metadata": {},
   "outputs": [
    {
     "data": {
      "text/plain": [
       "10459"
      ]
     },
     "execution_count": 27,
     "metadata": {},
     "output_type": "execute_result"
    }
   ],
   "source": [
    "fallecidos_30_60_h = muertos_covid.loc[ ( muertos_covid[ \"SEXO\" ] == \"MASCULINO\" ) & ( muertos_covid[ \"EDAD_DECLARADA\" ] >= 30 ) & ( muertos_covid[ \"EDAD_DECLARADA\" ] <= 60 )]\n",
    "len(fallecidos_30_60_h)"
   ]
  },
  {
   "cell_type": "code",
   "execution_count": 28,
   "metadata": {},
   "outputs": [
    {
     "data": {
      "text/plain": [
       "4111"
      ]
     },
     "execution_count": 28,
     "metadata": {},
     "output_type": "execute_result"
    }
   ],
   "source": [
    "fallecidos_30_60_m = muertos_covid.loc[ ( muertos_covid[ \"SEXO\" ] == \"FEMENINO\" ) & ( muertos_covid[ \"EDAD_DECLARADA\" ] >= 30 ) & ( muertos_covid[ \"EDAD_DECLARADA\" ] <= 60 )]\n",
    "len(fallecidos_30_60_m)"
   ]
  },
  {
   "cell_type": "code",
   "execution_count": 29,
   "metadata": {},
   "outputs": [
    {
     "name": "stdout",
     "output_type": "stream",
     "text": [
      "El número de fallecidos entre 30 y 60 años es mayor en hombres\n"
     ]
    }
   ],
   "source": [
    "len(fallecidos_30_60_h)+len(fallecidos_30_60_m)\n",
    "if len(fallecidos_30_60_h)>len(fallecidos_30_60_m):\n",
    "    print('El número de fallecidos entre 30 y 60 años es mayor en hombres')\n",
    "else:\n",
    "    print('El número de fallecidos entre 30 y 60 años es mayor en mujeres')\n"
   ]
  },
  {
   "cell_type": "markdown",
   "metadata": {},
   "source": [
    "## ¿Cuántas observaciones no cuentan con información de fecha de nacimiento?"
   ]
  }
 ],
 "metadata": {
  "hide_input": false,
  "kernelspec": {
   "display_name": "Python 3",
   "language": "python",
   "name": "python3"
  },
  "language_info": {
   "codemirror_mode": {
    "name": "ipython",
    "version": 3
   },
   "file_extension": ".py",
   "mimetype": "text/x-python",
   "name": "python",
   "nbconvert_exporter": "python",
   "pygments_lexer": "ipython3",
   "version": "3.7.6"
  }
 },
 "nbformat": 4,
 "nbformat_minor": 4
}
