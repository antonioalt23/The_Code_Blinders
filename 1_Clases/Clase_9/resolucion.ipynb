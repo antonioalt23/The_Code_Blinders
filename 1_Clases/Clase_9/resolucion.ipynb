{
 "cells": [
  {
   "cell_type": "code",
   "execution_count": 5,
   "metadata": {},
   "outputs": [],
   "source": [
    "import pandas as pd\n",
    "import numpy as np\n",
    "import chardet"
   ]
  },
  {
   "cell_type": "code",
   "execution_count": 6,
   "metadata": {},
   "outputs": [],
   "source": [
    "#Gettting the code of strings\n",
    "\n",
    "rawdata = open(r'../../../data/fallecidos_covid.csv', 'rb').read()\n",
    "result = chardet.detect(rawdata)\n",
    "charenc = result['encoding']"
   ]
  },
  {
   "cell_type": "markdown",
   "metadata": {},
   "source": [
    "# Tarea de la clase Pandas"
   ]
  },
  {
   "cell_type": "markdown",
   "metadata": {},
   "source": [
    "## Relative Path\n",
    "Escribe el relative path que ubica al archivo fallecidos_covid.csv y asiganle a la varible relative_path."
   ]
  },
  {
   "cell_type": "code",
   "execution_count": 16,
   "metadata": {},
   "outputs": [],
   "source": [
    "relative_path = ''"
   ]
  },
  {
   "cell_type": "code",
   "execution_count": 8,
   "metadata": {
    "scrolled": true
   },
   "outputs": [],
   "source": [
    "muertos_covid = pd.read_csv( r'../../../data/fallecidos_covid.csv',   delimiter = ';',  encoding = charenc )"
   ]
  },
  {
   "cell_type": "markdown",
   "metadata": {},
   "source": [
    "## ID\n",
    "Encuentra la variable que identifica a cada una observación. Halla la variable ID de la data fallecidos_covid.csv y señala en un comentario. "
   ]
  },
  {
   "cell_type": "code",
   "execution_count": null,
   "metadata": {},
   "outputs": [],
   "source": [
    "muertos_covid.sort_values( ['DEPARTAMENTO', 'PROVINCIA', 'DISTRITO'] ).head(20)"
   ]
  },
  {
   "cell_type": "code",
   "execution_count": 15,
   "metadata": {},
   "outputs": [
    {
     "name": "stdout",
     "output_type": "stream",
     "text": [
      "True\n"
     ]
    }
   ],
   "source": [
    "print( muertos_covid.set_index( [ 'UUID' ] ).index.is_unique )"
   ]
  },
  {
   "cell_type": "code",
   "execution_count": 38,
   "metadata": {},
   "outputs": [
    {
     "data": {
      "text/plain": [
       "Index(['FECHA_CORTE', 'UUID', 'FECHA_FALLECIMIENTO', 'EDAD_DECLARADA', 'SEXO',\n",
       "       'FECHA_NAC', 'DEPARTAMENTO', 'PROVINCIA', 'DISTRITO'],\n",
       "      dtype='object')"
      ]
     },
     "execution_count": 38,
     "metadata": {},
     "output_type": "execute_result"
    }
   ],
   "source": [
    "muertos_covid.columns"
   ]
  },
  {
   "cell_type": "code",
   "execution_count": null,
   "metadata": {},
   "outputs": [],
   "source": [
    "#1\n",
    "muertos_covid[ ( muertos_covid[ 'SEXO'] == 'FEMENINO' ) \\\n",
    "        | ( muertos_covid[ 'SEXO'] == 'MASCULINO' ) ] \\\n",
    "             .groupby( ['SEXO'])[ [ 'SEXO' ] ].count()"
   ]
  },
  {
   "cell_type": "code",
   "execution_count": null,
   "metadata": {},
   "outputs": [],
   "source": [
    "#2\n",
    "muertos_covid[ (( muertos_covid[ 'SEXO'] == 'FEMENINO' ) \\\n",
    "        | ( muertos_covid[ 'SEXO'] == 'MASCULINO' ))  \\\n",
    "        & ( ( muertos_covid[ 'EDAD_DECLARADA'] >= 30 )  \\\n",
    "        & ( muertos_covid[ 'EDAD_DECLARADA'] <= 60 ) )  ] \\\n",
    "        .groupby( ['SEXO'])[ [ 'SEXO' ] ].count()"
   ]
  },
  {
   "cell_type": "code",
   "execution_count": 57,
   "metadata": {},
   "outputs": [],
   "source": [
    "# 3\n",
    "dpt_covid = muertos_covid.groupby( ['DEPARTAMENTO'] ) \\\n",
    "            [ ['DEPARTAMENTO'] ].count()"
   ]
  },
  {
   "cell_type": "code",
   "execution_count": 64,
   "metadata": {},
   "outputs": [],
   "source": [
    "dpt_covid.rename( columns = {'DEPARTAMENTO':'num_death_dpt'}, \\\n",
    "                 inplace = True)"
   ]
  },
  {
   "cell_type": "code",
   "execution_count": 63,
   "metadata": {},
   "outputs": [],
   "source": [
    "dpt_covid_index = dpt_covid.reset_index( level = [ 'DEPARTAMENTO'] )"
   ]
  },
  {
   "cell_type": "code",
   "execution_count": 73,
   "metadata": {},
   "outputs": [],
   "source": [
    "# 4\n",
    "dpt_prv_covid = muertos_covid.groupby( ['DEPARTAMENTO', \\\n",
    "                        'PROVINCIA'] )[ ['PROVINCIA'] ].count()"
   ]
  },
  {
   "cell_type": "code",
   "execution_count": 74,
   "metadata": {},
   "outputs": [],
   "source": [
    "dpt_prv_covid.rename( columns = {'PROVINCIA':'num_death_prv'}, \\\n",
    "                 inplace = True)"
   ]
  },
  {
   "cell_type": "code",
   "execution_count": 75,
   "metadata": {},
   "outputs": [],
   "source": [
    "dpt_prv_covid_index = dpt_prv_covid.reset_index( level = [ 'DEPARTAMENTO' \\\n",
    "                                                , 'PROVINCIA' ] )"
   ]
  },
  {
   "cell_type": "code",
   "execution_count": 76,
   "metadata": {},
   "outputs": [
    {
     "data": {
      "text/html": [
       "<div>\n",
       "<style scoped>\n",
       "    .dataframe tbody tr th:only-of-type {\n",
       "        vertical-align: middle;\n",
       "    }\n",
       "\n",
       "    .dataframe tbody tr th {\n",
       "        vertical-align: top;\n",
       "    }\n",
       "\n",
       "    .dataframe thead th {\n",
       "        text-align: right;\n",
       "    }\n",
       "</style>\n",
       "<table border=\"1\" class=\"dataframe\">\n",
       "  <thead>\n",
       "    <tr style=\"text-align: right;\">\n",
       "      <th></th>\n",
       "      <th>DEPARTAMENTO</th>\n",
       "      <th>PROVINCIA</th>\n",
       "      <th>num_death_prv</th>\n",
       "    </tr>\n",
       "  </thead>\n",
       "  <tbody>\n",
       "    <tr>\n",
       "      <th>0</th>\n",
       "      <td>AMAZONAS</td>\n",
       "      <td>BAGUA</td>\n",
       "      <td>109</td>\n",
       "    </tr>\n",
       "    <tr>\n",
       "      <th>1</th>\n",
       "      <td>AMAZONAS</td>\n",
       "      <td>BONGARA</td>\n",
       "      <td>15</td>\n",
       "    </tr>\n",
       "    <tr>\n",
       "      <th>2</th>\n",
       "      <td>AMAZONAS</td>\n",
       "      <td>CHACHAPOYAS</td>\n",
       "      <td>44</td>\n",
       "    </tr>\n",
       "    <tr>\n",
       "      <th>3</th>\n",
       "      <td>AMAZONAS</td>\n",
       "      <td>CONDORCANQUI</td>\n",
       "      <td>22</td>\n",
       "    </tr>\n",
       "    <tr>\n",
       "      <th>4</th>\n",
       "      <td>AMAZONAS</td>\n",
       "      <td>LUYA</td>\n",
       "      <td>22</td>\n",
       "    </tr>\n",
       "    <tr>\n",
       "      <th>...</th>\n",
       "      <td>...</td>\n",
       "      <td>...</td>\n",
       "      <td>...</td>\n",
       "    </tr>\n",
       "    <tr>\n",
       "      <th>200</th>\n",
       "      <td>TUMBES</td>\n",
       "      <td>TUMBES</td>\n",
       "      <td>322</td>\n",
       "    </tr>\n",
       "    <tr>\n",
       "      <th>201</th>\n",
       "      <td>TUMBES</td>\n",
       "      <td>ZARUMILLA</td>\n",
       "      <td>77</td>\n",
       "    </tr>\n",
       "    <tr>\n",
       "      <th>202</th>\n",
       "      <td>UCAYALI</td>\n",
       "      <td>ATALAYA</td>\n",
       "      <td>10</td>\n",
       "    </tr>\n",
       "    <tr>\n",
       "      <th>203</th>\n",
       "      <td>UCAYALI</td>\n",
       "      <td>CORONEL PORTILLO</td>\n",
       "      <td>432</td>\n",
       "    </tr>\n",
       "    <tr>\n",
       "      <th>204</th>\n",
       "      <td>UCAYALI</td>\n",
       "      <td>PADRE ABAD</td>\n",
       "      <td>55</td>\n",
       "    </tr>\n",
       "  </tbody>\n",
       "</table>\n",
       "<p>205 rows × 3 columns</p>\n",
       "</div>"
      ],
      "text/plain": [
       "    DEPARTAMENTO         PROVINCIA  num_death_prv\n",
       "0       AMAZONAS             BAGUA            109\n",
       "1       AMAZONAS           BONGARA             15\n",
       "2       AMAZONAS       CHACHAPOYAS             44\n",
       "3       AMAZONAS      CONDORCANQUI             22\n",
       "4       AMAZONAS              LUYA             22\n",
       "..           ...               ...            ...\n",
       "200       TUMBES            TUMBES            322\n",
       "201       TUMBES         ZARUMILLA             77\n",
       "202      UCAYALI           ATALAYA             10\n",
       "203      UCAYALI  CORONEL PORTILLO            432\n",
       "204      UCAYALI        PADRE ABAD             55\n",
       "\n",
       "[205 rows x 3 columns]"
      ]
     },
     "execution_count": 76,
     "metadata": {},
     "output_type": "execute_result"
    }
   ],
   "source": [
    "dpt_prv_covid_index"
   ]
  },
  {
   "cell_type": "code",
   "execution_count": 71,
   "metadata": {},
   "outputs": [],
   "source": [
    "# 5\n",
    "dpt_prv_dstri_covid = muertos_covid.groupby( ['DEPARTAMENTO', \\\n",
    "                        'PROVINCIA', 'DISTRITO'] )[ ['DISTRITO'] ].count()"
   ]
  },
  {
   "cell_type": "code",
   "execution_count": 72,
   "metadata": {},
   "outputs": [],
   "source": [
    "dpt_prv_dstri_covid.rename( columns = {'DISTRITO':'num_death_distrito'}, \\\n",
    "                 inplace = True)"
   ]
  },
  {
   "cell_type": "code",
   "execution_count": 78,
   "metadata": {},
   "outputs": [],
   "source": [
    "dpt_prv_dstri_covid_index = dpt_prv_dstri_covid.reset_index( \\\n",
    "                            level = [ 'DEPARTAMENTO', 'PROVINCIA', \\\n",
    "                                    'DISTRITO'] )"
   ]
  },
  {
   "cell_type": "code",
   "execution_count": null,
   "metadata": {
    "scrolled": true
   },
   "outputs": [],
   "source": [
    "dpt_prv_dstri_covid_index"
   ]
  },
  {
   "cell_type": "markdown",
   "metadata": {},
   "source": [
    "## Análisis de la data fallecidos covid\n",
    "\n",
    "0. ¿A qué sexo pertenecen el mayor número de fallecidos?\n",
    "\n",
    "1. Dentro de los fallecidos de entre 30 y 60 años, ¿Qué sexo es el que cuenta con mayor número de fallecidos ?\n",
    "\n",
    "2. ¿Cuántas observaciones no cuentan con información de fecha de nacimiento?\n",
    "\n",
    "3. Halla el total de fallecidos por departamento.\n",
    "\n",
    "4. Halla el total de fallecidos por provincia.\n",
    "\n",
    "5. Halla el total de fallecidos por distrito.\n",
    "\n",
    "6. Genera una tabla donde se encuentre el porcentaje de muertos por cada distrito con respecto a la provincia (llamen a la columna distr_prov) que pertenecen. Este dataframe debe contener las siguientes columnas: DEPARTAMENTO, PROVINCIA, DISTRITO y distr_prov.\n",
    "\n",
    "7. Genera una tabla donde se encuentre el porcentaje de muertos por cada provincia con respecto al departamento que pertenecen (llamen a la columna prov_dpto). Este dataframe debe contener las siguientes columnas: DEPARTAMENTO, PROVINCIA y prov_dpto.\n",
    "\n",
    "8. Genera una tabla donde se encuentre el porcentaje de muertos por cada distrito con respecto al departamento que pertenecen (llamen a la columna distr_dpto). Este dataframe debe contener las siguientes columnas: DEPARTAMENTO, PROVINCIA, DISTRITO, distr_prov, prov_dpto y distr_dpto.\n",
    "\n",
    "9. Exportar la data de la pregunta 8 en un csv que se guarde en la carpeta save_data."
   ]
  },
  {
   "cell_type": "code",
   "execution_count": 86,
   "metadata": {},
   "outputs": [],
   "source": [
    "# 6\n",
    "data_6 = dpt_prv_dstri_covid_index.merge( dpt_prv_covid_index , how = 'left' \\\n",
    "                          , on = [ 'DEPARTAMENTO', 'PROVINCIA'] \\\n",
    "                               , indicator = True )"
   ]
  },
  {
   "cell_type": "code",
   "execution_count": 94,
   "metadata": {},
   "outputs": [],
   "source": [
    "# Cheking _merge column\n",
    "data_6.groupby( ['_merge'] )['_merge'].count()\n",
    "\n",
    "# Dropping data\n",
    "data_6_cheked = data_6.drop([ '_merge' ], axis=1)"
   ]
  },
  {
   "cell_type": "code",
   "execution_count": 95,
   "metadata": {},
   "outputs": [],
   "source": [
    "# 7\n",
    "data_7 = dpt_prv_covid_index.merge( dpt_covid_index , how = 'left' \\\n",
    "                          , on = [ 'DEPARTAMENTO' ] \\\n",
    "                               , indicator = True )"
   ]
  },
  {
   "cell_type": "code",
   "execution_count": 98,
   "metadata": {},
   "outputs": [],
   "source": [
    "# Cheking _merge column\n",
    "data_7.groupby( ['_merge'] )['_merge'].count()\n",
    "\n",
    "# Dropping data\n",
    "data_7_cheked = data_7.drop([ '_merge' ], axis=1)"
   ]
  },
  {
   "cell_type": "code",
   "execution_count": 99,
   "metadata": {},
   "outputs": [],
   "source": [
    "# 8 \n",
    "data_8 = data_6_cheked.merge( data_7_cheked , how = 'left' \\\n",
    "                          , on = [ 'DEPARTAMENTO', 'PROVINCIA'] \\\n",
    "                               )"
   ]
  },
  {
   "cell_type": "code",
   "execution_count": 100,
   "metadata": {},
   "outputs": [
    {
     "data": {
      "text/html": [
       "<div>\n",
       "<style scoped>\n",
       "    .dataframe tbody tr th:only-of-type {\n",
       "        vertical-align: middle;\n",
       "    }\n",
       "\n",
       "    .dataframe tbody tr th {\n",
       "        vertical-align: top;\n",
       "    }\n",
       "\n",
       "    .dataframe thead th {\n",
       "        text-align: right;\n",
       "    }\n",
       "</style>\n",
       "<table border=\"1\" class=\"dataframe\">\n",
       "  <thead>\n",
       "    <tr style=\"text-align: right;\">\n",
       "      <th></th>\n",
       "      <th>DEPARTAMENTO</th>\n",
       "      <th>PROVINCIA</th>\n",
       "      <th>DISTRITO</th>\n",
       "      <th>num_death_distrito</th>\n",
       "      <th>num_death_prv_x</th>\n",
       "      <th>num_death_prv_y</th>\n",
       "      <th>num_death_dpt</th>\n",
       "    </tr>\n",
       "  </thead>\n",
       "  <tbody>\n",
       "    <tr>\n",
       "      <th>0</th>\n",
       "      <td>AMAZONAS</td>\n",
       "      <td>BAGUA</td>\n",
       "      <td>ARAMANGO</td>\n",
       "      <td>10</td>\n",
       "      <td>109</td>\n",
       "      <td>109</td>\n",
       "      <td>326</td>\n",
       "    </tr>\n",
       "    <tr>\n",
       "      <th>1</th>\n",
       "      <td>AMAZONAS</td>\n",
       "      <td>BAGUA</td>\n",
       "      <td>BAGUA</td>\n",
       "      <td>60</td>\n",
       "      <td>109</td>\n",
       "      <td>109</td>\n",
       "      <td>326</td>\n",
       "    </tr>\n",
       "    <tr>\n",
       "      <th>2</th>\n",
       "      <td>AMAZONAS</td>\n",
       "      <td>BAGUA</td>\n",
       "      <td>COPALLIN</td>\n",
       "      <td>4</td>\n",
       "      <td>109</td>\n",
       "      <td>109</td>\n",
       "      <td>326</td>\n",
       "    </tr>\n",
       "  </tbody>\n",
       "</table>\n",
       "</div>"
      ],
      "text/plain": [
       "  DEPARTAMENTO PROVINCIA  DISTRITO  num_death_distrito  num_death_prv_x  \\\n",
       "0     AMAZONAS     BAGUA  ARAMANGO                  10              109   \n",
       "1     AMAZONAS     BAGUA     BAGUA                  60              109   \n",
       "2     AMAZONAS     BAGUA  COPALLIN                   4              109   \n",
       "\n",
       "   num_death_prv_y  num_death_dpt  \n",
       "0              109            326  \n",
       "1              109            326  \n",
       "2              109            326  "
      ]
     },
     "execution_count": 100,
     "metadata": {},
     "output_type": "execute_result"
    }
   ],
   "source": [
    "data_8.head(3)"
   ]
  },
  {
   "cell_type": "code",
   "execution_count": 101,
   "metadata": {},
   "outputs": [],
   "source": [
    "# Creating this columns  distr_prov, prov_dpto y distr_dpto\n",
    "# num_death_prv_x and num_death_prv_y are equal\n",
    "data_8[ 'distr_prov' ] =    data_8[ 'num_death_distrito' ] * 100 / \\\n",
    "                            data_8[ 'num_death_prv_x' ]\n",
    "\n",
    "data_8[ 'prov_dpto' ] =     data_8[ 'num_death_prv_x' ] * 100 / \\\n",
    "                            data_8[ 'num_death_prv_y' ]\n",
    "\n",
    "data_8[ 'distr_dpto' ] =    data_8[ 'num_death_distrito' ] * 100 / \\\n",
    "                            data_8[ 'num_death_dpt' ]"
   ]
  },
  {
   "cell_type": "code",
   "execution_count": 102,
   "metadata": {},
   "outputs": [],
   "source": [
    "data_8_cheked = data_8.drop([ 'num_death_distrito' , 'num_death_prv_x', \\\n",
    "                            'num_death_prv_y', 'num_death_dpt'], axis=1)"
   ]
  },
  {
   "cell_type": "code",
   "execution_count": 104,
   "metadata": {},
   "outputs": [
    {
     "data": {
      "text/html": [
       "<div>\n",
       "<style scoped>\n",
       "    .dataframe tbody tr th:only-of-type {\n",
       "        vertical-align: middle;\n",
       "    }\n",
       "\n",
       "    .dataframe tbody tr th {\n",
       "        vertical-align: top;\n",
       "    }\n",
       "\n",
       "    .dataframe thead th {\n",
       "        text-align: right;\n",
       "    }\n",
       "</style>\n",
       "<table border=\"1\" class=\"dataframe\">\n",
       "  <thead>\n",
       "    <tr style=\"text-align: right;\">\n",
       "      <th></th>\n",
       "      <th>DEPARTAMENTO</th>\n",
       "      <th>PROVINCIA</th>\n",
       "      <th>DISTRITO</th>\n",
       "      <th>distr_prov</th>\n",
       "      <th>prov_dpto</th>\n",
       "      <th>distr_dpto</th>\n",
       "    </tr>\n",
       "  </thead>\n",
       "  <tbody>\n",
       "    <tr>\n",
       "      <th>0</th>\n",
       "      <td>AMAZONAS</td>\n",
       "      <td>BAGUA</td>\n",
       "      <td>ARAMANGO</td>\n",
       "      <td>9.17</td>\n",
       "      <td>33.44</td>\n",
       "      <td>3.07</td>\n",
       "    </tr>\n",
       "    <tr>\n",
       "      <th>1</th>\n",
       "      <td>AMAZONAS</td>\n",
       "      <td>BAGUA</td>\n",
       "      <td>BAGUA</td>\n",
       "      <td>55.05</td>\n",
       "      <td>33.44</td>\n",
       "      <td>18.40</td>\n",
       "    </tr>\n",
       "    <tr>\n",
       "      <th>2</th>\n",
       "      <td>AMAZONAS</td>\n",
       "      <td>BAGUA</td>\n",
       "      <td>COPALLIN</td>\n",
       "      <td>3.67</td>\n",
       "      <td>33.44</td>\n",
       "      <td>1.23</td>\n",
       "    </tr>\n",
       "    <tr>\n",
       "      <th>3</th>\n",
       "      <td>AMAZONAS</td>\n",
       "      <td>BAGUA</td>\n",
       "      <td>IMAZA</td>\n",
       "      <td>22.02</td>\n",
       "      <td>33.44</td>\n",
       "      <td>7.36</td>\n",
       "    </tr>\n",
       "    <tr>\n",
       "      <th>4</th>\n",
       "      <td>AMAZONAS</td>\n",
       "      <td>BAGUA</td>\n",
       "      <td>LA PECA</td>\n",
       "      <td>10.09</td>\n",
       "      <td>33.44</td>\n",
       "      <td>3.37</td>\n",
       "    </tr>\n",
       "    <tr>\n",
       "      <th>...</th>\n",
       "      <td>...</td>\n",
       "      <td>...</td>\n",
       "      <td>...</td>\n",
       "      <td>...</td>\n",
       "      <td>...</td>\n",
       "      <td>...</td>\n",
       "    </tr>\n",
       "    <tr>\n",
       "      <th>1444</th>\n",
       "      <td>UCAYALI</td>\n",
       "      <td>CORONEL PORTILLO</td>\n",
       "      <td>YARINACOCHA</td>\n",
       "      <td>21.53</td>\n",
       "      <td>80.90</td>\n",
       "      <td>17.42</td>\n",
       "    </tr>\n",
       "    <tr>\n",
       "      <th>1445</th>\n",
       "      <td>UCAYALI</td>\n",
       "      <td>PADRE ABAD</td>\n",
       "      <td>CURIMANA</td>\n",
       "      <td>3.64</td>\n",
       "      <td>10.30</td>\n",
       "      <td>0.37</td>\n",
       "    </tr>\n",
       "    <tr>\n",
       "      <th>1446</th>\n",
       "      <td>UCAYALI</td>\n",
       "      <td>PADRE ABAD</td>\n",
       "      <td>IRAZOLA</td>\n",
       "      <td>10.91</td>\n",
       "      <td>10.30</td>\n",
       "      <td>1.12</td>\n",
       "    </tr>\n",
       "    <tr>\n",
       "      <th>1447</th>\n",
       "      <td>UCAYALI</td>\n",
       "      <td>PADRE ABAD</td>\n",
       "      <td>NESHUYA</td>\n",
       "      <td>12.73</td>\n",
       "      <td>10.30</td>\n",
       "      <td>1.31</td>\n",
       "    </tr>\n",
       "    <tr>\n",
       "      <th>1448</th>\n",
       "      <td>UCAYALI</td>\n",
       "      <td>PADRE ABAD</td>\n",
       "      <td>PADRE ABAD</td>\n",
       "      <td>72.73</td>\n",
       "      <td>10.30</td>\n",
       "      <td>7.49</td>\n",
       "    </tr>\n",
       "  </tbody>\n",
       "</table>\n",
       "<p>1449 rows × 6 columns</p>\n",
       "</div>"
      ],
      "text/plain": [
       "     DEPARTAMENTO         PROVINCIA     DISTRITO  distr_prov  prov_dpto  \\\n",
       "0        AMAZONAS             BAGUA     ARAMANGO        9.17      33.44   \n",
       "1        AMAZONAS             BAGUA        BAGUA       55.05      33.44   \n",
       "2        AMAZONAS             BAGUA     COPALLIN        3.67      33.44   \n",
       "3        AMAZONAS             BAGUA        IMAZA       22.02      33.44   \n",
       "4        AMAZONAS             BAGUA      LA PECA       10.09      33.44   \n",
       "...           ...               ...          ...         ...        ...   \n",
       "1444      UCAYALI  CORONEL PORTILLO  YARINACOCHA       21.53      80.90   \n",
       "1445      UCAYALI        PADRE ABAD     CURIMANA        3.64      10.30   \n",
       "1446      UCAYALI        PADRE ABAD      IRAZOLA       10.91      10.30   \n",
       "1447      UCAYALI        PADRE ABAD      NESHUYA       12.73      10.30   \n",
       "1448      UCAYALI        PADRE ABAD   PADRE ABAD       72.73      10.30   \n",
       "\n",
       "      distr_dpto  \n",
       "0           3.07  \n",
       "1          18.40  \n",
       "2           1.23  \n",
       "3           7.36  \n",
       "4           3.37  \n",
       "...          ...  \n",
       "1444       17.42  \n",
       "1445        0.37  \n",
       "1446        1.12  \n",
       "1447        1.31  \n",
       "1448        7.49  \n",
       "\n",
       "[1449 rows x 6 columns]"
      ]
     },
     "execution_count": 104,
     "metadata": {},
     "output_type": "execute_result"
    }
   ],
   "source": [
    "data_8_cheked.round(2).to_csv( '' )"
   ]
  }
 ],
 "metadata": {
  "hide_input": false,
  "kernelspec": {
   "display_name": "Python 3",
   "language": "python",
   "name": "python3"
  },
  "language_info": {
   "codemirror_mode": {
    "name": "ipython",
    "version": 3
   },
   "file_extension": ".py",
   "mimetype": "text/x-python",
   "name": "python",
   "nbconvert_exporter": "python",
   "pygments_lexer": "ipython3",
   "version": "3.8.6"
  }
 },
 "nbformat": 4,
 "nbformat_minor": 4
}
