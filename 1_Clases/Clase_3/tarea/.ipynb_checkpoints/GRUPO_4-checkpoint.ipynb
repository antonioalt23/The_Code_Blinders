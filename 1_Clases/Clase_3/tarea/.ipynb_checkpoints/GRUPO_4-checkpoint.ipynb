{
 "cells": [
  {
   "cell_type": "markdown",
   "metadata": {},
   "source": [
    "# PREGUNTAS INTRODUCCIÓN A PYTHON\n",
    "\n",
    "**1. Las dos cosas que toda computadora puede hacer son:** \n",
    "\n",
    "Realizar calculos y recordarte los resultados.\n",
    "\n",
    "**2. Indicar V o F**\n",
    "\n",
    "A) El conocimeiento declarativo se refiere a declaraciones de hechos. (V)\n",
    "\n",
    "B) El conocimiento imperativo se refiere a métodos de \"como hacer\".   (V)\n",
    "\n",
    "C) En una receta para deducir la raíz cuadrada implica adivinar un valor inicial, sin otra receta para saber cómo elegir un número inicial, la computadora no puede generar uno por sí sola.      (V)\n",
    "\n",
    "\n",
    "**3. De un ejemplo de conocimiento declarativo e imperativo.**\n",
    "\n",
    "sabemos que es un hecho que 2+2=4\n",
    "\n",
    "Y Como sabemos que el conocimiento imperativo es darle la receta a la computadora para obtener resultados.\n",
    "\n",
    "\n",
    "\n",
    "\n"
   ]
  }
 ],
 "metadata": {
  "kernelspec": {
   "display_name": "Python 3",
   "language": "python",
   "name": "python3"
  },
  "language_info": {
   "codemirror_mode": {
    "name": "ipython",
    "version": 3
   },
   "file_extension": ".py",
   "mimetype": "text/x-python",
   "name": "python",
   "nbconvert_exporter": "python",
   "pygments_lexer": "ipython3",
   "version": "3.8.5"
  }
 },
 "nbformat": 4,
 "nbformat_minor": 4
}
