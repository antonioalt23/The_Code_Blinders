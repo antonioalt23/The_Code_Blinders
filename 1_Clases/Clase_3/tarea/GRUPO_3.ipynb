{
 "cells": [
  {
   "cell_type": "markdown",
   "metadata": {},
   "source": [
    "## BETSY\n",
    "### 1. Las dos cosas que toda computadora puede hacer son:"
   ]
  },
  {
   "cell_type": "code",
   "execution_count": null,
   "metadata": {},
   "outputs": [],
   "source": []
  },
  {
   "cell_type": "markdown",
   "metadata": {},
   "source": [
    "## MIGUEL\n",
    "### 2. Indicar VoF\n",
    "\n",
    "\n",
    "A) El conocimiento declarativo se refiere a declaraciones de hechos____\n",
    "\n",
    "\n",
    "B) El conocimiento imperativo se refiere a métodos de \"cómo hacer\"____\n",
    "\n",
    "\n",
    "c) En Una receta para deducir la raíz cuadrada implica adivinar un valor inicial, Sin otra receta para saber cómo elegir un número inicial, la computadora no puede generar uno por sí sola._____\n",
    "\n"
   ]
  },
  {
   "cell_type": "code",
   "execution_count": null,
   "metadata": {},
   "outputs": [],
   "source": []
  },
  {
   "cell_type": "markdown",
   "metadata": {},
   "source": [
    "## BETSY\n",
    "### 3. De un ejemplo de conocimiento declarativo e imperativo."
   ]
  },
  {
   "cell_type": "code",
   "execution_count": null,
   "metadata": {},
   "outputs": [],
   "source": []
  },
  {
   "cell_type": "markdown",
   "metadata": {},
   "source": [
    "## CESAR\n",
    "### 4. Escriba un código que pida ingresar un número entero por teclado e imprima:\n",
    "- El identificador\n",
    "- El tipo de datos (entero, decimal,complejo, cadena , etc.)\n",
    "- El valor (el propio dato)."
   ]
  },
  {
   "cell_type": "markdown",
   "metadata": {},
   "source": [
    "## EUNICE\n",
    "### 5. Dado la cadena \"tengo una yama que yama se llama y cuando me llama yama me llama\" , escriba un código que convierta la cadena en lista e imprima el número de elementos de la lista."
   ]
  },
  {
   "cell_type": "code",
   "execution_count": null,
   "metadata": {},
   "outputs": [],
   "source": []
  },
  {
   "cell_type": "markdown",
   "metadata": {},
   "source": [
    "## BETSY\n",
    "### 6. Escriba un código que busque la letra “e” en los seis primeros caracteres del string “Muerte a Manuel”"
   ]
  },
  {
   "cell_type": "markdown",
   "metadata": {},
   "source": [
    "## GERSON\n",
    "### 7. Escriba un código que cuente el número de apariciones de la cad1 en cad2 si cad1= \"yama\" y cad2= \"tengo una yama que yama se llama y cuando me llama yama me llama\""
   ]
  },
  {
   "cell_type": "code",
   "execution_count": null,
   "metadata": {},
   "outputs": [],
   "source": []
  }
 ],
 "metadata": {
  "kernelspec": {
   "display_name": "Python 3",
   "language": "python",
   "name": "python3"
  },
  "language_info": {
   "codemirror_mode": {
    "name": "ipython",
    "version": 3
   },
   "file_extension": ".py",
   "mimetype": "text/x-python",
   "name": "python",
   "nbconvert_exporter": "python",
   "pygments_lexer": "ipython3",
   "version": "3.8.5"
  }
 },
 "nbformat": 4,
 "nbformat_minor": 4
}
