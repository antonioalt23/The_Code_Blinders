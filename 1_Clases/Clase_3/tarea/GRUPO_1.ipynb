{
 "cells": [
  {
   "cell_type": "markdown",
   "metadata": {},
   "source": [
    "# PREGUNTAS: INTRODUCCIÓN A PYTHON\n"
   ]
  },
  {
   "cell_type": "markdown",
   "metadata": {},
   "source": [
    "## Raúl"
   ]
  },
  {
   "cell_type": "markdown",
   "metadata": {},
   "source": [
    "## 1. Las dos cosas que toda computadora puede hacer son:\n"
   ]
  },
  {
   "cell_type": "markdown",
   "metadata": {},
   "source": [
    "###  RESPUESTA : Calcular y recordarte lo calculado"
   ]
  },
  {
   "cell_type": "markdown",
   "metadata": {},
   "source": [
    "## Kelly\n",
    "\n",
    "## Respuestas\n",
    "\n",
    "Las dos cosas que toda computadora puede hacer son: realizar cálculos y recordar datos\n",
    "\n",
    "Indicar VoF\n",
    "\n",
    "A) El conocimiento declarativo se refiere a declaraciones de hechos____ [v]\n",
    "\n",
    "B) El conocimiento imperativo se refiere a métodos de \"cómo hacer\"____ [v]\n",
    "\n",
    "C) En Una receta para deducir la raíz cuadrada implica adivinar un valor inicial, Sin otra receta para saber cómo elegir un número inicial, la computadora no puede generar uno por sí sola._____ [f]\n",
    "\n",
    "De un ejemplo de conocimiento declarativo e imperativo.\n",
    "el pago del bono universal puede realizarse desde una plataforma virtual (conocimiento declarativo)\n",
    "\n",
    "para acceder al pago del bono universal usted debe: (conocimiento imperativo)\n",
    "\n",
    "registrar su número de dni\n",
    "verificar si se encuentra dentro de los grupos seleccionados\n",
    "indicar la modalidad en la que recibirá el bono (etc.)"
   ]
  },
  {
   "cell_type": "code",
   "execution_count": 1,
   "metadata": {},
   "outputs": [
    {
     "data": {
      "text/plain": [
       "int"
      ]
     },
     "execution_count": 1,
     "metadata": {},
     "output_type": "execute_result"
    }
   ],
   "source": [
    "# 5. Escriba un código que pida ingresar un número entero por teclado e imprima\n",
    "x= 10 \n",
    "id(10)\n",
    "type (10)"
   ]
  },
  {
   "cell_type": "code",
   "execution_count": null,
   "metadata": {},
   "outputs": [],
   "source": []
  }
 ],
 "metadata": {
  "kernelspec": {
   "display_name": "Python 3",
   "language": "python",
   "name": "python3"
  },
  "language_info": {
   "codemirror_mode": {
    "name": "ipython",
    "version": 3
   },
   "file_extension": ".py",
   "mimetype": "text/x-python",
   "name": "python",
   "nbconvert_exporter": "python",
   "pygments_lexer": "ipython3",
   "version": "3.8.5"
  }
 },
 "nbformat": 4,
 "nbformat_minor": 4
}
