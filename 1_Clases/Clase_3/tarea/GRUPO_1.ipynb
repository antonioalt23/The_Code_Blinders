{
 "cells": [
  {
   "cell_type": "markdown",
   "metadata": {},
   "source": [
    "# PREGUNTAS: INTRODUCCIÓN A PYTHON"
   ]
  },
  {
   "cell_type": "markdown",
   "metadata": {},
   "source": [
    "## $\\color{blue}{\\text{Raúl}}$"
   ]
  },
  {
   "cell_type": "markdown",
   "metadata": {},
   "source": [
    "## 1. Las dos cosas que toda computadora puede hacer son:\n"
   ]
  },
  {
   "cell_type": "markdown",
   "metadata": {},
   "source": [
    "**RESPUESTA**: Calcular y recordarte lo calculado"
   ]
  },
  {
   "cell_type": "markdown",
   "metadata": {},
   "source": [
    "## $\\color{blue}{\\text{Kelly}}$ \n",
    "\n",
    "\n",
    "## 2. Indicar VoF\n",
    "\n",
    "**RESPUESTA**:\n",
    "\n",
    "A) El conocimiento declarativo se refiere a declaraciones de hechos: **_[V]_**\n",
    "\n",
    "B) El conocimiento imperativo se refiere a métodos de \"cómo hacer\": **_[V]_**\n",
    "\n",
    "C) En Una receta para deducir la raíz cuadrada implica adivinar un valor inicial, Sin otra receta para saber cómo elegir un número inicial, la computadora no puede generar uno por sí sola: **_[F]_**\n"
   ]
  },
  {
   "cell_type": "markdown",
   "metadata": {},
   "source": [
    "## 3. De un ejemplo de conocimiento declarativo e imperativo"
   ]
  },
  {
   "cell_type": "markdown",
   "metadata": {},
   "source": [
    "**RESPUESTA**: \n",
    "\n",
    "* El pago del bono universal puede realizarse desde una plataforma virtual (conocimiento declarativo)\n",
    "\n",
    "* Para acceder al pago del bono universal usted debe: (conocimiento imperativo)\n",
    "\n",
    "* Registrar su número de dni verificar si se encuentra dentro de los grupos seleccionados indicar la modalidad en la que recibirá el bono (etc.)"
   ]
  },
  {
   "cell_type": "markdown",
   "metadata": {},
   "source": [
    "## 4. Escriba un código que pida ingresar un número entero por teclado e imprima:"
   ]
  },
  {
   "cell_type": "markdown",
   "metadata": {},
   "source": [
    "* El identificador"
   ]
  },
  {
   "cell_type": "code",
   "execution_count": 22,
   "metadata": {},
   "outputs": [],
   "source": [
    "x=10"
   ]
  },
  {
   "cell_type": "code",
   "execution_count": null,
   "metadata": {},
   "outputs": [],
   "source": [
    "* "
   ]
  },
  {
   "cell_type": "code",
   "execution_count": 15,
   "metadata": {},
   "outputs": [
    {
     "data": {
      "text/plain": [
       "int"
      ]
     },
     "execution_count": 15,
     "metadata": {},
     "output_type": "execute_result"
    }
   ],
   "source": [
    "\n",
    "id(10)\n",
    "type (10)"
   ]
  },
  {
   "cell_type": "markdown",
   "metadata": {},
   "source": [
    "## $\\color{blue}{\\text{Jason Cruz}}$"
   ]
  },
  {
   "cell_type": "markdown",
   "metadata": {},
   "source": [
    "## 5. Dado la cadena \"tengo una yama que yama se llama y cuando me llama yama me llama\" , escriba un código que convierta la cadena en lista e imprima el número de elementos de la lista."
   ]
  },
  {
   "cell_type": "code",
   "execution_count": 1,
   "metadata": {},
   "outputs": [
    {
     "name": "stdout",
     "output_type": "stream",
     "text": [
      "['tengo', 'una', 'yama', 'que', 'yama', 'se', 'llama', 'y', 'cuando', 'me', 'llama', 'yama', 'me', 'llama']\n"
     ]
    },
    {
     "data": {
      "text/plain": [
       "14"
      ]
     },
     "execution_count": 1,
     "metadata": {},
     "output_type": "execute_result"
    }
   ],
   "source": [
    "yo = [\"tengo\", \"una\", \"yama\", \"que\", \"yama\", \"se\", \"llama\", \"y\", \"cuando\", \"me\", \"llama\", \"yama\", \"me\", \"llama\"] \n",
    "print(yo)\n",
    "len(yo) # Se espera que el número de elementos de esta lista sea de 14"
   ]
  },
  {
   "cell_type": "code",
   "execution_count": 2,
   "metadata": {},
   "outputs": [
    {
     "name": "stdout",
     "output_type": "stream",
     "text": [
      "['tengo', 'una', 'yama', 'que', 'yama', 'se', 'llama', 'y', 'cuando', 'me', 'llama', ['yama me llama']]\n"
     ]
    },
    {
     "data": {
      "text/plain": [
       "12"
      ]
     },
     "execution_count": 2,
     "metadata": {},
     "output_type": "execute_result"
    }
   ],
   "source": [
    "# Una variante\n",
    "\n",
    "yo = [\"tengo\", \"una\", \"yama\", \"que\", \"yama\", \"se\", \"llama\", \"y\", \"cuando\", \"me\", \"llama\", [\"yama me llama\"]] \n",
    "print(yo)\n",
    "len(yo) # Se espera que el número de elementos de esta lista sea de 12"
   ]
  },
  {
   "cell_type": "code",
   "execution_count": 3,
   "metadata": {},
   "outputs": [
    {
     "name": "stdout",
     "output_type": "stream",
     "text": [
      "['yo', 'tengo', 'una', 'yama', 'que', 'yama', 'se', 'llama', 'y', 'cuando', 'me', 'llama', ['yama me llama']]\n"
     ]
    },
    {
     "data": {
      "text/plain": [
       "13"
      ]
     },
     "execution_count": 3,
     "metadata": {},
     "output_type": "execute_result"
    }
   ],
   "source": [
    "# Otra variante más\n",
    "yo = [\"tengo\", \"una\", \"yama\", \"que\", \"yama\", \"se\", \"llama\", \"y\", \"cuando\", \"me\", \"llama\", [\"yama me llama\"]] # Se espera que el número de elementos de esta lista sea de 12\n",
    "yo.insert(0,\"yo\")\n",
    "print(yo)\n",
    "len(yo) # Se espera que el número de elementos de esta lista sea de 13"
   ]
  },
  {
   "cell_type": "markdown",
   "metadata": {},
   "source": [
    "## $\\color{black}{\\text{Marcel Salinas}}$"
   ]
  },
  {
   "cell_type": "markdown",
   "metadata": {},
   "source": [
    "**6. Escriba un código que busque la letra “e” en los seis primeros caracteres del string “Muerte a Manuel”**"
   ]
  },
  {
   "cell_type": "code",
   "execution_count": 2,
   "metadata": {},
   "outputs": [
    {
     "name": "stdout",
     "output_type": "stream",
     "text": [
      "Muerte a Manuel\n",
      "<class 'str'>\n",
      "2\n"
     ]
    }
   ],
   "source": [
    "x=\"Muerte a Manuel\"\n",
    "print(x)\n",
    "print(type(x))\n",
    "print(x[:6].find(\"e\"))"
   ]
  },
  {
   "cell_type": "markdown",
   "metadata": {},
   "source": [
    "**7. Escriba un código que cuente el número de apariciones de la cad1 en cad2 si cad1= \"yama\" y cad2= \"tengo una yama que yama se llama y cuando me llama yama me llama\"**"
   ]
  },
  {
   "cell_type": "code",
   "execution_count": 3,
   "metadata": {},
   "outputs": [
    {
     "name": "stdout",
     "output_type": "stream",
     "text": [
      "yama\n",
      "tengo una yama que yama se llama y cuando me llama yama me llama\n",
      "<class 'str'>\n"
     ]
    }
   ],
   "source": [
    "cad1=\"yama\"\n",
    "cad2=\"tengo una yama que yama se llama y cuando me llama yama me llama\"\n",
    "print(cad1)\n",
    "print(cad2)\n",
    "print(type(cad2))"
   ]
  },
  {
   "cell_type": "code",
   "execution_count": 5,
   "metadata": {},
   "outputs": [
    {
     "name": "stdout",
     "output_type": "stream",
     "text": [
      "['tengo', 'una', 'yama', 'que', 'yama', 'se', 'llama', 'y', 'cuando', 'me', 'llama', 'yama', 'me', 'llama']\n",
      "3\n",
      "3\n"
     ]
    }
   ],
   "source": [
    "listapalabras=cad2.split()\n",
    "print(listapalabras)\n",
    "print(cad2.count(cad1))\n",
    "print(listapalabras.count(cad1))"
   ]
  },
  {
   "cell_type": "markdown",
   "metadata": {},
   "source": [
    "##### The end"
   ]
  },
  {
   "cell_type": "code",
   "execution_count": 7,
   "metadata": {},
   "outputs": [
    {
     "ename": "SyntaxError",
     "evalue": "invalid syntax (<ipython-input-7-631537f66ece>, line 1)",
     "output_type": "error",
     "traceback": [
      "\u001b[1;36m  File \u001b[1;32m\"<ipython-input-7-631537f66ece>\"\u001b[1;36m, line \u001b[1;32m1\u001b[0m\n\u001b[1;33m    Puede hacer [clic aquí](https://github.com/antonioalt23/The_Code_Blinders/network) para visitar el Network y ver la secuencia de cómo trabajamos la tarea en equipo.\u001b[0m\n\u001b[1;37m          ^\u001b[0m\n\u001b[1;31mSyntaxError\u001b[0m\u001b[1;31m:\u001b[0m invalid syntax\n"
     ]
    }
   ],
   "source": []
  }
 ],
 "metadata": {
  "kernelspec": {
   "display_name": "Python 3",
   "language": "python",
   "name": "python3"
  },
  "language_info": {
   "codemirror_mode": {
    "name": "ipython",
    "version": 3
   },
   "file_extension": ".py",
   "mimetype": "text/x-python",
   "name": "python",
   "nbconvert_exporter": "python",
   "pygments_lexer": "ipython3",
   "version": "3.8.5"
  }
 },
 "nbformat": 4,
 "nbformat_minor": 4
}
