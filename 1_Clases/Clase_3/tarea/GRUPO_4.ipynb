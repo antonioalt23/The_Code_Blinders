{
 "cells": [
  {
   "attachments": {
    "image.png": {
     "image/png": "[encoded data removed]"
    }
   },
   "cell_type": "markdown",
   "metadata": {},
   "source": [
    "# PREGUNTAS INTRODUCCIÓN A PYTHON\n",
    "\n",
    "**1. Las dos cosas que toda computadora puede hacer son:** \n",
    "\n",
    "Realizar calculos y recordarte los resultados.\n",
    "\n",
    "**2. Indicar V o F**\n",
    "\n",
    "A) El conocimeiento declarativo se refiere a declaraciones de hechos. (V)\n",
    "\n",
    "B) El conocimiento imperativo se refiere a métodos de \"como hacer\".   (V)\n",
    "\n",
    "C) En una receta para deducir la raíz cuadrada implica adivinar un valor inicial, sin otra receta para saber cómo elegir un número inicial, la computadora no puede generar uno por sí sola.      (V)\n",
    "\n",
    "\n",
    "**3. De un ejemplo de conocimiento declarativo e imperativo.**\n",
    "\n",
    "sabemos que es un hecho que 2+2=4\n",
    "\n",
    "Y Como sabemos que el conocimiento imperativo es darle la receta a la computadora para obtener resultados.\n",
    "\n",
    "\n",
    "\n",
    "Raíz cuadrada de un número x es y tal que y * y = x\n",
    "\n",
    "receta para deducir la raíz cuadrada del número x (por ejemplo, 36)\n",
    "\n",
    "1) Comience con una suposición, p\n",
    "\n",
    "2) Si p * p está lo suficientemente cerca de x, deténgase y diga que p la respuesta.\n",
    "\n",
    "3) De lo contrario, haga una nueva suposición promediando p y x / p\n",
    "\n",
    "4) Usando la nueva conjetura, repita el proceso hasta que esté lo suficientemente cerca\n",
    "\n",
    "\n",
    "\n",
    "![image.png](attachment:image.png)\n",
    "\n",
    "\n"
   ]
  },
  {
   "cell_type": "code",
   "execution_count": 1,
   "metadata": {},
   "outputs": [
    {
     "name": "stdout",
     "output_type": "stream",
     "text": [
      "['t', 'e', 'n', 'g', 'o', ' ', 'u', 'n', 'a', ' ', 'y', 'a', 'm', 'a', ' ', 'q', 'u', 'e', ' ', 'y', 'a', 'm', 'a', ' ', 's', 'e', ' ', 'l', 'l', 'a', 'm', 'a', ' ', 'y', ' ', 'c', 'u', 'a', 'n', 'd', 'o', ' ', 'm', 'e', ' ', 'l', 'l', 'a', 'm', 'a', ' ', 'y', 'a', 'm', 'a', ' ', 'm', 'e', ' ', 'l', 'l', 'a', 'm', 'a']\n"
     ]
    },
    {
     "data": {
      "text/plain": [
       "64"
      ]
     },
     "execution_count": 1,
     "metadata": {},
     "output_type": "execute_result"
    }
   ],
   "source": [
    "#PREGUNTA 5: HECHO POR ANTHONY\n",
    "cadena=\"tengo una yama que yama se llama y cuando me llama yama me llama\"\n",
    "tupla=cadena\n",
    "lista= list(tupla)\n",
    "print(lista)\n",
    "len(lista)"
   ]
  },
  {
   "cell_type": "code",
   "execution_count": null,
   "metadata": {},
   "outputs": [],
   "source": [
    "# 6. Escriba un código que busque la letra “e” en los seis primeros caracteres del string “Muerte a Manuel”\n",
    "# Rodrigo Rivarola\n",
    "frase = \"Muerte a Manuel\"\n",
    "Ne = frase.count(\"e\" , 0 , 6)\n",
    "Ne\n"
   ]
  },
  {
   "cell_type": "code",
   "execution_count": null,
   "metadata": {},
   "outputs": [],
   "source": [
    "#7. Escriba un código que cuente el número de apariciones de la cad1 en cad2 si cad1= \"yama\" y \n",
    "# cad2= \"tengo una yama que yama se llama y cuando me llama yama me llama\"\n",
    "# Rodrigo Rivarola\n",
    "cad1 = \"yama\"\n",
    "cad2 = \"tengo una yama que yama se llama y cuando me llama yama me llama\"\n",
    "cuenta = cad2.count(cad1)\n",
    "cuenta"
   ]
  }
 ],
 "metadata": {
  "kernelspec": {
   "display_name": "Python 3",
   "language": "python",
   "name": "python3"
  },
  "language_info": {
   "codemirror_mode": {
    "name": "ipython",
    "version": 3
   },
   "file_extension": ".py",
   "mimetype": "text/x-python",
   "name": "python",
   "nbconvert_exporter": "python",
   "pygments_lexer": "ipython3",
   "version": "3.8.5"
  }
 },
 "nbformat": 4,
 "nbformat_minor": 4
}
