{
 "cells": [
  {
   "cell_type": "markdown",
   "metadata": {},
   "source": [
    "# PREGUNTAS INTRODUCCIÓN A PYTHON\n",
    "\n",
    "**1. Las dos cosas que toda computadora puede hacer son:** \n",
    "\n",
    "Realizar calculos y recordarte los resultados.\n",
    "\n",
    "**2. Indicar V o F**\n",
    "\n",
    "A) El conocimeiento declarativo se refiere a declaraciones de hechos. (V)\n",
    "\n",
    "B) El conocimiento imperativo se refiere a métodos de \"como hacer\".   (V)\n",
    "\n",
    "C) En una receta para deducir la raíz cuadrada implica adivinar un valor inicial, sin otra receta para saber cómo elegir un número inicial, la computadora no puede generar uno por sí sola.      (V)"
   ]
  }
 ],
 "metadata": {
  "kernelspec": {
   "display_name": "Python 3",
   "language": "python",
   "name": "python3"
  },
  "language_info": {
   "codemirror_mode": {
    "name": "ipython",
    "version": 3
   },
   "file_extension": ".py",
   "mimetype": "text/x-python",
   "name": "python",
   "nbconvert_exporter": "python",
   "pygments_lexer": "ipython3",
   "version": "3.8.5"
  }
 },
 "nbformat": 4,
 "nbformat_minor": 4
}
