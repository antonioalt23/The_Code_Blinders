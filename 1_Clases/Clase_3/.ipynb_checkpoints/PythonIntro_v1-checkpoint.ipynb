{
 "cells": [
  {
   "cell_type": "markdown",
   "metadata": {},
   "source": [
    "***RESUMEN***\n",
    "\n",
    "+ Aprender los modos de pensamiento computacional.\n",
    "+ Dominar el arte de la computación en resolución de problemas.\n",
    "+ Hacer que las computadoras haga lo que usted desea."
   ]
  },
  {
   "cell_type": "markdown",
   "metadata": {},
   "source": [
    "***QUÉ HACE UNA COMPUTADORA???***\n",
    "\n",
    "Realiza cálculos\n",
    "- mil millones de cálculos por segundo!\n",
    "- dos operaciones en el mismo tiempo la luz viaja 1 pie ( APROX 30.48 Cm.)\n",
    "\n",
    "Recuerda los resultados\n",
    "- ¡Cientos de gigabytes de almacenamiento!\n",
    "- La máquina típica puede contener 1,5 millones de libros de tamaño estándar.\n"
   ]
  },
  {
   "cell_type": "markdown",
   "metadata": {},
   "source": [
    "***CÁLCULOS SIMPLES***\n",
    "¿SUFICIENTE?\n",
    "\n",
    "Búsqueda en la World Wide Web\n",
    "+ 45B páginas\n",
    "+ 1000 palabras / página\n",
    "+ 10 operaciones / palabra para encontrar\n",
    "+ Necesita 5.2 días para encontrar algo usando operaciones simples\n",
    "\n",
    "Jugar al ajedrez\n",
    "+ Promedio de 35 movimientos / escenario\n",
    "+ Mira hacia adelante 6 movimientos\n",
    "+ 1.8 mil millones tableros para verificar\n",
    "+ 100 operaciones / elección\n",
    "+ 30 minutos para decidir cada movimiento\n",
    "\n",
    "También se necesita un buen diseño de algoritmo para lograr una ¡tarea!"
   ]
  },
  {
   "cell_type": "markdown",
   "metadata": {},
   "source": [
    "***¿SUFICIENTE ALMACENAMIENTO?***\n",
    "\n",
    "¿Qué pasaría si pudiéramos precalcular información y luego buscar la respuesta\n",
    "+ Jugar al ajedrez como ejemplo\n",
    "+ Los expertos sugieren 10 ^ 123 juegos posibles diferentes\n"
   ]
  },
  {
   "cell_type": "markdown",
   "metadata": {},
   "source": [
    "***¿HAY LÍMITES?***\n",
    "\n",
    "A pesar de su velocidad y tamaño, una computadora tiene limitaciones\n",
    "+ Algunos problemas aún son demasiado complejos\n",
    "+ Predicción meteorológica precisa a escala local\n",
    "+ Algunos problemas son fundamentalmente imposibles de calcular\n"
   ]
  },
  {
   "cell_type": "markdown",
   "metadata": {},
   "source": [
    "***TIPOS DE CONOCIMIENTOS***\n",
    "\n",
    "las computadoras saben lo que les dices.\n",
    "\n",
    "El conocimiento declarativo son declaraciones de hechos.\n",
    "\n",
    "+ Hay un cofre con 1000 dolares en el parque de las leyendas\n",
    "\n",
    "El conocimiento imperativo es una receta o \"cómo hacer\" conocimiento.\n",
    "+ ingrese al parque de las leyendas\n",
    "+ Ingresa al zona de la sierra \n",
    "+ Ingresa en paseo de la mina \n",
    "+ Comience contar desde la entrada 10 pasos\n",
    "+ Cuenta 15 pasos a la derecha\n",
    "+ Busca debajo de la silla y encuéntrala"
   ]
  },
  {
   "cell_type": "markdown",
   "metadata": {},
   "source": [
    "***UN EJEMPLO NUMÉRICO***\n",
    "\n",
    "Raíz cuadrada de un número x es y tal que y * y = x\n",
    "\n",
    "receta para deducir la raíz cuadrada del número x (por ejemplo, 25)\n",
    "\n",
    "+ 1) Comience con una suposición, g\n",
    "+ 2) Si g * g está lo suficientemente cerca de x, deténgase y diga que g la respuesta.\n",
    "+ 3) De lo contrario, haga una nueva suposición promediando g y x / g\n",
    "+ 4) Usando la nueva conjetura, repita el proceso hasta que esté lo suficientemente cerca\n",
    "\n",
    "<div class=\"pull-left\"><center><img src=\"imagenes/raiz_cuadrada.png\" alt=\"REPO\" width=\"500\" title = \"REPO\"/>"
   ]
  },
  {
   "cell_type": "markdown",
   "metadata": {},
   "source": [
    "***QUE ES UNA RECETA***\n",
    "\n",
    "+ Secuencia de pasos simples.\n",
    "+ Flujo del proceso de control que especifica cuando cada paso se ejecuta.\n",
    "+ Un medio para determinar cuando parar.\n",
    "\n"
   ]
  },
  {
   "cell_type": "markdown",
   "metadata": {},
   "source": [
    "***LAS COMPUTADORAS SON MÁQUINAS***\n",
    "\n",
    "cómo capturar una receta?\n",
    "\n",
    "+ programa fijo\n",
    "\n",
    "computadora\n",
    "\n",
    "Ejemplo: calculadora\n",
    "\n",
    "+ programa almacenado\n",
    "\n",
    "computadora\n",
    "\n",
    "Almacenes de máquinas y ejecuta instrucciones"
   ]
  },
  {
   "cell_type": "markdown",
   "metadata": {},
   "source": [
    "# <center>  PYTHON</center>\n",
    "\n"
   ]
  },
  {
   "cell_type": "markdown",
   "metadata": {},
   "source": [
    "## 1. PYTHON "
   ]
  },
  {
   "cell_type": "markdown",
   "metadata": {},
   "source": [
    "Es un lenguaje de programación de propósito general de codigo abierto.Los objetos de Python consisten en:\n",
    "+ los tipos de elementos dentro de los objetos(int,float,string,bool,complex) \n",
    "+ los tipos de objetos que contienen otros objetos (por ejemplo, listas,tuplas, conjuntos, diccionarios) llamados tipos de datos de secuencia.\n",
    "\n"
   ]
  },
  {
   "cell_type": "markdown",
   "metadata": {},
   "source": [
    "### 1.1 VARIABLES Y TIPOS\n",
    "### 1.1.1 Variables \n",
    "** Especifico , distingue entre minusculas y mayusculas<br>\n",
    "** Llama valores a traves del nombre de las variables<br>\n",
    "##### \"Etiquetas que hacen referencia a los datos (que se guardan en unas \"cajas\" llamadas objetos)\"\n",
    "##### Cada objeto tiene:\n",
    "\n",
    "- un identificador \n",
    "- un tipo de datos (entero, decimal,complejo, cadena , etc.)\n",
    "- un valor (el propio dato).\n",
    "\n",
    "\n",
    "##### En python se tiene como tipos basicos :\n",
    "* Números \n",
    "* Cadenas\n",
    "* Booleanos"
   ]
  },
  {
   "cell_type": "code",
   "execution_count": null,
   "metadata": {},
   "outputs": [],
   "source": [
    "# calculando el IMC\n",
    "estatura =  1.80 \n",
    "peso = 75\n",
    "BMI = peso / estatura**2\n",
    "print(BMI)\n"
   ]
  },
  {
   "cell_type": "code",
   "execution_count": null,
   "metadata": {},
   "outputs": [],
   "source": [
    "# Determinemos el identificador de la variable mediante la función \"id()\"\n",
    "id(BMI)"
   ]
  },
  {
   "cell_type": "code",
   "execution_count": null,
   "metadata": {
    "scrolled": true
   },
   "outputs": [],
   "source": [
    "#calculando la velocidad\n",
    "espacio = 100\n",
    "tiempo = 2\n",
    "velocidad = espacio / tiempo\n",
    "print(velocidad)"
   ]
  },
  {
   "cell_type": "code",
   "execution_count": null,
   "metadata": {},
   "outputs": [],
   "source": [
    "# Determinemos el identificador de la variable mediente la función id()\n",
    "id(tiempo)"
   ]
  },
  {
   "cell_type": "code",
   "execution_count": null,
   "metadata": {},
   "outputs": [],
   "source": [
    "cadena = \"toño\"\n",
    "id(cadena)"
   ]
  },
  {
   "cell_type": "code",
   "execution_count": null,
   "metadata": {},
   "outputs": [],
   "source": [
    "a=5\n",
    "b=5\n",
    "print(id(a))\n",
    "print(id(b))"
   ]
  },
  {
   "cell_type": "markdown",
   "metadata": {},
   "source": [
    "### 1.2 PYTHON TYPES\n",
    "#### Existen 3 tipos de valores que puede tomar una variableen python (NÚMEROS, CADENAS Y BOOLEANOS)\n",
    "### 1.2.1 Números\n",
    "#### INT (Son los números Enteros)\n",
    "se puede escribir en formato:\n",
    "* Binario \"se antepone 0b a una secuencia de dígitos en binario (0 y 1)\"\n",
    "* Octal \"Anteponiendo 0o a una secuencia de dígitos octales (del 0 al 7)\"\n",
    "* Hexadecimal \"anteponer 0x a una secuencia de dígitos en hexadecimal (del 0 al 9 y de la A la F)\""
   ]
  },
  {
   "cell_type": "code",
   "execution_count": null,
   "metadata": {},
   "outputs": [],
   "source": [
    "#  Podemos escribir en formato binario, octal o hexadecimal.( ing informaticos)\n",
    "diez = 10 \n",
    "diez_binario = 0b1010\n",
    "diez_octal = 0o12\n",
    "diez_hex = 0xa\n",
    "\n",
    "print(diez)\n",
    "\n",
    "print(diez_binario)\n",
    "\n",
    "print(diez_octal)\n",
    "\n",
    "print(diez_hex)"
   ]
  },
  {
   "cell_type": "code",
   "execution_count": null,
   "metadata": {},
   "outputs": [],
   "source": [
    "#conversión decimal en binario, octal y hexadecimal\n",
    "n=10\n",
    "print(bin(n))\n",
    "print(oct(n))\n",
    "print(hex(n))"
   ]
  },
  {
   "cell_type": "markdown",
   "metadata": {},
   "source": [
    "#### FLOAT (*Son los números reales*)\n",
    "* \"Los números de coma flotante no representan ciertas fracciones decimales exactamente.\" ( C++ tiene el doble de precisión que python)\n",
    "* \"El tipo Decimal puede representar estas fracciones exactamente, hasta un límite de precisión especificado por el usuario\""
   ]
  },
  {
   "cell_type": "code",
   "execution_count": null,
   "metadata": {},
   "outputs": [],
   "source": [
    "# float\n",
    "3/7"
   ]
  },
  {
   "cell_type": "code",
   "execution_count": null,
   "metadata": {},
   "outputs": [],
   "source": [
    "#Decimal\n",
    "import decimal\n",
    "decimal.Decimal(3/7)\n"
   ]
  },
  {
   "cell_type": "code",
   "execution_count": null,
   "metadata": {},
   "outputs": [],
   "source": [
    "# Se puede proporcionar tuplas que contengan el signo, la mantisa como tupla de dígitos decimales, y el exponente\n",
    "# Observación: el bit de signo es Booleano, por lo que 0 significa positivo y 1 significa negativo.\n",
    "# ((1, (3, 4, 7, 5), -2)): 1-->signo, (3,4,7,5)-->mantisa, -2--> exponente\n",
    "decimal.Decimal((0, (3, 4, 7, 5), -2))"
   ]
  },
  {
   "cell_type": "code",
   "execution_count": 1,
   "metadata": {},
   "outputs": [
    {
     "name": "stdout",
     "output_type": "stream",
     "text": [
      "0.42857\n"
     ]
    }
   ],
   "source": [
    "#Tipo Context( \" Context encapsula propiedades de las operaciones decimales\") \n",
    "import decimal\n",
    "decimal.getcontext().prec=5\n",
    "resultado=decimal.Decimal(3) / decimal.Decimal(7)\n",
    "print(resultado)\n"
   ]
  },
  {
   "cell_type": "markdown",
   "metadata": {},
   "source": [
    "### OPERACIONES ENTRE INT Y FLOAT\n",
    "<br />\n",
    "<br />\n",
    "\n",
    "<div class=\"pull-left\"><center><img src=\"imagenes/operaciones.png\" alt=\"REPO\" width=\"500\" title = \"REPO\"/>"
   ]
  },
  {
   "cell_type": "markdown",
   "metadata": {},
   "source": [
    "#### COMPLEX (*Son los números COMPLEJOS*)\n",
    "* (a + bj)---> a parte real, b parte imaginaria \n",
    "* (a,b)---> como par ordenado"
   ]
  },
  {
   "cell_type": "code",
   "execution_count": null,
   "metadata": {},
   "outputs": [],
   "source": [
    "# Creando un número complejo\n",
    "c1 = 4 + 3j"
   ]
  },
  {
   "cell_type": "code",
   "execution_count": null,
   "metadata": {},
   "outputs": [],
   "source": [
    "# Creando un número complejo con complex\n",
    "c2 = complex(2, -3)"
   ]
  },
  {
   "cell_type": "code",
   "execution_count": null,
   "metadata": {},
   "outputs": [],
   "source": [
    "\n",
    "# Conjugado de un número complejo\n",
    "c3 = 2 + 3j\n",
    "c3.conjugate()"
   ]
  },
  {
   "cell_type": "code",
   "execution_count": null,
   "metadata": {},
   "outputs": [],
   "source": [
    "\n",
    "# Valor absoluto o magnitud\n",
    "c4 = 4 + 3j\n",
    "abs(c4)"
   ]
  },
  {
   "cell_type": "code",
   "execution_count": null,
   "metadata": {},
   "outputs": [],
   "source": [
    "# Parte real, Parte imaginaria\n",
    "c5 = 2 - 3j\n",
    "\n",
    "print(c5.real)\n",
    "print(c5.imag)"
   ]
  },
  {
   "cell_type": "code",
   "execution_count": null,
   "metadata": {},
   "outputs": [],
   "source": [
    "x = 30.5\n",
    "temperatura = 80.9\n",
    "type(x)\n"
   ]
  },
  {
   "cell_type": "code",
   "execution_count": null,
   "metadata": {},
   "outputs": [],
   "source": [
    "type(temperatura)"
   ]
  },
  {
   "cell_type": "markdown",
   "metadata": {},
   "source": [
    "### 1.2.2 STRING \n",
    "* \"String o cadena es la forma en que python representa el texto;puede usar comillas dobles(\" \") para construir una cadena.\""
   ]
  },
  {
   "cell_type": "code",
   "execution_count": null,
   "metadata": {},
   "outputs": [],
   "source": [
    "# Concatenar ( junta cadenas de caracteres mediante eloperador (+))\n",
    "y = \"cadena\"\n",
    "z =  \"celular\" \n",
    "y+z"
   ]
  },
  {
   "cell_type": "code",
   "execution_count": null,
   "metadata": {},
   "outputs": [],
   "source": [
    "# Multiplicar( copiar varias veces una cadeana mediante el operador (*))\n",
    "y = \"cadena\"\n",
    "y*3"
   ]
  },
  {
   "cell_type": "code",
   "execution_count": null,
   "metadata": {},
   "outputs": [],
   "source": [
    "# Métodos para cadenas de caracteres\n",
    "# Extensión ( determina el número de caracteres en una cadena utilizando el método len())\n",
    "mensaje4 = 'hola' + ' ' + 'mundo'\n",
    "print(len(mensaje4))"
   ]
  },
  {
   "cell_type": "code",
   "execution_count": null,
   "metadata": {},
   "outputs": [],
   "source": [
    "# Encontrar (busca una sub-cadena en una cadena de caracteres utilizando el método find() \n",
    "# e indicará el índice de inicio de la cadena que se busca)\n",
    "mensaje = \"Hola Mundo\"\n",
    "mensaje_buscar = mensaje.find(\"Mundo\")\n",
    "print(mensaje_buscar)"
   ]
  },
  {
   "cell_type": "code",
   "execution_count": null,
   "metadata": {},
   "outputs": [],
   "source": [
    "#Reemplazar (cambia una sub-cadena de una cadena se puede utilizar el método replace()).\n",
    "mensaje = \"HOLA MUNDO\"\n",
    "mensaje_r = mensaje.replace(\"UNDO\", \"anuel\")\n",
    "print(mensaje_r)"
   ]
  },
  {
   "cell_type": "code",
   "execution_count": null,
   "metadata": {},
   "outputs": [],
   "source": [
    "#Cortar (Si quieres cortar partes de una cadena )\n",
    "mensaje_1 = \"Hola Mundo\"\n",
    "mensaje_r = mensaje_1[1:8]\n",
    "print(mensaje_r)"
   ]
  },
  {
   "cell_type": "code",
   "execution_count": null,
   "metadata": {},
   "outputs": [],
   "source": [
    "#busca la letra “t” en los seis primeros caracteres de “Muerte a Manuel”\n",
    "mensaje9 = \"Muerte a Manuel\"\n",
    "print(mensaje9[:5].find(\"t\"))"
   ]
  },
  {
   "cell_type": "code",
   "execution_count": null,
   "metadata": {},
   "outputs": [],
   "source": [
    "# Minúsculas \"Lower()\" , Mayúsculas \"Upper\"\n",
    "mensaje = \"MUERTE a Manuel\"\n",
    "print(mensaje.lower())\n",
    "print(mensaje.upper())"
   ]
  },
  {
   "cell_type": "code",
   "execution_count": null,
   "metadata": {},
   "outputs": [],
   "source": [
    "# funcion count():cuenta apariciones de 'yama' en la cadena\n",
    "cadena1 = 'tengo una yama que yama se llama'\n",
    "cuenta = cadena1.count('yama')\n",
    "cuenta"
   ]
  },
  {
   "cell_type": "code",
   "execution_count": 3,
   "metadata": {},
   "outputs": [
    {
     "data": {
      "text/plain": [
       "['tengo', 'una', 'yama', 'que', 'yama', 'se', 'llama']"
      ]
     },
     "execution_count": 3,
     "metadata": {},
     "output_type": "execute_result"
    }
   ],
   "source": [
    "# funcion split(): convertir cadena en lista\n",
    "cadena1 = 'tengo una yama que yama se llama'\n",
    "lista1 = cadena1.split(' ')\n",
    "lista1\n"
   ]
  },
  {
   "cell_type": "markdown",
   "metadata": {},
   "source": [
    "### 1.2.3 BOOL :"
   ]
  },
  {
   "cell_type": "markdown",
   "metadata": {},
   "source": [
    " *El booleano es un tipo de variable que puede ser verdadero(True) o falso(False).* \n"
   ]
  },
  {
   "cell_type": "code",
   "execution_count": null,
   "metadata": {},
   "outputs": [],
   "source": [
    "a = 5\n",
    "b = 7\n",
    "a<b"
   ]
  },
  {
   "cell_type": "code",
   "execution_count": null,
   "metadata": {},
   "outputs": [],
   "source": [
    "mensaje='Muerte a Manuel'\n",
    "'manuel'in mensaje"
   ]
  },
  {
   "cell_type": "markdown",
   "metadata": {},
   "source": [
    "####  funcion type( )\n",
    "*Puede verificar el tipo de un valor con la función type().* "
   ]
  },
  {
   "cell_type": "code",
   "execution_count": null,
   "metadata": {},
   "outputs": [],
   "source": [
    "# calculando el IMC\n",
    "estatura =  1.80 \n",
    "peso = 75\n",
    "BMI = peso / estatura**2\n",
    "print(BMI)"
   ]
  },
  {
   "cell_type": "code",
   "execution_count": null,
   "metadata": {},
   "outputs": [],
   "source": [
    "# Objetos: identificador, tipo y valor\n",
    "print(\"el id del ojeto--> \", id(estatura))\n",
    "print(\"el tipo de objeto--> \",type(estatura))\n",
    "print(\"el valor es--> \", estatura)"
   ]
  },
  {
   "cell_type": "markdown",
   "metadata": {},
   "source": [
    "#### Variables, objetos mutables y objetos inmutables\n",
    "En Python se tiene objetos:\n",
    "- Inmutables (no se pueden modificar. Por ejemplo, los números, las cadenas y las tuplas)  \n",
    "- Mutables (se pueden modificar. Por ejemplo, las listas y diccionarios)\n",
    "\n"
   ]
  },
  {
   "cell_type": "code",
   "execution_count": 2,
   "metadata": {},
   "outputs": [
    {
     "name": "stdout",
     "output_type": "stream",
     "text": [
      "140736972007232 140736972007392\n",
      "2 2\n",
      "140736972007232 140736972007232\n",
      "2 7\n",
      "140736972007232 140736972007392\n"
     ]
    }
   ],
   "source": [
    "# Variables y objetos inmutables\n",
    "# los objetos inmutables no se pueden modificar.\n",
    "# Al modificar las variables que hacen referencia a objetos inmutables.\n",
    "# Las variables pasan siempre a hacer referencia a otros objetos.\n",
    "\n",
    "print(id(2), id(7)) # Estos son los identificadores de los objetos \"2\" y \"4\"\n",
    " \n",
    "a = 2               # La etiqueta \"a\" se asigna al objeto \"2\" y \n",
    "b = a               # la etiqueta \"b\" se asigna al mismo objeto que \"a\"\n",
    "print( a, b )       # Tanto \"a\" como \"b\" valen 2 \n",
    "print(id(a), id(b)) # ¿ por qué a y b tienen el mismo identificador que \"2\"\n",
    "b = b + 5           # Pero si aumentamos el valor de b en dos unidades ...\n",
    "print(a, b )        # \"a\" sigue valiendo 2 pero \"b\" vale 7\n",
    "print(id(a), id(b)) # La variable \"b\" hace ahora referencia al objeto \"7\"\n"
   ]
  },
  {
   "cell_type": "code",
   "execution_count": 3,
   "metadata": {},
   "outputs": [
    {
     "name": "stdout",
     "output_type": "stream",
     "text": [
      "2858987007728 2859018696688\n",
      "numpy numpy\n",
      "2858987007728 2858987007728\n",
      "numpy numpy y pandas\n",
      "2858987007728 2859018694704\n"
     ]
    }
   ],
   "source": [
    "print(id(\"numpy\"), id(\"numpy y pandas\"))\n",
    "a = \"numpy\"\n",
    "b = a\n",
    "print(a, b)\n",
    "print(id(a), id(b))\n",
    "b = b + \" y pandas\"\n",
    "print(a, b)\n",
    "print(id(a), id(b))\n"
   ]
  },
  {
   "cell_type": "code",
   "execution_count": 4,
   "metadata": {},
   "outputs": [
    {
     "name": "stdout",
     "output_type": "stream",
     "text": [
      "[5]\n",
      "2859018336192\n",
      "2859018336192 2859018336192\n",
      "[5, 6]\n",
      "2859018336192 2859018511424\n",
      "[5] [5, 6]\n"
     ]
    }
   ],
   "source": [
    "# Variables y objetos mutables\n",
    "# se puede modificar las variables o los objetos mutables\n",
    "# *** caso I: las variables pasan a hacer referencia a otros objetos, como ocurría con los objetos inmutables\n",
    "\n",
    "a = [5]               # La variable \"a\" se asigna al objeto \"lista [5]\" \n",
    "print(a)\n",
    "print (id(a))\n",
    "b = a                 # la variable \"b\" se asigna al mismo objeto que \"a\" \n",
    "print(id(a), id(b))   # por eso \"a\" y \"b\" tienen el mismo identificador\n",
    "b = b + [6]           # añadimos un elemento a \"b\" \n",
    "                      # OJO: python en realidad no añade un elemento a \"b\" sino el elemento 6 a la lista [5]\n",
    "                      # crea el objeto [5, 6] y asigna la variable \"b\" al objeto [5, 6]      \n",
    "print(b)\n",
    "print(id(a), id(b))   # la variable \"b\" hace ahora referencia al objeto \"[5, 6]\" \n",
    "print(a, b)           # y por eso \"a\" y \"b\" son distintos.\n"
   ]
  },
  {
   "cell_type": "code",
   "execution_count": 5,
   "metadata": {
    "scrolled": true
   },
   "outputs": [
    {
     "name": "stdout",
     "output_type": "stream",
     "text": [
      "[5]\n",
      "2859018530688\n",
      "2859018530688 2859018530688\n",
      "[5, 6]\n",
      "2859018530688 2859018530688\n",
      "[5, 6] [5, 6]\n"
     ]
    }
   ],
   "source": [
    "# caso II: se modifican los objetos mutables a los que hacen referencia las variables (\"sucede lo mismo con el método append()\")\n",
    "a = [5]               # La variable \"a\" se asigna al objeto \"lista [5]\" \n",
    "print(a)\n",
    "print (id(a))\n",
    "b = a                 # la variable \"b\" se asigna al mismo objeto que \"a\" \n",
    "print(id(a), id(b))   # por eso \"a\" y \"b\" tienen el mismo identificador\n",
    "b+=[6]                # añadimos un elemento a \"b\" usando \"b+\"\n",
    "                      # OJO: python añade el elemento 6 a la lista [5] , esto sera la lista [5,6]\n",
    "                      # crea el objeto [5, 6] y asigna la variable \"b\" al objeto [5, 6]      \n",
    "print(b)\n",
    "print(id(a), id(b))   # tanto \"a\" como \"b\" siguen haciendo referencia a la misma lista\n",
    "print(a, b)           # y por eso \"a\" y \"b\" son iguales."
   ]
  },
  {
   "cell_type": "markdown",
   "metadata": {},
   "source": [
    "##### EJEMPLO :\n",
    "*Ahorro al hacer una compra.*"
   ]
  },
  {
   "cell_type": "code",
   "execution_count": null,
   "metadata": {},
   "outputs": [],
   "source": [
    "#calcular el monto que se obtendra al imponer un capital al 2.5% mensual durante 7 años\n",
    "capital = 1000\n",
    "resultado = (capital*30*7)/100\n",
    "\n",
    "print(\"Yo comence con $ \" + str(capital) + \" y ahora tengo $\" + str(resultado) + \" . Increíble\" )  # ahorro (float) ==> a string con str(ahorro)\n",
    "                                                                                                 # resultado (float) ==> a string con str(resultado)\n",
    "                                                                                                                                            "
   ]
  },
  {
   "cell_type": "code",
   "execution_count": null,
   "metadata": {},
   "outputs": [],
   "source": [
    "pi_string = \"3.1415926\"\n",
    "pi_float = float(pi_string) #estamos convirtiendo a float pi_string\n",
    "print(pi_float)\n",
    "type(pi_float)\n",
    "type(pi_string)"
   ]
  },
  {
   "cell_type": "markdown",
   "metadata": {},
   "source": [
    "## Input _ Output"
   ]
  },
  {
   "cell_type": "code",
   "execution_count": null,
   "metadata": {},
   "outputs": [],
   "source": [
    "\n",
    "NOMBRE=\"LUCAS\"\n",
    "EDAD=\"34\"\n",
    "print(\"hola\",NOMBRE,\"tienes\",EDAD,\"años\")\n",
    "print(\"hola {} tienes {} años\".format(NOMBRE,EDAD))\n",
    "print(f\"hola {NOMBRE} tienes {EDAD} años\")"
   ]
  },
  {
   "cell_type": "code",
   "execution_count": null,
   "metadata": {},
   "outputs": [],
   "source": [
    "nombre=input(\"ingrese su nombre --> \")\n",
    "print(\"\\n hola\",nombre)"
   ]
  },
  {
   "cell_type": "code",
   "execution_count": null,
   "metadata": {},
   "outputs": [],
   "source": [
    "nombre1=input(\"ingrese su nombre --> \")\n",
    "edad=input(\"ingrese su edad --> \")\n",
    "print(f\"hola {nombre1} tienes {edad} años\")"
   ]
  },
  {
   "cell_type": "code",
   "execution_count": null,
   "metadata": {},
   "outputs": [],
   "source": [
    "nombre1=input(\"ingrese su nombre --> \")\n",
    "edad=int(input(\"ingrese su edad --> \"))\n",
    "print(f\"hola {nombre1} tienes {edad+5} años\")"
   ]
  },
  {
   "cell_type": "markdown",
   "metadata": {},
   "source": [
    "## 2. COLECCIONES\n",
    "+ LISTAS (mutable)\n",
    "+ TUPLAS (inmutanles)\n",
    "+ DICCIONARIOS (mutable)\n",
    "+ CONJUNTOS (mutable)"
   ]
  },
  {
   "cell_type": "markdown",
   "metadata": {},
   "source": [
    "** float - Números reales<br>\n",
    "**   int - Números enteros<br>\n",
    "**   str - Líneas o cadenas de texto<br>\n",
    "**  bool - True o False<br>"
   ]
  },
  {
   "cell_type": "markdown",
   "metadata": {},
   "source": [
    "### 2.1 LISTAS\n",
    "Una lista de Python se crea encerrando valores separados por comas y va encerrado  entre corchetes [ ]. Las entradas de una lista no tienen que ser del mismo tipo. El acceso a las entradas de una lista utiliza las mismas operaciones de indexación y división que se demostraron con las cadenas. Las listas es que son objetos mutables. Es decir, cuando reemplaza, cambia, agrega o quita algun elemento de la lista, cambia la única instancia de ese objeto en la memoria de la computadora. \n"
   ]
  },
  {
   "cell_type": "code",
   "execution_count": null,
   "metadata": {},
   "outputs": [],
   "source": [
    "pais = [30,20,50,100]  # numero de habitantes en millones de  paises sudamericanos\n",
    "print(pais)\n"
   ]
  },
  {
   "cell_type": "code",
   "execution_count": null,
   "metadata": {},
   "outputs": [],
   "source": [
    "# Una lista puede contener números, cadenas, booleanos, ... y también listas\n",
    "pais_1 = [\"Perú\",30,\"Chile\",20,\"Argentina\",50,\"Brasil\",100]\n",
    "print(pais_1)"
   ]
  },
  {
   "cell_type": "code",
   "execution_count": null,
   "metadata": {},
   "outputs": [],
   "source": [
    "# Una lista puede contener números, cadenas, booleanos, ... y también listas\n",
    "pais_2 = [\"Perú\",30,\"Chile\",20,[\"Argentina\",50],[\"Brasil\",100]]\n",
    "print(pais_2)"
   ]
  },
  {
   "cell_type": "markdown",
   "metadata": {},
   "source": [
    "### Subsetting lists ( indice de las listas )\n",
    "##### cada elemento de una lista esta determinado por un indice"
   ]
  },
  {
   "cell_type": "code",
   "execution_count": null,
   "metadata": {},
   "outputs": [],
   "source": [
    "pais_1 = [\"Perú\",30,\"Chile\",20,\"Argentina\",50,\"Brasil\",100]\n",
    "print(pais_1)"
   ]
  },
  {
   "cell_type": "code",
   "execution_count": null,
   "metadata": {},
   "outputs": [],
   "source": [
    "#Acceder a un elemento de una lista incluida dentro de otra\n",
    "pais_3 = [\"Perú\",30,\"Chile\",20,[\"Argentina\",50],[\"Brasil\",100]]\n",
    "print(pais_3[0])\n",
    "print(pais_3[4][0])"
   ]
  },
  {
   "cell_type": "code",
   "execution_count": null,
   "metadata": {},
   "outputs": [],
   "source": [
    "pais_3[2]\n"
   ]
  },
  {
   "cell_type": "code",
   "execution_count": null,
   "metadata": {},
   "outputs": [],
   "source": [
    "pais_3[5]"
   ]
  },
  {
   "cell_type": "code",
   "execution_count": null,
   "metadata": {},
   "outputs": [],
   "source": [
    "#indice negativo: contar desde el final\n",
    "\n",
    "pais_3[-1]"
   ]
  },
  {
   "cell_type": "code",
   "execution_count": null,
   "metadata": {},
   "outputs": [],
   "source": [
    "pais_3[-2]"
   ]
  },
  {
   "cell_type": "markdown",
   "metadata": {},
   "source": [
    "### List Slicing ( Rebanado/Particionado )\n",
    "*Permite selecionar múltiples elementos de una lista, creando asi una nueva lista.* <br>\n",
    "*(inicio:fin) Python interpretará que queremos una lista que vaya desde la posición inicio a la posición fin, sin incluir este último.<br>\n",
    "*Si escribimos tres números (inicio:fin:salto) en lugar de dos, el tercero se utiliza para determinar \"cada cuantas posiciones añadir un elemento a la lista.\n",
    "#### (incluye: no incluye )"
   ]
  },
  {
   "cell_type": "code",
   "execution_count": null,
   "metadata": {},
   "outputs": [],
   "source": [
    "pais_1 = [\"Perú\",30,\"Chile\",20,\"Argentina\",50,\"Brasil\",100]\n",
    "print(pais_1)"
   ]
  },
  {
   "cell_type": "code",
   "execution_count": null,
   "metadata": {},
   "outputs": [],
   "source": [
    "pais_1[3:5]     # estamos seleccionando los elementos de indice 3 y 4 \n",
    "                # pais_1[3:5]  el indice 5 es el limite\n",
    "                # [inicio:final]\n",
    "                # [ incluye: no incluye ]   "
   ]
  },
  {
   "cell_type": "code",
   "execution_count": null,
   "metadata": {},
   "outputs": [],
   "source": [
    "pais_1[1:6]"
   ]
  },
  {
   "cell_type": "code",
   "execution_count": null,
   "metadata": {},
   "outputs": [],
   "source": [
    "# si no se considera el primer elemento se considera por defecto el indice cero\n",
    "pais_1[:7]"
   ]
  },
  {
   "cell_type": "code",
   "execution_count": null,
   "metadata": {},
   "outputs": [],
   "source": [
    "# el negativo indica los indices a no conciderar a partir del último\n",
    "pais_1[:-2]"
   ]
  },
  {
   "cell_type": "code",
   "execution_count": null,
   "metadata": {},
   "outputs": [],
   "source": [
    "#considera solo los dos ultimos indices\n",
    "pais_1[-2:]"
   ]
  },
  {
   "cell_type": "code",
   "execution_count": null,
   "metadata": {},
   "outputs": [],
   "source": [
    "pais_1[4:]"
   ]
  },
  {
   "cell_type": "code",
   "execution_count": null,
   "metadata": {},
   "outputs": [],
   "source": [
    "pais_1[3:]"
   ]
  },
  {
   "cell_type": "markdown",
   "metadata": {},
   "source": [
    "### Manipulación de Listas\n",
    "*Formas de cambiar elementos de una lista,agregar elementos y eliminar elementos de una lista.*"
   ]
  },
  {
   "cell_type": "code",
   "execution_count": null,
   "metadata": {
    "scrolled": false
   },
   "outputs": [],
   "source": [
    "pais_1 = [\"Perú\",30,\"Chile\",20,\"Argentina\",50,\"Brasil\",100]\n",
    "print(pais_1)"
   ]
  },
  {
   "cell_type": "code",
   "execution_count": null,
   "metadata": {},
   "outputs": [],
   "source": [
    "#modificar un elemento de la lista\n",
    "pais_1[0]=\"Alemania\"\n",
    "print(pais_1)"
   ]
  },
  {
   "cell_type": "code",
   "execution_count": null,
   "metadata": {},
   "outputs": [],
   "source": [
    "#modificar el tamaño de la lista y los elementos\n",
    "l= [99, True, \"una lista\", [1, 2]]\n",
    "l[0:3] = [0, 1]\n",
    "l"
   ]
  },
  {
   "cell_type": "markdown",
   "metadata": {},
   "source": [
    "##### append:\n",
    "*Es un metodo que permite agregar un elemento (u otra lista) a una lista*"
   ]
  },
  {
   "cell_type": "code",
   "execution_count": null,
   "metadata": {},
   "outputs": [],
   "source": [
    "pais_1=['Perú', 33, 'Chile', 20, 'Argentina', 50, 'Brasil', 100]\n",
    "pais_1.append(\"Venezuela\")\n",
    "print(pais_1)"
   ]
  },
  {
   "cell_type": "code",
   "execution_count": null,
   "metadata": {
    "scrolled": true
   },
   "outputs": [],
   "source": [
    "pais_1=['Perú', 33, 'Chile', 20, 'Argentina', 50, 'Brasil', 100]\n",
    "pais_1.append([\"Venezuela\",60])\n",
    "print(pais_1)"
   ]
  },
  {
   "cell_type": "markdown",
   "metadata": {},
   "source": [
    "##### insert:\n",
    "*Es un método que permite agregar un elemento en una determinada posicion en una lista (x,y) donde \"x\" es la posición y \"y\" el elemento a agregar.*"
   ]
  },
  {
   "cell_type": "code",
   "execution_count": null,
   "metadata": {
    "scrolled": true
   },
   "outputs": [],
   "source": [
    "pais_1=['Perú', 33, 'Chile', 20, 'Argentina', 50, 'Brasil', 100]\n",
    "pais_1.insert(8,\"Venezuela\")\n",
    "print(pais_1)"
   ]
  },
  {
   "cell_type": "code",
   "execution_count": null,
   "metadata": {
    "scrolled": true
   },
   "outputs": [],
   "source": [
    "pais_1=['Perú', 33, 'Chile', 20, 'Argentina', 50, 'Brasil', 100,\"Venezuela\"]\n",
    "pais_1.insert(9,60)\n",
    "print(pais_1)"
   ]
  },
  {
   "cell_type": "code",
   "execution_count": null,
   "metadata": {
    "scrolled": true
   },
   "outputs": [],
   "source": [
    "pais_1=['Perú', 33, 'Chile', 20, 'Argentina', 50, 'Brasil', 100,\"Venezuela\"]\n",
    "pais_1.insert(2,60)\n",
    "print(pais_1)"
   ]
  },
  {
   "cell_type": "markdown",
   "metadata": {},
   "source": [
    "##### Remove:\n",
    "*Es un método que nos permite remover un elemento ya existente de una lista.*"
   ]
  },
  {
   "cell_type": "code",
   "execution_count": null,
   "metadata": {},
   "outputs": [],
   "source": [
    "pais_1=['Perú', 33, 'Chile', 20, 'Argentina', 50, 'Brasil', 100,\"Venezuela\",60]\n",
    "pais_1.remove(60)\n",
    "print(pais_1)"
   ]
  },
  {
   "cell_type": "code",
   "execution_count": null,
   "metadata": {
    "scrolled": true
   },
   "outputs": [],
   "source": [
    "pais_1=['Perú', 33, 'Chile', 20, 'Argentina', 50, 'Brasil', 100,\"Venezuela\"]\n",
    "pais_1.remove(\"Venezuela\")\n",
    "print(pais_1)"
   ]
  },
  {
   "cell_type": "markdown",
   "metadata": {},
   "source": [
    "##### Pop:\n",
    "*El método .pop (x) eliminará y devolverá el x-ésimo elemento de una lista. Si deja el argumento en blanco, da el último elemento de la lista.*"
   ]
  },
  {
   "cell_type": "code",
   "execution_count": null,
   "metadata": {
    "scrolled": true
   },
   "outputs": [],
   "source": [
    "num_list = [10, 20, 30, 40, 50]\n",
    "print(num_list)\n",
    "print(num_list.pop(3))\n",
    "print(num_list.pop())"
   ]
  },
  {
   "cell_type": "code",
   "execution_count": null,
   "metadata": {},
   "outputs": [],
   "source": [
    "pais_1=['Perú', 30, 'Chile', 20, 'Argentina', 50, 'Brasil', 100]\n",
    "print(pais_1)"
   ]
  },
  {
   "cell_type": "code",
   "execution_count": null,
   "metadata": {},
   "outputs": [],
   "source": [
    "pais_1[1] = 33   # estamos cambiando el valor del elemento de la posición 1 \n",
    "print(pais_1)"
   ]
  },
  {
   "cell_type": "code",
   "execution_count": null,
   "metadata": {},
   "outputs": [],
   "source": [
    "pais_1[3] = 22\n",
    "print(pais_1)"
   ]
  },
  {
   "cell_type": "code",
   "execution_count": null,
   "metadata": {},
   "outputs": [],
   "source": [
    "pais_1[4] = \"Argentina\"\n",
    "print(pais_1)"
   ]
  },
  {
   "cell_type": "code",
   "execution_count": null,
   "metadata": {},
   "outputs": [],
   "source": [
    "pais_1[0:2] = [\"Colombia\",45]    # hemos cambiado el valor de una\n",
    "print(pais_1)"
   ]
  },
  {
   "cell_type": "code",
   "execution_count": null,
   "metadata": {},
   "outputs": [],
   "source": [
    "pais_2 = pais_1 + [\"Paraguay\",7]\n",
    "print(pais_2)"
   ]
  },
  {
   "cell_type": "code",
   "execution_count": null,
   "metadata": {},
   "outputs": [],
   "source": [
    "pais_3 = pais_2 + [\"Uruguay\",4]\n",
    "print(pais_3)"
   ]
  },
  {
   "cell_type": "code",
   "execution_count": null,
   "metadata": {},
   "outputs": [],
   "source": [
    "del(pais_3[9])\n",
    "print(pais_3)"
   ]
  },
  {
   "cell_type": "code",
   "execution_count": null,
   "metadata": {},
   "outputs": [],
   "source": [
    "del(pais_3[8])\n",
    "print(pais_3)"
   ]
  },
  {
   "cell_type": "markdown",
   "metadata": {},
   "source": [
    "### 2.1 TUPLAS ( tuple)\n",
    "Una tupla de Python  se crea encerrando valores separados por comas entre paréntesis (). Las entradas de una tupla no tienen que ser del mismo tipo. Una tupla tiene menos operaciones integradas que una lista. Además, la tupla es un objeto inmutable en el sentido de que no se puede cambiar después de la asignación. Cualquier operación que se comporte como si estuviera cambiando la tupla en realidad está haciendo copias de la tupla con los cambios. Para acceder a las entradas de una tupla, se utilizan las mismas operaciones de indexación y división que se demostraron con listas y cadenas.\n",
    "La inmutabilidad de la tupla la convierte en el objeto ideal para pasar argumentos a funciones y devolver objetos de funciones. Una tupla puede ser una colección de cualquier objeto. Puede ser una colección de listas, dictados, Series o DataFrames."
   ]
  },
  {
   "cell_type": "code",
   "execution_count": null,
   "metadata": {},
   "outputs": [],
   "source": [
    "#definiendo tupla\n",
    "tupla = ()\n",
    "print(tupla)"
   ]
  },
  {
   "cell_type": "code",
   "execution_count": null,
   "metadata": {},
   "outputs": [],
   "source": [
    "tupla = (5,\"hola\",6.45,[1,2,3],26)\n",
    "tupla"
   ]
  },
  {
   "cell_type": "code",
   "execution_count": null,
   "metadata": {},
   "outputs": [],
   "source": [
    "#En realidad el constructor de la tupla es la coma, no el paréntesis\n",
    "t = 1, 2, 3\n",
    "print(type(t))\n",
    "print(t)"
   ]
  },
  {
   "cell_type": "code",
   "execution_count": null,
   "metadata": {},
   "outputs": [],
   "source": [
    " # Con el metodo .index() podemos indicar la posicion del elemento en la tupla\n",
    "tupla = (5,\"hola\",6.45,[1,2,3],26)\n",
    "print(tupla.index(26))     "
   ]
  },
  {
   "cell_type": "code",
   "execution_count": null,
   "metadata": {},
   "outputs": [],
   "source": [
    "print(tupla.index(\"hola\"))"
   ]
  },
  {
   "cell_type": "code",
   "execution_count": null,
   "metadata": {},
   "outputs": [],
   "source": [
    " # Convierte una tupla en una lista\n",
    "lista = list(tupla)       \n",
    "print(lista)"
   ]
  },
  {
   "cell_type": "code",
   "execution_count": null,
   "metadata": {},
   "outputs": [],
   "source": [
    "# Convierte una lista en tupla\n",
    "tupla = tuple(lista)\n",
    "print(tupla)            "
   ]
  },
  {
   "cell_type": "code",
   "execution_count": null,
   "metadata": {},
   "outputs": [],
   "source": [
    "### observacion por que  tuplas y no listas "
   ]
  },
  {
   "cell_type": "markdown",
   "metadata": {},
   "source": [
    "### 2.3 DICCIONARIOS\n"
   ]
  },
  {
   "cell_type": "markdown",
   "metadata": {},
   "source": [
    "Son un tipo de estructuras de datos que permite guardar un conjunto no ordenado de pares clave-valor, siendo las claves únicas dentro de un mismo diccionario;es decir, que no pueden existir 2 elementos con una misma clave.Para la creacion de un diccionario necesitara de llaves { }."
   ]
  },
  {
   "cell_type": "code",
   "execution_count": null,
   "metadata": {},
   "outputs": [],
   "source": [
    "# clave => nombre del pais\n",
    "# valor => poblacion del pais\n",
    "\n",
    "paises = {\"Colombia\":45, \"Chile\":22, \"Argentina\":50, \"Brasil\":100, \"Perú\":30 }                                                                                \n",
    "print(paises)\n"
   ]
  },
  {
   "cell_type": "code",
   "execution_count": null,
   "metadata": {},
   "outputs": [],
   "source": [
    "#La clave abre la puerta al valor\n",
    "paises[\"Colombia\"]                        "
   ]
  },
  {
   "cell_type": "code",
   "execution_count": null,
   "metadata": {},
   "outputs": [],
   "source": [
    "#La clave abre la puerta al valor\n",
    "paises[\"Perú\"]\n"
   ]
  },
  {
   "cell_type": "code",
   "execution_count": null,
   "metadata": {
    "scrolled": true
   },
   "outputs": [],
   "source": [
    "# agregamos elementos al diccionario\n",
    "paises = {\"Colombia\":45, \"Chile\":22, \"Argentina\":50, \"Brasil\":100, \"Perú\":30 }    \n",
    "paises[\"Paraguay\"] = 7                    \n",
    "print(paises)"
   ]
  },
  {
   "cell_type": "code",
   "execution_count": null,
   "metadata": {
    "scrolled": true
   },
   "outputs": [],
   "source": [
    " # Nos dará como resultado True si la clave se encuentra en paises\n",
    "\"Paraguay\" in paises                    "
   ]
  },
  {
   "cell_type": "code",
   "execution_count": null,
   "metadata": {},
   "outputs": [],
   "source": [
    "# Nos dará como resultado False si la clave no se encuentra en paises\n",
    "\"Ecuador\" in paises                      "
   ]
  },
  {
   "cell_type": "code",
   "execution_count": null,
   "metadata": {},
   "outputs": [],
   "source": [
    " # elminamos la clave;y al elimnar la clave también se elimina su valor\n",
    "    \n",
    "paises = {\"Colombia\":45, \"Chile\":22, \"Argentina\":50, \"Brasil\":100, \"Perú\":30 }\n",
    "print(id(paises))\n",
    "del(paises[\"Colombia\"])                \n",
    "\n",
    "print(id(paises))"
   ]
  },
  {
   "cell_type": "code",
   "execution_count": null,
   "metadata": {},
   "outputs": [],
   "source": [
    "paises = {\"Colombia\":45, \"Chile\":22, \"Argentina\":50, \"Brasil\":100, \"Perú\":30 }\n",
    "print(id(paises))\n",
    "paises_2 = paises.pop(\"Colombia\")\n",
    "print(paises_2)"
   ]
  },
  {
   "cell_type": "markdown",
   "metadata": {},
   "source": [
    "##### También podemos cambiar los valores de nuestros claves "
   ]
  },
  {
   "cell_type": "code",
   "execution_count": null,
   "metadata": {},
   "outputs": [],
   "source": [
    "paises = {\"Colombia\":45, \"Chile\":22, \"Argentina\":50, \"Brasil\":100, \"Perú\":30 } # poblacion en millones\n",
    "paises[\"Perú\"] = 33\n",
    "print(paises)"
   ]
  },
  {
   "cell_type": "code",
   "execution_count": null,
   "metadata": {},
   "outputs": [],
   "source": [
    "paises[\"Brasil\"] = 110 \n",
    "print(paises)"
   ]
  },
  {
   "cell_type": "code",
   "execution_count": null,
   "metadata": {},
   "outputs": [],
   "source": [
    "# con el metodo .keys() nos muestra solo las claves del dicicionario paises \n",
    "print(paises.keys())                         "
   ]
  },
  {
   "cell_type": "code",
   "execution_count": null,
   "metadata": {},
   "outputs": [],
   "source": [
    "# con el metodo .values() nos muestra solo los valores del dicicionario paises \n",
    "print(paises.values())                      "
   ]
  },
  {
   "cell_type": "code",
   "execution_count": null,
   "metadata": {},
   "outputs": [],
   "source": [
    " # con el metodo .itmes() nos muestra los elementos dentro de tuplas \n",
    "print(paises.items())            "
   ]
  },
  {
   "cell_type": "markdown",
   "metadata": {},
   "source": [
    "##### Creamos un subdiccionario"
   ]
  },
  {
   "cell_type": "code",
   "execution_count": null,
   "metadata": {},
   "outputs": [],
   "source": [
    "paises = {\"Colombia\":45, \"Chile\":22, \"Argentina\":50, \"Brasil\":100, \"Perú\":30 } \n",
    "pais_cap = {\"capital\":\"Quito\", \"poblacion\":18}\n",
    "paises[\"Ecuador\"] = pais_cap\n",
    "print(paises)"
   ]
  },
  {
   "cell_type": "markdown",
   "metadata": {},
   "source": [
    "### 2.4 CONJUNTOS (set)"
   ]
  },
  {
   "cell_type": "markdown",
   "metadata": {},
   "source": [
    "\n",
    "Un conjunto de Python es una colección desordenada de objetos distintos. Los objetos se pueden agregar o eliminar de un conjunto después de su creación (mutable).Se iniciliza un conjunto con llaves { }, separando los valores por comas, o puede usar set () para crear un conjunto vacío.No puede haber valores duplicados."
   ]
  },
  {
   "cell_type": "code",
   "execution_count": null,
   "metadata": {},
   "outputs": [],
   "source": [
    "conjunto = set\n",
    "conjunto = {}\n",
    "print(conjunto)"
   ]
  },
  {
   "cell_type": "code",
   "execution_count": null,
   "metadata": {},
   "outputs": [],
   "source": [
    "set = {}\n",
    "print(set)"
   ]
  },
  {
   "cell_type": "code",
   "execution_count": null,
   "metadata": {},
   "outputs": [],
   "source": [
    "# Define conjunto a partir de una lista\n",
    "lista = ['vino', 'cerveza', 'agua', 'vino'] \n",
    "bebidas = set(lista)  \n",
    "bebidas"
   ]
  },
  {
   "cell_type": "code",
   "execution_count": null,
   "metadata": {},
   "outputs": [],
   "source": [
    "# Adicionar elementos a un conjunto\n",
    "set={1,2,3,\"hola\",4.56}\n",
    "set.add(5)\n",
    "print(set)"
   ]
  },
  {
   "cell_type": "code",
   "execution_count": null,
   "metadata": {},
   "outputs": [],
   "source": [
    "# Eliminar elementos\n",
    "set={2,3,\"hola\",\"toño\", \"zaira\",\"tula\",\"tula\",\"tula\",True,False,0} ######### \" revisar\"\n",
    "#set.discard(2)\n",
    "print(set)"
   ]
  },
  {
   "cell_type": "code",
   "execution_count": null,
   "metadata": {},
   "outputs": [],
   "source": [
    "# borrar todos los elelemtos\n",
    "set_1={1, 2, 3, 4.56, 5, 'hola'}\n",
    "set_1.clear()\n",
    "print(set_1)"
   ]
  },
  {
   "cell_type": "code",
   "execution_count": null,
   "metadata": {},
   "outputs": [],
   "source": [
    "# validar si un elemento petenence a un conjunto  \"in\"\n",
    "set_1={1, 2, 3, 4.56, 5, 'hola'}\n",
    "#print(1 in set_1)\n",
    "1 not in set_1"
   ]
  },
  {
   "cell_type": "code",
   "execution_count": null,
   "metadata": {},
   "outputs": [],
   "source": [
    "set_1={1, 2, 3, 4.56, 5, 'hola'}\n",
    "print(16 in set_1)"
   ]
  },
  {
   "cell_type": "code",
   "execution_count": null,
   "metadata": {},
   "outputs": [],
   "source": [
    "set_2={1, 2, 3, 4.56, 5, 'hola',True}\n",
    "print(len(set_2))"
   ]
  },
  {
   "cell_type": "code",
   "execution_count": null,
   "metadata": {},
   "outputs": [],
   "source": [
    "# unión de conjuntos\n",
    "a={1,2,3,4,5}\n",
    "b={3,4,5,9,10}\n",
    "c = a | b\n",
    "print(c)"
   ]
  },
  {
   "cell_type": "code",
   "execution_count": null,
   "metadata": {},
   "outputs": [],
   "source": [
    "# segunda forma de deducir la unión de conjuntos\n",
    "fam_1= {'Doe, John', 'Doe, John', 'Smith, Jane', 'Brown, Bob'}\n",
    "fam_1.union({'Brown, Bob', 'Smith, Jane', 'Jones, William'})"
   ]
  },
  {
   "cell_type": "code",
   "execution_count": null,
   "metadata": {},
   "outputs": [],
   "source": [
    "# intersección de conjuntos\n",
    "a={1,2,3,4,5}\n",
    "b={3,4,5,9,10}\n",
    "c = a & b\n",
    "print(c)"
   ]
  },
  {
   "cell_type": "code",
   "execution_count": null,
   "metadata": {},
   "outputs": [],
   "source": [
    "# segunda forma de deducir la intersección de conjuntos\n",
    "fam_1= {'Doe, John', 'Doe, John', 'Smith, Jane', 'Brown, Bob'}\n",
    "fam_1.intersection({'Brown, Bob', 'Smith, Jane', 'Jones, William'})"
   ]
  },
  {
   "cell_type": "code",
   "execution_count": null,
   "metadata": {},
   "outputs": [],
   "source": [
    "# diferencia de conjuntos\n",
    "a={1,2,3,4,5}\n",
    "b={3,4,5,9,10}\n",
    "c = a - b\n",
    "print(c)"
   ]
  },
  {
   "cell_type": "code",
   "execution_count": null,
   "metadata": {},
   "outputs": [],
   "source": [
    "# direfencia simetrica de conjuntos\n",
    "a={1,2,3,4,5}\n",
    "b={3,4,5,9,10}\n",
    "c = a ^ b \n",
    "print(c)"
   ]
  },
  {
   "cell_type": "code",
   "execution_count": null,
   "metadata": {},
   "outputs": [],
   "source": []
  }
 ],
 "metadata": {
  "kernelspec": {
   "display_name": "Python 3",
   "language": "python",
   "name": "python3"
  },
  "language_info": {
   "codemirror_mode": {
    "name": "ipython",
    "version": 3
   },
   "file_extension": ".py",
   "mimetype": "text/x-python",
   "name": "python",
   "nbconvert_exporter": "python",
   "pygments_lexer": "ipython3",
   "version": "3.8.3"
  }
 },
 "nbformat": 4,
 "nbformat_minor": 4
}
