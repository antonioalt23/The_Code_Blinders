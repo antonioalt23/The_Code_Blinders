{
 "cells": [
  {
   "cell_type": "markdown",
   "metadata": {},
   "source": [
    "***RESUMEN***\n",
    "\n",
    "+ Aprender los modos de pensamiento computacional.\n",
    "+ Dominar el arte de la computación en resolución de problemas.\n",
    "+ Hacer que las computadoras haga lo que usted desea."
   ]
  },
  {
   "cell_type": "markdown",
   "metadata": {},
   "source": [
    "***QUÉ HACE UNA COMPUTADORA???***\n",
    "\n",
    "Realiza cálculos\n",
    "- mil millones de cálculos por segundo!\n",
    "- dos operaciones en el mismo tiempo la luz viaja 1 pie ( APROX 30.48 Cm.)\n",
    "\n",
    "Recuerda los resultados\n",
    "- ¡Cientos de gigabytes de almacenamiento!\n",
    "- La máquina típica puede contener 1,5 millones de libros de tamaño estándar.\n"
   ]
  },
  {
   "cell_type": "markdown",
   "metadata": {},
   "source": [
    "***CÁLCULOS SIMPLES***\n",
    "¿SUFICIENTE?\n",
    "\n",
    "Búsqueda en la World Wide Web\n",
    "+ 45B páginas\n",
    "+ 1000 palabras / página\n",
    "+ 10 operaciones / palabra para encontrar\n",
    "+ Necesita 5.2 días para encontrar algo usando operaciones simples\n",
    "\n",
    "Jugar al ajedrez\n",
    "+ Promedio de 35 movimientos / escenario\n",
    "+ Mira hacia adelante 6 movimientos\n",
    "+ 1.8 mil millones tableros para verificar\n",
    "+ 100 operaciones / elección\n",
    "+ 30 minutos para decidir cada movimiento\n",
    "\n",
    "También se necesita un buen diseño de algoritmo para lograr una ¡tarea!"
   ]
  },
  {
   "cell_type": "markdown",
   "metadata": {},
   "source": [
    "***¿SUFICIENTE ALMACENAMIENTO?***\n",
    "\n",
    "¿Qué pasaría si pudiéramos precalcular información y luego buscar la respuesta\n",
    "+ Jugar al ajedrez como ejemplo\n",
    "+ Los expertos sugieren 10 ^ 123 juegos posibles diferentes\n"
   ]
  },
  {
   "cell_type": "markdown",
   "metadata": {},
   "source": [
    "***¿HAY LÍMITES?***\n",
    "\n",
    "A pesar de su velocidad y tamaño, una computadora tiene limitaciones\n",
    "+ Algunos problemas aún son demasiado complejos\n",
    "+ Predicción meteorológica precisa a escala local\n",
    "+ Algunos problemas son fundamentalmente imposibles de calcular\n"
   ]
  },
  {
   "cell_type": "markdown",
   "metadata": {},
   "source": [
    "***TIPOS DE CONOCIMIENTOS***\n",
    "\n",
    "las computadoras saben lo que les dices.\n",
    "\n",
    "El conocimiento declarativo son declaraciones de hechos.\n",
    "\n",
    "+ Hay un cofre con 1000 dolares en el parque de las leyendas\n",
    "\n",
    "El conocimiento imperativo es una receta o \"cómo hacer\" conocimiento.\n",
    "+ ingrese al parque de las leyendas\n",
    "+ Ingresa al zona de la sierra \n",
    "+ Ingresa en paseo de la mina \n",
    "+ Comience contar desde la entrada 10 pasos\n",
    "+ Cuenta 15 pasos a la derecha\n",
    "+ Busca debajo de la silla y encuéntrala\n",
    "\n",
    "**¡DE ESTA FORMA DEBERIA PENSAR UN PROGRAMADOR!**"
   ]
  },
  {
   "cell_type": "markdown",
   "metadata": {},
   "source": [
    "***UN EJEMPLO NUMÉRICO***\n",
    "\n",
    "Raíz cuadrada de un número x es y tal que y * y = x\n",
    "\n",
    "receta para deducir la raíz cuadrada del número x (por ejemplo, 25)\n",
    "\n",
    "+ 1) Comience con una suposición, g\n",
    "+ 2) Si g * g está lo suficientemente cerca de x, deténgase y diga que g la respuesta.\n",
    "+ 3) De lo contrario, haga una nueva suposición promediando g y x / g\n",
    "+ 4) Usando la nueva conjetura, repita el proceso hasta que esté lo suficientemente cerca\n",
    "\n",
    "<div class=\"pull-left\"><center><img src=\"imagenes/raiz_cuadrada.png\" alt=\"REPO\" width=\"500\" title = \"REPO\"/>"
   ]
  },
  {
   "cell_type": "markdown",
   "metadata": {},
   "source": [
    "***¿QUÉ ES UNA ALGORITMO (RECETA)?***\n",
    "\n",
    "+ Secuencia de pasos simples.\n",
    "+ Flujo del proceso de control que especifica cuando cada paso se ejecuta.\n",
    "+ Un medio para determinar cuando parar.\n",
    "\n"
   ]
  },
  {
   "cell_type": "markdown",
   "metadata": {},
   "source": [
    "***LAS COMPUTADORAS SON MÁQUINAS***\n",
    "\n",
    "cómo entiende el algoritmo?\n",
    "\n",
    "+ programa fijo\n",
    "\n",
    "computadora\n",
    "\n",
    "Ejemplo: calculadora\n",
    "\n",
    "+ programa almacenado\n",
    "\n",
    "computadora\n",
    "\n",
    "Almacenes de máquinas y ejecuta instrucciones"
   ]
  },
  {
   "cell_type": "markdown",
   "metadata": {},
   "source": [
    "# <center>  PYTHON</center>\n",
    "\n"
   ]
  },
  {
   "cell_type": "markdown",
   "metadata": {},
   "source": [
    "## 1. PYTHON "
   ]
  },
  {
   "cell_type": "markdown",
   "metadata": {},
   "source": [
    "Es un lenguaje de programación de propósito general de codigo abierto.Los objetos de Python consisten en:\n",
    "+ los tipos de elementos dentro de los objetos(int,float,string,bool,complex) \n",
    "+ los tipos de objetos que contienen otros objetos (por ejemplo, listas,tuplas, conjuntos, diccionarios) llamados tipos de datos de secuencia.\n",
    "\n"
   ]
  },
  {
   "cell_type": "markdown",
   "metadata": {},
   "source": [
    "### 1.1 VARIABLES Y TIPOS\n",
    "### 1.1.1 Variables \n",
    "** Especifico , distingue entre minusculas y mayusculas<br>\n",
    "** Llama valores a traves del nombre de las variables<br>\n",
    "##### \"Etiquetas que hacen referencia a los datos (que se guardan en unas \"cajas\" llamadas objetos)\"\n",
    "#### \"cualquier variable en Python es una referencia a un objeto de memoria\"\n",
    "##### Cada objeto tiene:\n",
    "\n",
    "- un identificador \n",
    "- un tipo de datos (entero, decimal,complejo, cadena , etc.)\n",
    "- un valor (el propio dato).\n",
    "\n"
   ]
  },
  {
   "cell_type": "code",
   "execution_count": null,
   "metadata": {
    "scrolled": true
   },
   "outputs": [],
   "source": [
    "# el número 5\n",
    "id(5)  # Este es el identificador del objeto número entero \"5\""
   ]
  },
  {
   "cell_type": "code",
   "execution_count": null,
   "metadata": {
    "scrolled": true
   },
   "outputs": [],
   "source": [
    "a = 5\n",
    "id(a)  # El identificador de la variable a es el mismo que el del número entero \"5\""
   ]
  },
  {
   "cell_type": "code",
   "execution_count": null,
   "metadata": {},
   "outputs": [],
   "source": [
    "id(50)"
   ]
  },
  {
   "cell_type": "code",
   "execution_count": null,
   "metadata": {
    "scrolled": true
   },
   "outputs": [],
   "source": [
    "# calculando el IMC\n",
    "estatura = 2"
   ]
  },
  {
   "cell_type": "code",
   "execution_count": null,
   "metadata": {
    "scrolled": true
   },
   "outputs": [],
   "source": [
    "estatura"
   ]
  },
  {
   "cell_type": "code",
   "execution_count": null,
   "metadata": {
    "scrolled": true
   },
   "outputs": [],
   "source": [
    "#La función print() permite mostrar texto en pantalla.\n",
    "print(estatura)"
   ]
  },
  {
   "cell_type": "code",
   "execution_count": null,
   "metadata": {
    "scrolled": true
   },
   "outputs": [],
   "source": [
    "# Determinemos el identificador de la variable mediente la función id()\n",
    "id(estatura)"
   ]
  },
  {
   "cell_type": "code",
   "execution_count": null,
   "metadata": {
    "scrolled": true
   },
   "outputs": [],
   "source": [
    "id(2)\n"
   ]
  },
  {
   "cell_type": "code",
   "execution_count": null,
   "metadata": {
    "scrolled": true
   },
   "outputs": [],
   "source": [
    "peso = 75\n"
   ]
  },
  {
   "cell_type": "code",
   "execution_count": null,
   "metadata": {
    "scrolled": true
   },
   "outputs": [],
   "source": [
    "BMI = peso / estatura**2\n"
   ]
  },
  {
   "cell_type": "code",
   "execution_count": null,
   "metadata": {
    "scrolled": true
   },
   "outputs": [],
   "source": [
    "print(BMI)"
   ]
  },
  {
   "cell_type": "code",
   "execution_count": null,
   "metadata": {
    "scrolled": true
   },
   "outputs": [],
   "source": [
    "# Determinemos el identificador de la variable mediante la función \"id()\"\n",
    "id(BMI)"
   ]
  },
  {
   "cell_type": "code",
   "execution_count": null,
   "metadata": {
    "scrolled": false
   },
   "outputs": [],
   "source": [
    "#calculando la velocidad\n",
    "espacio = 100\n",
    "tiempo = 2\n",
    "velocidad = espacio / tiempo\n",
    "print(velocidad)"
   ]
  },
  {
   "cell_type": "code",
   "execution_count": null,
   "metadata": {
    "scrolled": true
   },
   "outputs": [],
   "source": [
    "# Determinemos el identificador de la variable mediente la función id()\n",
    "id(tiempo)"
   ]
  },
  {
   "cell_type": "code",
   "execution_count": null,
   "metadata": {
    "scrolled": true
   },
   "outputs": [],
   "source": [
    "cadena = \"toño\"\n",
    "id(cadena)"
   ]
  },
  {
   "cell_type": "code",
   "execution_count": null,
   "metadata": {
    "scrolled": true
   },
   "outputs": [],
   "source": [
    "a=1000/2\n",
    "b=500\n",
    "print(id(a))\n",
    "print(id(b))"
   ]
  },
  {
   "cell_type": "markdown",
   "metadata": {},
   "source": [
    "### 1.2 PYTHON TYPES\n",
    "#### Existen 3 tipos de valores que puede tomar una variableen python (NÚMEROS, CADENAS Y BOOLEANOS)\n",
    "### 1.2.1 Números\n",
    "#### INT (Son los números Enteros)\n",
    "se puede escribir en formato:\n",
    "* Binario \"se antepone 0b a una secuencia de dígitos en binario (0 y 1)\"\n",
    "* Octal \"Anteponiendo 0o a una secuencia de dígitos octales (del 0 al 7)\"\n",
    "* Hexadecimal \"anteponer 0x a una secuencia de dígitos en hexadecimal (del 0 al 9 y de la A la F)\""
   ]
  },
  {
   "cell_type": "code",
   "execution_count": null,
   "metadata": {
    "scrolled": true
   },
   "outputs": [],
   "source": [
    "#  Podemos escribir en formato binario, octal o hexadecimal.( ing informaticos)\n",
    "diez = 10 \n",
    "diez_binario = 0b1010\n",
    "diez_octal = 0o12\n",
    "diez_hex = 0xa\n",
    "\n",
    "print(diez)\n",
    "\n",
    "print(diez_binario)\n",
    "\n",
    "print(diez_octal)\n",
    "\n",
    "print(diez_hex)"
   ]
  },
  {
   "cell_type": "code",
   "execution_count": null,
   "metadata": {
    "scrolled": true
   },
   "outputs": [],
   "source": [
    "#conversión decimal en binario, octal y hexadecimal\n",
    "n=10\n",
    "print(bin(n))\n",
    "print(oct(n))\n",
    "print(hex(n))"
   ]
  },
  {
   "cell_type": "markdown",
   "metadata": {},
   "source": [
    "#### FLOAT (*Son los números reales*)\n",
    "* \"Los números de coma flotante no representan ciertas fracciones decimales exactamente.\" ( C++ tiene el doble de precisión que python)\n",
    "* \"El tipo Decimal puede representar estas fracciones exactamente, hasta un límite de precisión especificado por el usuario\""
   ]
  },
  {
   "cell_type": "code",
   "execution_count": null,
   "metadata": {
    "scrolled": true
   },
   "outputs": [],
   "source": [
    "# float\n",
    "3/7"
   ]
  },
  {
   "cell_type": "code",
   "execution_count": null,
   "metadata": {
    "scrolled": true
   },
   "outputs": [],
   "source": [
    "#usando el módulo Decimal\n",
    "import decimal\n",
    "decimal.Decimal(24/7)\n"
   ]
  },
  {
   "cell_type": "code",
   "execution_count": null,
   "metadata": {
    "scrolled": true
   },
   "outputs": [],
   "source": [
    "# Se puede proporcionar tuplas que contengan el signo, la mantisa como tupla de dígitos decimales, y el exponente\n",
    "# Observación: el bit de signo es Booleano, por lo que 0 significa positivo y 1 significa negativo.\n",
    "# ((a, (x, y, z, q), -e)): a< 0 o 1> -->signo, (x,y,z,q)-->mantisa, -e--> exponente\n",
    "decimal.Decimal((1, (3, 4, 7, 5), -2))"
   ]
  },
  {
   "cell_type": "code",
   "execution_count": null,
   "metadata": {
    "scrolled": true
   },
   "outputs": [],
   "source": [
    "#Tipo Context( \" Context encapsula propiedades de las operaciones decimales\") \n",
    "import decimal\n",
    "decimal.getcontext().prec=100\n",
    "resultado=decimal.Decimal(3) / decimal.Decimal(7)\n",
    "print(resultado)\n"
   ]
  },
  {
   "cell_type": "markdown",
   "metadata": {},
   "source": [
    "### OPERACIONES ENTRE INT Y FLOAT\n",
    "<br />\n",
    "<br />\n",
    "\n",
    "<div class=\"pull-left\"><center><img src=\"imagenes/operaciones.png\" alt=\"REPO\" width=\"500\" title = \"REPO\"/>"
   ]
  },
  {
   "cell_type": "code",
   "execution_count": null,
   "metadata": {},
   "outputs": [],
   "source": [
    "5 +5.0"
   ]
  },
  {
   "cell_type": "code",
   "execution_count": null,
   "metadata": {},
   "outputs": [],
   "source": [
    "id(5)"
   ]
  },
  {
   "cell_type": "code",
   "execution_count": null,
   "metadata": {},
   "outputs": [],
   "source": [
    "7%3"
   ]
  },
  {
   "cell_type": "markdown",
   "metadata": {},
   "source": [
    "#### COMPLEX (*Son los números COMPLEJOS*)\n",
    "* (a + bj)---> a parte real, b parte imaginaria \n",
    "* (a,b)---> como par ordenado\n",
    "\n",
    "<div class=\"pull-left\"><center><img src=\"imagenes/complejo.png\" alt=\"REPO\" width=\"300\" title = \"REPO\"/>"
   ]
  },
  {
   "cell_type": "code",
   "execution_count": null,
   "metadata": {
    "scrolled": true
   },
   "outputs": [],
   "source": [
    "# Creando un número complejo\n",
    "c1 = 4 + 3j"
   ]
  },
  {
   "cell_type": "code",
   "execution_count": null,
   "metadata": {},
   "outputs": [],
   "source": [
    "c1"
   ]
  },
  {
   "cell_type": "code",
   "execution_count": null,
   "metadata": {
    "scrolled": true
   },
   "outputs": [],
   "source": [
    "# Creando un número complejo con complex\n",
    "c2 = complex(2, -3)\n",
    "c2"
   ]
  },
  {
   "cell_type": "code",
   "execution_count": null,
   "metadata": {
    "scrolled": true
   },
   "outputs": [],
   "source": [
    "\n",
    "# Conjugado de un número complejo\n",
    "c3 = 2 + 3j\n",
    "c3.conjugate()"
   ]
  },
  {
   "cell_type": "code",
   "execution_count": null,
   "metadata": {
    "scrolled": true
   },
   "outputs": [],
   "source": [
    "\n",
    "# Valor absoluto o magnitud\n",
    "c4 = 4 + 3j\n",
    "abs(c4)"
   ]
  },
  {
   "cell_type": "code",
   "execution_count": null,
   "metadata": {
    "scrolled": true
   },
   "outputs": [],
   "source": [
    "# Parte real, Parte imaginaria\n",
    "c5 = 2 - 3j\n",
    "\n",
    "print(c5.real)\n",
    "print(c5.imag)"
   ]
  },
  {
   "cell_type": "code",
   "execution_count": null,
   "metadata": {
    "scrolled": true
   },
   "outputs": [],
   "source": [
    "x = 30.5\n",
    "temperatura = 80.9\n",
    "type(x)\n"
   ]
  },
  {
   "cell_type": "code",
   "execution_count": null,
   "metadata": {
    "scrolled": true
   },
   "outputs": [],
   "source": [
    "type(temperatura)"
   ]
  },
  {
   "cell_type": "markdown",
   "metadata": {},
   "source": [
    "### Repaso\n",
    "+ operaciones entre int y float\n",
    "+ id del objeto\n",
    "+ tipo de objeto ( type())\n",
    "\n",
    "**Para los ejemplos INFRA referenciar a los objetos con una variable**\n",
    "\n"
   ]
  },
  {
   "cell_type": "code",
   "execution_count": null,
   "metadata": {},
   "outputs": [],
   "source": [
    "#sumamos dos números enteros\n",
    "X=23\n",
    "Y=15\n",
    "X+Y"
   ]
  },
  {
   "cell_type": "code",
   "execution_count": null,
   "metadata": {},
   "outputs": [],
   "source": [
    "#sumamos dos números reales (float))\n",
    "A=7.3\n",
    "B=6.0\n",
    "A+B"
   ]
  },
  {
   "cell_type": "code",
   "execution_count": null,
   "metadata": {},
   "outputs": [],
   "source": [
    "#sumamos un nÚmero real y uno entero\n",
    "A=20.8\n",
    "b=10\n",
    "A+b\n"
   ]
  },
  {
   "cell_type": "code",
   "execution_count": 1,
   "metadata": {},
   "outputs": [
    {
     "data": {
      "text/plain": [
       "7.0"
      ]
     },
     "execution_count": 1,
     "metadata": {},
     "output_type": "execute_result"
    }
   ],
   "source": [
    "#dividimos dos números enteros\n",
    "14/2"
   ]
  },
  {
   "cell_type": "code",
   "execution_count": 2,
   "metadata": {},
   "outputs": [
    {
     "data": {
      "text/plain": [
       "1.2558139534883723"
      ]
     },
     "execution_count": 2,
     "metadata": {},
     "output_type": "execute_result"
    }
   ],
   "source": [
    "#dividimos dos números reales (float)\n",
<<<<<<< Updated upstream
    "5.4/2.0"
=======
    "\n",
    "5.4/4.3"
>>>>>>> Stashed changes
   ]
  },
  {
   "cell_type": "code",
   "execution_count": null,
   "metadata": {},
   "outputs": [],
   "source": [
    "# dividimos un número entero entre un real.\n",
    "35/2.0"
   ]
  },
  {
   "cell_type": "code",
   "execution_count": 3,
   "metadata": {},
   "outputs": [
    {
     "data": {
      "text/plain": [
       "3"
      ]
     },
     "execution_count": 3,
     "metadata": {},
     "output_type": "execute_result"
    }
   ],
   "source": [
    "# dividión entera \" //\" nos da como resultado el cociente entero\n",
<<<<<<< Updated upstream
    "7//2"
=======
    "7//2\n"
>>>>>>> Stashed changes
   ]
  },
  {
   "cell_type": "code",
   "execution_count": 4,
   "metadata": {},
   "outputs": [
    {
     "data": {
      "text/plain": [
       "9"
      ]
     },
     "execution_count": 4,
     "metadata": {},
     "output_type": "execute_result"
    }
   ],
   "source": [
    "# dividión entera \" //\" nos da como resultado el cociente entero\n",
<<<<<<< Updated upstream
    "4//2"
=======
    "\n",
    "45//5"
>>>>>>> Stashed changes
   ]
  },
  {
   "cell_type": "code",
   "execution_count": 8,
   "metadata": {},
   "outputs": [
    {
     "data": {
      "text/plain": [
       "0"
      ]
     },
     "execution_count": 8,
     "metadata": {},
     "output_type": "execute_result"
    }
   ],
   "source": [
    "# operador Módulo \"%\"( no da como resultado el residuo)\n",
<<<<<<< Updated upstream
    "7%2"
=======
    "\n",
    "7%2\n",
    "25%5"
>>>>>>> Stashed changes
   ]
  },
  {
   "cell_type": "code",
   "execution_count": null,
   "metadata": {},
   "outputs": [],
   "source": [
    "# operador Módulo \"%\"( no da como resultado el residuo)\n",
    "30%120"
   ]
  },
  {
   "cell_type": "code",
   "execution_count": 12,
   "metadata": {},
   "outputs": [
    {
     "data": {
      "text/plain": [
       "0"
      ]
     },
     "execution_count": 12,
     "metadata": {},
     "output_type": "execute_result"
    }
   ],
   "source": [
    "# Potenciación \"**\", A**b---- A es base , b es exponente.\n",
<<<<<<< Updated upstream
    "2**3"
=======
    "\n",
    "0**5"
>>>>>>> Stashed changes
   ]
  },
  {
   "cell_type": "code",
   "execution_count": null,
   "metadata": {},
   "outputs": [],
   "source": [
    "# Potenciación \"**\", A**b---- A es base , b es exponente.\n",
    "5**8"
   ]
  },
  {
   "cell_type": "code",
   "execution_count": null,
   "metadata": {},
   "outputs": [],
   "source": [
    "# Potenciación \"**\", A**b---- A es base , b es exponente.\n",
    "1**0"
   ]
  },
  {
   "cell_type": "code",
   "execution_count": null,
   "metadata": {},
   "outputs": [],
   "source": [
    "#Referencie al obejo 210 con la variable x luego muestre el identificador del objeto\n",
<<<<<<< Updated upstream
    "X=210\n",
    "print(id(X))\n",
    "print(X)"
=======
    "\n"
>>>>>>> Stashed changes
   ]
  },
  {
   "cell_type": "code",
   "execution_count": null,
   "metadata": {},
   "outputs": [],
   "source": [
    "#Referencie al objejo 210 con la variable w luego muestre el identificador del objeto\n",
    "\n"
   ]
  },
  {
   "cell_type": "markdown",
   "metadata": {},
   "source": [
    "####  funcion type( )\n",
    "*Puede verificar el tipo de un valor con la función type().* "
   ]
  },
  {
   "cell_type": "code",
   "execution_count": 13,
   "metadata": {},
   "outputs": [
    {
     "data": {
      "text/plain": [
       "int"
      ]
     },
     "execution_count": 13,
     "metadata": {},
     "output_type": "execute_result"
    }
   ],
   "source": [
    "## tipo del obdjeto 5\n",
    "type(5)"
   ]
  },
  {
   "cell_type": "code",
   "execution_count": 14,
   "metadata": {},
   "outputs": [
    {
     "data": {
      "text/plain": [
       "float"
      ]
     },
     "execution_count": 14,
     "metadata": {},
     "output_type": "execute_result"
    }
   ],
   "source": [
    "## tipo del obdjeto 5\n",
    "type(5.0)"
   ]
  },
  {
   "cell_type": "code",
   "execution_count": 15,
   "metadata": {},
   "outputs": [
    {
     "data": {
      "text/plain": [
       "bool"
      ]
     },
     "execution_count": 15,
     "metadata": {},
     "output_type": "execute_result"
    }
   ],
   "source": [
    "## tipo \n",
    "type(6<7)\n"
   ]
  },
  {
   "cell_type": "markdown",
   "metadata": {},
   "source": [
    "### 1.2.2 STRING \n",
    "* \"String o cadena es la forma en que python representa el texto; puede usar comillas simples (' ') o dobles(\" \") para construir una cadena.\"\n",
    "\n",
    "\n"
   ]
  },
  {
   "cell_type": "code",
   "execution_count": 16,
   "metadata": {},
   "outputs": [
    {
     "data": {
      "text/plain": [
       "'hola a todos'"
      ]
     },
     "execution_count": 16,
     "metadata": {},
     "output_type": "execute_result"
    }
   ],
   "source": [
    "mensaje=\"hola a todos\"\n",
    "mensaje"
   ]
  },
  {
   "cell_type": "code",
   "execution_count": 18,
   "metadata": {},
   "outputs": [
    {
     "data": {
      "text/plain": [
       "'Pedro'"
      ]
     },
     "execution_count": 18,
     "metadata": {},
     "output_type": "execute_result"
    }
   ],
   "source": [
    "mensaje1='Pedro'\n",
    "mensaje1"
   ]
  },
  {
   "cell_type": "markdown",
   "metadata": {},
   "source": [
    "+ Se pueden usar corchetes para acceder a elementos de la cadena. Ejemplo:si cad=\"hola\" entonces cad [1]-->'a'\n",
    "+ los índices en una cadena empiezan en cero.\n",
    "\n",
    "<div class=\"pull-left\"><center><img src=\"imagenes/string.png\" alt=\"REPO\" width=\"200\" title = \"REPO\"/>\n"
   ]
  },
  {
   "cell_type": "code",
   "execution_count": 20,
   "metadata": {},
   "outputs": [
    {
     "data": {
      "text/plain": [
       "'s'"
      ]
     },
     "execution_count": 20,
     "metadata": {},
     "output_type": "execute_result"
    }
   ],
   "source": [
    "# Obtenga el carácter con índice 1 (recuerde que el primer carácter tiene la posición 0): cadena=\"Estoy feliz\"\n",
    "cadena=\"Estoy feliz\"\n",
    "cadena[1]"
   ]
  },
  {
   "cell_type": "code",
   "execution_count": 22,
   "metadata": {},
   "outputs": [
    {
     "data": {
      "text/plain": [
       "'y'"
      ]
     },
     "execution_count": 22,
     "metadata": {},
     "output_type": "execute_result"
    }
   ],
   "source": [
<<<<<<< Updated upstream
    "#Obtenga el carácter de índice 5 (recuerde que el primer carácter tiene la posición 0):\n",
    "cadena1=\"Estoy feliz\"\n",
    "cadena1[5]"
=======
    "#Obtenga el carácter en la posición 5 (recuerde que el primer carácter tiene la posición 0):\n",
    "cadena=\"Estoy feliz\"\n",
    "cadena[4]"
>>>>>>> Stashed changes
   ]
  },
  {
   "cell_type": "markdown",
   "metadata": {},
   "source": [
    "+ Para obtener la longitud de una cadena, use la función len(). Ejemplo: si cad='14 febrero' entonces len(cad)-->10\n"
   ]
  },
  {
   "cell_type": "code",
   "execution_count": null,
   "metadata": {},
   "outputs": [],
   "source": [
    "#halle la longitud de la cadena \"aprendiendo python\"\n",
    "cad=\"aprendiendo python\"\n",
    "len(cad)"
   ]
  },
  {
   "cell_type": "code",
   "execution_count": null,
   "metadata": {},
   "outputs": [],
   "source": [
    "# Determina el número de caracteres en una cadena utilizando la función len(), considere mensaje= 'hola' + ' ' + 'mundo'\n"
   ]
  },
  {
   "cell_type": "markdown",
   "metadata": {},
   "source": [
    "+ slicing  (Si quieres partes de una cadena ). Especifique el índice inicial y el índice final ( no incluye), separados por dos puntos, entre corchetes.Ejemplo: si cad=\"Alexander\" entonces cad[2:5]-->'exa'"
   ]
  },
  {
   "cell_type": "code",
   "execution_count": 26,
   "metadata": {},
   "outputs": [
    {
     "ename": "SyntaxError",
     "evalue": "invalid syntax (<ipython-input-26-d58b261e9e19>, line 3)",
     "output_type": "error",
     "traceback": [
      "\u001b[1;36m  File \u001b[1;32m\"<ipython-input-26-d58b261e9e19>\"\u001b[1;36m, line \u001b[1;32m3\u001b[0m\n\u001b[1;33m    print b: ([2:5])\u001b[0m\n\u001b[1;37m          ^\u001b[0m\n\u001b[1;31mSyntaxError\u001b[0m\u001b[1;31m:\u001b[0m invalid syntax\n"
     ]
    }
   ],
   "source": [
    "# si b = \"Hello, World!\", b[2:5]=?\n",
    "b = \"Hello, World!\"\n",
<<<<<<< Updated upstream
    "b[2:5]"
=======
    "print b: ([2:5])\n"
>>>>>>> Stashed changes
   ]
  },
  {
   "cell_type": "code",
   "execution_count": null,
   "metadata": {},
   "outputs": [],
   "source": [
    "#Al omitir el índice final , el rango llegará al final\n",
    "b = \"Hello, World!\" \n",
    "print(b[2:])\n"
   ]
  },
  {
   "cell_type": "code",
   "execution_count": null,
   "metadata": {},
   "outputs": [],
   "source": [
    "#Use índices negativos para comenzar el segmento desde el final de la cadena:\n",
    "b = \"Hello, World!\"\n",
    "print(b[-5:-2])\n"
   ]
  },
  {
   "cell_type": "markdown",
   "metadata": {},
   "source": [
    "+ Para concatenar o combinar dos cadenas, puede usar el operador +.Ejemplo: si cad1=\"soy\" y cad2=\"feliz\" entonces cad1 + cad2-->'soyfeliz'.\n"
   ]
  },
  {
   "cell_type": "code",
   "execution_count": 29,
   "metadata": {},
   "outputs": [
    {
     "data": {
      "text/plain": [
       "'HelloWorld'"
      ]
     },
     "execution_count": 29,
     "metadata": {},
     "output_type": "execute_result"
    }
   ],
   "source": [
    "#concatenar la variable a y b en una variable c\n",
    "a = \"Hello\"\n",
    "b = \"World\"\n",
<<<<<<< Updated upstream
    "a+b"
=======
    "a+\"\"+b"
>>>>>>> Stashed changes
   ]
  },
  {
   "cell_type": "code",
   "execution_count": null,
   "metadata": {},
   "outputs": [],
   "source": [
    "#Para agregar un espacio entre ellos, agregue un \" \":\n",
    "a = \"Hello\"\n",
    "b = \"World\"\n",
    "a+\" \"+b"
   ]
  },
  {
   "cell_type": "code",
   "execution_count": null,
   "metadata": {},
   "outputs": [],
   "source": [
    "# Multiplicar( copiar varias veces una cadeana mediante el operador (*))\n",
    "y = \"cadena\"\n",
    "y*3"
   ]
  },
  {
   "cell_type": "markdown",
   "metadata": {},
   "source": [
    "+ No podemos combinar cadenas y números , El método format() toma los argumentos que fueron declarados y los coloca en la cadena donde están los marcadores de posición {}. Ejemplo años = 36, salida = \"Mi nombre es Cesar, y tengo {}\" entonces print(salida.format(años))-->Mi nombre es Cesar, y tengo 36."
   ]
  },
  {
   "cell_type": "code",
   "execution_count": 33,
   "metadata": {},
   "outputs": [
    {
     "name": "stdout",
     "output_type": "stream",
     "text": [
      "Mi nombre es Cesar, y tengo 36\n"
     ]
    },
    {
     "ename": "TypeError",
     "evalue": "unsupported operand type(s) for +: 'int' and 'str'",
     "output_type": "error",
     "traceback": [
      "\u001b[1;31m---------------------------------------------------------------------------\u001b[0m",
      "\u001b[1;31mTypeError\u001b[0m                                 Traceback (most recent call last)",
      "\u001b[1;32m<ipython-input-33-c15cfb76d53e>\u001b[0m in \u001b[0;36m<module>\u001b[1;34m\u001b[0m\n\u001b[0;32m      4\u001b[0m \u001b[1;33m\u001b[0m\u001b[0m\n\u001b[0;32m      5\u001b[0m \u001b[0mprint\u001b[0m\u001b[1;33m(\u001b[0m\u001b[0msalida\u001b[0m\u001b[1;33m.\u001b[0m\u001b[0mformat\u001b[0m\u001b[1;33m(\u001b[0m\u001b[0maños\u001b[0m\u001b[1;33m)\u001b[0m\u001b[1;33m)\u001b[0m\u001b[1;33m\u001b[0m\u001b[1;33m\u001b[0m\u001b[0m\n\u001b[1;32m----> 6\u001b[1;33m \u001b[0maños\u001b[0m\u001b[1;33m+\u001b[0m\u001b[0msalida\u001b[0m\u001b[1;33m\u001b[0m\u001b[1;33m\u001b[0m\u001b[0m\n\u001b[0m",
      "\u001b[1;31mTypeError\u001b[0m: unsupported operand type(s) for +: 'int' and 'str'"
     ]
    }
   ],
   "source": [
    "#No podemos combinar cadenas y números\n",
    "años = 36\n",
    "salida = \"Mi nombre es Cesar, y tengo {}\" \n",
    "\n",
    "print(salida.format(años))\n",
    "años+salida"
   ]
  },
  {
   "cell_type": "code",
   "execution_count": null,
   "metadata": {},
   "outputs": [],
   "source": [
    "#mediante el método format combinar cadenas y números\n",
    "años = 36\n",
    "salida = \"Mi nombre es Cesar, y tengo {}\" \n",
    "\n",
    "print(salida.format(años))"
   ]
  },
  {
   "cell_type": "code",
   "execution_count": null,
   "metadata": {},
   "outputs": [],
   "source": [
    "#mediante el método format combinar cadenas y números\n",
    "tengo=1200\n",
    "texto=\"tengo {}\"\n",
    "texto1=\"mi ganancia es {}\"\n",
    "ganancia=500\n",
    "\n",
    "print(texto.format(tengo))\n",
    "print(texto1.format(ganancia))\n"
   ]
  },
  {
   "cell_type": "markdown",
   "metadata": {
    "scrolled": true
   },
   "source": [
    "### Métodos en cadenas\n",
    "* Python tiene un conjunto de métodos integrados que se puede usar en cadenas.\n",
    "+ Todos los métodos de cadena devuelven nuevos valores. No cambia la cadena original.\n",
    "\n",
    "<div class=\"pull-left\"><center><img src=\"imagenes/cadena.png\" alt=\"REPO\" width=\"800\" title = \"REPO\"/>"
   ]
  },
  {
   "cell_type": "code",
   "execution_count": 34,
   "metadata": {
    "scrolled": true
   },
   "outputs": [
    {
     "name": "stdout",
     "output_type": "stream",
     "text": [
      "5\n"
     ]
    }
   ],
   "source": [
    "# Método find(): busca una sub-cadena en una cadena de caracteres e indicará el índice de inicio de la cadena que se busca\n",
    "mensaje = \"Hola Mundo\"\n",
    "mensaje_buscar = mensaje.find(\"Mundo\")\n",
    "print(mensaje_buscar)"
   ]
  },
  {
   "cell_type": "code",
   "execution_count": 38,
   "metadata": {
    "scrolled": true
   },
   "outputs": [
    {
     "name": "stdout",
     "output_type": "stream",
     "text": [
      "HOLA Manuel\n",
      "HOLA MUNDO\n"
     ]
    }
   ],
   "source": [
    "#Método replace: cambia una sub-cadena de una cadena.\n",
    "mensaje = \"HOLA MUNDO\"\n",
    "mensaje_r = mensaje.replace(\"UNDO\", \"anuel\")\n",
    "print(mensaje_r)\n",
<<<<<<< Updated upstream
    "print(mensaje)"
=======
    "print(mensaje)\n"
>>>>>>> Stashed changes
   ]
  },
  {
   "cell_type": "code",
   "execution_count": null,
   "metadata": {
    "scrolled": true
   },
   "outputs": [],
   "source": [
    "# Minúsculas \"Lower()\" , Mayúsculas \"Upper\"\n",
    "mensaje = \"MUERTE a Manuel\"\n",
    "print(mensaje.lower())\n",
    "print(mensaje.upper())"
   ]
  },
  {
   "cell_type": "markdown",
   "metadata": {},
   "source": [
    "### 1.2.3 BOOL :"
   ]
  },
  {
   "cell_type": "markdown",
   "metadata": {},
   "source": [
    " *El booleano es un tipo de variable que puede ser verdadero(True) o falso(False).* \n"
   ]
  },
  {
   "cell_type": "code",
   "execution_count": 39,
   "metadata": {
    "scrolled": true
   },
   "outputs": [
    {
     "data": {
      "text/plain": [
       "True"
      ]
     },
     "execution_count": 39,
     "metadata": {},
     "output_type": "execute_result"
    }
   ],
   "source": [
    "a = 5\n",
    "b = 7\n",
    "a<b"
   ]
  },
  {
   "cell_type": "code",
   "execution_count": 40,
   "metadata": {
    "scrolled": true
   },
   "outputs": [
    {
     "data": {
      "text/plain": [
       "False"
      ]
     },
     "execution_count": 40,
     "metadata": {},
     "output_type": "execute_result"
    }
   ],
   "source": [
    "mensaje='Muerte a Manuel'\n",
    "'manuel'in mensaje"
   ]
  },
  {
   "cell_type": "code",
   "execution_count": 41,
   "metadata": {},
   "outputs": [
    {
     "data": {
      "text/plain": [
       "True"
      ]
     },
     "execution_count": 41,
     "metadata": {},
     "output_type": "execute_result"
    }
   ],
   "source": [
    "## operaciones lógicas\n",
    "True and True"
   ]
  },
  {
   "cell_type": "code",
   "execution_count": null,
   "metadata": {},
   "outputs": [],
   "source": [
    "## operaciones lógicas\n",
    "False or False"
   ]
  },
  {
   "cell_type": "code",
   "execution_count": 43,
   "metadata": {},
   "outputs": [
    {
     "data": {
      "text/plain": [
       "True"
      ]
     },
     "execution_count": 43,
     "metadata": {},
     "output_type": "execute_result"
    }
   ],
   "source": [
    "## == Igual que; != Distinto de\n",
    "2 == 1 + 1"
   ]
  },
  {
   "cell_type": "code",
   "execution_count": 44,
   "metadata": {},
   "outputs": [
    {
     "data": {
      "text/plain": [
       "False"
      ]
     },
     "execution_count": 44,
     "metadata": {},
     "output_type": "execute_result"
    }
   ],
   "source": [
    "## == Igual que; != Distinto de\n",
    "6 / 2 != 3"
   ]
  },
  {
   "cell_type": "markdown",
   "metadata": {},
   "source": [
    "##### EJEMPLOS ADICIONALES:\n"
   ]
  },
  {
   "cell_type": "code",
   "execution_count": null,
   "metadata": {
    "scrolled": true
   },
   "outputs": [],
   "source": [
    "#calcular el monto que se obtendra al imponer un capital al 2.5% mensual durante 7 años\n",
    "capital = 1000\n",
    "resultado = (capital*30*7)/100\n",
    "\n",
    "print(\"Yo comence con $ \" + str(capital) + \" y ahora tengo $\" + str(resultado) + \" . Increíble\" )  # ahorro (float) ==> a string con str(ahorro)\n",
    "                                                                                                 # resultado (float) ==> a string con str(resultado)\n",
    "                                                                                                                                            "
   ]
  },
  {
   "cell_type": "code",
   "execution_count": null,
   "metadata": {
    "scrolled": true
   },
   "outputs": [],
   "source": [
    "pi_string = \"3.1415926\"\n",
    "pi_float = float(pi_string) #estamos convirtiendo a float pi_string\n",
    "print(pi_float)\n",
    "type(pi_float)\n",
    "type(pi_string)"
   ]
  },
  {
   "cell_type": "markdown",
   "metadata": {},
   "source": [
    "## Input _ Output\n",
    "+ La función input() permite obtener texto escrito por teclado\n",
    "+ Para presentar datos al usuario en la consola en Python con print()."
   ]
  },
  {
   "cell_type": "code",
   "execution_count": 45,
   "metadata": {
    "scrolled": false
   },
   "outputs": [
    {
     "name": "stdout",
     "output_type": "stream",
     "text": [
      "ingrese su nombre --> Renzo\n",
      "\n",
      " hola Renzo\n"
     ]
    }
   ],
   "source": [
    "# Por defecto python considera como string los datos ingresados mediante la funcion input()\n",
    "nombre=input(\"ingrese su nombre --> \")\n",
    "print(\"\\n hola\",nombre)"
   ]
  },
  {
   "cell_type": "code",
   "execution_count": 51,
   "metadata": {},
   "outputs": [
    {
     "name": "stdout",
     "output_type": "stream",
     "text": [
      "ingrese un numero --> 2\n",
      "\n",
      " el número es  2\n"
     ]
    }
   ],
   "source": [
    "# los datos ingresados INT y FLOAT\n",
    "numero=int(input(\"ingrese un numero --> \"))\n",
    "print(\"\\n el número es \",numero)"
   ]
  },
  {
   "cell_type": "code",
   "execution_count": 52,
   "metadata": {},
   "outputs": [
    {
     "name": "stdout",
     "output_type": "stream",
     "text": [
      "ingrese un numero --> 4\n",
      "\n",
      " el numero es  4.0\n"
     ]
    }
   ],
   "source": [
    "# los datos ingresados INT y FLOAT\n",
    "numero=float(input(\"ingrese un numero --> \"))\n",
    "print(\"\\n el numero es \",numero)"
   ]
  },
  {
   "cell_type": "code",
   "execution_count": 53,
   "metadata": {
    "scrolled": true
   },
   "outputs": [
    {
     "name": "stdout",
     "output_type": "stream",
     "text": [
      "hola LUCAS tienes 34 años\n",
      "hola LUCAS tienes 34 años\n",
      "hola LUCAS tienes 34 años\n"
     ]
    }
   ],
   "source": [
    "NOMBRE=\"LUCAS\"\n",
    "EDAD=\"34\"\n",
    "print(\"hola\",NOMBRE,\"tienes\",EDAD,\"años\")\n",
    "\n",
    "print(\"hola {} tienes {} años\".format(NOMBRE,EDAD))\n",
    "\n",
    "print(f\"hola {NOMBRE} tienes {EDAD} años\")"
   ]
  },
  {
   "cell_type": "code",
   "execution_count": 54,
   "metadata": {
    "scrolled": true
   },
   "outputs": [
    {
     "name": "stdout",
     "output_type": "stream",
     "text": [
      "ingrese su nombre --> renzo\n",
      "ingrese su edad --> 39\n",
      "hola renzo tienes 39 años\n"
     ]
    }
   ],
   "source": [
    "nombre1=input(\"ingrese su nombre --> \")\n",
    "edad=input(\"ingrese su edad --> \")\n",
    "print(f\"hola {nombre1} tienes {edad} años\")"
   ]
  },
  {
   "cell_type": "code",
   "execution_count": 59,
   "metadata": {
    "scrolled": true
   },
   "outputs": [
    {
     "name": "stdout",
     "output_type": "stream",
     "text": [
      "ingrese su nombre --> efrain\n",
      "ingrese su edad --> 11\n",
      "hola efrain tienes 16 años\n"
     ]
    }
   ],
   "source": [
    "nombre1=input(\"ingrese su nombre --> \")\n",
    "edad=int(input(\"ingrese su edad --> \"))\n",
    "print(f\"hola {nombre1} tienes {edad+5} años\")"
   ]
  },
  {
   "cell_type": "markdown",
   "metadata": {},
   "source": [
    "## 2. COLECCIONES\n",
    "+ LISTAS (mutable)\n",
    "+ TUPLAS (inmutanles)\n",
    "+ DICCIONARIOS (mutable)\n",
    "+ CONJUNTOS (mutable)"
   ]
  },
  {
   "cell_type": "markdown",
   "metadata": {},
   "source": [
    "** float - Números reales<br>\n",
    "**   int - Números enteros<br>\n",
    "**   str - Líneas o cadenas de texto<br>\n",
    "**  bool - True o False<br>"
   ]
  },
  {
   "cell_type": "markdown",
   "metadata": {},
   "source": [
    "### 2.1 LISTAS\n",
    "Una lista de Python se crea encerrando valores separados por comas y va encerrado  entre corchetes [ ]. Las entradas de una lista no tienen que ser del mismo tipo. El acceso a las entradas de una lista utiliza las mismas operaciones de indexación y división que se demostraron con las cadenas. Las listas es que son objetos mutables. Es decir, cuando reemplaza, cambia, agrega o quita algun elemento de la lista, cambia la única instancia de ese objeto en la memoria de la computadora. \n"
   ]
  },
  {
   "cell_type": "code",
   "execution_count": 60,
   "metadata": {
    "scrolled": true
   },
   "outputs": [
    {
     "name": "stdout",
     "output_type": "stream",
     "text": [
      "[30, 20, 50, 100]\n"
     ]
    }
   ],
   "source": [
    "# creamos la lista numero de habitantes en millones de  paises sudamericanos.\n",
    "pais = [30,20,50,100] \n",
    "print(pais)\n"
   ]
  },
  {
   "cell_type": "code",
   "execution_count": 63,
   "metadata": {
    "scrolled": true
   },
   "outputs": [
    {
     "name": "stdout",
     "output_type": "stream",
     "text": [
      "['Perú', 30, 'Chile', 20, 'Argentina', 50, 'Brasil', 1000000]\n"
     ]
    }
   ],
   "source": [
    "# Una lista puede contener números, cadenas, booleanos, ... y también listas\n",
    "pais_1 = [\"Perú\",30,\"Chile\",20,\"Argentina\",50,\"Brasil\",1000000]\n",
    "print(pais_1)"
   ]
  },
  {
   "cell_type": "code",
   "execution_count": null,
   "metadata": {
    "scrolled": true
   },
   "outputs": [],
   "source": [
    "# Una lista puede contener números, cadenas, booleanos, ... y también listas\n",
    "pais_2 = [\"Perú\",30,\"Chile\",20,[\"Argentina\",50],[\"Brasil\",100]]\n",
    "print(pais_2)"
   ]
  },
  {
   "cell_type": "markdown",
   "metadata": {},
   "source": [
    "### Subsetting lists ( indice de las listas )\n",
    "##### cada elemento de una lista esta determinado por un indice"
   ]
  },
  {
   "cell_type": "code",
   "execution_count": 64,
   "metadata": {
    "scrolled": true
   },
   "outputs": [
    {
     "name": "stdout",
     "output_type": "stream",
     "text": [
      "['Perú', 30, 'Chile', 20, 'Argentina', 50, 'Brasil', 100]\n"
     ]
    }
   ],
   "source": [
    "#creando una lista\n",
    "pais_1 = [\"Perú\",30,\"Chile\",20,\"Argentina\",50,\"Brasil\",100]\n",
    "print(pais_1)"
   ]
  },
  {
   "cell_type": "code",
   "execution_count": 65,
   "metadata": {
    "scrolled": true
   },
   "outputs": [
    {
     "name": "stdout",
     "output_type": "stream",
     "text": [
      "Perú\n"
     ]
    }
   ],
   "source": [
    "#Acceder a un elemento de una lista\n",
    "pais_3 = [\"Perú\",30,\"Chile\",20,[\"Argentina\",50],[\"Brasil\",100]]\n",
    "print(pais_3[0])\n",
    "\n"
   ]
  },
  {
   "cell_type": "code",
   "execution_count": 66,
   "metadata": {},
   "outputs": [
    {
     "name": "stdout",
     "output_type": "stream",
     "text": [
      "Argentina\n"
     ]
    }
   ],
   "source": [
    "#Acceder a un elemento de una lista incluida dentro de otra\n",
    "pais_3 = [\"Perú\",30,\"Chile\",20,[\"Argentina\",50],[\"Brasil\",100]]\n",
    "\n",
    "print(pais_3[4][0])"
   ]
  },
  {
   "cell_type": "code",
   "execution_count": null,
   "metadata": {
    "scrolled": true
   },
   "outputs": [],
   "source": [
    "pais_3[5][1]\n"
   ]
  },
  {
   "cell_type": "code",
   "execution_count": 69,
   "metadata": {
    "scrolled": true
   },
   "outputs": [
    {
     "data": {
      "text/plain": [
       "'Chile'"
      ]
     },
     "execution_count": 69,
     "metadata": {},
     "output_type": "execute_result"
    }
   ],
   "source": [
    "pais_3 = [\"Perú\",30,\"Chile\",20,[\"Argentina\",50],[\"Brasil\",100]]\n",
    "pais_3[2]"
   ]
  },
  {
   "cell_type": "code",
   "execution_count": null,
   "metadata": {
    "scrolled": true
   },
   "outputs": [],
   "source": [
    "#indice negativo: contar desde el final\n",
    "pais_3 = [\"Perú\",30,\"Chile\",20,[\"Argentina\",50],[\"Brasil\",100]]\n",
    "pais_3[-1]"
   ]
  },
  {
   "cell_type": "code",
   "execution_count": null,
   "metadata": {
    "scrolled": true
   },
   "outputs": [],
   "source": [
    "#los indices de una lista empieza desde el cero.\n",
    "pais_3 = [\"Perú\",30,\"Chile\",20,[\"Argentina\",50],[\"Brasil\",100]]\n",
    "pais_3[0]"
   ]
  },
  {
   "cell_type": "markdown",
   "metadata": {},
   "source": [
    "### List Slicing ( Rebanado/Particionado )\n",
    "*Permite selecionar múltiples elementos de una lista, creando asi una nueva lista.* <br>\n",
    "*(inicio:fin) Python interpretará que queremos una lista que vaya desde la posición inicio a la posición fin, sin incluir este último.<br>\n",
    "*Si escribimos tres números (inicio:fin:salto) en lugar de dos, el tercero se utiliza para determinar \"cada cuantas posiciones añadir un elemento a la lista.\n",
    "#### (incluye: no incluye )"
   ]
  },
  {
   "cell_type": "code",
   "execution_count": 70,
   "metadata": {
    "scrolled": true
   },
   "outputs": [
    {
     "name": "stdout",
     "output_type": "stream",
     "text": [
      "['Perú', 30, 'Chile', 20, 'Argentina', 50, 'Brasil', 100]\n"
     ]
    }
   ],
   "source": [
    "#Dado la lista:\n",
    "pais_1 = [\"Perú\",30,\"Chile\",20,\"Argentina\",50,\"Brasil\",100]\n",
    "print(pais_1)"
   ]
  },
  {
   "cell_type": "code",
   "execution_count": 71,
   "metadata": {
    "scrolled": true
   },
   "outputs": [
    {
     "data": {
      "text/plain": [
       "[20, 'Argentina']"
      ]
     },
     "execution_count": 71,
     "metadata": {},
     "output_type": "execute_result"
    }
   ],
   "source": [
    "pais_1[3:5]     # estamos seleccionando los elementos de indice 3 y 4 \n",
    "                # pais_1[3:5]  el indice 5 es el limite\n",
    "                # [inicio:final]\n",
    "                # [ incluye: no incluye ]   "
   ]
  },
  {
   "cell_type": "code",
   "execution_count": 74,
   "metadata": {
    "scrolled": true
   },
   "outputs": [
    {
     "data": {
      "text/plain": [
       "[30, 'Chile', 20, 'Argentina', 50]"
      ]
     },
     "execution_count": 74,
     "metadata": {},
     "output_type": "execute_result"
    }
   ],
   "source": [
    "#¿Que elementos de la lista estamos seleccionando?\n",
    "pais_1 = [\"Perú\",30,\"Chile\",20,\"Argentina\",50,\"Brasil\",100]\n",
    "pais_1[1:-2]"
   ]
  },
  {
   "cell_type": "code",
   "execution_count": null,
   "metadata": {
    "scrolled": true
   },
   "outputs": [],
   "source": [
    "# si no se considera el primer elemento se considera por defecto el indice cero\n",
    "pais_1 = [\"Perú\",30,\"Chile\",20,\"Argentina\",50,\"Brasil\",100]\n",
    "pais_1[:7]"
   ]
  },
  {
   "cell_type": "code",
   "execution_count": null,
   "metadata": {
    "scrolled": true
   },
   "outputs": [],
   "source": [
    "# el negativo indica los indices a no conciderar a partir del último\n",
    "pais_1 = [\"Perú\",30,\"Chile\",20,\"Argentina\",50,\"Brasil\",100]\n",
    "pais_1[:-2]"
   ]
  },
  {
   "cell_type": "code",
   "execution_count": null,
   "metadata": {
    "scrolled": true
   },
   "outputs": [],
   "source": [
    "#considera solo los dos ultimos indices\n",
    "pais_1 = [\"Perú\",30,\"Chile\",20,\"Argentina\",50,\"Brasil\",100]\n",
    "pais_1[-2:]"
   ]
  },
  {
   "cell_type": "code",
   "execution_count": null,
   "metadata": {
    "scrolled": true
   },
   "outputs": [],
   "source": [
    "#¿Que elementos de la lista estamos seleccionando?\n",
    "pais_1 = [\"Perú\",30,\"Chile\",20,\"Argentina\",50,\"Brasil\",100]\n",
    "pais_1[4:]"
   ]
  },
  {
   "cell_type": "code",
   "execution_count": null,
   "metadata": {
    "scrolled": true
   },
   "outputs": [],
   "source": [
    "#¿Que elementos de la lista estamos seleccionando?\n",
    "pais_1 = [\"Perú\",30,\"Chile\",20,\"Argentina\",50,\"Brasil\",100]\n",
    "pais_1[3:]"
   ]
  },
  {
   "cell_type": "markdown",
   "metadata": {},
   "source": [
    "### Manipulación de Listas\n",
    "*Formas de cambiar elementos de una lista,agregar elementos y eliminar elementos de una lista.*"
   ]
  },
  {
   "cell_type": "code",
   "execution_count": null,
   "metadata": {
    "scrolled": true
   },
   "outputs": [],
   "source": [
    "pais_1 = [\"Perú\",30,\"Chile\",20,\"Argentina\",50,\"Brasil\",100]\n",
    "print(pais_1)"
   ]
  },
  {
   "cell_type": "code",
   "execution_count": 75,
   "metadata": {
    "scrolled": true
   },
   "outputs": [
    {
     "name": "stdout",
     "output_type": "stream",
     "text": [
      "['Alemania', 30, 'Chile', 20, 'Argentina', 50, 'Brasil', 100]\n"
     ]
    }
   ],
   "source": [
    "#modificar un objeto de la lista\n",
    "pais_1[0]=\"Alemania\"\n",
    "print(pais_1)"
   ]
  },
  {
   "cell_type": "code",
   "execution_count": 78,
   "metadata": {
    "scrolled": true
   },
   "outputs": [
    {
     "data": {
      "text/plain": [
       "[0, 1, [1, 2]]"
      ]
     },
     "execution_count": 78,
     "metadata": {},
     "output_type": "execute_result"
    }
   ],
   "source": [
    "#modificar el tamaño de la lista y los elementos\n",
    "l= [99, True, \"una lista\", [1, 2]]\n",
    "l[0:3] = [0, 1]\n",
    "l"
   ]
  },
  {
   "cell_type": "markdown",
   "metadata": {},
   "source": [
    "##### append:\n",
    "*Es un metodo que permite agregar un elemento (u otra lista) a una lista*"
   ]
  },
  {
   "cell_type": "code",
   "execution_count": null,
   "metadata": {
    "scrolled": true
   },
   "outputs": [],
   "source": [
    "#agregamos un objeto a la lista venezuela\n",
    "pais_1=['Perú', 33, 'Chile', 20, 'Argentina', 50, 'Brasil', 100]\n",
    "pais_1.append(\"Venezuela\")\n",
    "print(pais_1)"
   ]
  },
  {
   "cell_type": "code",
   "execution_count": null,
   "metadata": {
    "scrolled": false
   },
   "outputs": [],
   "source": [
    "#agregamos una lista \n",
    "pais_1=['Perú', 33, 'Chile', 20, 'Argentina', 50, 'Brasil', 100]\n",
    "pais_1.append([\"Venezuela\",60])\n",
    "print(pais_1)"
   ]
  },
  {
   "cell_type": "markdown",
   "metadata": {},
   "source": [
    "##### insert:\n",
    "*Es un método que permite agregar un elemento en una determinada posicion en una lista (x,y) donde \"x\" es la posición y \"y\" el elemento a agregar.*"
   ]
  },
  {
   "cell_type": "code",
   "execution_count": 79,
   "metadata": {
    "scrolled": false
   },
   "outputs": [
    {
     "name": "stdout",
     "output_type": "stream",
     "text": [
      "['Perú', 33, 'Chile', 20, 'Argentina', 50, 'Brasil', 100, 'Venezuela']\n"
     ]
    }
   ],
   "source": [
    "# Agregamos venezuela en la posición de indice 8.\n",
    "pais_1=['Perú', 33, 'Chile', 20, 'Argentina', 50, 'Brasil', 100]\n",
    "pais_1.insert(8,\"Venezuela\")\n",
    "print(pais_1)"
   ]
  },
  {
   "cell_type": "code",
   "execution_count": null,
   "metadata": {
    "scrolled": false
   },
   "outputs": [],
   "source": [
    "# Agregamos venezuela en la posición de indice 8.\n",
    "pais_1=['Perú', 33, 'Chile', 20, 'Argentina', 50, 'Brasil', 100,\"Venezuela\"]\n",
    "pais_1.insert(9,60)\n",
    "print(pais_1)"
   ]
  },
  {
   "cell_type": "code",
   "execution_count": null,
   "metadata": {
    "scrolled": false
   },
   "outputs": [],
   "source": [
    "# Agregamos venezuela en la posición de indice negativo.\n",
    "pais_1=['Perú', 33, 'Chile', 20, 'Argentina', 50, 'Brasil', 100,\"Venezuela\"]\n",
    "pais_1.insert(-2,60)\n",
    "print(pais_1)"
   ]
  },
  {
   "cell_type": "markdown",
   "metadata": {},
   "source": [
    "##### Remove:\n",
    "*Es un método que nos permite remover un elemento ya existente de una lista.*"
   ]
  },
  {
   "cell_type": "code",
   "execution_count": 81,
   "metadata": {
    "scrolled": true
   },
   "outputs": [
    {
     "name": "stdout",
     "output_type": "stream",
     "text": [
      "['Perú', 33, 'Chile', 20, 'Argentina', 50, 'Brasil', 100, 'Venezuela']\n"
     ]
    }
   ],
   "source": [
    "pais_1=['Perú', 33, 'Chile', 20, 60,'Argentina', 50, 'Brasil', 100,\"Venezuela\",60]\n",
    "pais_1.remove(60)\n",
    "print(pais_1)"
   ]
  },
  {
   "cell_type": "code",
   "execution_count": 80,
   "metadata": {
    "scrolled": false
   },
   "outputs": [
    {
     "name": "stdout",
     "output_type": "stream",
     "text": [
      "['Perú', 33, 'Chile', 20, 'Argentina', 50, 'Brasil', 100]\n"
     ]
    }
   ],
   "source": [
    "pais_1=['Perú', 33, 'Chile', 20, 'Argentina', 50, 'Brasil', 100,\"Venezuela\"]\n",
    "pais_1.remove(\"Venezuela\")\n",
    "print(pais_1)"
   ]
  },
  {
   "cell_type": "markdown",
   "metadata": {},
   "source": [
    "##### Pop:\n",
    "*El método .pop (x) eliminará y devolverá el x-ésimo elemento de una lista. "
   ]
  },
  {
   "cell_type": "code",
   "execution_count": 82,
   "metadata": {
    "scrolled": false
   },
   "outputs": [
    {
     "name": "stdout",
     "output_type": "stream",
     "text": [
      "40\n",
      "[10, 20, 30, 50]\n"
     ]
    }
   ],
   "source": [
    "#Eliminando objeto de indice 3\n",
    "num_list = [10, 20, 30, 40, 50]\n",
    "print(num_list.pop(3))\n",
    "print(num_list)"
   ]
  },
  {
   "cell_type": "code",
   "execution_count": null,
   "metadata": {},
   "outputs": [],
   "source": [
    "#Si deja el argumento en blanco, da el último elemento de la lista.*\n",
    "num_list = [10, 20, 30, 40, 50]\n",
    "print(num_list.pop())\n",
    "num_list"
   ]
  },
  {
   "cell_type": "markdown",
   "metadata": {},
   "source": [
    "##### Del:\n",
    "El método Del elimina el objeto del indice indicado"
   ]
  },
  {
   "cell_type": "code",
   "execution_count": 85,
   "metadata": {
    "scrolled": true
   },
   "outputs": [
    {
     "name": "stdout",
     "output_type": "stream",
     "text": [
      "[10, 20, 30, 50]\n"
     ]
    }
   ],
   "source": [
    "pais_3 = [10, 20, 30, 40, 50]\n",
    "del(pais_3[3])\n",
    "print(pais_3)"
   ]
  },
  {
   "cell_type": "code",
   "execution_count": null,
   "metadata": {
    "scrolled": true
   },
   "outputs": [],
   "source": [
    "pais_3 = [10, 20, 30, 40, 50]\n",
    "del(pais_3[2])\n",
    "print(pais_3)"
   ]
  },
  {
   "cell_type": "code",
   "execution_count": null,
   "metadata": {
    "scrolled": true
   },
   "outputs": [],
   "source": [
    "# se puede cambiar el objeto de una lista\n",
    "pais_1=['Perú', 30, 'Chile', 20, 'Argentina', 50, 'Brasil', 100]\n",
    "pais_1"
   ]
  },
  {
   "cell_type": "code",
   "execution_count": null,
   "metadata": {
    "scrolled": true
   },
   "outputs": [],
   "source": [
    "# Cambiando objeto de la índice 1 \n",
    "pais_1[1] = 33   \n",
    "print(pais_1)"
   ]
  },
  {
   "cell_type": "code",
   "execution_count": null,
   "metadata": {
    "scrolled": true
   },
   "outputs": [],
   "source": [
    "# Cambiando el objeto  de la posición 3\n",
    "pais_1[3] = 22\n",
    "print(pais_1)"
   ]
  },
  {
   "cell_type": "code",
   "execution_count": null,
   "metadata": {
    "scrolled": true
   },
   "outputs": [],
   "source": [
    "# Cambiando el objeto de la posición 4\n",
    "pais_1[4] = \"Argentina\"\n",
    "print(pais_1)"
   ]
  },
  {
   "cell_type": "markdown",
   "metadata": {},
   "source": [
    "### 2.1 TUPLAS ( tuple)\n",
    "Una tupla de Python  se crea encerrando valores separados por comas entre paréntesis (). Las entradas de una tupla no tienen que ser del mismo tipo. Una tupla tiene menos operaciones integradas que una lista. Además, la tupla es un objeto inmutable en el sentido de que no se puede cambiar después de la asignación. Cualquier operación que se comporte como si estuviera cambiando la tupla en realidad está haciendo copias de la tupla con los cambios. Para acceder a las entradas de una tupla, se utilizan las mismas operaciones de indexación y división que se demostraron con listas y cadenas.\n",
    "La inmutabilidad de la tupla la convierte en el objeto ideal para pasar argumentos a funciones y devolver objetos de funciones. Una tupla puede ser una colección de cualquier objeto. Puede ser una colección de listas, dictados, Series o DataFrames."
   ]
  },
  {
   "cell_type": "code",
   "execution_count": null,
   "metadata": {
    "scrolled": true
   },
   "outputs": [],
   "source": [
    "#definiendo tupla\n",
    "tupla = ()\n",
    "print(tupla)"
   ]
  },
  {
   "cell_type": "code",
   "execution_count": null,
   "metadata": {},
   "outputs": [],
   "source": [
    "tupla1=1,2,3\n",
    "print(tupla1)\n",
    "type(tupla1)"
   ]
  },
  {
   "cell_type": "code",
   "execution_count": null,
   "metadata": {
    "scrolled": true
   },
   "outputs": [],
   "source": [
    "tupla = (5,\"hola\",6.45,[1,2,3],26)\n",
    "tupla"
   ]
  },
  {
   "cell_type": "code",
   "execution_count": null,
   "metadata": {
    "scrolled": true
   },
   "outputs": [],
   "source": [
    " # Con el metodo .index() podemos indicar la posicion del elemento en la tupla\n",
    "tupla = (5,\"hola\",6.45,[1,2,3],26)\n",
    "print(tupla.index(26))    \n"
   ]
  },
  {
   "cell_type": "code",
   "execution_count": null,
   "metadata": {},
   "outputs": [],
   "source": [
    "#¿Que elementos de la tupla estamos seleccionando?\n",
    "tupla = (5,\"hola\",6.45,[1,2,3],26)\n",
    "tupla[2]"
   ]
  },
  {
   "cell_type": "code",
   "execution_count": null,
   "metadata": {
    "scrolled": true
   },
   "outputs": [],
   "source": [
    "print(tupla.index(\"hola\"))"
   ]
  },
  {
   "cell_type": "code",
   "execution_count": null,
   "metadata": {
    "scrolled": true
   },
   "outputs": [],
   "source": [
    " # Convierte una tupla en una lista\n",
    "tupla = (5,\"hola\",6.45,[1,2,3],26)\n",
    "lista = list(tupla)       \n",
    "print(lista)"
   ]
  },
  {
   "cell_type": "code",
   "execution_count": null,
   "metadata": {
    "scrolled": true
   },
   "outputs": [],
   "source": [
    "# Convierte una lista en tupla\n",
    "tupla = tuple(lista)\n",
    "print(tupla)            "
   ]
  },
  {
   "cell_type": "markdown",
   "metadata": {},
   "source": [
    "### 2.3 DICCIONARIOS\n"
   ]
  },
  {
   "cell_type": "markdown",
   "metadata": {},
   "source": [
    "Son un tipo de estructuras de datos que permite guardar un conjunto no ordenado de pares clave-valor, siendo las claves únicas dentro de un mismo diccionario;es decir, que no pueden existir 2 elementos con una misma clave.Para la creacion de un diccionario necesitara de llaves { }."
   ]
  },
  {
   "cell_type": "code",
   "execution_count": null,
   "metadata": {
    "scrolled": true
   },
   "outputs": [],
   "source": [
    "# clave => nombre del pais\n",
    "# valor => poblacion del pais\n",
    "\n",
    "paises = {\"Colombia\":45, \"Chile\":22, \"Argentina\":50, \"Brasil\":100, \"Perú\":30 }                                                                                \n",
    "print(paises)\n"
   ]
  },
  {
   "cell_type": "code",
   "execution_count": null,
   "metadata": {
    "scrolled": true
   },
   "outputs": [],
   "source": [
    "#La clave abre la puerta al valor\n",
    "paises[\"Colombia\"]                        "
   ]
  },
  {
   "cell_type": "code",
   "execution_count": null,
   "metadata": {
    "scrolled": true
   },
   "outputs": [],
   "source": [
    "#La clave abre la puerta al valor\n",
    "paises[\"Perú\"]\n"
   ]
  },
  {
   "cell_type": "code",
   "execution_count": 88,
   "metadata": {
    "scrolled": false
   },
   "outputs": [
    {
     "name": "stdout",
     "output_type": "stream",
     "text": [
      "{'Colombia': 45, 'Chile': 22, 'Argentina': 50, 'Brasil': 100, 'Perú': 30, 'Paraguay': 7}\n"
     ]
    }
   ],
   "source": [
    "# agregamos elementos al diccionario\n",
    "paises = {\"Colombia\":45, \"Chile\":22, \"Argentina\":50, \"Brasil\":100, \"Perú\":30 }    \n",
    "\n",
    "paises[\"Paraguay\"] = 7                    \n",
    "print(paises)"
   ]
  },
  {
   "cell_type": "code",
   "execution_count": 89,
   "metadata": {
    "scrolled": false
   },
   "outputs": [
    {
     "data": {
      "text/plain": [
       "True"
      ]
     },
     "execution_count": 89,
     "metadata": {},
     "output_type": "execute_result"
    }
   ],
   "source": [
    " # Nos dará como resultado True si la clave se encuentra en paises\n",
    "\"Paraguay\" in paises                    "
   ]
  },
  {
   "cell_type": "code",
   "execution_count": null,
   "metadata": {
    "scrolled": true
   },
   "outputs": [],
   "source": [
    "# Nos dará como resultado False si la clave no se encuentra en paises\n",
    "\"Ecuador\" in paises                      "
   ]
  },
  {
   "cell_type": "code",
   "execution_count": null,
   "metadata": {
    "scrolled": true
   },
   "outputs": [],
   "source": [
    " # elminamos la clave con el metodo del();y al elimnar la clave también se elimina su valor\n",
    "    \n",
    "paises = {\"Colombia\":45, \"Chile\":22, \"Argentina\":50, \"Brasil\":100, \"Perú\":30 }\n",
    "print(id(paises))\n",
    "del(paises[\"Colombia\"])                \n",
    "\n",
    "print(id(paises))\n",
    "paises"
   ]
  },
  {
   "cell_type": "code",
   "execution_count": null,
   "metadata": {
    "scrolled": true
   },
   "outputs": [],
   "source": [
    "paises = {\"Colombia\":45, \"Chile\":22, \"Argentina\":50, \"Brasil\":100, \"Perú\":30 }\n",
    "print(id(paises))\n",
    "paises.pop(\"Colombia\")\n",
    "print(paises_2)"
   ]
  },
  {
   "cell_type": "code",
   "execution_count": null,
   "metadata": {},
   "outputs": [],
   "source": [
    "paises"
   ]
  },
  {
   "cell_type": "markdown",
   "metadata": {},
   "source": [
    "##### También podemos cambiar los valores de nuestros claves "
   ]
  },
  {
   "cell_type": "code",
   "execution_count": null,
   "metadata": {
    "scrolled": true
   },
   "outputs": [],
   "source": [
    "paises = {\"Colombia\":45, \"Chile\":22, \"Argentina\":50, \"Brasil\":100, \"Perú\":30 } # poblacion en millones\n",
    "paises[\"Perú\"] = 33\n",
    "print(paises)"
   ]
  },
  {
   "cell_type": "code",
   "execution_count": null,
   "metadata": {
    "scrolled": true
   },
   "outputs": [],
   "source": [
    "paises = {\"Colombia\":45, \"Chile\":22, \"Argentina\":50, \"Brasil\":100, \"Perú\":30 } \n",
    "paises[\"Brasil\"] = 110 \n",
    "print(paises)"
   ]
  },
  {
   "cell_type": "code",
   "execution_count": null,
   "metadata": {
    "scrolled": true
   },
   "outputs": [],
   "source": [
    "# con el metodo .keys() nos muestra solo las claves del dicicionario paises \n",
    "paises = {\"Colombia\":45, \"Chile\":22, \"Argentina\":50, \"Brasil\":100, \"Perú\":30 } \n",
    "print(paises.keys())                         "
   ]
  },
  {
   "cell_type": "code",
   "execution_count": null,
   "metadata": {
    "scrolled": true
   },
   "outputs": [],
   "source": [
    "# con el metodo .values() nos muestra solo los valores del dicicionario paises \n",
    "paises = {\"Colombia\":45, \"Chile\":22, \"Argentina\":50, \"Brasil\":100, \"Perú\":30 } \n",
    "print(paises.values())                      "
   ]
  },
  {
   "cell_type": "code",
   "execution_count": null,
   "metadata": {
    "scrolled": true
   },
   "outputs": [],
   "source": [
    " # con el metodo .itmes() nos muestra los elementos dentro de tuplas \n",
    "paises = {\"Colombia\":45, \"Chile\":22, \"Argentina\":50, \"Brasil\":100, \"Perú\":30 } \n",
    "print(paises.items())            "
   ]
  },
  {
   "cell_type": "markdown",
   "metadata": {},
   "source": [
    "### 2.4 CONJUNTOS (set)"
   ]
  },
  {
   "cell_type": "markdown",
   "metadata": {},
   "source": [
    "\n",
    "Un conjunto de Python es una colección desordenada de objetos distintos. Los objetos se pueden agregar o eliminar de un conjunto después de su creación (mutable).Se iniciliza un conjunto con llaves { }, separando los valores por comas, o puede usar set () para crear un conjunto vacío.No puede haber valores duplicados."
   ]
  },
  {
   "cell_type": "code",
   "execution_count": null,
   "metadata": {
    "scrolled": true
   },
   "outputs": [],
   "source": [
    "# Definimos un conjunto con {}\n",
    "conjunto = {}\n",
    "print(conjunto)"
   ]
  },
  {
   "cell_type": "code",
   "execution_count": null,
   "metadata": {
    "scrolled": true
   },
   "outputs": [],
   "source": [
    "#Definimos el conjunto mediante Set\n",
    "set = {1}\n",
    "print(set)"
   ]
  },
  {
   "cell_type": "code",
   "execution_count": null,
   "metadata": {
    "scrolled": true
   },
   "outputs": [],
   "source": [
    "# Define conjunto a partir de una lista\n",
    "lista = ['vino', 'cerveza', 'agua', 'vino'] \n",
    "bebidas = set(lista)  \n",
    "bebidas"
   ]
  },
  {
   "cell_type": "code",
   "execution_count": null,
   "metadata": {
    "scrolled": true
   },
   "outputs": [],
   "source": [
    "# Adicionar elementos a un conjunto\n",
    "set={1,2,3,\"hola\",4.56}\n",
    "set.add(5)\n",
    "print(set)"
   ]
  },
  {
   "cell_type": "code",
   "execution_count": null,
   "metadata": {
    "scrolled": true
   },
   "outputs": [],
   "source": [
    "# Eliminar elementos\n",
    "set={2,3,\"hola\",\"toño\", \"zaira\",\"tula\",\"tula\",\"tula\",True,False,0} \n",
    "#set.discard(2)\n",
    "print(set)"
   ]
  },
  {
   "cell_type": "code",
   "execution_count": null,
   "metadata": {
    "scrolled": true
   },
   "outputs": [],
   "source": [
    "# borrar todos los elelemtos\n",
    "set_1={1, 2, 3, 4.56, 5, 'hola'}\n",
    "set_1.clear()\n",
    "print(set_1)"
   ]
  },
  {
   "cell_type": "code",
   "execution_count": null,
   "metadata": {
    "scrolled": true
   },
   "outputs": [],
   "source": [
    "# validar si un elemento petenence a un conjunto  \"in\"\n",
    "set_1={1, 2, 3, 4.56, 5, 'hola'}\n",
    "1 not in set_1"
   ]
  },
  {
   "cell_type": "code",
   "execution_count": null,
   "metadata": {
    "scrolled": true
   },
   "outputs": [],
   "source": [
    "set_1={1, 2, 3, 4.56, 5, 'hola'}\n",
    "print(16 in set_1)"
   ]
  },
  {
   "cell_type": "code",
   "execution_count": null,
   "metadata": {
    "scrolled": true
   },
   "outputs": [],
   "source": [
    "set_2={1, 2, 3, 4.56, 5, 'hola',True}\n",
    "print(len(set_2))"
   ]
  },
  {
   "cell_type": "code",
   "execution_count": null,
   "metadata": {
    "scrolled": true
   },
   "outputs": [],
   "source": [
    "# unión de conjuntos\n",
    "a={1,2,3,4,5}\n",
    "b={3,4,5,9,10}\n",
    "c = a | b\n",
    "print(c)"
   ]
  },
  {
   "cell_type": "code",
   "execution_count": null,
   "metadata": {
    "scrolled": true
   },
   "outputs": [],
   "source": [
    "# segunda forma de deducir la unión de conjuntos\n",
    "fam_1= {'Doe, John', 'Doe, John', 'Smith, Jane', 'Brown, Bob'}\n",
    "fam_1.union({'Brown, Bob', 'Smith, Jane', 'Jones, William'})"
   ]
  },
  {
   "cell_type": "code",
   "execution_count": null,
   "metadata": {
    "scrolled": true
   },
   "outputs": [],
   "source": [
    "# intersección de conjuntos\n",
    "a={1,2,3,4,5}\n",
    "b={3,4,5,9,10}\n",
    "c = a & b\n",
    "print(c)"
   ]
  },
  {
   "cell_type": "code",
   "execution_count": null,
   "metadata": {
    "scrolled": true
   },
   "outputs": [],
   "source": [
    "# segunda forma de deducir la intersección de conjuntos\n",
    "fam_1= {'Doe, John', 'Doe, John', 'Smith, Jane', 'Brown, Bob'}\n",
    "fam_1.intersection({'Brown, Bob', 'Smith, Jane', 'Jones, William'})"
   ]
  },
  {
   "cell_type": "code",
   "execution_count": null,
   "metadata": {
    "scrolled": true
   },
   "outputs": [],
   "source": [
    "# diferencia de conjuntos\n",
    "a={1,2,3,4,5}\n",
    "b={3,4,5,9,10}\n",
    "c = a - b\n",
    "print(c)"
   ]
  },
  {
   "cell_type": "code",
   "execution_count": null,
   "metadata": {
    "scrolled": true
   },
   "outputs": [],
   "source": [
    "# direfencia simetrica de conjuntos\n",
    "a={1,2,3,4,5}\n",
    "b={3,4,5,9,10}\n",
    "c = a ^ b \n",
    "print(c)"
   ]
  },
  {
   "cell_type": "markdown",
   "metadata": {},
   "source": [
    "<img src=\"imagenes/gracias.png\" alt=\"REPO\" width=\"500\" title = \"REPO\"/>"
   ]
  },
  {
   "cell_type": "markdown",
   "metadata": {},
   "source": [
    "<img src=\"imagenes/seguir.jpg\" alt=\"REPO\" width=\"300\" title = \"REPO\"/>\n",
    "\n",
    "## Variables, objetos mutables y objetos inmutables\n",
    "En Python se tiene objetos:\n",
    "- Inmutables (no se pueden modificar. Por ejemplo, los números, las cadenas y las tuplas)  \n",
    "- Mutables (se pueden modificar. Por ejemplo, las listas y diccionarios)\n"
   ]
  },
  {
   "cell_type": "code",
   "execution_count": null,
   "metadata": {},
   "outputs": [],
   "source": [
    "#ojo con lo que viene!!!!!!!\n",
    "x=15\n",
    "y=x"
   ]
  },
  {
   "cell_type": "code",
   "execution_count": null,
   "metadata": {},
   "outputs": [],
   "source": [
    "#¿Cuánto vale y?\n",
    "y"
   ]
  },
  {
   "cell_type": "code",
   "execution_count": null,
   "metadata": {},
   "outputs": [],
   "source": [
    "#modifiquemos x\n",
    "x=20"
   ]
  },
  {
   "cell_type": "code",
   "execution_count": null,
   "metadata": {},
   "outputs": [],
   "source": [
    "# ¿Cuánto vale ahora y?\n",
    "y"
   ]
  },
  {
   "cell_type": "code",
   "execution_count": null,
   "metadata": {},
   "outputs": [],
   "source": [
    "# veamos ahora cuando x es una lista \n",
    "x=[1,2,3,4]\n",
    "y=x"
   ]
  },
  {
   "cell_type": "code",
   "execution_count": null,
   "metadata": {},
   "outputs": [],
   "source": [
    "# ¿cuánto vale y?\n",
    "y"
   ]
  },
  {
   "cell_type": "code",
   "execution_count": null,
   "metadata": {},
   "outputs": [],
   "source": [
    "# modifiquemos la lista x\n",
    "x[0]=9"
   ]
  },
  {
   "cell_type": "code",
   "execution_count": null,
   "metadata": {},
   "outputs": [],
   "source": [
    "# cómo queda la lista x\n",
    "x"
   ]
  },
  {
   "cell_type": "code",
   "execution_count": null,
   "metadata": {},
   "outputs": [],
   "source": [
    "#cuánto vale y?\n",
    "y"
   ]
  },
  {
   "cell_type": "markdown",
   "metadata": {},
   "source": [
    "ohhh...!! con la lógica anterior, x e y son  variables diferentes, por lo que se espera es que el valor de y fuera [1, 2, 3, 4]"
   ]
  },
  {
   "cell_type": "code",
   "execution_count": null,
   "metadata": {},
   "outputs": [],
   "source": [
    "# veamos que esta pasando.\n",
    "# Para resolver el misterio hace falta un una nueva pieza clave: \n",
    "# el concepto de referencia (id).\n",
    "x=15 # Se acaba de crear uno nuevo objeto: un número de valor 15.\n"
   ]
  },
  {
   "cell_type": "code",
   "execution_count": null,
   "metadata": {},
   "outputs": [],
   "source": [
    "# Identificador de 5\n",
    "id(15)"
   ]
  },
  {
   "cell_type": "code",
   "execution_count": null,
   "metadata": {},
   "outputs": [],
   "source": [
    "# Identificador de x\n",
    "# La variable x no es más que una referencia a ese objeto\n",
    "id(x)"
   ]
  },
  {
   "cell_type": "code",
   "execution_count": null,
   "metadata": {},
   "outputs": [],
   "source": [
    "# asignamos a la variable y el valor de x\n",
    "y=x"
   ]
  },
  {
   "cell_type": "code",
   "execution_count": null,
   "metadata": {},
   "outputs": [],
   "source": [
    "print(y)\n",
    "print(id(y))"
   ]
  },
  {
   "cell_type": "code",
   "execution_count": null,
   "metadata": {},
   "outputs": [],
   "source": [
    "# Modifiquemos x\n",
    "x=20"
   ]
  },
  {
   "cell_type": "code",
   "execution_count": null,
   "metadata": {},
   "outputs": [],
   "source": [
    "id(x)"
   ]
  },
  {
   "cell_type": "markdown",
   "metadata": {},
   "source": [
    "Resumen\n",
    "+ x=15\n",
    "+ y=x\n",
    "+ x=20\n",
    "\n",
    "### ¿Cuánto vale y?\n",
    "### ¿Cuál es el id de y?\n"
   ]
  },
  {
   "cell_type": "code",
   "execution_count": null,
   "metadata": {},
   "outputs": [],
   "source": [
    "print(y)\n",
    "print(id(y))"
   ]
  },
  {
   "cell_type": "code",
   "execution_count": null,
   "metadata": {},
   "outputs": [],
   "source": [
    "# ¿ Qué sucede cuando x es una lista?\n",
    "x=[1,2,3,4]"
   ]
  },
  {
   "cell_type": "code",
   "execution_count": null,
   "metadata": {},
   "outputs": [],
   "source": [
    "# asignamos a la variable y el valor de x\n",
    "y=x"
   ]
  },
  {
   "cell_type": "code",
   "execution_count": null,
   "metadata": {},
   "outputs": [],
   "source": [
    "# cómo es y?\n",
    "y"
   ]
  },
  {
   "cell_type": "code",
   "execution_count": null,
   "metadata": {},
   "outputs": [],
   "source": [
    "# los id de x, y\n",
    "print(id(x))\n",
    "print(id(y))"
   ]
  },
  {
   "cell_type": "code",
   "execution_count": null,
   "metadata": {},
   "outputs": [],
   "source": [
    "#Si ahora modificamos directamente el objeto (al ser mutable, podemos hacerlo)\n",
    "x[0]=9\n"
   ]
  },
  {
   "cell_type": "code",
   "execution_count": null,
   "metadata": {},
   "outputs": [],
   "source": [
    "# Cómo queda la lista x?\n",
    "# Cuál es su id?\n",
    "print(x)\n",
    "print(id(x))"
   ]
  },
  {
   "cell_type": "markdown",
   "metadata": {},
   "source": [
    "## veamos que pasa si a x=[9,1,2,3,4] "
   ]
  },
  {
   "cell_type": "code",
   "execution_count": null,
   "metadata": {},
   "outputs": [],
   "source": [
    "x=[1,2,3,4]\n",
    "y=x\n",
    "x=[9,1,2,3,4]\n"
   ]
  },
  {
   "cell_type": "code",
   "execution_count": null,
   "metadata": {},
   "outputs": [],
   "source": [
    "# Cómo queda la lista x?\n",
    "# Cuál es el id de x\n",
    "# Cuál es el id de y?\n",
    "print(y)\n",
    "print(id(x))\n",
    "print(id(y))"
   ]
  },
  {
   "cell_type": "code",
   "execution_count": null,
   "metadata": {},
   "outputs": [],
   "source": [
    "#ojo con lo que viene!!!!!!!\n",
    "x=15\n",
    "y=x"
   ]
  },
  {
   "cell_type": "code",
   "execution_count": null,
   "metadata": {},
   "outputs": [],
   "source": [
    "#¿Cuánto vale y?\n",
    "y"
   ]
  },
  {
   "cell_type": "code",
   "execution_count": null,
   "metadata": {},
   "outputs": [],
   "source": [
    "#modifiquemos x\n",
    "x=20"
   ]
  },
  {
   "cell_type": "code",
   "execution_count": null,
   "metadata": {},
   "outputs": [],
   "source": [
    "# ¿Cuánto vale ahora y?\n",
    "y"
   ]
  },
  {
   "cell_type": "code",
   "execution_count": null,
   "metadata": {},
   "outputs": [],
   "source": [
    "# veamos ahora cuando x es una lista \n",
    "x=[1,2,3,4]\n",
    "y=x"
   ]
  },
  {
   "cell_type": "code",
   "execution_count": null,
   "metadata": {},
   "outputs": [],
   "source": [
    "# ¿cuánto vale y?\n",
    "y"
   ]
  },
  {
   "cell_type": "code",
   "execution_count": null,
   "metadata": {},
   "outputs": [],
   "source": [
    "# modifiquemos la lista x\n",
    "x[0]=9"
   ]
  },
  {
   "cell_type": "code",
   "execution_count": null,
   "metadata": {},
   "outputs": [],
   "source": [
    "# cómo queda la lista x\n",
    "x"
   ]
  },
  {
   "cell_type": "code",
   "execution_count": null,
   "metadata": {},
   "outputs": [],
   "source": [
    "#cuánto vale y?\n",
    "y"
   ]
  },
  {
   "cell_type": "markdown",
   "metadata": {},
   "source": [
    "ohhh...!! con la lógica anterior, x e y son  variables diferentes, por lo que se espera es que el valor de y fuera [1, 2, 3, 4]"
   ]
  },
  {
   "cell_type": "code",
   "execution_count": null,
   "metadata": {},
   "outputs": [],
   "source": [
    "# veamos que esta pasando.\n",
    "# Para resolver el misterio hace falta un una nueva pieza clave: \n",
    "# el concepto de referencia (id).\n",
    "x=15 # Se acaba de crear uno nuevo objeto: un número de valor 15.\n"
   ]
  },
  {
   "cell_type": "code",
   "execution_count": null,
   "metadata": {},
   "outputs": [],
   "source": [
    "# Identificador de 5\n",
    "id(15)"
   ]
  },
  {
   "cell_type": "code",
   "execution_count": null,
   "metadata": {},
   "outputs": [],
   "source": [
    "# Identificador de x\n",
    "# La variable x no es más que una referencia a ese objeto\n",
    "id(x)"
   ]
  },
  {
   "cell_type": "code",
   "execution_count": null,
   "metadata": {},
   "outputs": [],
   "source": [
    "# asignamos a la variable y el valor de x\n",
    "y=x"
   ]
  },
  {
   "cell_type": "code",
   "execution_count": null,
   "metadata": {},
   "outputs": [],
   "source": [
    "print(y)\n",
    "print(id(y))"
   ]
  },
  {
   "cell_type": "code",
   "execution_count": null,
   "metadata": {},
   "outputs": [],
   "source": [
    "# Modifiquemos x\n",
    "x=20"
   ]
  },
  {
   "cell_type": "code",
   "execution_count": null,
   "metadata": {},
   "outputs": [],
   "source": [
    "id(x)"
   ]
  },
  {
   "cell_type": "markdown",
   "metadata": {},
   "source": [
    "Resumen\n",
    "+ x=15\n",
    "+ y=x\n",
    "+ x=20\n",
    "\n",
    "### ¿Cuánto vale y?\n",
    "### ¿Cuál es el id de y?\n"
   ]
  },
  {
   "cell_type": "code",
   "execution_count": null,
   "metadata": {},
   "outputs": [],
   "source": [
    "print(y)\n",
    "print(id(y))"
   ]
  },
  {
   "cell_type": "code",
   "execution_count": null,
   "metadata": {},
   "outputs": [],
   "source": [
    "# ¿ Qué sucede cuando x es una lista?\n",
    "x=[1,2,3,4]"
   ]
  },
  {
   "cell_type": "code",
   "execution_count": null,
   "metadata": {},
   "outputs": [],
   "source": [
    "# asignamos a la variable y el valor de x\n",
    "y=x"
   ]
  },
  {
   "cell_type": "code",
   "execution_count": null,
   "metadata": {},
   "outputs": [],
   "source": [
    "# cómo es y?\n",
    "y"
   ]
  },
  {
   "cell_type": "code",
   "execution_count": null,
   "metadata": {},
   "outputs": [],
   "source": [
    "# los id de x, y\n",
    "print(id(x))\n",
    "print(id(y))"
   ]
  },
  {
   "cell_type": "code",
   "execution_count": null,
   "metadata": {},
   "outputs": [],
   "source": [
    "#Si ahora modificamos directamente el objeto (al ser mutable, podemos hacerlo)\n",
    "x[0]=9\n"
   ]
  },
  {
   "cell_type": "code",
   "execution_count": null,
   "metadata": {},
   "outputs": [],
   "source": [
    "# Cómo queda la lista x?\n",
    "# Cuál es su id?\n",
    "print(x)\n",
    "print(id(x))"
   ]
  },
  {
   "cell_type": "markdown",
   "metadata": {},
   "source": [
    "## veamos que pasa si a x=[9,1,2,3,4] "
   ]
  },
  {
   "cell_type": "code",
   "execution_count": null,
   "metadata": {},
   "outputs": [],
   "source": [
    "x=[1,2,3,4]\n",
    "y=x\n",
    "x=[9,1,2,3,4]\n"
   ]
  },
  {
   "cell_type": "code",
   "execution_count": null,
   "metadata": {},
   "outputs": [],
   "source": [
    "# Cómo queda la lista x?\n",
    "# Cuál es el id de x\n",
    "# Cuál es el id de y?\n",
    "print(y)\n",
    "print(id(x))\n",
    "print(id(y))"
   ]
  }
 ],
 "metadata": {
  "celltoolbar": "Raw Cell Format",
  "kernelspec": {
   "display_name": "Python 3",
   "language": "python",
   "name": "python3"
  },
  "language_info": {
   "codemirror_mode": {
    "name": "ipython",
    "version": 3
   },
   "file_extension": ".py",
   "mimetype": "text/x-python",
   "name": "python",
   "nbconvert_exporter": "python",
   "pygments_lexer": "ipython3",
   "version": "3.8.5"
  }
 },
 "nbformat": 4,
 "nbformat_minor": 4
}
