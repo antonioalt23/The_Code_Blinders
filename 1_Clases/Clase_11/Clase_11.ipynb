{
 "cells": [
  {
   "cell_type": "code",
   "execution_count": 24,
   "metadata": {},
   "outputs": [],
   "source": [
    "# ESte paquete se utiliza para traer imágenes.\n",
    "from IPython.display import display, Image"
   ]
  },
  {
   "cell_type": "code",
   "execution_count": 25,
   "metadata": {},
   "outputs": [],
   "source": [
    "import pandas as pd\n",
    "import numpy as np"
   ]
  },
  {
   "cell_type": "markdown",
   "metadata": {},
   "source": [
    "# For Loop\n",
    "Es el segundo tipo de loops. Este ejecuta todo un codigo un número específico de veces. Además, puede tomar elementos directamente de una lista, numpy o serie."
   ]
  },
  {
   "cell_type": "markdown",
   "metadata": {},
   "source": [
    "<img src=\"../../0_Imagenes\\for-loop-python.jpg\">"
   ]
  },
  {
   "cell_type": "code",
   "execution_count": 30,
   "metadata": {},
   "outputs": [],
   "source": [
    "secuencia = np.array( [15, 20, 25, 30 , 35 , 40 , 48 ] )"
   ]
  },
  {
   "cell_type": "code",
   "execution_count": 35,
   "metadata": {},
   "outputs": [],
   "source": [
    "i = 0"
   ]
  },
  {
   "cell_type": "code",
   "execution_count": 36,
   "metadata": {
    "scrolled": true
   },
   "outputs": [
    {
     "name": "stdout",
     "output_type": "stream",
     "text": [
      "15\n",
      "20\n",
      "25\n",
      "30\n",
      "35\n",
      "40\n",
      "48\n"
     ]
    }
   ],
   "source": [
    "for elemento in secuencia:\n",
    "    print( elemento )\n",
    "    i = i + 1"
   ]
  },
  {
   "cell_type": "code",
   "execution_count": 39,
   "metadata": {},
   "outputs": [],
   "source": [
    "edades_salones = [ [11, 12, 11] , [15, 16, 16] , [17, 17, 18]]"
   ]
  },
  {
   "cell_type": "code",
   "execution_count": 41,
   "metadata": {},
   "outputs": [
    {
     "name": "stdout",
     "output_type": "stream",
     "text": [
      "<class 'list'>\n",
      "<class 'list'>\n",
      "<class 'list'>\n"
     ]
    }
   ],
   "source": [
    "for edad_clase in edades_salones:\n",
    "    print( type(edad_clase) )"
   ]
  },
  {
   "cell_type": "code",
   "execution_count": 38,
   "metadata": {},
   "outputs": [],
   "source": [
    "edades = [ 21, 23, 25, 24, 20]"
   ]
  },
  {
   "cell_type": "code",
   "execution_count": 40,
   "metadata": {},
   "outputs": [
    {
     "name": "stdout",
     "output_type": "stream",
     "text": [
      "<class 'int'>\n",
      "<class 'int'>\n",
      "<class 'int'>\n",
      "<class 'int'>\n",
      "<class 'int'>\n"
     ]
    }
   ],
   "source": [
    "for age in edades:\n",
    "    print( type(age) )"
   ]
  },
  {
   "cell_type": "code",
   "execution_count": null,
   "metadata": {},
   "outputs": [],
   "source": [
    "age = 21"
   ]
  },
  {
   "cell_type": "markdown",
   "metadata": {},
   "source": [
    "## For Loop Anidado"
   ]
  },
  {
   "cell_type": "code",
   "execution_count": null,
   "metadata": {},
   "outputs": [],
   "source": [
    "edades_salones = [ [11, 12, 11] , [15, 16, 16] , [17, 17, 18]]"
   ]
  },
  {
   "cell_type": "code",
   "execution_count": 43,
   "metadata": {},
   "outputs": [
    {
     "name": "stdout",
     "output_type": "stream",
     "text": [
      "[11, 12, 11]\n",
      "11\n",
      "12\n",
      "11\n",
      "[15, 16, 16]\n",
      "15\n",
      "16\n",
      "16\n",
      "[17, 17, 18]\n",
      "17\n",
      "17\n",
      "18\n"
     ]
    }
   ],
   "source": [
    "for clase in edades_salones:\n",
    "    print( clase )\n",
    "    \n",
    "    for edad in clase:\n",
    "        print( edad )"
   ]
  },
  {
   "cell_type": "code",
   "execution_count": 46,
   "metadata": {},
   "outputs": [],
   "source": [
    "matrix_2 = np.arange( 1, 5 )"
   ]
  },
  {
   "cell_type": "code",
   "execution_count": 48,
   "metadata": {},
   "outputs": [],
   "source": [
    "matrix_2 = matrix_2.reshape(2, 2)"
   ]
  },
  {
   "cell_type": "code",
   "execution_count": 49,
   "metadata": {},
   "outputs": [
    {
     "data": {
      "text/plain": [
       "array([[1, 2],\n",
       "       [3, 4]])"
      ]
     },
     "execution_count": 49,
     "metadata": {},
     "output_type": "execute_result"
    }
   ],
   "source": [
    "matrix_2"
   ]
  },
  {
   "cell_type": "markdown",
   "metadata": {},
   "source": [
    "## Guardar outputs de los for loops en listas"
   ]
  },
  {
   "cell_type": "code",
   "execution_count": 60,
   "metadata": {},
   "outputs": [],
   "source": [
    "todos_los_elementos_matrix = []"
   ]
  },
  {
   "cell_type": "code",
   "execution_count": 61,
   "metadata": {},
   "outputs": [
    {
     "name": "stdout",
     "output_type": "stream",
     "text": [
      "[1 2]\n",
      "[3 4]\n"
     ]
    }
   ],
   "source": [
    "for fila in matrix_2:\n",
    "    print( fila )\n",
    "    \n",
    "    for elemento in fila:\n",
    "        todos_los_elementos_matrix.append( elemento )        "
   ]
  },
  {
   "cell_type": "code",
   "execution_count": 62,
   "metadata": {},
   "outputs": [
    {
     "data": {
      "text/plain": [
       "[1, 2, 3, 4]"
      ]
     },
     "execution_count": 62,
     "metadata": {},
     "output_type": "execute_result"
    }
   ],
   "source": [
    "todos_los_elementos_matrix"
   ]
  },
  {
   "cell_type": "code",
   "execution_count": 63,
   "metadata": {},
   "outputs": [],
   "source": [
    "conjunto_de_elementos = np.array( [15, 20, 25, 30 , 35 , 40 , 48 ] )"
   ]
  },
  {
   "cell_type": "code",
   "execution_count": 64,
   "metadata": {},
   "outputs": [],
   "source": [
    "conjunto_de_elementos_cuadrados = [ ]"
   ]
  },
  {
   "cell_type": "code",
   "execution_count": 65,
   "metadata": {},
   "outputs": [],
   "source": [
    "for elemento in conjunto_de_elementos:\n",
    "    conjunto_de_elementos_cuadrados.append( elemento ** 2 )"
   ]
  },
  {
   "cell_type": "code",
   "execution_count": 66,
   "metadata": {},
   "outputs": [
    {
     "data": {
      "text/plain": [
       "[225, 400, 625, 900, 1225, 1600, 2304]"
      ]
     },
     "execution_count": 66,
     "metadata": {},
     "output_type": "execute_result"
    }
   ],
   "source": [
    "conjunto_de_elementos_cuadrados"
   ]
  },
  {
   "cell_type": "markdown",
   "metadata": {},
   "source": [
    "## For loop en un rango"
   ]
  },
  {
   "cell_type": "code",
   "execution_count": 23,
   "metadata": {},
   "outputs": [],
   "source": [
    "# secuencia\n",
    "estudiantes = [ 'Miguel' , 'Anthony', 'Paul', 'Rodrigo', 'Jason' ]"
   ]
  },
  {
   "cell_type": "code",
   "execution_count": 68,
   "metadata": {},
   "outputs": [],
   "source": [
    "# Edades\n",
    "edades = [ 20, 18, 15, 20, 22]"
   ]
  },
  {
   "cell_type": "code",
   "execution_count": 74,
   "metadata": {},
   "outputs": [
    {
     "name": "stdout",
     "output_type": "stream",
     "text": [
      "La edad de Miguel es 20\n",
      "La edad de Anthony es 18\n",
      "La edad de Paul es 15\n",
      "La edad de Rodrigo es 20\n",
      "La edad de Jason es 22\n"
     ]
    }
   ],
   "source": [
    "for indice in range( 0, len(estudiantes) ):\n",
    "    print( f'La edad de { estudiantes[ indice ] } es { edades[ indice ] }')"
   ]
  },
  {
   "cell_type": "markdown",
   "metadata": {},
   "source": [
    "## For loop  y ZIP"
   ]
  },
  {
   "cell_type": "code",
   "execution_count": 23,
   "metadata": {},
   "outputs": [],
   "source": [
    "# secuencia\n",
    "estudiantes = [ 'Miguel' , 'Anthony', 'Paul', 'Rodrigo', 'Jason' ]"
   ]
  },
  {
   "cell_type": "code",
   "execution_count": 68,
   "metadata": {},
   "outputs": [],
   "source": [
    "# Edades\n",
    "edades = [ 20, 18, 15, 20, 22]"
   ]
  },
  {
   "cell_type": "code",
   "execution_count": 83,
   "metadata": {
    "scrolled": false
   },
   "outputs": [
    {
     "name": "stdout",
     "output_type": "stream",
     "text": [
      "La edad de Miguel es 20\n",
      "La edad de Anthony es 18\n",
      "La edad de Paul es 15\n",
      "La edad de Rodrigo es 20\n",
      "La edad de Jason es 22\n"
     ]
    }
   ],
   "source": [
    "for student, age in zip( estudiantes , edades ):\n",
    "    print(f'La edad de { student } es { age }')"
   ]
  },
  {
   "cell_type": "markdown",
   "metadata": {},
   "source": [
    "### Diferentes dimensiones"
   ]
  },
  {
   "cell_type": "code",
   "execution_count": 87,
   "metadata": {},
   "outputs": [],
   "source": [
    "# secuencia\n",
    "estudiantes = [ 'Miguel' , 'Anthony', 'Paul', 'Rodrigo', 'Jason' ]\n",
    "\n",
    "# Edades\n",
    "edades = [ 20, 18, 15, 20 ]"
   ]
  },
  {
   "cell_type": "code",
   "execution_count": 88,
   "metadata": {},
   "outputs": [
    {
     "name": "stdout",
     "output_type": "stream",
     "text": [
      "La edad de Miguel es 20\n",
      "La edad de Anthony es 18\n",
      "La edad de Paul es 15\n",
      "La edad de Rodrigo es 20\n"
     ]
    }
   ],
   "source": [
    "for student, age in zip( estudiantes , edades ):\n",
    "    print(f'La edad de { student } es { age }')"
   ]
  },
  {
   "cell_type": "code",
   "execution_count": 89,
   "metadata": {},
   "outputs": [],
   "source": [
    "alumnos = [ 'Miguel' , 'Anthony', 'Paul', 'Rodrigo', 'Jason' ]\n",
    "notas = [ 15, 16, 20, 20, 18 ]"
   ]
  },
  {
   "cell_type": "code",
   "execution_count": 90,
   "metadata": {},
   "outputs": [
    {
     "name": "stdout",
     "output_type": "stream",
     "text": [
      "La nota de Miguel es 15.\n",
      "La nota de Anthony es 16.\n",
      "La nota de Paul es 20.\n",
      "La nota de Rodrigo es 20.\n",
      "La nota de Jason es 18.\n"
     ]
    }
   ],
   "source": [
    "for alumno, nota in zip(alumnos, notas):\n",
    "    print( f\"La nota de {alumno} es {nota}.\")"
   ]
  },
  {
   "cell_type": "markdown",
   "metadata": {},
   "source": [
    "## Ejercicio"
   ]
  },
  {
   "cell_type": "code",
   "execution_count": 119,
   "metadata": {},
   "outputs": [],
   "source": [
    "production_fish = pd.read_csv( r\"..\\..\\data\\production_fish.csv\" )"
   ]
  },
  {
   "cell_type": "code",
   "execution_count": 120,
   "metadata": {},
   "outputs": [
    {
     "data": {
      "text/html": [
       "<div>\n",
       "<style scoped>\n",
       "    .dataframe tbody tr th:only-of-type {\n",
       "        vertical-align: middle;\n",
       "    }\n",
       "\n",
       "    .dataframe tbody tr th {\n",
       "        vertical-align: top;\n",
       "    }\n",
       "\n",
       "    .dataframe thead th {\n",
       "        text-align: right;\n",
       "    }\n",
       "</style>\n",
       "<table border=\"1\" class=\"dataframe\">\n",
       "  <thead>\n",
       "    <tr style=\"text-align: right;\">\n",
       "      <th></th>\n",
       "      <th>year</th>\n",
       "      <th>Consumo Industrial - Anchoveta</th>\n",
       "      <th>Consumo Humano - Congelado - Concha de abanico</th>\n",
       "      <th>Consumo Humano - Congelado - Langostino</th>\n",
       "      <th>Consumo Humano - Congelado - Merluza</th>\n",
       "      <th>Consumo Humano - Congelado - Calamar gigante</th>\n",
       "      <th>Consumo Humano - Conservas - Atún</th>\n",
       "      <th>Consumo Humano - Conservas - Caballa</th>\n",
       "      <th>Consumo Humano - Conservas - Jurel</th>\n",
       "      <th>Consumo Humano - Conservas - Sardina</th>\n",
       "      <th>Consumo Humano - Fresco - Concha de abanico</th>\n",
       "      <th>Consumo Humano - Fresco - Jurel</th>\n",
       "      <th>Consumo Humano - Fresco - Liza</th>\n",
       "      <th>Consumo Humano - Fresco - Tollo</th>\n",
       "      <th>total_production</th>\n",
       "    </tr>\n",
       "  </thead>\n",
       "  <tbody>\n",
       "    <tr>\n",
       "      <th>0</th>\n",
       "      <td>2005</td>\n",
       "      <td>8628.396</td>\n",
       "      <td>13.537</td>\n",
       "      <td>9.021</td>\n",
       "      <td>23.279000</td>\n",
       "      <td>235.630000</td>\n",
       "      <td>9.877000</td>\n",
       "      <td>25.71100</td>\n",
       "      <td>20.481000</td>\n",
       "      <td>0.16500</td>\n",
       "      <td>1.843080</td>\n",
       "      <td>56.167940</td>\n",
       "      <td>5.875600</td>\n",
       "      <td>0.430000</td>\n",
       "      <td>9030.413620</td>\n",
       "    </tr>\n",
       "    <tr>\n",
       "      <th>1</th>\n",
       "      <td>2006</td>\n",
       "      <td>5891.838</td>\n",
       "      <td>14.714</td>\n",
       "      <td>11.295</td>\n",
       "      <td>25.189000</td>\n",
       "      <td>365.729000</td>\n",
       "      <td>11.336000</td>\n",
       "      <td>58.24500</td>\n",
       "      <td>122.904000</td>\n",
       "      <td>0.04800</td>\n",
       "      <td>4.048000</td>\n",
       "      <td>136.827000</td>\n",
       "      <td>3.166000</td>\n",
       "      <td>1.584000</td>\n",
       "      <td>6646.923000</td>\n",
       "    </tr>\n",
       "    <tr>\n",
       "      <th>2</th>\n",
       "      <td>2007</td>\n",
       "      <td>6084.713</td>\n",
       "      <td>19.937</td>\n",
       "      <td>13.548</td>\n",
       "      <td>28.358488</td>\n",
       "      <td>379.556594</td>\n",
       "      <td>3.713293</td>\n",
       "      <td>26.24874</td>\n",
       "      <td>82.910307</td>\n",
       "      <td>0.00102</td>\n",
       "      <td>4.822991</td>\n",
       "      <td>134.887316</td>\n",
       "      <td>9.317622</td>\n",
       "      <td>2.834958</td>\n",
       "      <td>6790.849328</td>\n",
       "    </tr>\n",
       "  </tbody>\n",
       "</table>\n",
       "</div>"
      ],
      "text/plain": [
       "   year  Consumo Industrial - Anchoveta  \\\n",
       "0  2005                        8628.396   \n",
       "1  2006                        5891.838   \n",
       "2  2007                        6084.713   \n",
       "\n",
       "   Consumo Humano - Congelado - Concha de abanico  \\\n",
       "0                                          13.537   \n",
       "1                                          14.714   \n",
       "2                                          19.937   \n",
       "\n",
       "   Consumo Humano - Congelado - Langostino  \\\n",
       "0                                    9.021   \n",
       "1                                   11.295   \n",
       "2                                   13.548   \n",
       "\n",
       "   Consumo Humano - Congelado - Merluza  \\\n",
       "0                             23.279000   \n",
       "1                             25.189000   \n",
       "2                             28.358488   \n",
       "\n",
       "   Consumo Humano - Congelado - Calamar gigante  \\\n",
       "0                                    235.630000   \n",
       "1                                    365.729000   \n",
       "2                                    379.556594   \n",
       "\n",
       "   Consumo Humano - Conservas - Atún  Consumo Humano - Conservas - Caballa  \\\n",
       "0                           9.877000                              25.71100   \n",
       "1                          11.336000                              58.24500   \n",
       "2                           3.713293                              26.24874   \n",
       "\n",
       "   Consumo Humano - Conservas - Jurel  Consumo Humano - Conservas - Sardina  \\\n",
       "0                           20.481000                               0.16500   \n",
       "1                          122.904000                               0.04800   \n",
       "2                           82.910307                               0.00102   \n",
       "\n",
       "   Consumo Humano - Fresco - Concha de abanico  \\\n",
       "0                                     1.843080   \n",
       "1                                     4.048000   \n",
       "2                                     4.822991   \n",
       "\n",
       "   Consumo Humano - Fresco - Jurel  Consumo Humano - Fresco - Liza  \\\n",
       "0                        56.167940                        5.875600   \n",
       "1                       136.827000                        3.166000   \n",
       "2                       134.887316                        9.317622   \n",
       "\n",
       "   Consumo Humano - Fresco - Tollo  total_production  \n",
       "0                         0.430000       9030.413620  \n",
       "1                         1.584000       6646.923000  \n",
       "2                         2.834958       6790.849328  "
      ]
     },
     "execution_count": 120,
     "metadata": {},
     "output_type": "execute_result"
    }
   ],
   "source": [
    "production_fish.head(3)"
   ]
  },
  {
   "cell_type": "code",
   "execution_count": 121,
   "metadata": {},
   "outputs": [],
   "source": [
    "col_names = production_fish.columns.to_list()[ 1:-1 ]"
   ]
  },
  {
   "cell_type": "code",
   "execution_count": 122,
   "metadata": {},
   "outputs": [],
   "source": [
    "for col in col_names:\n",
    "    production_fish[ f'%_{col}' ]  = production_fish[ f'{col}' ] * 100 / production_fish[ 'total_production' ]"
   ]
  },
  {
   "cell_type": "code",
   "execution_count": 126,
   "metadata": {},
   "outputs": [
    {
     "data": {
      "text/html": [
       "<div>\n",
       "<style scoped>\n",
       "    .dataframe tbody tr th:only-of-type {\n",
       "        vertical-align: middle;\n",
       "    }\n",
       "\n",
       "    .dataframe tbody tr th {\n",
       "        vertical-align: top;\n",
       "    }\n",
       "\n",
       "    .dataframe thead th {\n",
       "        text-align: right;\n",
       "    }\n",
       "</style>\n",
       "<table border=\"1\" class=\"dataframe\">\n",
       "  <thead>\n",
       "    <tr style=\"text-align: right;\">\n",
       "      <th></th>\n",
       "      <th>Consumo Industrial - Anchoveta</th>\n",
       "      <th>Consumo Humano - Congelado - Concha de abanico</th>\n",
       "      <th>Consumo Humano - Congelado - Langostino</th>\n",
       "      <th>Consumo Humano - Congelado - Merluza</th>\n",
       "      <th>Consumo Humano - Congelado - Calamar gigante</th>\n",
       "      <th>Consumo Humano - Conservas - Atún</th>\n",
       "      <th>Consumo Humano - Conservas - Caballa</th>\n",
       "      <th>Consumo Humano - Conservas - Jurel</th>\n",
       "      <th>Consumo Humano - Conservas - Sardina</th>\n",
       "      <th>Consumo Humano - Fresco - Concha de abanico</th>\n",
       "      <th>Consumo Humano - Fresco - Jurel</th>\n",
       "      <th>Consumo Humano - Fresco - Liza</th>\n",
       "      <th>Consumo Humano - Fresco - Tollo</th>\n",
       "    </tr>\n",
       "  </thead>\n",
       "  <tbody>\n",
       "    <tr>\n",
       "      <th>0</th>\n",
       "      <td>8628.40</td>\n",
       "      <td>13.54</td>\n",
       "      <td>9.02</td>\n",
       "      <td>23.28</td>\n",
       "      <td>235.63</td>\n",
       "      <td>9.88</td>\n",
       "      <td>25.71</td>\n",
       "      <td>20.48</td>\n",
       "      <td>0.16</td>\n",
       "      <td>1.84</td>\n",
       "      <td>56.17</td>\n",
       "      <td>5.88</td>\n",
       "      <td>0.43</td>\n",
       "    </tr>\n",
       "    <tr>\n",
       "      <th>1</th>\n",
       "      <td>5891.84</td>\n",
       "      <td>14.71</td>\n",
       "      <td>11.30</td>\n",
       "      <td>25.19</td>\n",
       "      <td>365.73</td>\n",
       "      <td>11.34</td>\n",
       "      <td>58.24</td>\n",
       "      <td>122.90</td>\n",
       "      <td>0.05</td>\n",
       "      <td>4.05</td>\n",
       "      <td>136.83</td>\n",
       "      <td>3.17</td>\n",
       "      <td>1.58</td>\n",
       "    </tr>\n",
       "    <tr>\n",
       "      <th>2</th>\n",
       "      <td>6084.71</td>\n",
       "      <td>19.94</td>\n",
       "      <td>13.55</td>\n",
       "      <td>28.36</td>\n",
       "      <td>379.56</td>\n",
       "      <td>3.71</td>\n",
       "      <td>26.25</td>\n",
       "      <td>82.91</td>\n",
       "      <td>0.00</td>\n",
       "      <td>4.82</td>\n",
       "      <td>134.89</td>\n",
       "      <td>9.32</td>\n",
       "      <td>2.83</td>\n",
       "    </tr>\n",
       "    <tr>\n",
       "      <th>3</th>\n",
       "      <td>6159.39</td>\n",
       "      <td>18.79</td>\n",
       "      <td>12.82</td>\n",
       "      <td>26.35</td>\n",
       "      <td>484.16</td>\n",
       "      <td>3.28</td>\n",
       "      <td>47.69</td>\n",
       "      <td>58.86</td>\n",
       "      <td>0.00</td>\n",
       "      <td>0.83</td>\n",
       "      <td>80.09</td>\n",
       "      <td>14.51</td>\n",
       "      <td>2.93</td>\n",
       "    </tr>\n",
       "    <tr>\n",
       "      <th>4</th>\n",
       "      <td>5828.64</td>\n",
       "      <td>24.63</td>\n",
       "      <td>11.88</td>\n",
       "      <td>36.77</td>\n",
       "      <td>355.11</td>\n",
       "      <td>2.02</td>\n",
       "      <td>51.36</td>\n",
       "      <td>14.29</td>\n",
       "      <td>0.00</td>\n",
       "      <td>1.84</td>\n",
       "      <td>47.08</td>\n",
       "      <td>17.31</td>\n",
       "      <td>4.06</td>\n",
       "    </tr>\n",
       "    <tr>\n",
       "      <th>5</th>\n",
       "      <td>3330.41</td>\n",
       "      <td>60.00</td>\n",
       "      <td>14.48</td>\n",
       "      <td>25.65</td>\n",
       "      <td>327.57</td>\n",
       "      <td>9.18</td>\n",
       "      <td>9.73</td>\n",
       "      <td>5.77</td>\n",
       "      <td>0.00</td>\n",
       "      <td>2.82</td>\n",
       "      <td>10.40</td>\n",
       "      <td>9.71</td>\n",
       "      <td>4.99</td>\n",
       "    </tr>\n",
       "    <tr>\n",
       "      <th>6</th>\n",
       "      <td>7000.09</td>\n",
       "      <td>92.03</td>\n",
       "      <td>23.38</td>\n",
       "      <td>28.54</td>\n",
       "      <td>373.20</td>\n",
       "      <td>6.59</td>\n",
       "      <td>20.48</td>\n",
       "      <td>83.28</td>\n",
       "      <td>0.05</td>\n",
       "      <td>0.87</td>\n",
       "      <td>72.96</td>\n",
       "      <td>12.12</td>\n",
       "      <td>5.69</td>\n",
       "    </tr>\n",
       "    <tr>\n",
       "      <th>7</th>\n",
       "      <td>3693.87</td>\n",
       "      <td>38.93</td>\n",
       "      <td>22.71</td>\n",
       "      <td>21.05</td>\n",
       "      <td>457.07</td>\n",
       "      <td>1.12</td>\n",
       "      <td>9.98</td>\n",
       "      <td>43.69</td>\n",
       "      <td>0.09</td>\n",
       "      <td>0.74</td>\n",
       "      <td>72.93</td>\n",
       "      <td>17.16</td>\n",
       "      <td>4.24</td>\n",
       "    </tr>\n",
       "    <tr>\n",
       "      <th>8</th>\n",
       "      <td>4754.12</td>\n",
       "      <td>89.29</td>\n",
       "      <td>19.11</td>\n",
       "      <td>31.19</td>\n",
       "      <td>410.76</td>\n",
       "      <td>7.14</td>\n",
       "      <td>26.60</td>\n",
       "      <td>7.20</td>\n",
       "      <td>0.00</td>\n",
       "      <td>2.18</td>\n",
       "      <td>54.45</td>\n",
       "      <td>12.53</td>\n",
       "      <td>3.95</td>\n",
       "    </tr>\n",
       "    <tr>\n",
       "      <th>9</th>\n",
       "      <td>2255.45</td>\n",
       "      <td>52.27</td>\n",
       "      <td>21.76</td>\n",
       "      <td>30.77</td>\n",
       "      <td>465.01</td>\n",
       "      <td>4.73</td>\n",
       "      <td>29.58</td>\n",
       "      <td>8.88</td>\n",
       "      <td>0.00</td>\n",
       "      <td>0.61</td>\n",
       "      <td>46.35</td>\n",
       "      <td>12.25</td>\n",
       "      <td>5.21</td>\n",
       "    </tr>\n",
       "    <tr>\n",
       "      <th>10</th>\n",
       "      <td>3616.48</td>\n",
       "      <td>14.84</td>\n",
       "      <td>26.77</td>\n",
       "      <td>25.64</td>\n",
       "      <td>426.93</td>\n",
       "      <td>11.08</td>\n",
       "      <td>15.31</td>\n",
       "      <td>2.77</td>\n",
       "      <td>0.16</td>\n",
       "      <td>0.62</td>\n",
       "      <td>17.54</td>\n",
       "      <td>12.46</td>\n",
       "      <td>7.72</td>\n",
       "    </tr>\n",
       "    <tr>\n",
       "      <th>11</th>\n",
       "      <td>2732.73</td>\n",
       "      <td>10.09</td>\n",
       "      <td>29.25</td>\n",
       "      <td>25.80</td>\n",
       "      <td>246.12</td>\n",
       "      <td>10.88</td>\n",
       "      <td>57.68</td>\n",
       "      <td>0.41</td>\n",
       "      <td>0.01</td>\n",
       "      <td>0.58</td>\n",
       "      <td>12.47</td>\n",
       "      <td>15.76</td>\n",
       "      <td>9.45</td>\n",
       "    </tr>\n",
       "    <tr>\n",
       "      <th>12</th>\n",
       "      <td>3165.49</td>\n",
       "      <td>4.60</td>\n",
       "      <td>38.76</td>\n",
       "      <td>37.15</td>\n",
       "      <td>252.43</td>\n",
       "      <td>11.80</td>\n",
       "      <td>23.25</td>\n",
       "      <td>1.05</td>\n",
       "      <td>0.00</td>\n",
       "      <td>0.37</td>\n",
       "      <td>6.89</td>\n",
       "      <td>29.06</td>\n",
       "      <td>6.69</td>\n",
       "    </tr>\n",
       "    <tr>\n",
       "      <th>13</th>\n",
       "      <td>6072.89</td>\n",
       "      <td>36.53</td>\n",
       "      <td>31.51</td>\n",
       "      <td>34.88</td>\n",
       "      <td>319.15</td>\n",
       "      <td>18.14</td>\n",
       "      <td>24.61</td>\n",
       "      <td>14.62</td>\n",
       "      <td>0.00</td>\n",
       "      <td>1.55</td>\n",
       "      <td>14.72</td>\n",
       "      <td>23.33</td>\n",
       "      <td>3.67</td>\n",
       "    </tr>\n",
       "    <tr>\n",
       "      <th>14</th>\n",
       "      <td>3381.44</td>\n",
       "      <td>53.11</td>\n",
       "      <td>42.86</td>\n",
       "      <td>28.98</td>\n",
       "      <td>483.77</td>\n",
       "      <td>17.84</td>\n",
       "      <td>19.60</td>\n",
       "      <td>27.73</td>\n",
       "      <td>0.00</td>\n",
       "      <td>1.23</td>\n",
       "      <td>40.80</td>\n",
       "      <td>24.03</td>\n",
       "      <td>1.24</td>\n",
       "    </tr>\n",
       "    <tr>\n",
       "      <th>15</th>\n",
       "      <td>4314.56</td>\n",
       "      <td>47.00</td>\n",
       "      <td>34.52</td>\n",
       "      <td>19.84</td>\n",
       "      <td>407.38</td>\n",
       "      <td>3.84</td>\n",
       "      <td>28.41</td>\n",
       "      <td>23.48</td>\n",
       "      <td>0.00</td>\n",
       "      <td>0.62</td>\n",
       "      <td>48.12</td>\n",
       "      <td>14.99</td>\n",
       "      <td>0.54</td>\n",
       "    </tr>\n",
       "  </tbody>\n",
       "</table>\n",
       "</div>"
      ],
      "text/plain": [
       "    Consumo Industrial - Anchoveta  \\\n",
       "0                          8628.40   \n",
       "1                          5891.84   \n",
       "2                          6084.71   \n",
       "3                          6159.39   \n",
       "4                          5828.64   \n",
       "5                          3330.41   \n",
       "6                          7000.09   \n",
       "7                          3693.87   \n",
       "8                          4754.12   \n",
       "9                          2255.45   \n",
       "10                         3616.48   \n",
       "11                         2732.73   \n",
       "12                         3165.49   \n",
       "13                         6072.89   \n",
       "14                         3381.44   \n",
       "15                         4314.56   \n",
       "\n",
       "    Consumo Humano - Congelado - Concha de abanico  \\\n",
       "0                                            13.54   \n",
       "1                                            14.71   \n",
       "2                                            19.94   \n",
       "3                                            18.79   \n",
       "4                                            24.63   \n",
       "5                                            60.00   \n",
       "6                                            92.03   \n",
       "7                                            38.93   \n",
       "8                                            89.29   \n",
       "9                                            52.27   \n",
       "10                                           14.84   \n",
       "11                                           10.09   \n",
       "12                                            4.60   \n",
       "13                                           36.53   \n",
       "14                                           53.11   \n",
       "15                                           47.00   \n",
       "\n",
       "    Consumo Humano - Congelado - Langostino  \\\n",
       "0                                      9.02   \n",
       "1                                     11.30   \n",
       "2                                     13.55   \n",
       "3                                     12.82   \n",
       "4                                     11.88   \n",
       "5                                     14.48   \n",
       "6                                     23.38   \n",
       "7                                     22.71   \n",
       "8                                     19.11   \n",
       "9                                     21.76   \n",
       "10                                    26.77   \n",
       "11                                    29.25   \n",
       "12                                    38.76   \n",
       "13                                    31.51   \n",
       "14                                    42.86   \n",
       "15                                    34.52   \n",
       "\n",
       "    Consumo Humano - Congelado - Merluza  \\\n",
       "0                                  23.28   \n",
       "1                                  25.19   \n",
       "2                                  28.36   \n",
       "3                                  26.35   \n",
       "4                                  36.77   \n",
       "5                                  25.65   \n",
       "6                                  28.54   \n",
       "7                                  21.05   \n",
       "8                                  31.19   \n",
       "9                                  30.77   \n",
       "10                                 25.64   \n",
       "11                                 25.80   \n",
       "12                                 37.15   \n",
       "13                                 34.88   \n",
       "14                                 28.98   \n",
       "15                                 19.84   \n",
       "\n",
       "    Consumo Humano - Congelado - Calamar gigante  \\\n",
       "0                                         235.63   \n",
       "1                                         365.73   \n",
       "2                                         379.56   \n",
       "3                                         484.16   \n",
       "4                                         355.11   \n",
       "5                                         327.57   \n",
       "6                                         373.20   \n",
       "7                                         457.07   \n",
       "8                                         410.76   \n",
       "9                                         465.01   \n",
       "10                                        426.93   \n",
       "11                                        246.12   \n",
       "12                                        252.43   \n",
       "13                                        319.15   \n",
       "14                                        483.77   \n",
       "15                                        407.38   \n",
       "\n",
       "    Consumo Humano - Conservas - Atún  Consumo Humano - Conservas - Caballa  \\\n",
       "0                                9.88                                 25.71   \n",
       "1                               11.34                                 58.24   \n",
       "2                                3.71                                 26.25   \n",
       "3                                3.28                                 47.69   \n",
       "4                                2.02                                 51.36   \n",
       "5                                9.18                                  9.73   \n",
       "6                                6.59                                 20.48   \n",
       "7                                1.12                                  9.98   \n",
       "8                                7.14                                 26.60   \n",
       "9                                4.73                                 29.58   \n",
       "10                              11.08                                 15.31   \n",
       "11                              10.88                                 57.68   \n",
       "12                              11.80                                 23.25   \n",
       "13                              18.14                                 24.61   \n",
       "14                              17.84                                 19.60   \n",
       "15                               3.84                                 28.41   \n",
       "\n",
       "    Consumo Humano - Conservas - Jurel  Consumo Humano - Conservas - Sardina  \\\n",
       "0                                20.48                                  0.16   \n",
       "1                               122.90                                  0.05   \n",
       "2                                82.91                                  0.00   \n",
       "3                                58.86                                  0.00   \n",
       "4                                14.29                                  0.00   \n",
       "5                                 5.77                                  0.00   \n",
       "6                                83.28                                  0.05   \n",
       "7                                43.69                                  0.09   \n",
       "8                                 7.20                                  0.00   \n",
       "9                                 8.88                                  0.00   \n",
       "10                                2.77                                  0.16   \n",
       "11                                0.41                                  0.01   \n",
       "12                                1.05                                  0.00   \n",
       "13                               14.62                                  0.00   \n",
       "14                               27.73                                  0.00   \n",
       "15                               23.48                                  0.00   \n",
       "\n",
       "    Consumo Humano - Fresco - Concha de abanico  \\\n",
       "0                                          1.84   \n",
       "1                                          4.05   \n",
       "2                                          4.82   \n",
       "3                                          0.83   \n",
       "4                                          1.84   \n",
       "5                                          2.82   \n",
       "6                                          0.87   \n",
       "7                                          0.74   \n",
       "8                                          2.18   \n",
       "9                                          0.61   \n",
       "10                                         0.62   \n",
       "11                                         0.58   \n",
       "12                                         0.37   \n",
       "13                                         1.55   \n",
       "14                                         1.23   \n",
       "15                                         0.62   \n",
       "\n",
       "    Consumo Humano - Fresco - Jurel  Consumo Humano - Fresco - Liza  \\\n",
       "0                             56.17                            5.88   \n",
       "1                            136.83                            3.17   \n",
       "2                            134.89                            9.32   \n",
       "3                             80.09                           14.51   \n",
       "4                             47.08                           17.31   \n",
       "5                             10.40                            9.71   \n",
       "6                             72.96                           12.12   \n",
       "7                             72.93                           17.16   \n",
       "8                             54.45                           12.53   \n",
       "9                             46.35                           12.25   \n",
       "10                            17.54                           12.46   \n",
       "11                            12.47                           15.76   \n",
       "12                             6.89                           29.06   \n",
       "13                            14.72                           23.33   \n",
       "14                            40.80                           24.03   \n",
       "15                            48.12                           14.99   \n",
       "\n",
       "    Consumo Humano - Fresco - Tollo  \n",
       "0                              0.43  \n",
       "1                              1.58  \n",
       "2                              2.83  \n",
       "3                              2.93  \n",
       "4                              4.06  \n",
       "5                              4.99  \n",
       "6                              5.69  \n",
       "7                              4.24  \n",
       "8                              3.95  \n",
       "9                              5.21  \n",
       "10                             7.72  \n",
       "11                             9.45  \n",
       "12                             6.69  \n",
       "13                             3.67  \n",
       "14                             1.24  \n",
       "15                             0.54  "
      ]
     },
     "execution_count": 126,
     "metadata": {},
     "output_type": "execute_result"
    }
   ],
   "source": [
    "production_fish.loc[:, col_names ].round( 2 )"
   ]
  }
 ],
 "metadata": {
  "hide_input": false,
  "kernelspec": {
   "display_name": "Python 3",
   "language": "python",
   "name": "python3"
  },
  "language_info": {
   "codemirror_mode": {
    "name": "ipython",
    "version": 3
   },
   "file_extension": ".py",
   "mimetype": "text/x-python",
   "name": "python",
   "nbconvert_exporter": "python",
   "pygments_lexer": "ipython3",
   "version": "3.8.3"
  }
 },
 "nbformat": 4,
 "nbformat_minor": 4
}
