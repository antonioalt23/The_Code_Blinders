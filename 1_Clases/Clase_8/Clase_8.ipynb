{
 "cells": [
  {
   "cell_type": "code",
   "execution_count": 1,
   "metadata": {},
   "outputs": [],
   "source": [
    "import numpy as np\n",
    "import pandas as pd\n",
    "from pandas import DataFrame,Series"
   ]
  },
  {
   "cell_type": "code",
   "execution_count": null,
   "metadata": {},
   "outputs": [],
   "source": [
    "# importar el csv descargado en nuestra computadora\n",
    "\n",
    "netflix = pd.read_csv(\"../../data/netflix_titles.csv\")\n",
    "netflix.head()"
   ]
  },
  {
   "cell_type": "markdown",
   "metadata": {},
   "source": [
    "## Verificando ID"
   ]
  },
  {
   "cell_type": "code",
   "execution_count": null,
   "metadata": {},
   "outputs": [],
   "source": [
    "print(netflix.set_index( [ 'show_id' ] ).index.is_unique)"
   ]
  },
  {
   "cell_type": "markdown",
   "metadata": {},
   "source": [
    "### ***Exploring a DataFrame***:"
   ]
  },
  {
   "cell_type": "code",
   "execution_count": null,
   "metadata": {},
   "outputs": [],
   "source": [
    "netflix.info()  \n",
    "# este método nos muestra :\n",
    "# * los nombres de las columnas\n",
    "# * los tipos de datos\n",
    "# * Si se encuentra algun valor perdido"
   ]
  },
  {
   "cell_type": "code",
   "execution_count": null,
   "metadata": {},
   "outputs": [],
   "source": [
    "# Hay algún valor nulo o vacío\n",
    "netflix['director'].isnull().values.any()"
   ]
  },
  {
   "cell_type": "code",
   "execution_count": null,
   "metadata": {},
   "outputs": [],
   "source": [
    "netflix.shape  # es un atributo en lugar de un metodo por \n",
    "               # eso se escribe sin paréntesis"
   ]
  },
  {
   "cell_type": "code",
   "execution_count": null,
   "metadata": {},
   "outputs": [],
   "source": [
    "netflix.describe()   # calcula estadisticos de resumen para \n",
    "                     # columnas numericas, como la media y la media\n",
    "                     # count: es el numero de valores que no faltan de cada columna\n",
    "                     # unica variable cuantitativa"
   ]
  },
  {
   "cell_type": "code",
   "execution_count": null,
   "metadata": {},
   "outputs": [],
   "source": [
    "netflix['new_col'] = np.arange(0, netflix.shape[0])"
   ]
  },
  {
   "cell_type": "code",
   "execution_count": null,
   "metadata": {},
   "outputs": [],
   "source": [
    "netflix.describe()   # calcula estadisticos de resumen para \n",
    "                     # columnas numericas, como la media y la media\n",
    "                     # count: es el numero de valores que no faltan de cada columna\n",
    "                     # unica variable cuantitativa"
   ]
  },
  {
   "cell_type": "code",
   "execution_count": null,
   "metadata": {},
   "outputs": [],
   "source": [
    "netflix.values"
   ]
  },
  {
   "cell_type": "code",
   "execution_count": null,
   "metadata": {},
   "outputs": [],
   "source": [
    "netflix.index"
   ]
  },
  {
   "cell_type": "code",
   "execution_count": null,
   "metadata": {},
   "outputs": [],
   "source": [
    "netflix.columns"
   ]
  },
  {
   "cell_type": "markdown",
   "metadata": {},
   "source": [
    "### ***Sorting and Subsetting***"
   ]
  },
  {
   "cell_type": "code",
   "execution_count": null,
   "metadata": {},
   "outputs": [],
   "source": [
    "# Viene del más antiguo\n",
    "net_old = netflix.sort_values(\"release_year\")\n",
    "net_old.head(10)"
   ]
  },
  {
   "cell_type": "code",
   "execution_count": null,
   "metadata": {},
   "outputs": [],
   "source": [
    "net_new = netflix.sort_values(\"release_year\", ascending = False)\n",
    "net_new.head(10)"
   ]
  },
  {
   "cell_type": "code",
   "execution_count": null,
   "metadata": {},
   "outputs": [],
   "source": [
    "net_two = netflix.sort_values([\"release_year\",\"new_col\"])\n",
    "net_two.head(10)"
   ]
  },
  {
   "cell_type": "code",
   "execution_count": null,
   "metadata": {
    "scrolled": true
   },
   "outputs": [],
   "source": [
    "net_two_sort = netflix.sort_values([\"release_year\",\"new_col\"], ascending = [True,False]) \n",
    "net_two_sort.head(10)\n",
    "# obs : en 1943 ==> en [\"duration\"] lo ordena de fomra descendente"
   ]
  },
  {
   "cell_type": "markdown",
   "metadata": {},
   "source": [
    "### ***Subsetting columns***"
   ]
  },
  {
   "cell_type": "code",
   "execution_count": null,
   "metadata": {},
   "outputs": [],
   "source": [
    "netflix[\"director\"]"
   ]
  },
  {
   "cell_type": "code",
   "execution_count": null,
   "metadata": {},
   "outputs": [],
   "source": [
    "netflix[[\"director\",\"cast\"]]"
   ]
  },
  {
   "cell_type": "markdown",
   "metadata": {},
   "source": [
    "### ***Subsetting rows***"
   ]
  },
  {
   "cell_type": "code",
   "execution_count": null,
   "metadata": {},
   "outputs": [],
   "source": [
    "net_50 = netflix[\"release_year\"] < 2020\n",
    "net_50"
   ]
  },
  {
   "cell_type": "code",
   "execution_count": null,
   "metadata": {},
   "outputs": [],
   "source": [
    "netflix[netflix[\"release_year\"] < 2020].head(10)"
   ]
  },
  {
   "cell_type": "markdown",
   "metadata": {},
   "source": [
    "### ***Subsetting based on text data***"
   ]
  },
  {
   "cell_type": "code",
   "execution_count": null,
   "metadata": {},
   "outputs": [],
   "source": [
    "net_peru = netflix[netflix[\"country\"] == \"Peru\"]\n",
    "net_peru.head(10)"
   ]
  },
  {
   "cell_type": "code",
   "execution_count": null,
   "metadata": {
    "scrolled": true
   },
   "outputs": [],
   "source": [
    "net_mex = netflix[netflix[\"country\"] == \"Mexico\"]\n",
    "net_mex"
   ]
  },
  {
   "cell_type": "code",
   "execution_count": null,
   "metadata": {},
   "outputs": [],
   "source": [
    "len(net_mex)"
   ]
  },
  {
   "cell_type": "markdown",
   "metadata": {},
   "source": [
    "# ***Filtering Data*** "
   ]
  },
  {
   "cell_type": "markdown",
   "metadata": {},
   "source": [
    "### Checking unique values"
   ]
  },
  {
   "cell_type": "code",
   "execution_count": null,
   "metadata": {},
   "outputs": [],
   "source": [
    "netflix[\"country\"].unique()"
   ]
  },
  {
   "cell_type": "code",
   "execution_count": null,
   "metadata": {},
   "outputs": [],
   "source": [
    "netflix.info()"
   ]
  },
  {
   "cell_type": "code",
   "execution_count": null,
   "metadata": {
    "scrolled": true
   },
   "outputs": [],
   "source": [
    "netflix.head(3)"
   ]
  },
  {
   "cell_type": "markdown",
   "metadata": {},
   "source": [
    "### Example"
   ]
  },
  {
   "cell_type": "code",
   "execution_count": null,
   "metadata": {},
   "outputs": [],
   "source": [
    "netflix.loc[netflix[\"type\"] == \"TV Show\"].head(4)"
   ]
  },
  {
   "cell_type": "code",
   "execution_count": null,
   "metadata": {},
   "outputs": [],
   "source": [
    "len( netflix.loc[netflix[\"type\"] == \"TV Show\"] )"
   ]
  },
  {
   "cell_type": "code",
   "execution_count": null,
   "metadata": {},
   "outputs": [],
   "source": [
    "netflix.loc[(netflix[\"type\"] == \"TV Show\") & (netflix[\"country\"] == \"Peru\")]"
   ]
  },
  {
   "cell_type": "code",
   "execution_count": null,
   "metadata": {},
   "outputs": [],
   "source": [
    "# No hay series peruanas en Netflix\n",
    "\n",
    "len(netflix.loc[(netflix[\"type\"] == \"TV Show\") & (netflix[\"country\"] == \"Peru\")])"
   ]
  },
  {
   "cell_type": "code",
   "execution_count": null,
   "metadata": {},
   "outputs": [],
   "source": [
    "# peliculas americanas\n",
    "netflix.loc[(netflix[\"type\"] == \"Movie\") & (netflix[\"country\"] == \"United States\") & (netflix[\"release_year\"] > 2019)].head(5)"
   ]
  },
  {
   "cell_type": "code",
   "execution_count": null,
   "metadata": {},
   "outputs": [],
   "source": [
    "# Brazil in 2020\n",
    "net_B_2020 = netflix[(netflix[\"country\"] == \"Brazil\") & (netflix[\"release_year\"] == 2020)]\n",
    "net_B_2020.head(3)"
   ]
  },
  {
   "cell_type": "code",
   "execution_count": null,
   "metadata": {},
   "outputs": [],
   "source": [
    "len(net_B_2020)"
   ]
  },
  {
   "cell_type": "markdown",
   "metadata": {},
   "source": [
    "# .isin()\n",
    "Si desea filtrar por varios valores de una variable categórica, la forma mas sencilla es utilizar el método isin()\n",
    "\n"
   ]
  },
  {
   "cell_type": "code",
   "execution_count": null,
   "metadata": {},
   "outputs": [],
   "source": [
    "net_per_ch = netflix[netflix[\"country\"].isin([\"Peru\",\"Chile\"])]\n",
    "net_per_ch\n",
    "\n"
   ]
  },
  {
   "cell_type": "markdown",
   "metadata": {},
   "source": [
    "## Time data"
   ]
  },
  {
   "cell_type": "code",
   "execution_count": null,
   "metadata": {},
   "outputs": [],
   "source": [
    "net_date = netflix[netflix[\"date_added\"] > \"01-01-2020\"]  # revisar\n",
    "net_date"
   ]
  },
  {
   "cell_type": "code",
   "execution_count": null,
   "metadata": {},
   "outputs": [],
   "source": [
    "net_date.info()"
   ]
  },
  {
   "cell_type": "code",
   "execution_count": null,
   "metadata": {},
   "outputs": [],
   "source": [
    "netflix[\"date_added\"][0]"
   ]
  },
  {
   "cell_type": "code",
   "execution_count": null,
   "metadata": {},
   "outputs": [],
   "source": [
    "from datetime import datetime"
   ]
  },
  {
   "cell_type": "code",
   "execution_count": null,
   "metadata": {
    "scrolled": true
   },
   "outputs": [],
   "source": [
    "type( datetime.strptime( netflix[\"date_added\"][0] , '%B %d, %Y' ) )"
   ]
  },
  {
   "cell_type": "markdown",
   "metadata": {},
   "source": [
    "## Getting new data"
   ]
  },
  {
   "cell_type": "code",
   "execution_count": null,
   "metadata": {},
   "outputs": [],
   "source": [
    "movie = netflix[\"type\"] == \"Movie\"\n",
    "m_usa = netflix[\"country\"] == \"United States\"\n",
    "m_actual = netflix[\"release_year\"] > 2019\n",
    "movie_usa = netflix.loc[movie & m_usa & m_actual]\n",
    "movie_usa"
   ]
  },
  {
   "cell_type": "code",
   "execution_count": null,
   "metadata": {},
   "outputs": [],
   "source": [
    "movie_usa = netflix.loc[ ( netflix[ \"type\" ] == \"Movie\" ) & ( netflix[ \"country\" ] == \"United States\") & ( netflix[ \"release_year\" ] > 2019 ) ]"
   ]
  },
  {
   "cell_type": "code",
   "execution_count": null,
   "metadata": {},
   "outputs": [],
   "source": [
    "movie_usa"
   ]
  },
  {
   "cell_type": "markdown",
   "metadata": {},
   "source": [
    "### Export data"
   ]
  },
  {
   "cell_type": "code",
   "execution_count": null,
   "metadata": {},
   "outputs": [],
   "source": [
    "movie_usa.to_csv(\"../../save_data/movie_usa.csv\")"
   ]
  },
  {
   "cell_type": "markdown",
   "metadata": {},
   "source": [
    "# ***Filter Data with Regular Expresions***\n",
    "\n",
    "link de consulta : [Regular_Expresions](https://docs.python.org/es/3/library/re.html)\n",
    "\n",
    "#### **str.contains** ( pat, case=True, flags = 0, na = None, regex = True)\n",
    "\n",
    "\n",
    " ***pat : str***<br>\n",
    " * Expresion regular o la secuencia de caracteres<br>\n",
    " \n",
    " \n",
    "\n",
    "***case : bool, default True***<br>\n",
    " * Si es True, distingue entre mayusculas y minusculas<br>\n",
    "\n",
    "***flags : int,default 0(no flags)***<br>\n",
    " * flags para pasar al modulo re, ej :re.IGNORECASE(re.I)<br>\n",
    "\n",
    "***na : scalar,optional***<br>\n",
    " * Completa el valor de los valores perdidos(missing values)<br>\n",
    "\n",
    " ***regex = True***<br>\n",
    " * True , asume que el pat es una expresion regular<br>\n",
    " * False, asume al pat como una cadena literal<br>"
   ]
  },
  {
   "cell_type": "markdown",
   "metadata": {},
   "source": [
    "### Importing Package"
   ]
  },
  {
   "cell_type": "code",
   "execution_count": null,
   "metadata": {},
   "outputs": [],
   "source": [
    "import re"
   ]
  },
  {
   "cell_type": "markdown",
   "metadata": {},
   "source": [
    "### Importing data"
   ]
  },
  {
   "cell_type": "code",
   "execution_count": null,
   "metadata": {},
   "outputs": [],
   "source": [
    "# importar el csv descargado en nuestra computadora\n",
    "\n",
    "movie_usa = pd.read_csv(\"../../save_data/movie_usa.csv\")\n",
    "movie_usa.head(3)"
   ]
  },
  {
   "cell_type": "code",
   "execution_count": null,
   "metadata": {
    "scrolled": true
   },
   "outputs": [],
   "source": [
    "movie_usa[\"listed_in\"].str.contains(\"romantic\", flags=re.I,regex=True).head(3)"
   ]
  },
  {
   "cell_type": "code",
   "execution_count": null,
   "metadata": {},
   "outputs": [],
   "source": [
    "mo_usa_rom = movie_usa.loc[movie_usa[\"listed_in\"].str.contains(\"romantic\", flags=re.I,regex=True)]\n",
    "mo_usa_rom[[\"listed_in\",\"title\"]].head(3)"
   ]
  },
  {
   "cell_type": "code",
   "execution_count": null,
   "metadata": {},
   "outputs": [],
   "source": [
    "movie_usa.head(3)"
   ]
  },
  {
   "cell_type": "markdown",
   "metadata": {},
   "source": [
    "# Some Examples"
   ]
  },
  {
   "cell_type": "code",
   "execution_count": null,
   "metadata": {},
   "outputs": [],
   "source": [
    "movie_usa.loc[ movie_usa[ \"title\" ].str.contains( \"^th\" , flags = re.I , na = False, regex =True ) ]\n",
    "# ( ^ ) coincida con el comienzo de la cadena(\"th\")"
   ]
  },
  {
   "cell_type": "code",
   "execution_count": null,
   "metadata": {},
   "outputs": [],
   "source": [
    "movie_usa.loc[ movie_usa[ \"director\" ].str.contains( \"on$\", flags = re.I,na = False, regex =True)]\n",
    "# ($) coincide con el final de la cadena "
   ]
  },
  {
   "cell_type": "code",
   "execution_count": null,
   "metadata": {},
   "outputs": [],
   "source": [
    "movie_usa.loc[movie_usa[\"cast\"].str.contains(\"th*\", flags = re.I,na = False, regex =True)]\n",
    "# ( * )  que coincida con 1 o mas formas de la RE ( \"th\") es decir t ,h o th\n",
    "# [a-z] o [A-Z] realiza una coincidencia entre mayusculas y minusculas"
   ]
  },
  {
   "cell_type": "code",
   "execution_count": null,
   "metadata": {
    "scrolled": false
   },
   "outputs": [],
   "source": [
    "movie_usa.loc[movie_usa[\"title\"].str.contains(\"th+\", flags = re.I, na = False, regex =True)]\n",
    "# ( + ) \"th\" coincida \"t\" seguido de la \"h\" ; no coincidira solo con \"a\" "
   ]
  },
  {
   "cell_type": "code",
   "execution_count": null,
   "metadata": {
    "scrolled": true
   },
   "outputs": [],
   "source": [
    "movie_usa.loc[movie_usa[\"title\"].str.contains(\"th?\", flags = re.I,na = False, regex =True)]\n",
    "# (?) hace que la RE (\"th\") coincida con \"a\" o \"ab\""
   ]
  },
  {
   "cell_type": "code",
   "execution_count": null,
   "metadata": {},
   "outputs": [],
   "source": [
    "netflix.head()"
   ]
  }
 ],
 "metadata": {
  "hide_input": false,
  "kernelspec": {
   "display_name": "Python 3",
   "language": "python",
   "name": "python3"
  },
  "language_info": {
   "codemirror_mode": {
    "name": "ipython",
    "version": 3
   },
   "file_extension": ".py",
   "mimetype": "text/x-python",
   "name": "python",
   "nbconvert_exporter": "python",
   "pygments_lexer": "ipython3",
   "version": "3.8.6"
  }
 },
 "nbformat": 4,
 "nbformat_minor": 4
}
