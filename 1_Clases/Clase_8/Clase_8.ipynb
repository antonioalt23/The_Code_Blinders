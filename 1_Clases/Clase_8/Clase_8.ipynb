{
 "cells": [
  {
   "cell_type": "markdown",
   "metadata": {},
   "source": [
    "# Manejando la data de Netflix"
   ]
  },
  {
   "cell_type": "code",
   "execution_count": 1,
   "metadata": {},
   "outputs": [],
   "source": [
    "import numpy as np\n",
    "import pandas as pd\n",
    "from pandas import DataFrame,Series"
   ]
  },
  {
   "cell_type": "code",
   "execution_count": 2,
   "metadata": {},
   "outputs": [
    {
     "data": {
      "text/html": [
       "<div>\n",
       "<style scoped>\n",
       "    .dataframe tbody tr th:only-of-type {\n",
       "        vertical-align: middle;\n",
       "    }\n",
       "\n",
       "    .dataframe tbody tr th {\n",
       "        vertical-align: top;\n",
       "    }\n",
       "\n",
       "    .dataframe thead th {\n",
       "        text-align: right;\n",
       "    }\n",
       "</style>\n",
       "<table border=\"1\" class=\"dataframe\">\n",
       "  <thead>\n",
       "    <tr style=\"text-align: right;\">\n",
       "      <th></th>\n",
       "      <th>show_id</th>\n",
       "      <th>type</th>\n",
       "      <th>title</th>\n",
       "      <th>director</th>\n",
       "      <th>cast</th>\n",
       "      <th>country</th>\n",
       "      <th>date_added</th>\n",
       "      <th>release_year</th>\n",
       "      <th>rating</th>\n",
       "      <th>duration</th>\n",
       "      <th>listed_in</th>\n",
       "      <th>description</th>\n",
       "    </tr>\n",
       "  </thead>\n",
       "  <tbody>\n",
       "    <tr>\n",
       "      <th>0</th>\n",
       "      <td>s1</td>\n",
       "      <td>TV Show</td>\n",
       "      <td>3%</td>\n",
       "      <td>NaN</td>\n",
       "      <td>João Miguel, Bianca Comparato, Michel Gomes, R...</td>\n",
       "      <td>Brazil</td>\n",
       "      <td>August 14, 2020</td>\n",
       "      <td>2020</td>\n",
       "      <td>TV-MA</td>\n",
       "      <td>4 Seasons</td>\n",
       "      <td>International TV Shows, TV Dramas, TV Sci-Fi &amp;...</td>\n",
       "      <td>In a future where the elite inhabit an island ...</td>\n",
       "    </tr>\n",
       "    <tr>\n",
       "      <th>1</th>\n",
       "      <td>s2</td>\n",
       "      <td>Movie</td>\n",
       "      <td>7:19</td>\n",
       "      <td>Jorge Michel Grau</td>\n",
       "      <td>Demián Bichir, Héctor Bonilla, Oscar Serrano, ...</td>\n",
       "      <td>Mexico</td>\n",
       "      <td>December 23, 2016</td>\n",
       "      <td>2016</td>\n",
       "      <td>TV-MA</td>\n",
       "      <td>93 min</td>\n",
       "      <td>Dramas, International Movies</td>\n",
       "      <td>After a devastating earthquake hits Mexico Cit...</td>\n",
       "    </tr>\n",
       "    <tr>\n",
       "      <th>2</th>\n",
       "      <td>s3</td>\n",
       "      <td>Movie</td>\n",
       "      <td>23:59</td>\n",
       "      <td>Gilbert Chan</td>\n",
       "      <td>Tedd Chan, Stella Chung, Henley Hii, Lawrence ...</td>\n",
       "      <td>Singapore</td>\n",
       "      <td>December 20, 2018</td>\n",
       "      <td>2011</td>\n",
       "      <td>R</td>\n",
       "      <td>78 min</td>\n",
       "      <td>Horror Movies, International Movies</td>\n",
       "      <td>When an army recruit is found dead, his fellow...</td>\n",
       "    </tr>\n",
       "    <tr>\n",
       "      <th>3</th>\n",
       "      <td>s4</td>\n",
       "      <td>Movie</td>\n",
       "      <td>9</td>\n",
       "      <td>Shane Acker</td>\n",
       "      <td>Elijah Wood, John C. Reilly, Jennifer Connelly...</td>\n",
       "      <td>United States</td>\n",
       "      <td>November 16, 2017</td>\n",
       "      <td>2009</td>\n",
       "      <td>PG-13</td>\n",
       "      <td>80 min</td>\n",
       "      <td>Action &amp; Adventure, Independent Movies, Sci-Fi...</td>\n",
       "      <td>In a postapocalyptic world, rag-doll robots hi...</td>\n",
       "    </tr>\n",
       "    <tr>\n",
       "      <th>4</th>\n",
       "      <td>s5</td>\n",
       "      <td>Movie</td>\n",
       "      <td>21</td>\n",
       "      <td>Robert Luketic</td>\n",
       "      <td>Jim Sturgess, Kevin Spacey, Kate Bosworth, Aar...</td>\n",
       "      <td>United States</td>\n",
       "      <td>January 1, 2020</td>\n",
       "      <td>2008</td>\n",
       "      <td>PG-13</td>\n",
       "      <td>123 min</td>\n",
       "      <td>Dramas</td>\n",
       "      <td>A brilliant group of students become card-coun...</td>\n",
       "    </tr>\n",
       "  </tbody>\n",
       "</table>\n",
       "</div>"
      ],
      "text/plain": [
       "  show_id     type  title           director  \\\n",
       "0      s1  TV Show     3%                NaN   \n",
       "1      s2    Movie   7:19  Jorge Michel Grau   \n",
       "2      s3    Movie  23:59       Gilbert Chan   \n",
       "3      s4    Movie      9        Shane Acker   \n",
       "4      s5    Movie     21     Robert Luketic   \n",
       "\n",
       "                                                cast        country  \\\n",
       "0  João Miguel, Bianca Comparato, Michel Gomes, R...         Brazil   \n",
       "1  Demián Bichir, Héctor Bonilla, Oscar Serrano, ...         Mexico   \n",
       "2  Tedd Chan, Stella Chung, Henley Hii, Lawrence ...      Singapore   \n",
       "3  Elijah Wood, John C. Reilly, Jennifer Connelly...  United States   \n",
       "4  Jim Sturgess, Kevin Spacey, Kate Bosworth, Aar...  United States   \n",
       "\n",
       "          date_added  release_year rating   duration  \\\n",
       "0    August 14, 2020          2020  TV-MA  4 Seasons   \n",
       "1  December 23, 2016          2016  TV-MA     93 min   \n",
       "2  December 20, 2018          2011      R     78 min   \n",
       "3  November 16, 2017          2009  PG-13     80 min   \n",
       "4    January 1, 2020          2008  PG-13    123 min   \n",
       "\n",
       "                                           listed_in  \\\n",
       "0  International TV Shows, TV Dramas, TV Sci-Fi &...   \n",
       "1                       Dramas, International Movies   \n",
       "2                Horror Movies, International Movies   \n",
       "3  Action & Adventure, Independent Movies, Sci-Fi...   \n",
       "4                                             Dramas   \n",
       "\n",
       "                                         description  \n",
       "0  In a future where the elite inhabit an island ...  \n",
       "1  After a devastating earthquake hits Mexico Cit...  \n",
       "2  When an army recruit is found dead, his fellow...  \n",
       "3  In a postapocalyptic world, rag-doll robots hi...  \n",
       "4  A brilliant group of students become card-coun...  "
      ]
     },
     "execution_count": 2,
     "metadata": {},
     "output_type": "execute_result"
    }
   ],
   "source": [
    "# importar el csv descargado en nuestra computadora\n",
    "\n",
    "netflix = pd.read_csv(\"../../data/netflix_titles.csv\")\n",
    "netflix.head()"
   ]
  },
  {
   "cell_type": "markdown",
   "metadata": {},
   "source": [
    "## Verificando ID"
   ]
  },
  {
   "cell_type": "code",
   "execution_count": null,
   "metadata": {},
   "outputs": [],
   "source": [
    "print(netflix.set_index( [ 'show_id' ] ).index.is_unique)"
   ]
  },
  {
   "cell_type": "markdown",
   "metadata": {},
   "source": [
    "### ***Exploring a DataFrame***:"
   ]
  },
  {
   "cell_type": "code",
   "execution_count": null,
   "metadata": {},
   "outputs": [],
   "source": [
    "netflix.info()  \n",
    "# este método nos muestra :\n",
    "# * los nombres de las columnas\n",
    "# * los tipos de datos\n",
    "# * Si se encuentra algun valor perdido"
   ]
  },
  {
   "cell_type": "code",
   "execution_count": null,
   "metadata": {},
   "outputs": [],
   "source": [
    "# Hay algún valor nulo o vacío\n",
    "netflix['director'].isnull().values.any()"
   ]
  },
  {
   "cell_type": "code",
   "execution_count": null,
   "metadata": {},
   "outputs": [],
   "source": [
    "netflix.shape  # es un atributo en lugar de un metodo por \n",
    "               # eso se escribe sin paréntesis"
   ]
  },
  {
   "cell_type": "code",
   "execution_count": null,
   "metadata": {},
   "outputs": [],
   "source": [
    "netflix.describe()   # calcula estadisticos de resumen para \n",
    "                     # columnas numericas, como la media y la media\n",
    "                     # count: es el numero de valores que no faltan de cada columna\n",
    "                     # unica variable cuantitativa"
   ]
  },
  {
   "cell_type": "code",
   "execution_count": null,
   "metadata": {},
   "outputs": [],
   "source": [
    "netflix['new_col'] = np.arange(0, netflix.shape[0])"
   ]
  },
  {
   "cell_type": "code",
   "execution_count": null,
   "metadata": {},
   "outputs": [],
   "source": [
    "netflix.describe()   # calcula estadisticos de resumen para \n",
    "                     # columnas numericas, como la media y la media\n",
    "                     # count: es el numero de valores que no faltan de cada columna\n",
    "                     # unica variable cuantitativa"
   ]
  },
  {
   "cell_type": "code",
   "execution_count": null,
   "metadata": {},
   "outputs": [],
   "source": [
    "netflix.values"
   ]
  },
  {
   "cell_type": "code",
   "execution_count": null,
   "metadata": {},
   "outputs": [],
   "source": [
    "netflix.index"
   ]
  },
  {
   "cell_type": "code",
   "execution_count": null,
   "metadata": {},
   "outputs": [],
   "source": [
    "netflix.columns"
   ]
  },
  {
   "cell_type": "markdown",
   "metadata": {},
   "source": [
    "### ***Sorting and Subsetting***"
   ]
  },
  {
   "cell_type": "code",
   "execution_count": null,
   "metadata": {},
   "outputs": [],
   "source": [
    "# Viene del más antiguo\n",
    "net_old = netflix.sort_values(\"release_year\")\n",
    "net_old.head(10)"
   ]
  },
  {
   "cell_type": "code",
   "execution_count": null,
   "metadata": {},
   "outputs": [],
   "source": [
    "net_new = netflix.sort_values(\"release_year\", ascending = False)\n",
    "net_new.head(10)"
   ]
  },
  {
   "cell_type": "code",
   "execution_count": null,
   "metadata": {},
   "outputs": [],
   "source": [
    "net_two = netflix.sort_values([\"release_year\",\"new_col\"])\n",
    "net_two.head(10)"
   ]
  },
  {
   "cell_type": "code",
   "execution_count": null,
   "metadata": {
    "scrolled": true
   },
   "outputs": [],
   "source": [
    "net_two_sort = netflix.sort_values([\"release_year\",\"new_col\"], ascending = [True,False]) \n",
    "net_two_sort.head(10)\n",
    "# obs : en 1943 ==> en [\"duration\"] lo ordena de fomra descendente"
   ]
  },
  {
   "cell_type": "markdown",
   "metadata": {},
   "source": [
    "### ***Subsetting columns***"
   ]
  },
  {
   "cell_type": "code",
   "execution_count": null,
   "metadata": {},
   "outputs": [],
   "source": [
    "netflix[\"director\"]"
   ]
  },
  {
   "cell_type": "code",
   "execution_count": null,
   "metadata": {},
   "outputs": [],
   "source": [
    "netflix[[\"director\",\"cast\"]]"
   ]
  },
  {
   "cell_type": "markdown",
   "metadata": {},
   "source": [
    "### ***Subsetting rows***"
   ]
  },
  {
   "cell_type": "code",
   "execution_count": null,
   "metadata": {},
   "outputs": [],
   "source": [
    "net_50 = netflix[\"release_year\"] < 2020\n",
    "net_50"
   ]
  },
  {
   "cell_type": "code",
   "execution_count": null,
   "metadata": {},
   "outputs": [],
   "source": [
    "netflix[netflix[\"release_year\"] < 2020].head(10)"
   ]
  },
  {
   "cell_type": "markdown",
   "metadata": {},
   "source": [
    "### ***Subsetting based on text data***"
   ]
  },
  {
   "cell_type": "code",
   "execution_count": null,
   "metadata": {},
   "outputs": [],
   "source": [
    "net_peru = netflix[netflix[\"country\"] == \"Peru\"]\n",
    "net_peru.head(10)"
   ]
  },
  {
   "cell_type": "code",
   "execution_count": null,
   "metadata": {
    "scrolled": true
   },
   "outputs": [],
   "source": [
    "net_mex = netflix[netflix[\"country\"] == \"Mexico\"]\n",
    "net_mex"
   ]
  },
  {
   "cell_type": "code",
   "execution_count": null,
   "metadata": {},
   "outputs": [],
   "source": [
    "len(net_mex)"
   ]
  },
  {
   "cell_type": "markdown",
   "metadata": {},
   "source": [
    "# ***Filtering Data*** "
   ]
  },
  {
   "cell_type": "markdown",
   "metadata": {},
   "source": [
    "### Checking unique values"
   ]
  },
  {
   "cell_type": "code",
   "execution_count": 3,
   "metadata": {},
   "outputs": [
    {
     "data": {
      "text/plain": [
       "array(['Brazil', 'Mexico', 'Singapore', 'United States', 'Turkey',\n",
       "       'Egypt', 'India', 'Poland, United States', 'Thailand', 'Nigeria',\n",
       "       nan, 'Norway, Iceland, United States', 'United Kingdom', 'Japan',\n",
       "       'South Korea', 'Italy', 'Canada', 'Indonesia', 'Romania', 'Spain',\n",
       "       'Iceland', 'South Africa, Nigeria', 'France',\n",
       "       'United States, South Africa', 'Portugal, Spain',\n",
       "       'Hong Kong, China, Singapore', 'United States, Germany',\n",
       "       'South Africa, China, United States', 'Argentina',\n",
       "       'United States, France, Serbia', 'Germany',\n",
       "       'Denmark, France, Poland', 'Poland', 'Kenya',\n",
       "       'New Zealand, United Kingdom', 'Pakistan', 'Australia',\n",
       "       'Australia, United States', 'Mexico, United States',\n",
       "       'United States, China', 'China, Hong Kong', 'Taiwan',\n",
       "       'United States, United Kingdom', 'France, South Korea, Japan',\n",
       "       'United States, Canada', 'United Kingdom, United States',\n",
       "       'Netherlands, Denmark, South Africa', 'Canada, United States',\n",
       "       'Denmark', 'Hong Kong', 'France, Netherlands, Singapore', 'China',\n",
       "       'Philippines', 'United Kingdom, Spain, United States',\n",
       "       'United Arab Emirates, United States', 'Netherlands',\n",
       "       'United Kingdom, Hong Kong', 'Iran, France',\n",
       "       'United States, United Kingdom, France',\n",
       "       'United Kingdom, France, Belgium, United States, China',\n",
       "       'Argentina, Brazil, France, Poland, Germany, Denmark',\n",
       "       'Israel, United States', 'United States, Mexico',\n",
       "       'Uruguay, Argentina, Spain', 'Singapore, France',\n",
       "       'United Kingdom, United States, France, Germany',\n",
       "       'Turkey, United States', 'Bulgaria, United States',\n",
       "       'Australia, France', 'Hong Kong, Iceland, United States',\n",
       "       'United Arab Emirates', 'United States, Chile',\n",
       "       'Germany, France, Russia', 'Mauritius, South Africa',\n",
       "       'United States, Japan', 'Lebanon', 'United States, Bulgaria',\n",
       "       'Colombia', 'Uruguay, Argentina', 'Egypt, Algeria',\n",
       "       'France, Egypt', 'Uruguay', 'Soviet Union, India',\n",
       "       'Sweden, United States', 'South Africa', 'Malaysia',\n",
       "       'Ireland, United Kingdom, United States', 'Spain, Italy',\n",
       "       'United Kingdom, France, Germany',\n",
       "       'United States, Germany, Canada', 'United States, India',\n",
       "       'Japan, United States', 'Denmark, United States',\n",
       "       'South Africa, United States', 'Canada, Luxembourg',\n",
       "       'Serbia, United States', 'Canada, Nigeria',\n",
       "       'Iceland, Sweden, Belgium', 'Ireland, Canada',\n",
       "       'United States, Italy', 'Finland', 'India, Germany',\n",
       "       'China, Spain, South Korea, United States', 'Spain, Belgium',\n",
       "       'United Kingdom, Canada, United States, Germany',\n",
       "       'Brazil, Netherlands, United States, Colombia, Austria, Germany',\n",
       "       'France, Canada, Belgium',\n",
       "       'India, United Kingdom, China, Canada, Japan, South Korea, United States',\n",
       "       'France, Belgium', 'Indonesia, South Korea, Singapore', 'Norway',\n",
       "       'Peru', 'France, Senegal, Belgium', 'Canada, France', 'Chile',\n",
       "       'Romania, France, Switzerland, Germany',\n",
       "       'Bulgaria, United States, Spain, Canada', 'Sweden, Netherlands',\n",
       "       'Ghana', 'France, United States, Mexico',\n",
       "       'Australia, United Kingdom, United Arab Emirates, Canada',\n",
       "       'Singapore, United States', 'Japan, Canada, United States',\n",
       "       'Saudi Arabia',\n",
       "       'Australia, Armenia, Japan, Jordan, Mexico, Mongolia, New Zealand, Philippines, South Africa, Sweden, United States, Uruguay',\n",
       "       'United States, France', 'Norway, Denmark, Netherlands, Sweden',\n",
       "       'Namibia', 'Mexico, Finland', 'United States, Australia', 'Russia',\n",
       "       'Australia, Canada', 'United Kingdom, Ireland', 'Belgium, France',\n",
       "       'New Zealand', 'Uruguay, Spain, Mexico', 'South Korea, China',\n",
       "       'United States, Canada, Indonesia, United Kingdom, China, Singapore',\n",
       "       'India, Iran', 'United States, France, Japan',\n",
       "       'United Kingdom, France', 'Turkey, India', 'Philippines, Qatar',\n",
       "       'Vietnam', 'Ireland, Luxembourg, Belgium',\n",
       "       'Saudi Arabia, Syria, Egypt, Lebanon, Kuwait',\n",
       "       'Russia, United States', 'United Kingdom, Russia, United States',\n",
       "       'Argentina, Spain', 'Germany, Jordan, Netherlands',\n",
       "       'Hong Kong, China', 'Argentina, United States',\n",
       "       'France, Belgium, Spain', 'Germany, United States',\n",
       "       'Denmark, Sweden, Israel, United States',\n",
       "       'Ireland, United Kingdom', 'United States, Iceland',\n",
       "       'United Arab Emirates, United Kingdom, India', 'Sweden',\n",
       "       'Norway, Germany, Sweden', 'Finland, France', 'Denmark, Spain',\n",
       "       'United Kingdom, Russia',\n",
       "       'United States, United Kingdom, Australia',\n",
       "       'India, United Kingdom', 'United States, Canada, Ireland',\n",
       "       'Canada, United Kingdom',\n",
       "       'United States, Israel, Italy, South Africa',\n",
       "       'India, United States', 'United Kingdom, China',\n",
       "       'Indonesia, Singapore', 'Netherlands, Denmark, France, Germany',\n",
       "       'South Korea, Japan',\n",
       "       'Philippines, Canada, United Kingdom, United States',\n",
       "       'France, Malta, United States', 'Kuwait',\n",
       "       'United Kingdom, Pakistan', 'Ireland', 'France, New Zealand',\n",
       "       'United Kingdom, United States, Australia',\n",
       "       'United Kingdom, Czech Republic, United States, Germany, Bahamas',\n",
       "       'United States, Australia, China',\n",
       "       'China, Germany, India, United States', 'Germany, Sri Lanka',\n",
       "       'United States, Sweden', 'Canada, United States, Cayman Islands',\n",
       "       'India, France', 'United Kingdom, Canada',\n",
       "       'United States, India, Bangladesh',\n",
       "       'United States, Canada, France',\n",
       "       'Taiwan, China, France, United States', 'Brazil, France, Germany',\n",
       "       'United States,', 'Turkey, France, Germany, Poland',\n",
       "       'Australia, New Zealand, United States',\n",
       "       'Germany, United States, Hong Kong, Singapore',\n",
       "       'France, Germany, Switzerland', 'Mexico, Argentina',\n",
       "       'Italy, United States, Argentina',\n",
       "       'Germany, France, Luxembourg, United Kingdom, United States',\n",
       "       'Canada, United States, United Kingdom',\n",
       "       'United Kingdom, Canada, Italy', 'Czech Republic, France',\n",
       "       'Zimbabwe', 'United Kingdom, France, Germany, Spain',\n",
       "       'Taiwan, Hong Kong, United States, China', 'China, United States',\n",
       "       'Canada, Brazil', 'United Kingdom, Australia', 'Hungary',\n",
       "       'Germany, Australia', 'United Kingdom, Poland, United States',\n",
       "       'Bulgaria', 'Philippines, United States', 'Finland, Germany',\n",
       "       'United States, Thailand',\n",
       "       'Spain, Belgium, Switzerland, United States, China, United Kingdom',\n",
       "       'Denmark, Zimbabwe', 'United Kingdom, South Africa',\n",
       "       'Finland, Sweden, Norway, Latvia, Germany',\n",
       "       'United Kingdom, India',\n",
       "       'South Africa, United States, New Zealand, Canada',\n",
       "       'France, Qatar', 'France, Algeria',\n",
       "       'United States, Italy, United Kingdom, Liechtenstein',\n",
       "       'Denmark, France, Belgium, Italy, Netherlands, United States, United Kingdom',\n",
       "       'United States, Australia, Mexico',\n",
       "       'United Kingdom, Czech Republic, Germany, United States',\n",
       "       'Russia, Poland, Serbia', 'France, China, Japan, United States',\n",
       "       'United States, South Korea, China', 'Germany, Belgium',\n",
       "       'Chile, Argentina', 'China, United States, United Kingdom',\n",
       "       'Pakistan, Norway, United States',\n",
       "       'United Kingdom, Japan, United States', 'Philippines, Singapore',\n",
       "       'United States, Canada, Belgium, United Kingdom', 'Venezuela',\n",
       "       'Argentina, Uruguay, Serbia', 'United States, Mexico, Colombia',\n",
       "       'Colombia, Peru, United Kingdom', 'Brazil, United States',\n",
       "       'Czech Republic, United States',\n",
       "       'Canada, France, Italy, Morocco, United States',\n",
       "       'Canada, Spain, France', 'Hong Kong, United States',\n",
       "       'France, Canada, China, Cambodia', 'United States, Indonesia',\n",
       "       'Spain, France', 'Spain, Mexico, France', 'Spain, France, Italy',\n",
       "       'Spain, France, United States', 'United States, France, Canada',\n",
       "       'Israel', 'Italy, France', 'United Kingdom, Canada, United States',\n",
       "       'Cambodia, United States', 'China, Japan',\n",
       "       'United Arab Emirates, United States, United Kingdom',\n",
       "       'Argentina, Italy', 'United Kingdom, Israel, Russia',\n",
       "       'Italy, Switzerland, Albania, Poland', 'Spain, Cuba',\n",
       "       'United States, Brazil', 'United States, France, Mexico',\n",
       "       'United States, Nicaragua', 'Austria, Germany',\n",
       "       'United Arab Emirates, Jordan, Lebanon',\n",
       "       'France, United Kingdom, United States',\n",
       "       'United Kingdom, United States, Spain, Germany, Greece, Canada',\n",
       "       'France, Belgium, Luxembourg, Cambodia,', 'Italy, Turkey',\n",
       "       'Brazil, France', 'India, Turkey', 'Kenya, United States',\n",
       "       'United States, South Korea', 'South Korea, United States',\n",
       "       'Italy, Canada, France', 'Thailand, United States',\n",
       "       'United Kingdom, Denmark, Canada, Croatia', 'Netherlands, Belgium',\n",
       "       'United Kingdom, Canada, United States, Cayman Islands',\n",
       "       'Italy, Germany', 'United States, France, United Kingdom, Japan',\n",
       "       'United States, United Kingdom, Denmark, Sweden',\n",
       "       'United States, United Kingdom, Italy',\n",
       "       'United States, France, Canada, Spain', 'Uruguay, Guatemala',\n",
       "       'Germany, Australia, France, China',\n",
       "       'United States, United Kingdom, Japan',\n",
       "       'United States, United Kingdom, Canada',\n",
       "       'Italy, Switzerland, France, Germany',\n",
       "       'Russia, United States, China', 'United States, Canada, Germany',\n",
       "       'United States, Czech Republic', 'Ireland, United States',\n",
       "       'United States, United Arab Emirates',\n",
       "       'France, Australia, Germany', 'Hong Kong, China, United States',\n",
       "       'Lebanon, United Arab Emirates, France, Switzerland, Germany',\n",
       "       'United States, South Korea, Japan', 'Romania, United States',\n",
       "       'West Germany', 'United States, Ireland', 'Chile, Italy',\n",
       "       'Ireland, United Kingdom, Italy, United States', 'Belgium',\n",
       "       'Poland,', 'Slovenia, Croatia, Germany, Czech Republic, Qatar',\n",
       "       'Canada, United Kingdom, Netherlands',\n",
       "       'United Kingdom, United States, France',\n",
       "       'Indonesia, United Kingdom', 'United States, Spain, Germany',\n",
       "       'India, Japan', 'Switzerland, France, Belgium, United States',\n",
       "       'China, South Korea, United States',\n",
       "       'United Kingdom, France, Belgium',\n",
       "       'Canada, Ireland, United States',\n",
       "       'United Kingdom, United States, Dominican Republic',\n",
       "       'United States, Senegal', 'Germany, United Kingdom, United States',\n",
       "       'United States, Canada, United Kingdom',\n",
       "       'Canada, United States, France', 'United Kingdom, Germany, Canada',\n",
       "       'Argentina, France', 'South Africa, Germany, Netherlands, France',\n",
       "       'Canada, United States, United Kingdom, France, Luxembourg',\n",
       "       'Finland, Germany, Belgium',\n",
       "       'United States, United Kingdom, Germany', 'Taiwan, China',\n",
       "       'Cambodia', 'Spain, Portugal', 'Ireland, United States, France',\n",
       "       'Jordan', 'Austria', 'Germany, United States, Canada',\n",
       "       'United Kingdom, Germany, Canada, United States',\n",
       "       'United States, France, Canada, Lebanon, Qatar',\n",
       "       'Indonesia, Netherlands',\n",
       "       'Netherlands, Belgium, United Kingdom, United States',\n",
       "       'China, United States, Australia',\n",
       "       'France, Belgium, China, United States', 'Spain, United Kingdom',\n",
       "       'United States, Chile, Israel', 'Bangladesh',\n",
       "       'United Kingdom, Norway, Denmark, Germany, Sweden',\n",
       "       'United States, Japan, Canada', 'Norway, Denmark, Sweden',\n",
       "       'China, India, Nepal', 'United States, Argentina',\n",
       "       'Mexico, United States, Spain, Colombia',\n",
       "       'Colombia, Mexico, United States',\n",
       "       'United Kingdom, Belgium, Sweden', 'Nigeria, United Kingdom',\n",
       "       'United Kingdom, South Korea', 'United States, Taiwan',\n",
       "       'Netherlands, Belgium, Germany, Jordan', 'France, Canada',\n",
       "       'United Kingdom, France, United States',\n",
       "       'Denmark, Singapore, Canada, United States', 'Denmark, China',\n",
       "       'Malaysia, Singapore, Hong Kong', 'Norway, United States',\n",
       "       'United States, Philippines', 'United States, Greece, Brazil',\n",
       "       'France, United States', 'South Korea, France',\n",
       "       'United States, Australia, Samoa, United Kingdom',\n",
       "       'Canada, South Africa', 'United Kingdom, Italy',\n",
       "       'Germany, United Kingdom', 'China, United Kingdom',\n",
       "       'Argentina, Chile, Peru', 'United States, Russia',\n",
       "       'Uruguay, Germany', 'Turkey, Azerbaijan',\n",
       "       'United States, China, Hong Kong',\n",
       "       'Canada, Germany, France, United States',\n",
       "       'Argentina, United States, Mexico',\n",
       "       'France, United Kingdom, India', 'China, Taiwan',\n",
       "       'Italy, United Kingdom, France', 'Poland, West Germany',\n",
       "       'Germany, United States, Sweden', 'Canada, Spain',\n",
       "       'United Kingdom, France, Belgium, United States', 'France, Japan',\n",
       "       'Netherlands, Germany, Italy, Canada', 'United States, Cambodia',\n",
       "       'United States, Greece', 'United States, China, Colombia',\n",
       "       'United States, Spain, Italy',\n",
       "       'Norway, United Kingdom, France, Ireland',\n",
       "       'United States, Bermuda, Ecuador', 'United Kingdom, Poland',\n",
       "       'China, Canada, United States', 'United States, Spain',\n",
       "       'India, Mexico', 'United Kingdom, West Germany',\n",
       "       'Pakistan, United States', 'Israel, Sweden, Germany, Netherlands',\n",
       "       'Chile, United States, France', 'France, Morocco',\n",
       "       'United Kingdom, Germany', 'Georgia, Germany, France',\n",
       "       'Switzerland, France', 'Turkey, South Korea', 'Italy, India',\n",
       "       'United States, Botswana', 'United States, Colombia, Mexico',\n",
       "       'Chile, Argentina, France, Spain, United States',\n",
       "       'Puerto Rico, United States, Colombia', 'United States, Nigeria',\n",
       "       'Germany, United States, France',\n",
       "       'Spain, Germany, Denmark, United States',\n",
       "       'United Kingdom, United States, Japan',\n",
       "       'Netherlands, United States',\n",
       "       'United States, India, South Korea, China',\n",
       "       'Denmark, Germany, Belgium, United Kingdom, France',\n",
       "       'Denmark, Germany, Belgium, United Kingdom, France, Sweden',\n",
       "       'France, Switzerland, Spain, United States, United Arab Emirates',\n",
       "       'Norway, Sweden', 'United States, Ireland, United Kingdom, India',\n",
       "       'United Kingdom, Singapore', 'Spain, Germany',\n",
       "       'Germany, Czech Republic',\n",
       "       'Denmark, Brazil, France, Portugal, Sweden',\n",
       "       'Brazil, India, China, United States', 'India, Germany, Austria',\n",
       "       'Italy, United States', 'Denmark, France, United States, Sweden',\n",
       "       'Australia, Iraq', 'China, Morocco, Hong Kong', 'Spain, Colombia',\n",
       "       'Australia, United Arab Emirates',\n",
       "       'Canada, United States, Germany', 'France, Belgium, Italy',\n",
       "       'United Kingdom, Thailand', 'Venezuela, Colombia',\n",
       "       'France, Luxembourg, Canada', 'India, Nepal', 'Mexico, Spain',\n",
       "       'Colombia, United States', 'Colombia, Mexico',\n",
       "       'France, Germany, Czech Republic, Belgium',\n",
       "       'Germany, China, United Kingdom', 'Canada, Hungary, United States',\n",
       "       'Pakistan, United Arab Emirates', 'France, United Kingdom',\n",
       "       'Spain, United Kingdom, United States', 'United Kingdom, Kenya',\n",
       "       'United States, Norway, Canada', 'Canada, United States, Ireland',\n",
       "       'Switzerland, Vatican City, Italy, Germany, France',\n",
       "       'Portugal, France, Poland, United States',\n",
       "       'France, Japan, United States', 'United States, New Zealand',\n",
       "       'United States, New Zealand, Japan',\n",
       "       'United States, Netherlands, Japan, France', 'India, Switzerland',\n",
       "       'Canada, India', 'Canada, Japan, United States',\n",
       "       'United States, Morocco', 'United States, Mexico, Spain, Malta',\n",
       "       'Norway, Denmark', 'South Korea, Canada, United States, China',\n",
       "       'Singapore, Japan, France',\n",
       "       'Canada, Mexico, Germany, South Africa',\n",
       "       'United Kingdom, United States, Canada',\n",
       "       'Germany, France, United States, Canada, United Kingdom',\n",
       "       'Peru, Germany, Norway', 'Singapore, Malaysia',\n",
       "       'United States, Uruguay', 'India, Canada',\n",
       "       'Ireland, Canada, United Kingdom, United States',\n",
       "       'United States, Germany, Australia', 'Senegal',\n",
       "       'Israel, Germany, France', 'Australia, France, Ireland',\n",
       "       'South Africa, Angola', 'Austria, Czech Republic',\n",
       "       'Australia, India', 'United States, United Kingdom, Canada, Japan',\n",
       "       'Sweden, United Kingdom, Finland', 'Hong Kong, Taiwan',\n",
       "       'United States, United Kingdom, Spain, South Korea',\n",
       "       'South Korea, China, United States', 'Guatemala', 'Ukraine',\n",
       "       'United States, United Kingdom, Canada, China',\n",
       "       'Italy, South Africa, West Germany, Australia, United States',\n",
       "       'United Kingdom, Finland, Germany',\n",
       "       'South Africa, United States, Germany',\n",
       "       'United States, Germany, United Kingdom, Australia',\n",
       "       'India, Soviet Union', 'Italy, France, Switzerland',\n",
       "       'Canada, France, United States', 'United States, Colombia',\n",
       "       'India, Malaysia', 'Switzerland, United States',\n",
       "       'Thailand, Canada, United States',\n",
       "       'China, Hong Kong, United States', 'United Kingdom, New Zealand',\n",
       "       'United Kingdom, France, Germany, United States',\n",
       "       'South Korea, Czech Republic',\n",
       "       'Czech Republic, United Kingdom, France',\n",
       "       'Australia, United Kingdom, Canada',\n",
       "       'Canada, United Kingdom, United States', 'United States, Hungary',\n",
       "       'Jamaica, United States', 'Switzerland',\n",
       "       'Australia, United Kingdom, United States, New Zealand, Italy, France',\n",
       "       'France, United States, Canada', 'Australia, United Kingdom',\n",
       "       'United States, Denmark',\n",
       "       'United Kingdom, France, Canada, Belgium, United States',\n",
       "       'Denmark, United Kingdom, Sweden', 'Belarus', 'Cyprus',\n",
       "       'Lebanon, United States, United Arab Emirates',\n",
       "       'United States, Hong Kong', 'United States, Kazakhstan',\n",
       "       'Argentina, France, United States, Germany, Qatar',\n",
       "       'United States, Germany, United Kingdom',\n",
       "       'United States, Germany, United Kingdom, Italy',\n",
       "       'United States, New Zealand, United Kingdom',\n",
       "       'Finland, United States', 'Spain, France, Uruguay',\n",
       "       'France, Belgium, United States', 'France, Canada, United States',\n",
       "       'Spain, Argentina', 'United Kingdom, India, United States',\n",
       "       'Chile, France',\n",
       "       'United States, United Kingdom, France, Germany, Japan',\n",
       "       'Canada, Norway', 'United States, Hungary, Ireland, Canada',\n",
       "       'United States, Canada, China', 'United Kingdom, Malawi',\n",
       "       'Ireland, Canada, Luxembourg, United States, United Kingdom, Philippines, India',\n",
       "       'United States, Czech Republic, United Kingdom',\n",
       "       'Ghana, United States', 'Israel, Germany', 'Spain, Mexico',\n",
       "       'Mexico, France', 'Brazil, United Kingdom',\n",
       "       'France, Belgium, Luxembourg, Romania, Canada, United States',\n",
       "       'Israel, Germany, Poland, Luxembourg, Belgium, France, United States',\n",
       "       'France, Germany', 'United States, Malta, France, United Kingdom',\n",
       "       'United Kingdom, United States, Germany, Denmark, Belgium, Japan',\n",
       "       'Austria, United States', 'Canada, Australia',\n",
       "       'Greece, United States',\n",
       "       'United Kingdom, France, Belgium, Canada, United States',\n",
       "       'Argentina, Chile', 'Czech Republic, Slovakia',\n",
       "       'United Kingdom, Germany, United States, France',\n",
       "       'United Kingdom, Lithuania', 'Egypt, France',\n",
       "       'Spain, France, Canada', 'United States, Greece, United Kingdom',\n",
       "       'United Kingdom, China, United States, India', 'Taiwan, Malaysia',\n",
       "       'United States, Sweden, Norway',\n",
       "       'United Kingdom, United States, Morocco',\n",
       "       'United States, United Kingdom, Morocco',\n",
       "       'United States, China, Canada', 'Spain, Canada, United States',\n",
       "       'Canada, Belgium', 'United States, India, United Arab Emirates',\n",
       "       'United Kingdom, Canada, France, United States',\n",
       "       'Spain, Thailand, United States', 'Canada, Germany, South Africa',\n",
       "       'India, Germany, France',\n",
       "       'United States, Israel, United Kingdom, Canada',\n",
       "       'United Kingdom, Hungary, Australia', 'Lebanon, France',\n",
       "       'Belgium, Ireland, Netherlands, Germany, Afghanistan',\n",
       "       'Chile, Peru', 'Paraguay, Argentina',\n",
       "       'United Kingdom, Italy, Israel, Peru, United States',\n",
       "       'Norway, Germany', 'France, Canada, Italy, United States, China',\n",
       "       'Netherlands, Germany, Denmark, United Kingdom', 'France, Lebanon',\n",
       "       'Ireland, United Kingdom, Greece, France, Netherlands',\n",
       "       'Denmark, Indonesia, Finland, Norway, United Kingdom, Israel, France, United States, Germany, Netherlands',\n",
       "       'New Zealand, United States', 'Argentina, Uruguay, Spain, France',\n",
       "       'United Kingdom, Germany, United States',\n",
       "       'United States, Australia, South Africa, United Kingdom',\n",
       "       'Italy, Belgium', 'United States, Germany, Mexico',\n",
       "       'Chile, Spain, Argentina, Germany', 'Germany, Italy',\n",
       "       'United Kingdom, Nigeria',\n",
       "       'Belgium, United Kingdom, United States', 'Australia, New Zealand',\n",
       "       'Spain, Switzerland', 'Indonesia, United States',\n",
       "       'Canada, South Korea, United States',\n",
       "       'France, Iran, United States', 'Croatia',\n",
       "       'Somalia, Kenya, Sudan, South Africa, United States',\n",
       "       'Ireland, France, Iceland, United States, Mexico, Belgium, United Kingdom, Hong Kong',\n",
       "       'Spain, United States', 'United States, Canada, Japan, Panama',\n",
       "       'United Kingdom, Spain, Belgium', 'Serbia, South Korea, Slovenia',\n",
       "       'Denmark, United Kingdom, South Africa, Sweden, Belgium',\n",
       "       'Germany, Canada, United States', 'Ireland, South Africa',\n",
       "       'Canada, Germany', 'Spain, France, Canada, United States',\n",
       "       'India, United Kingdom, Canada, United States',\n",
       "       'United States, Belgium, Canada',\n",
       "       'United States, France, Canada, Belgium',\n",
       "       'United Kingdom, Egypt, United States',\n",
       "       'United Kingdom, Germany, United Arab Emirates, New Zealand',\n",
       "       'United Kingdom, France, United States, Belgium, Luxembourg, China, Germany',\n",
       "       'United Kingdom, Spain, United States, Germany',\n",
       "       'United States, France, Italy, United Kingdom', 'Georgia',\n",
       "       'United States, United Kingdom, India',\n",
       "       'Ireland, Canada, United States, United Kingdom',\n",
       "       'New Zealand, United Kingdom, Australia', 'United States, Poland',\n",
       "       'United Arab Emirates, Romania',\n",
       "       'United Kingdom, Australia, Canada, United States',\n",
       "       'Mexico, Netherlands', 'Spain, Italy, Argentina',\n",
       "       'Germany, United States, Italy', 'United States, Venezuela',\n",
       "       'United Kingdom, Canada, Japan', 'Canada, Japan, Netherlands',\n",
       "       'United Kingdom, United States, Czech Republic',\n",
       "       'United Kingdom, China, United States',\n",
       "       'United Kingdom, Brazil, Germany',\n",
       "       'Thailand, China, United States',\n",
       "       'United Kingdom, Namibia, South Africa, Zimbabwe, United States',\n",
       "       'United Kingdom, South Africa, Australia, United States',\n",
       "       'Canada, United States, India, United Kingdom',\n",
       "       'United States, Brazil, South Korea, Mexico, Japan, Germany',\n",
       "       'France, Lebanon, United Kingdom',\n",
       "       'United Kingdom, Jordan, Qatar, Iran',\n",
       "       'Switzerland, United Kingdom, United States',\n",
       "       'Belgium, Netherlands',\n",
       "       'United Kingdom, Germany, France, United States',\n",
       "       'Romania, United Kingdom', 'Lebanon, Qatar',\n",
       "       'United Kingdom, India, Sweden', 'United Kingdom, Belgium',\n",
       "       'India, Pakistan', 'United Kingdom,',\n",
       "       'Saudi Arabia, Netherlands, Germany, Jordan, United Arab Emirates, United States',\n",
       "       'France, Brazil, Spain, Belgium',\n",
       "       'United States, Brazil, India, Uganda, China',\n",
       "       'United Kingdom, Ireland, United States',\n",
       "       'Lebanon, Canada, France', 'India, Australia',\n",
       "       'Austria, Iraq, United States', 'France, Norway, Lebanon, Belgium',\n",
       "       'United Kingdom, France, United States, Belgium',\n",
       "       'Saudi Arabia, United Arab Emirates',\n",
       "       'Peru, United States, United Kingdom',\n",
       "       'Germany, United States, United Kingdom, Canada',\n",
       "       'Uruguay, Argentina, Germany, Spain',\n",
       "       'France, Luxembourg, United States', 'United Kingdom, Spain',\n",
       "       'Canada, India, Thailand, United States, United Arab Emirates',\n",
       "       'Romania, Bulgaria, Hungary',\n",
       "       'United States, East Germany, West Germany',\n",
       "       'France, Netherlands, South Africa, Finland',\n",
       "       'United Kingdom, Ukraine, United States',\n",
       "       'Egypt, Austria, United States', 'Russia, Spain',\n",
       "       'Croatia, Slovenia, Serbia, Montenegro', 'Japan, Canada',\n",
       "       'United States, France, South Korea, Indonesia',\n",
       "       'United Arab Emirates, Jordan',\n",
       "       'Sweden, Czech Republic, United Kingdom, Denmark, Netherlands'],\n",
       "      dtype=object)"
      ]
     },
     "execution_count": 3,
     "metadata": {},
     "output_type": "execute_result"
    }
   ],
   "source": [
    "netflix[\"country\"].unique()"
   ]
  },
  {
   "cell_type": "code",
   "execution_count": 4,
   "metadata": {},
   "outputs": [
    {
     "name": "stdout",
     "output_type": "stream",
     "text": [
      "<class 'pandas.core.frame.DataFrame'>\n",
      "RangeIndex: 7787 entries, 0 to 7786\n",
      "Data columns (total 12 columns):\n",
      " #   Column        Non-Null Count  Dtype \n",
      "---  ------        --------------  ----- \n",
      " 0   show_id       7787 non-null   object\n",
      " 1   type          7787 non-null   object\n",
      " 2   title         7787 non-null   object\n",
      " 3   director      5398 non-null   object\n",
      " 4   cast          7069 non-null   object\n",
      " 5   country       7280 non-null   object\n",
      " 6   date_added    7777 non-null   object\n",
      " 7   release_year  7787 non-null   int64 \n",
      " 8   rating        7780 non-null   object\n",
      " 9   duration      7787 non-null   object\n",
      " 10  listed_in     7787 non-null   object\n",
      " 11  description   7787 non-null   object\n",
      "dtypes: int64(1), object(11)\n",
      "memory usage: 730.2+ KB\n"
     ]
    }
   ],
   "source": [
    "netflix.info()"
   ]
  },
  {
   "cell_type": "code",
   "execution_count": null,
   "metadata": {
    "scrolled": true
   },
   "outputs": [],
   "source": [
    "netflix.head(3)"
   ]
  },
  {
   "cell_type": "markdown",
   "metadata": {},
   "source": [
    "### Example"
   ]
  },
  {
   "cell_type": "code",
   "execution_count": null,
   "metadata": {},
   "outputs": [],
   "source": [
    "netflix.loc[netflix[\"type\"] == \"TV Show\"].head(4)"
   ]
  },
  {
   "cell_type": "code",
   "execution_count": null,
   "metadata": {},
   "outputs": [],
   "source": [
    "len( netflix.loc[netflix[\"type\"] == \"TV Show\"] )"
   ]
  },
  {
   "cell_type": "code",
   "execution_count": null,
   "metadata": {},
   "outputs": [],
   "source": [
    "netflix.loc[(netflix[\"type\"] == \"TV Show\") & (netflix[\"country\"] == \"Peru\")]"
   ]
  },
  {
   "cell_type": "code",
   "execution_count": null,
   "metadata": {},
   "outputs": [],
   "source": [
    "# No hay series peruanas en Netflix\n",
    "\n",
    "len(netflix.loc[(netflix[\"type\"] == \"TV Show\") & (netflix[\"country\"] == \"Peru\")])"
   ]
  },
  {
   "cell_type": "code",
   "execution_count": null,
   "metadata": {},
   "outputs": [],
   "source": [
    "# peliculas americanas\n",
    "netflix.loc[(netflix[\"type\"] == \"Movie\") & (netflix[\"country\"] == \"United States\") & (netflix[\"release_year\"] > 2019)].head(5)"
   ]
  },
  {
   "cell_type": "code",
   "execution_count": null,
   "metadata": {},
   "outputs": [],
   "source": [
    "# Brazil in 2020\n",
    "net_B_2020 = netflix[(netflix[\"country\"] == \"Brazil\") & (netflix[\"release_year\"] == 2020)]\n",
    "net_B_2020.head(3)"
   ]
  },
  {
   "cell_type": "code",
   "execution_count": null,
   "metadata": {},
   "outputs": [],
   "source": [
    "len(net_B_2020)"
   ]
  },
  {
   "cell_type": "markdown",
   "metadata": {},
   "source": [
    "# .isin()\n",
    "Si desea filtrar por varios valores de una variable categórica, la forma mas sencilla es utilizar el método isin()\n",
    "\n"
   ]
  },
  {
   "cell_type": "code",
   "execution_count": null,
   "metadata": {},
   "outputs": [],
   "source": [
    "net_per_ch = netflix[netflix[\"country\"].isin([\"Peru\",\"Chile\"])]\n",
    "net_per_ch\n",
    "\n"
   ]
  },
  {
   "cell_type": "markdown",
   "metadata": {},
   "source": [
    "## Time data"
   ]
  },
  {
   "cell_type": "code",
   "execution_count": null,
   "metadata": {},
   "outputs": [],
   "source": [
    "net_date = netflix[netflix[\"date_added\"] > \"01-01-2020\"]  # revisar\n",
    "net_date"
   ]
  },
  {
   "cell_type": "code",
   "execution_count": null,
   "metadata": {},
   "outputs": [],
   "source": [
    "net_date.info()"
   ]
  },
  {
   "cell_type": "code",
   "execution_count": null,
   "metadata": {},
   "outputs": [],
   "source": [
    "netflix[\"date_added\"][0]"
   ]
  },
  {
   "cell_type": "code",
   "execution_count": null,
   "metadata": {},
   "outputs": [],
   "source": [
    "from datetime import datetime"
   ]
  },
  {
   "cell_type": "code",
   "execution_count": null,
   "metadata": {
    "scrolled": true
   },
   "outputs": [],
   "source": [
    "type( datetime.strptime( netflix[\"date_added\"][0] , '%B %d, %Y' ) )"
   ]
  },
  {
   "cell_type": "markdown",
   "metadata": {},
   "source": [
    "## Getting new data"
   ]
  },
  {
   "cell_type": "code",
   "execution_count": null,
   "metadata": {},
   "outputs": [],
   "source": [
    "movie = netflix[\"type\"] == \"Movie\"\n",
    "m_usa = netflix[\"country\"] == \"United States\"\n",
    "m_actual = netflix[\"release_year\"] > 2019\n",
    "movie_usa = netflix.loc[movie & m_usa & m_actual]\n",
    "movie_usa"
   ]
  },
  {
   "cell_type": "code",
   "execution_count": null,
   "metadata": {},
   "outputs": [],
   "source": [
    "movie_usa = netflix.loc[ ( netflix[ \"type\" ] == \"Movie\" ) & ( netflix[ \"country\" ] == \"United States\") & ( netflix[ \"release_year\" ] > 2019 ) ]"
   ]
  },
  {
   "cell_type": "code",
   "execution_count": null,
   "metadata": {},
   "outputs": [],
   "source": [
    "movie_usa"
   ]
  },
  {
   "cell_type": "markdown",
   "metadata": {},
   "source": [
    "### Export data"
   ]
  },
  {
   "cell_type": "code",
   "execution_count": 119,
   "metadata": {},
   "outputs": [],
   "source": [
    "movie_usa.to_csv(\"../../save_data/movie_usa.csv\")"
   ]
  },
  {
   "cell_type": "code",
   "execution_count": 121,
   "metadata": {},
   "outputs": [],
   "source": [
    "movie_usa.to_excel(\"../../save_data/movie_usa.xlsx\")"
   ]
  },
  {
   "cell_type": "markdown",
   "metadata": {},
   "source": [
    "# ***Filter Data with Regular Expresions***\n",
    "\n",
    "link de consulta : [Regular_Expresions](https://docs.python.org/es/3/library/re.html)\n",
    "\n",
    "#### **str.contains** ( pat, case=True, flags = 0, na = None, regex = True)\n",
    "\n",
    "\n",
    " ***pat : str***<br>\n",
    " * Expresion regular o la secuencia de caracteres<br>\n",
    " \n",
    " \n",
    "\n",
    "***case : bool, default True***<br>\n",
    " * Si es True, distingue entre mayusculas y minusculas<br>\n",
    "\n",
    "***flags : int,default 0(no flags)***<br>\n",
    " * flags para pasar al modulo re, ej :re.IGNORECASE(re.I)<br>\n",
    "\n",
    "***na : scalar,optional***<br>\n",
    " * Completa el valor de los valores perdidos(missing values)<br>\n",
    "\n",
    " ***regex = True***<br>\n",
    " * True , asume que el pat es una expresion regular<br>\n",
    " * False, asume al pat como una cadena literal<br>"
   ]
  },
  {
   "cell_type": "markdown",
   "metadata": {},
   "source": [
    "### Importing Package"
   ]
  },
  {
   "cell_type": "code",
   "execution_count": null,
   "metadata": {},
   "outputs": [],
   "source": [
    "import re"
   ]
  },
  {
   "cell_type": "markdown",
   "metadata": {},
   "source": [
    "### Importing data"
   ]
  },
  {
   "cell_type": "code",
   "execution_count": null,
   "metadata": {},
   "outputs": [],
   "source": [
    "# importar el csv descargado en nuestra computadora\n",
    "\n",
    "movie_usa = pd.read_csv(\"../../save_data/movie_usa.csv\")\n",
    "movie_usa.head(3)"
   ]
  },
  {
   "cell_type": "code",
   "execution_count": null,
   "metadata": {
    "scrolled": true
   },
   "outputs": [],
   "source": [
    "movie_usa[\"listed_in\"].str.contains(\"romantic\", flags=re.I,regex=True).head(3)"
   ]
  },
  {
   "cell_type": "code",
   "execution_count": null,
   "metadata": {},
   "outputs": [],
   "source": [
    "mo_usa_rom = movie_usa.loc[movie_usa[\"listed_in\"].str.contains(\"romantic\", flags=re.I,regex=True)]\n",
    "mo_usa_rom[[\"listed_in\",\"title\"]].head(3)"
   ]
  },
  {
   "cell_type": "code",
   "execution_count": null,
   "metadata": {},
   "outputs": [],
   "source": [
    "movie_usa.head(3)"
   ]
  },
  {
   "cell_type": "markdown",
   "metadata": {},
   "source": [
    "# Some Examples"
   ]
  },
  {
   "cell_type": "code",
   "execution_count": null,
   "metadata": {},
   "outputs": [],
   "source": [
    "movie_usa.loc[ movie_usa[ \"title\" ].str.contains( \"^th\" , flags = re.I , na = False, regex =True ) ]\n",
    "# ( ^ ) coincida con el comienzo de la cadena(\"th\")"
   ]
  },
  {
   "cell_type": "code",
   "execution_count": null,
   "metadata": {},
   "outputs": [],
   "source": [
    "movie_usa.loc[ movie_usa[ \"director\" ].str.contains( \"on$\", flags = re.I,na = False, regex =True)]\n",
    "# ($) coincide con el final de la cadena "
   ]
  },
  {
   "cell_type": "code",
   "execution_count": null,
   "metadata": {},
   "outputs": [],
   "source": [
    "movie_usa.loc[movie_usa[\"cast\"].str.contains(\"th*\", flags = re.I,na = False, regex =True)]\n",
    "# ( * )  que coincida con 1 o mas formas de la RE ( \"th\") es decir t ,h o th\n",
    "# [a-z] o [A-Z] realiza una coincidencia entre mayusculas y minusculas"
   ]
  },
  {
   "cell_type": "code",
   "execution_count": null,
   "metadata": {
    "scrolled": false
   },
   "outputs": [],
   "source": [
    "movie_usa.loc[movie_usa[\"title\"].str.contains(\"th+\", flags = re.I, na = False, regex =True)]\n",
    "# ( + ) \"th\" coincida \"t\" seguido de la \"h\" ; no coincidira solo con \"a\" "
   ]
  },
  {
   "cell_type": "code",
   "execution_count": null,
   "metadata": {
    "scrolled": true
   },
   "outputs": [],
   "source": [
    "movie_usa.loc[movie_usa[\"title\"].str.contains(\"th?\", flags = re.I,na = False, regex =True)]\n",
    "# (?) hace que la RE (\"th\") coincida con \"a\" o \"ab\""
   ]
  },
  {
   "cell_type": "code",
   "execution_count": null,
   "metadata": {},
   "outputs": [],
   "source": [
    "netflix.head()"
   ]
  }
 ],
 "metadata": {
  "hide_input": false,
  "kernelspec": {
   "display_name": "Python 3",
   "language": "python",
   "name": "python3"
  },
  "language_info": {
   "codemirror_mode": {
    "name": "ipython",
    "version": 3
   },
   "file_extension": ".py",
   "mimetype": "text/x-python",
   "name": "python",
   "nbconvert_exporter": "python",
   "pygments_lexer": "ipython3",
   "version": "3.7.6"
  }
 },
 "nbformat": 4,
 "nbformat_minor": 4
}
